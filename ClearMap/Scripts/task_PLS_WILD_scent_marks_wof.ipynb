{
 "cells": [
  {
   "cell_type": "markdown",
   "metadata": {},
   "source": [
    "# Analysis of Data Using PLS and Bootstrap: Group WILD without father exposed to scent marks\n",
    "\n",
    "## Overview\n",
    "This Python script is designed to analyze brain region activity using Partial Least Squares (PLS) analysis, comparing experimental groups based on data related to cell counts, energy levels, and density in different brain regions. The script takes volumetric data, processes it for PLS analysis, and generates statistical output that identifies significant regions across experimental conditions. The script also applies bootstrap testing to assess the robustness of the PLS results and plots the outcomes.\n",
    "\n",
    "## Workflow Summary\n",
    "1. **Load Volume Data**: The script loads and cleans a volume database of brain regions.\n",
    "2. **Set Directories and Load Data**: The root directories and experimental details are defined, followed by loading the results from a precomputed dictionary containing region-specific measurements.\n",
    "3. **Data Formatting for PLS**: The data is formatted for PLS analysis, focusing on the following:\n",
    "   - Cell counts (`n_cells`)\n",
    "   - Energy (`energy`)\n",
    "   - Density (`density`)\n",
    "   - Relative density (`relative_density`)\n",
    "\n",
    "   These datasets are processed, cleaned, and saved as CSV files for later use.\n",
    "   \n",
    "4. **PLS Analysis**: The script runs PLS analysis using external Python scripts (`area_pls.py`) on each dataset (cell counts, energy, density, relative density) and saves the salience and contrast results.\n",
    "   \n",
    "5. **Plot Results**: It visualizes the contrasts and saliences for each dataset across brain regions, using custom plotting functions.\n",
    "\n",
    "6. **Identify Significant Areas**: The script identifies brain regions that show significant differences in the PLS analysis across the experimental groups. It highlights overlapping significant regions across different metrics (e.g., cell counts, energy).\n",
    "\n",
    "7. **Compare Experimental Groups**: In specific sections of the script, the analysis is performed to compare only two experimental groups, excluding the control group, and identifies brain regions with significant differences between familiar and unfamiliar stimuli.\n",
    "\n",
    "## Key Functions and Steps\n",
    "\n",
    "- **`ace.clean_volumes_database()`**: Cleans and loads the brain volume database.\n",
    "- **`upls.reformat_dict_acronym()`**: Reformats the dictionary of results, standardizing brain region acronyms.\n",
    "- **`upls.format_data_pls()`**: Formats the data for PLS analysis based on the specified batch and data table (cell counts, energy, etc.).\n",
    "- **PLS Execution**: Calls to external `area_pls.py` scripts run PLS analysis on the prepared datasets.\n",
    "- **`upls.plot_panel_contrasts()` and `upls.plot_panel_saliences()`**: Plot the contrast and salience data, respectively, for each dataset and experimental condition.\n",
    "- **`upls.identify_pls_sig_areas()`**: Identifies brain regions that are statistically significant in the PLS analysis based on a threshold value (2.56).\n",
    "\n",
    "## Outputs\n",
    "The script produces several outputs:\n",
    "- CSV files with the formatted data for PLS analysis.\n",
    "- CSV files containing PLS results for saliences and contrasts.\n",
    "- Plots for each metric (cell counts, energy, density, relative density) displaying contrasts and saliences across brain regions.\n",
    "- Lists of significant brain regions, highlighting overlaps between different experimental conditions and metrics.\n",
    "\n",
    "## Requirements\n",
    "The script requires several Python libraries, including:\n",
    "- `numpy`, `pandas`, `matplotlib`, `seaborn` for data manipulation and visualization.\n",
    "- Custom modules: `analyze_cells_energy`, `utils_PLS`, and `utils` for specific data processing and analysis tasks.\n"
   ]
  },
  {
   "cell_type": "code",
   "execution_count": null,
   "metadata": {
    "ExecuteTime": {
     "end_time": "2024-05-30T13:32:20.028052Z",
     "start_time": "2024-05-30T13:32:19.066490Z"
    }
   },
   "outputs": [],
   "source": [
    "import numpy as np\n",
    "import matplotlib.pyplot as plt\n",
    "import pandas as pd\n",
    "import analyze_cells_energy as ace\n",
    "import re\n",
    "import utils\n",
    "import itertools\n",
    "import seaborn as sns\n",
    "import utils_PLS as upls"
   ]
  },
  {
   "cell_type": "code",
   "execution_count": null,
   "metadata": {
    "ExecuteTime": {
     "end_time": "2024-05-30T13:32:20.203721Z",
     "start_time": "2024-05-30T13:32:20.039447Z"
    }
   },
   "outputs": [],
   "source": [
    "# load query file where we added volumes for each area\n",
    "volumes = ace.clean_volumes_database()"
   ]
  },
  {
   "cell_type": "code",
   "execution_count": null,
   "metadata": {
    "ExecuteTime": {
     "end_time": "2024-05-30T13:32:20.265791Z",
     "start_time": "2024-05-30T13:32:20.244424Z"
    }
   },
   "outputs": [],
   "source": [
    "root_directory = '/home/stella/Documents/Torino/projects/'\n",
    "experiment = 'SexualImprinting'\n",
    "experimental_group = 'WILD_ScentMarks_Exposure_wof'\n",
    "batch='WILD_scent_marks_wof'\n",
    "data_directory = root_directory + experiment + '/' \\\n",
    "                + experimental_group + '/'\n",
    "dict_results_across_mice = np.load('dict_results/newvolumes/dict_results_across_mice_WILD_scent_marks_wof.npy', allow_pickle=True).item()"
   ]
  },
  {
   "cell_type": "code",
   "execution_count": null,
   "metadata": {
    "ExecuteTime": {
     "end_time": "2024-05-30T13:32:22.859571Z",
     "start_time": "2024-05-30T13:32:20.499443Z"
    }
   },
   "outputs": [],
   "source": [
    "dict_results_across_mice = upls.reformat_dict_acronym(dict_results=dict_results_across_mice, volumes=volumes)"
   ]
  },
  {
   "cell_type": "markdown",
   "metadata": {
    "ExecuteTime": {
     "end_time": "2023-04-27T09:40:35.015950Z",
     "start_time": "2023-04-27T09:40:35.009945Z"
    }
   },
   "source": [
    "# Format data for task PLS"
   ]
  },
  {
   "cell_type": "code",
   "execution_count": null,
   "metadata": {
    "ExecuteTime": {
     "end_time": "2024-05-30T13:32:23.532598Z",
     "start_time": "2024-05-30T13:32:23.140722Z"
    }
   },
   "outputs": [],
   "source": [
    "data_ncells = upls.format_data_pls(dict_results=dict_results_across_mice, \n",
    "                                   batch=batch, table='n_cells')\n",
    "data_energy = upls.format_data_pls(dict_results=dict_results_across_mice, \n",
    "                                   batch=batch, table='energy')\n",
    "data_density = upls.format_data_pls(dict_results=dict_results_across_mice, \n",
    "                                    batch=batch, table='density')\n",
    "data_relative_density = upls.format_data_pls(dict_results=dict_results_across_mice, \n",
    "                                             batch=batch, table='relative_density')\n",
    "data_ncells.dropna(inplace=True, axis=1)\n",
    "data_energy.dropna(inplace=True, axis=1)\n",
    "data_density.dropna(inplace=True, axis=1)\n",
    "data_relative_density.dropna(inplace=True, axis=1)\n",
    "data_ncells.to_csv('./results_pls/'+batch+'_n_cells.csv')\n",
    "data_energy.to_csv('./results_pls/'+batch+'_energy.csv')\n",
    "data_density.to_csv('./results_pls/'+batch+'_density.csv')\n",
    "data_relative_density.to_csv('./results_pls/'+batch+'_relative_density.csv')"
   ]
  },
  {
   "cell_type": "markdown",
   "metadata": {},
   "source": [
    "# Format data for hierarchy plotting"
   ]
  },
  {
   "cell_type": "code",
   "execution_count": null,
   "metadata": {
    "ExecuteTime": {
     "end_time": "2024-05-30T13:32:27.951910Z",
     "start_time": "2024-05-30T13:32:23.974618Z"
    }
   },
   "outputs": [],
   "source": [
    "df_levels = upls.create_df_levels(volumes)"
   ]
  },
  {
   "cell_type": "markdown",
   "metadata": {
    "ExecuteTime": {
     "end_time": "2023-04-27T10:25:06.309157Z",
     "start_time": "2023-04-27T10:25:06.272373Z"
    }
   },
   "source": [
    "# Apply task PLS"
   ]
  },
  {
   "cell_type": "code",
   "execution_count": null,
   "metadata": {
    "ExecuteTime": {
     "end_time": "2024-05-30T13:32:32.630786Z",
     "start_time": "2024-05-30T13:32:28.354951Z"
    }
   },
   "outputs": [],
   "source": [
    "%%bash\n",
    "python area_pls.py -i results_pls/WILD_scent_marks_wof_n_cells.csv -o './results_pls/WILD_scent_marks_wof_ncells'"
   ]
  },
  {
   "cell_type": "code",
   "execution_count": null,
   "metadata": {
    "ExecuteTime": {
     "end_time": "2024-05-30T13:32:36.799718Z",
     "start_time": "2024-05-30T13:32:33.158222Z"
    },
    "code_folding": []
   },
   "outputs": [],
   "source": [
    "%%bash\n",
    "python area_pls.py -i results_pls/WILD_scent_marks_wof_energy.csv -o './results_pls/WILD_scent_marks_wof_energy'"
   ]
  },
  {
   "cell_type": "code",
   "execution_count": null,
   "metadata": {
    "ExecuteTime": {
     "end_time": "2024-05-30T13:32:41.168390Z",
     "start_time": "2024-05-30T13:32:37.159041Z"
    }
   },
   "outputs": [],
   "source": [
    "%%bash\n",
    "python area_pls.py -i results_pls/WILD_scent_marks_wof_density.csv -o './results_pls/WILD_scent_marks_wof_density'"
   ]
  },
  {
   "cell_type": "code",
   "execution_count": null,
   "metadata": {
    "ExecuteTime": {
     "end_time": "2024-05-30T13:32:45.869270Z",
     "start_time": "2024-05-30T13:32:41.610974Z"
    }
   },
   "outputs": [],
   "source": [
    "%%bash\n",
    "python area_pls.py -i results_pls/WILD_scent_marks_wof_relative_density.csv -o './results_pls/WILD_scent_marks_wof_relative_density'"
   ]
  },
  {
   "cell_type": "markdown",
   "metadata": {},
   "source": [
    "# Plot results"
   ]
  },
  {
   "cell_type": "code",
   "execution_count": null,
   "metadata": {
    "ExecuteTime": {
     "end_time": "2024-05-30T13:33:06.409764Z",
     "start_time": "2024-05-30T13:32:46.339201Z"
    }
   },
   "outputs": [],
   "source": [
    "upls.plot_panel_contrasts(batch=batch, variable='ncells')\n",
    "upls.plot_panel_saliences(batch=batch, variable='ncells', df_levels=df_levels)"
   ]
  },
  {
   "cell_type": "markdown",
   "metadata": {},
   "source": [
    "# PLS ENERGY"
   ]
  },
  {
   "cell_type": "code",
   "execution_count": null,
   "metadata": {
    "ExecuteTime": {
     "end_time": "2024-05-30T13:33:27.576100Z",
     "start_time": "2024-05-30T13:33:07.063601Z"
    }
   },
   "outputs": [],
   "source": [
    "upls.plot_panel_contrasts(batch=batch, variable='energy')\n",
    "upls.plot_panel_saliences(batch=batch, variable='energy', df_levels=df_levels)"
   ]
  },
  {
   "cell_type": "markdown",
   "metadata": {},
   "source": [
    "# PLS density"
   ]
  },
  {
   "cell_type": "code",
   "execution_count": null,
   "metadata": {
    "ExecuteTime": {
     "end_time": "2024-05-30T13:33:42.850324Z",
     "start_time": "2024-05-30T13:33:27.908208Z"
    }
   },
   "outputs": [],
   "source": [
    "upls.plot_panel_contrasts(batch=batch, variable='density')\n",
    "upls.plot_panel_saliences(batch=batch, variable='density', df_levels=df_levels)"
   ]
  },
  {
   "cell_type": "markdown",
   "metadata": {},
   "source": [
    "# PLS relative density"
   ]
  },
  {
   "cell_type": "code",
   "execution_count": null,
   "metadata": {
    "ExecuteTime": {
     "end_time": "2024-05-30T13:33:56.564686Z",
     "start_time": "2024-05-30T13:33:43.144670Z"
    }
   },
   "outputs": [],
   "source": [
    "upls.plot_panel_contrasts(batch=batch, variable='relative_density')\n",
    "upls.plot_panel_saliences(batch=batch, variable='relative_density', df_levels=df_levels)"
   ]
  },
  {
   "cell_type": "markdown",
   "metadata": {},
   "source": [
    "# Identify area overlap"
   ]
  },
  {
   "cell_type": "code",
   "execution_count": null,
   "metadata": {
    "ExecuteTime": {
     "end_time": "2024-05-30T13:33:56.975583Z",
     "start_time": "2024-05-30T13:33:56.885257Z"
    }
   },
   "outputs": [],
   "source": [
    "overlap = {'ncells':[], 'energy':[], 'density':[], 'relative_density':[]}\n",
    "for variable in overlap.keys():\n",
    "    overlap[variable] = set(upls.identify_pls_sig_areas(saliences=pd.read_csv(\n",
    "        './results_pls/'+ batch +'_'+ variable +'_saliences.csv'), \n",
    "                                           threshold=2.56, \n",
    "                                           volumes=volumes))\n",
    "[len(overlap[key]) for key in overlap.keys()]"
   ]
  },
  {
   "cell_type": "code",
   "execution_count": null,
   "metadata": {
    "ExecuteTime": {
     "end_time": "2024-05-30T13:33:57.270984Z",
     "start_time": "2024-05-30T13:33:57.241261Z"
    }
   },
   "outputs": [],
   "source": [
    "variable='relative_density'\n",
    "control_vs_fam_vs_unfam = upls.identify_pls_sig_areas(saliences=pd.read_csv(\n",
    "        './results_pls/'+ batch +'_'+ variable +'_saliences.csv'), \n",
    "                                           threshold=2.56, \n",
    "                                           volumes=volumes)"
   ]
  },
  {
   "cell_type": "code",
   "execution_count": null,
   "metadata": {},
   "outputs": [],
   "source": []
  }
 ],
 "metadata": {
  "kernelspec": {
   "display_name": "ClearMap",
   "language": "python",
   "name": "clearmap"
  },
  "language_info": {
   "codemirror_mode": {
    "name": "ipython",
    "version": 3
   },
   "file_extension": ".py",
   "mimetype": "text/x-python",
   "name": "python",
   "nbconvert_exporter": "python",
   "pygments_lexer": "ipython3",
   "version": "3.6.8"
  },
  "latex_envs": {
   "LaTeX_envs_menu_present": true,
   "autoclose": false,
   "autocomplete": true,
   "bibliofile": "biblio.bib",
   "cite_by": "apalike",
   "current_citInitial": 1,
   "eqLabelWithNumbers": true,
   "eqNumInitial": 1,
   "hotkeys": {
    "equation": "Ctrl-E",
    "itemize": "Ctrl-I"
   },
   "labels_anchors": false,
   "latex_user_defs": false,
   "report_style_numbering": false,
   "user_envs_cfg": false
  },
  "toc": {
   "nav_menu": {},
   "number_sections": true,
   "sideBar": true,
   "skip_h1_title": false,
   "title_cell": "Table of Contents",
   "title_sidebar": "Contents",
   "toc_cell": false,
   "toc_position": {},
   "toc_section_display": true,
   "toc_window_display": false
  },
  "varInspector": {
   "cols": {
    "lenName": 16,
    "lenType": 16,
    "lenVar": 40
   },
   "kernels_config": {
    "python": {
     "delete_cmd_postfix": "",
     "delete_cmd_prefix": "del ",
     "library": "var_list.py",
     "varRefreshCmd": "print(var_dic_list())"
    },
    "r": {
     "delete_cmd_postfix": ") ",
     "delete_cmd_prefix": "rm(",
     "library": "var_list.r",
     "varRefreshCmd": "cat(var_dic_list()) "
    }
   },
   "types_to_exclude": [
    "module",
    "function",
    "builtin_function_or_method",
    "instance",
    "_Feature"
   ],
   "window_display": false
  }
 },
 "nbformat": 4,
 "nbformat_minor": 4
}
