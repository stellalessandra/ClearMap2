{
 "cells": [
  {
   "cell_type": "markdown",
   "metadata": {
    "ExecuteTime": {
     "end_time": "2024-09-13T12:58:54.670734Z",
     "start_time": "2024-09-13T12:58:54.654984Z"
    }
   },
   "source": [
    "# Analysis of Data Using PLS and Bootstrap: Group Black Whole Brain USV + Bedding\n",
    "\n",
    "Input dictionary: `dict_results/dict_results_across_mice_BL_wf_USV_Bedding_wb.npy'`\n",
    "\n",
    "To create it run the notebook `analysis_BL_wf_USV_Bedding_wb.ipynb`\n",
    "\n",
    "## Overview\n",
    "This Python script is designed to analyze brain region activity using Partial Least Squares (PLS) analysis, comparing experimental groups based on data related to cell counts, energy levels, and density in different brain regions. The script takes volumetric data, processes it for PLS analysis, and generates statistical output that identifies significant regions across experimental conditions. The script also applies bootstrap testing to assess the robustness of the PLS results and plots the outcomes.\n",
    "\n",
    "## Workflow Summary\n",
    "1. **Load Volume Data**: The script loads and cleans a volume database of brain regions.\n",
    "2. **Set Directories and Load Data**: The root directories and experimental details are defined, followed by loading the results from a precomputed dictionary containing region-specific measurements.\n",
    "3. **Data Formatting for PLS**: The data is formatted for PLS analysis, focusing on the following:\n",
    "   - Cell counts (`n_cells`)\n",
    "   - Energy (`energy`)\n",
    "   - Density (`density`)\n",
    "   - Relative density (`relative_density`)\n",
    "\n",
    "   These datasets are processed, cleaned, and saved as CSV files for later use.\n",
    "   \n",
    "4. **PLS Analysis**: The script runs PLS analysis using external Python scripts (`area_pls.py`) on each dataset (cell counts, energy, density, relative density) and saves the salience and contrast results.\n",
    "   \n",
    "5. **Plot Results**: It visualizes the contrasts and saliences for each dataset across brain regions, using custom plotting functions.\n",
    "\n",
    "6. **Identify Significant Areas**: The script identifies brain regions that show significant differences in the PLS analysis across the experimental groups. It highlights overlapping significant regions across different metrics (e.g., cell counts, energy).\n",
    "\n",
    "7. **Compare Experimental Groups**: In specific sections of the script, the analysis is performed to compare only two experimental groups, excluding the control group, and identifies brain regions with significant differences between familiar and unfamiliar stimuli.\n",
    "\n",
    "## Key Functions and Steps\n",
    "\n",
    "- **`ace.clean_volumes_database()`**: Cleans and loads the brain volume database.\n",
    "- **`upls.reformat_dict_acronym()`**: Reformats the dictionary of results, standardizing brain region acronyms.\n",
    "- **`upls.format_data_pls()`**: Formats the data for PLS analysis based on the specified batch and data table (cell counts, energy, etc.).\n",
    "- **PLS Execution**: Calls to external `area_pls.py` scripts run PLS analysis on the prepared datasets.\n",
    "- **`upls.plot_panel_contrasts()` and `upls.plot_panel_saliences()`**: Plot the contrast and salience data, respectively, for each dataset and experimental condition.\n",
    "- **`upls.identify_pls_sig_areas()`**: Identifies brain regions that are statistically significant in the PLS analysis based on a threshold value (2.56).\n",
    "\n",
    "## Outputs\n",
    "The script produces several outputs:\n",
    "- CSV files with the formatted data for PLS analysis.\n",
    "- CSV files containing PLS results for saliences and contrasts.\n",
    "- Plots for each metric (cell counts, energy, density, relative density) displaying contrasts and saliences across brain regions.\n",
    "- Lists of significant brain regions, highlighting overlaps between different experimental conditions and metrics.\n",
    "\n",
    "## Requirements\n",
    "The script requires several Python libraries, including:\n",
    "- `numpy`, `pandas`, `matplotlib`, `seaborn` for data manipulation and visualization.\n",
    "- Custom modules: `analyze_cells_energy`, `utils_PLS`, and `utils` for specific data processing and analysis tasks.\n"
   ]
  },
  {
   "cell_type": "code",
   "execution_count": 1,
   "metadata": {
    "ExecuteTime": {
     "end_time": "2024-03-27T11:22:29.437370Z",
     "start_time": "2024-03-27T11:22:27.619718Z"
    }
   },
   "outputs": [],
   "source": [
    "import numpy as np\n",
    "import matplotlib.pyplot as plt\n",
    "import pandas as pd\n",
    "import analyze_cells_energy as ace\n",
    "import re\n",
    "import utils\n",
    "import itertools\n",
    "import seaborn as sns\n",
    "import utils_PLS as upls"
   ]
  },
  {
   "cell_type": "code",
   "execution_count": 2,
   "metadata": {
    "ExecuteTime": {
     "end_time": "2024-03-27T11:22:29.798918Z",
     "start_time": "2024-03-27T11:22:29.441084Z"
    }
   },
   "outputs": [],
   "source": [
    "# load query file where we added volumes for each area\n",
    "volumes = ace.clean_volumes_database()"
   ]
  },
  {
   "cell_type": "code",
   "execution_count": 3,
   "metadata": {
    "ExecuteTime": {
     "end_time": "2024-03-27T11:22:29.880976Z",
     "start_time": "2024-03-27T11:22:29.804254Z"
    }
   },
   "outputs": [],
   "source": [
    "root_directory = '/home/stella/Documents/Torino/projects/'\n",
    "experiment = 'SexualImprinting'\n",
    "experimental_group = 'BL_wf_USV_Bedding_wb'\n",
    "batch='BL_wf_USV_Bedding_wb'\n",
    "data_directory = root_directory + experiment + '/' \\\n",
    "                + experimental_group + '/'\n",
    "dict_results_across_mice = np.load('dict_results/dict_results_across_mice_BL_wf_USV_Bedding_wb.npy', allow_pickle=True).item()"
   ]
  },
  {
   "cell_type": "code",
   "execution_count": 4,
   "metadata": {
    "ExecuteTime": {
     "end_time": "2024-03-27T11:22:37.432097Z",
     "start_time": "2024-03-27T11:22:29.884868Z"
    }
   },
   "outputs": [],
   "source": [
    "dict_results_across_mice = upls.reformat_dict_acronym(dict_results=dict_results_across_mice, volumes=volumes)"
   ]
  },
  {
   "cell_type": "markdown",
   "metadata": {
    "ExecuteTime": {
     "end_time": "2023-04-27T09:40:35.015950Z",
     "start_time": "2023-04-27T09:40:35.009945Z"
    }
   },
   "source": [
    "# Format data for task PLS"
   ]
  },
  {
   "cell_type": "code",
   "execution_count": 5,
   "metadata": {
    "ExecuteTime": {
     "end_time": "2024-03-27T11:22:37.729036Z",
     "start_time": "2024-03-27T11:22:37.433742Z"
    }
   },
   "outputs": [],
   "source": [
    "data_relative_density = upls.format_data_pls(dict_results=dict_results_across_mice, \n",
    "                                             batch=batch, table='relative_density')\n",
    "data_relative_density.dropna(inplace=True, axis=1)\n",
    "data_relative_density.to_csv('./results_pls/'+batch+'_relative_density.csv')"
   ]
  },
  {
   "cell_type": "markdown",
   "metadata": {},
   "source": [
    "# Format data for hierarchy plotting"
   ]
  },
  {
   "cell_type": "code",
   "execution_count": 7,
   "metadata": {
    "ExecuteTime": {
     "end_time": "2024-03-27T11:22:44.428151Z",
     "start_time": "2024-03-27T11:22:37.810614Z"
    }
   },
   "outputs": [],
   "source": [
    "df_levels = upls.create_df_levels(volumes)"
   ]
  },
  {
   "cell_type": "markdown",
   "metadata": {
    "ExecuteTime": {
     "end_time": "2023-04-27T10:25:06.309157Z",
     "start_time": "2023-04-27T10:25:06.272373Z"
    }
   },
   "source": [
    "# Apply task PLS"
   ]
  },
  {
   "cell_type": "code",
   "execution_count": 8,
   "metadata": {
    "ExecuteTime": {
     "end_time": "2024-03-27T11:22:50.746952Z",
     "start_time": "2024-03-27T11:22:44.431351Z"
    }
   },
   "outputs": [],
   "source": [
    "%%bash\n",
    "python area_pls.py -i results_pls/BL_wf_USV_Bedding_wb_relative_density.csv -o './results_pls/BL_wf_USV_Bedding_wb_relative_density'"
   ]
  },
  {
   "cell_type": "code",
   "execution_count": 9,
   "metadata": {
    "ExecuteTime": {
     "end_time": "2024-03-27T11:22:50.759771Z",
     "start_time": "2024-03-27T11:22:50.749787Z"
    }
   },
   "outputs": [],
   "source": [
    "variable = 'relative_density'\n",
    "contrasts = pd.read_csv(f'./results_pls/{batch}_{variable}_contrasts.csv')"
   ]
  },
  {
   "cell_type": "code",
   "execution_count": 10,
   "metadata": {
    "ExecuteTime": {
     "end_time": "2024-03-27T11:22:50.788707Z",
     "start_time": "2024-03-27T11:22:50.766093Z"
    }
   },
   "outputs": [
    {
     "data": {
      "text/html": [
       "<div>\n",
       "<style scoped>\n",
       "    .dataframe tbody tr th:only-of-type {\n",
       "        vertical-align: middle;\n",
       "    }\n",
       "\n",
       "    .dataframe tbody tr th {\n",
       "        vertical-align: top;\n",
       "    }\n",
       "\n",
       "    .dataframe thead th {\n",
       "        text-align: right;\n",
       "    }\n",
       "</style>\n",
       "<table border=\"1\" class=\"dataframe\">\n",
       "  <thead>\n",
       "    <tr style=\"text-align: right;\">\n",
       "      <th></th>\n",
       "      <th>group_Bedding</th>\n",
       "      <th>group_Control</th>\n",
       "      <th>group_USVBALB</th>\n",
       "      <th>group_USVBALB_Bedding</th>\n",
       "      <th>group_USVC57</th>\n",
       "      <th>group_USVC57_Bedding</th>\n",
       "    </tr>\n",
       "  </thead>\n",
       "  <tbody>\n",
       "    <tr>\n",
       "      <th>0</th>\n",
       "      <td>-0.422451</td>\n",
       "      <td>-0.780224</td>\n",
       "      <td>-0.207941</td>\n",
       "      <td>0.024742</td>\n",
       "      <td>0.047619</td>\n",
       "      <td>0.408248</td>\n",
       "    </tr>\n",
       "    <tr>\n",
       "      <th>1</th>\n",
       "      <td>0.420855</td>\n",
       "      <td>-0.225923</td>\n",
       "      <td>0.773967</td>\n",
       "      <td>-0.035183</td>\n",
       "      <td>-0.070077</td>\n",
       "      <td>0.408248</td>\n",
       "    </tr>\n",
       "    <tr>\n",
       "      <th>2</th>\n",
       "      <td>0.396363</td>\n",
       "      <td>0.129929</td>\n",
       "      <td>-0.328505</td>\n",
       "      <td>-0.057157</td>\n",
       "      <td>0.740382</td>\n",
       "      <td>0.408248</td>\n",
       "    </tr>\n",
       "    <tr>\n",
       "      <th>3</th>\n",
       "      <td>-0.369994</td>\n",
       "      <td>0.369842</td>\n",
       "      <td>0.048864</td>\n",
       "      <td>-0.735613</td>\n",
       "      <td>-0.127044</td>\n",
       "      <td>0.408248</td>\n",
       "    </tr>\n",
       "    <tr>\n",
       "      <th>4</th>\n",
       "      <td>0.406009</td>\n",
       "      <td>0.082400</td>\n",
       "      <td>-0.464460</td>\n",
       "      <td>0.145498</td>\n",
       "      <td>-0.651773</td>\n",
       "      <td>0.408248</td>\n",
       "    </tr>\n",
       "    <tr>\n",
       "      <th>5</th>\n",
       "      <td>-0.430782</td>\n",
       "      <td>0.423975</td>\n",
       "      <td>0.178074</td>\n",
       "      <td>0.657713</td>\n",
       "      <td>0.060893</td>\n",
       "      <td>0.408248</td>\n",
       "    </tr>\n",
       "  </tbody>\n",
       "</table>\n",
       "</div>"
      ],
      "text/plain": [
       "   group_Bedding  group_Control  group_USVBALB  group_USVBALB_Bedding  \\\n",
       "0      -0.422451      -0.780224      -0.207941               0.024742   \n",
       "1       0.420855      -0.225923       0.773967              -0.035183   \n",
       "2       0.396363       0.129929      -0.328505              -0.057157   \n",
       "3      -0.369994       0.369842       0.048864              -0.735613   \n",
       "4       0.406009       0.082400      -0.464460               0.145498   \n",
       "5      -0.430782       0.423975       0.178074               0.657713   \n",
       "\n",
       "   group_USVC57  group_USVC57_Bedding  \n",
       "0      0.047619              0.408248  \n",
       "1     -0.070077              0.408248  \n",
       "2      0.740382              0.408248  \n",
       "3     -0.127044              0.408248  \n",
       "4     -0.651773              0.408248  \n",
       "5      0.060893              0.408248  "
      ]
     },
     "execution_count": 10,
     "metadata": {},
     "output_type": "execute_result"
    }
   ],
   "source": [
    "contrasts"
   ]
  },
  {
   "cell_type": "markdown",
   "metadata": {},
   "source": [
    "# PLS relative density"
   ]
  },
  {
   "cell_type": "code",
   "execution_count": 11,
   "metadata": {
    "ExecuteTime": {
     "end_time": "2024-03-27T11:23:40.087342Z",
     "start_time": "2024-03-27T11:22:50.792179Z"
    }
   },
   "outputs": [
    {
     "data": {
      "text/plain": [
       "(<Figure size 936x504 with 6 Axes>,\n",
       " array([<AxesSubplot:ylabel='z-score(salience)'>,\n",
       "        <AxesSubplot:ylabel='z-score(salience)'>,\n",
       "        <AxesSubplot:ylabel='z-score(salience)'>,\n",
       "        <AxesSubplot:ylabel='z-score(salience)'>,\n",
       "        <AxesSubplot:ylabel='z-score(salience)'>,\n",
       "        <AxesSubplot:xlabel='Area', ylabel='z-score(salience)'>],\n",
       "       dtype=object))"
      ]
     },
     "execution_count": 11,
     "metadata": {},
     "output_type": "execute_result"
    },
    {
     "data": {
      "image/png": "[encoded data removed]",
      "text/plain": [
       "<Figure size 720x360 with 6 Axes>"
      ]
     },
     "metadata": {
      "needs_background": "light"
     },
     "output_type": "display_data"
    },
    {
     "data": {
      "image/png": "[encoded data removed]",
      "text/plain": [
       "<Figure size 936x504 with 6 Axes>"
      ]
     },
     "metadata": {
      "needs_background": "light"
     },
     "output_type": "display_data"
    }
   ],
   "source": [
    "upls.plot_panel_contrasts(batch=batch, variable='relative_density')\n",
    "upls.plot_panel_saliences(batch=batch, variable='relative_density', df_levels=df_levels)"
   ]
  },
  {
   "cell_type": "markdown",
   "metadata": {},
   "source": [
    "# Identify area overlap"
   ]
  },
  {
   "cell_type": "code",
   "execution_count": 15,
   "metadata": {
    "ExecuteTime": {
     "end_time": "2024-03-27T11:28:12.253051Z",
     "start_time": "2024-03-27T11:28:12.211942Z"
    }
   },
   "outputs": [],
   "source": [
    "variable='relative_density'\n",
    "significant_areas = upls.identify_pls_sig_areas(saliences=pd.read_csv(\n",
    "        './results_pls/'+ batch +'_'+ variable +'_saliences.csv'), \n",
    "                                           threshold=2.56, \n",
    "                                           volumes=volumes)"
   ]
  },
  {
   "cell_type": "code",
   "execution_count": 16,
   "metadata": {
    "ExecuteTime": {
     "end_time": "2024-03-27T11:28:19.939800Z",
     "start_time": "2024-03-27T11:28:19.935499Z"
    }
   },
   "outputs": [
    {
     "data": {
      "text/plain": [
       "array(['Accessory olfactory bulb', 'Anterior cingulate area',\n",
       "       'Anterodorsal preoptic nucleus',\n",
       "       'Anteroventral periventricular nucleus',\n",
       "       'Bed nuclei of the stria terminalis',\n",
       "       'Central linear nucleus raphe', 'Cortical amygdalar area',\n",
       "       'Fasciola cinerea', 'Intercalated amygdalar nucleus',\n",
       "       'Interfascicular nucleus raphe',\n",
       "       'Intermediodorsal nucleus of the thalamus', 'Lateral habenula',\n",
       "       'Lateral preoptic area', 'Magnocellular nucleus',\n",
       "       'Medial amygdalar nucleus', 'Medial preoptic area',\n",
       "       'Medial preoptic nucleus', 'Orbital area', 'Parastrial nucleus',\n",
       "       'Periventricular hypothalamic nucleus posterior part',\n",
       "       'Periventricular hypothalamic nucleus preoptic part',\n",
       "       'Piriform-amygdalar area', 'Posterior amygdalar nucleus',\n",
       "       'Posterior auditory area', 'Posterodorsal preoptic nucleus',\n",
       "       'Posterolateral visual area', 'Prelimbic area',\n",
       "       'Primary auditory area', 'Primary motor area', 'Rhomboid nucleus',\n",
       "       'Rostrolateral visual area', 'Subparafascicular area',\n",
       "       'Subparafascicular nucleus', 'Supplemental somatosensory area',\n",
       "       'Tuberal nucleus', 'Tuberomammillary nucleus',\n",
       "       'Ventral auditory area',\n",
       "       'Ventral part of the lateral geniculate complex',\n",
       "       'Ventral premammillary nucleus',\n",
       "       'Ventromedial hypothalamic nucleus'], dtype='<U51')"
      ]
     },
     "execution_count": 16,
     "metadata": {},
     "output_type": "execute_result"
    }
   ],
   "source": [
    "significant_areas"
   ]
  },
  {
   "cell_type": "code",
   "execution_count": null,
   "metadata": {},
   "outputs": [],
   "source": []
  }
 ],
 "metadata": {
  "kernelspec": {
   "display_name": "ClearMap",
   "language": "python",
   "name": "clearmap"
  },
  "language_info": {
   "codemirror_mode": {
    "name": "ipython",
    "version": 3
   },
   "file_extension": ".py",
   "mimetype": "text/x-python",
   "name": "python",
   "nbconvert_exporter": "python",
   "pygments_lexer": "ipython3",
   "version": "3.6.8"
  },
  "latex_envs": {
   "LaTeX_envs_menu_present": true,
   "autoclose": false,
   "autocomplete": true,
   "bibliofile": "biblio.bib",
   "cite_by": "apalike",
   "current_citInitial": 1,
   "eqLabelWithNumbers": true,
   "eqNumInitial": 1,
   "hotkeys": {
    "equation": "Ctrl-E",
    "itemize": "Ctrl-I"
   },
   "labels_anchors": false,
   "latex_user_defs": false,
   "report_style_numbering": false,
   "user_envs_cfg": false
  },
  "toc": {
   "nav_menu": {},
   "number_sections": true,
   "sideBar": true,
   "skip_h1_title": false,
   "title_cell": "Table of Contents",
   "title_sidebar": "Contents",
   "toc_cell": false,
   "toc_position": {},
   "toc_section_display": true,
   "toc_window_display": false
  },
  "varInspector": {
   "cols": {
    "lenName": 16,
    "lenType": 16,
    "lenVar": 40
   },
   "kernels_config": {
    "python": {
     "delete_cmd_postfix": "",
     "delete_cmd_prefix": "del ",
     "library": "var_list.py",
     "varRefreshCmd": "print(var_dic_list())"
    },
    "r": {
     "delete_cmd_postfix": ") ",
     "delete_cmd_prefix": "rm(",
     "library": "var_list.r",
     "varRefreshCmd": "cat(var_dic_list()) "
    }
   },
   "types_to_exclude": [
    "module",
    "function",
    "builtin_function_or_method",
    "instance",
    "_Feature"
   ],
   "window_display": false
  }
 },
 "nbformat": 4,
 "nbformat_minor": 4
}
