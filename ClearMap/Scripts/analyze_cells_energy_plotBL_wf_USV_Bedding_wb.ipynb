{
 "cells": [
  {
   "cell_type": "code",
   "execution_count": 117,
   "metadata": {
    "ExecuteTime": {
     "end_time": "2024-01-26T15:06:56.866420Z",
     "start_time": "2024-01-26T15:06:56.862200Z"
    }
   },
   "outputs": [],
   "source": [
    "# !pip install odfpy\n",
    "# !pip install seaborn\n",
    "import os\n",
    "import pandas as pd\n",
    "import seaborn as sns\n",
    "import matplotlib.pyplot as plt\n",
    "import yaml\n",
    "from yaml import Loader\n",
    "import numpy as np\n",
    "import analyze_cells_energy as ace\n",
    "import utils\n",
    "from scipy.stats import ttest_ind, mannwhitneyu\n",
    "import networkx as nx\n",
    "import matplotlib.pyplot as plt"
   ]
  },
  {
   "cell_type": "code",
   "execution_count": 118,
   "metadata": {
    "ExecuteTime": {
     "end_time": "2024-01-26T15:06:57.237183Z",
     "start_time": "2024-01-26T15:06:57.233815Z"
    }
   },
   "outputs": [],
   "source": [
    "root_directory = '/home/stella/Documents/Torino/projects/'\n",
    "experiment = 'SexualImprinting'\n",
    "experimental_group = 'BL_wf_USV_Bedding_wb'\n",
    "data_directory = root_directory + experiment + '/' \\\n",
    "                + experimental_group + '/'\n",
    "subjects = [name for name in os.listdir(data_directory) \\\n",
    "            if os.path.isdir(os.path.join(data_directory, name))]"
   ]
  },
  {
   "cell_type": "code",
   "execution_count": 119,
   "metadata": {
    "ExecuteTime": {
     "end_time": "2024-01-26T15:06:57.737787Z",
     "start_time": "2024-01-26T15:06:57.587827Z"
    }
   },
   "outputs": [],
   "source": [
    "# load query file where we added volumes for each area\n",
    "volumes = ace.clean_volumes_database()"
   ]
  },
  {
   "cell_type": "code",
   "execution_count": 120,
   "metadata": {
    "ExecuteTime": {
     "end_time": "2024-01-26T15:06:58.290911Z",
     "start_time": "2024-01-26T15:06:58.283041Z"
    }
   },
   "outputs": [],
   "source": [
    "def load_subject(subject, data_directory, threshold):\n",
    "    file_suffix = 'cells_' + str(threshold)\n",
    "    df_mouse = pd.read_csv(data_directory + subject + '/' + file_suffix + '.csv')\n",
    "    df_mouse = ace.reformat_df_mouse(df=df_mouse)\n",
    "    \n",
    "    return df_mouse"
   ]
  },
  {
   "cell_type": "code",
   "execution_count": 121,
   "metadata": {
    "ExecuteTime": {
     "end_time": "2024-01-26T15:06:59.217773Z",
     "start_time": "2024-01-26T15:06:59.207056Z"
    }
   },
   "outputs": [],
   "source": [
    "def print_results(experimental_groups, groups_df, area=None):\n",
    "    for i, df in zip(experimental_groups.keys(), groups_df):\n",
    "        print(i)\n",
    "        if area==None:\n",
    "            print(df.set_index('area').sum().to_string())\n",
    "        else:\n",
    "            print(df.set_index('area').loc[area].to_string())\n",
    "        print(' ')"
   ]
  },
  {
   "cell_type": "markdown",
   "metadata": {
    "ExecuteTime": {
     "end_time": "2023-04-03T11:25:09.047637Z",
     "start_time": "2023-04-03T11:25:09.031624Z"
    }
   },
   "source": [
    "# Analysis on Black with father Whole Brain USVs and Bedding"
   ]
  },
  {
   "cell_type": "code",
   "execution_count": 122,
   "metadata": {
    "ExecuteTime": {
     "end_time": "2024-01-26T15:16:48.051081Z",
     "start_time": "2024-01-26T15:07:03.586007Z"
    }
   },
   "outputs": [
    {
     "name": "stderr",
     "output_type": "stream",
     "text": [
      "/home/stella/anaconda2/lib/python3.8/site-packages/IPython/core/interactiveshell.py:3418: DtypeWarning: Columns (11,12) have mixed types.Specify dtype option on import or set low_memory=False.\n",
      "  exec(code_obj, self.user_global_ns, self.user_ns)\n",
      "/home/stella/anaconda2/lib/python3.8/site-packages/IPython/core/interactiveshell.py:3418: DtypeWarning: Columns (12) have mixed types.Specify dtype option on import or set low_memory=False.\n",
      "  exec(code_obj, self.user_global_ns, self.user_ns)\n",
      "/home/stella/anaconda2/lib/python3.8/site-packages/IPython/core/interactiveshell.py:3418: DtypeWarning: Columns (11,12) have mixed types.Specify dtype option on import or set low_memory=False.\n",
      "  exec(code_obj, self.user_global_ns, self.user_ns)\n",
      "/home/stella/anaconda2/lib/python3.8/site-packages/IPython/core/interactiveshell.py:3418: DtypeWarning: Columns (12) have mixed types.Specify dtype option on import or set low_memory=False.\n",
      "  exec(code_obj, self.user_global_ns, self.user_ns)\n",
      "/home/stella/anaconda2/lib/python3.8/site-packages/IPython/core/interactiveshell.py:3418: DtypeWarning: Columns (12) have mixed types.Specify dtype option on import or set low_memory=False.\n",
      "  exec(code_obj, self.user_global_ns, self.user_ns)\n",
      "/home/stella/anaconda2/lib/python3.8/site-packages/IPython/core/interactiveshell.py:3418: DtypeWarning: Columns (12) have mixed types.Specify dtype option on import or set low_memory=False.\n",
      "  exec(code_obj, self.user_global_ns, self.user_ns)\n",
      "/home/stella/anaconda2/lib/python3.8/site-packages/IPython/core/interactiveshell.py:3418: DtypeWarning: Columns (12) have mixed types.Specify dtype option on import or set low_memory=False.\n",
      "  exec(code_obj, self.user_global_ns, self.user_ns)\n",
      "/home/stella/anaconda2/lib/python3.8/site-packages/IPython/core/interactiveshell.py:3418: DtypeWarning: Columns (11,12) have mixed types.Specify dtype option on import or set low_memory=False.\n",
      "  exec(code_obj, self.user_global_ns, self.user_ns)\n",
      "/home/stella/anaconda2/lib/python3.8/site-packages/IPython/core/interactiveshell.py:3418: DtypeWarning: Columns (12) have mixed types.Specify dtype option on import or set low_memory=False.\n",
      "  exec(code_obj, self.user_global_ns, self.user_ns)\n",
      "/home/stella/anaconda2/lib/python3.8/site-packages/IPython/core/interactiveshell.py:3418: DtypeWarning: Columns (12) have mixed types.Specify dtype option on import or set low_memory=False.\n",
      "  exec(code_obj, self.user_global_ns, self.user_ns)\n",
      "/home/stella/anaconda2/lib/python3.8/site-packages/IPython/core/interactiveshell.py:3418: DtypeWarning: Columns (12) have mixed types.Specify dtype option on import or set low_memory=False.\n",
      "  exec(code_obj, self.user_global_ns, self.user_ns)\n",
      "/home/stella/anaconda2/lib/python3.8/site-packages/IPython/core/interactiveshell.py:3418: DtypeWarning: Columns (11,12) have mixed types.Specify dtype option on import or set low_memory=False.\n",
      "  exec(code_obj, self.user_global_ns, self.user_ns)\n",
      "/home/stella/anaconda2/lib/python3.8/site-packages/IPython/core/interactiveshell.py:3418: DtypeWarning: Columns (12) have mixed types.Specify dtype option on import or set low_memory=False.\n",
      "  exec(code_obj, self.user_global_ns, self.user_ns)\n",
      "/home/stella/anaconda2/lib/python3.8/site-packages/IPython/core/interactiveshell.py:3418: DtypeWarning: Columns (12) have mixed types.Specify dtype option on import or set low_memory=False.\n",
      "  exec(code_obj, self.user_global_ns, self.user_ns)\n",
      "/home/stella/anaconda2/lib/python3.8/site-packages/IPython/core/interactiveshell.py:3418: DtypeWarning: Columns (12) have mixed types.Specify dtype option on import or set low_memory=False.\n",
      "  exec(code_obj, self.user_global_ns, self.user_ns)\n"
     ]
    }
   ],
   "source": [
    "dict_results_across_mice = {subject: ace.calculate_cells_energy_per_level(\n",
    "    df_mouse=load_subject(subject=subject, \n",
    "                          data_directory=data_directory,\n",
    "                          threshold=2500), \n",
    "                                                                         vol=volumes, \n",
    "                                                                         level=8) for subject in subjects}\n",
    "np.save('dict_results/dict_results_across_mice_BL_wf_USV_Bedding_wb.npy', dict_results_across_mice)"
   ]
  },
  {
   "cell_type": "code",
   "execution_count": 123,
   "metadata": {
    "ExecuteTime": {
     "end_time": "2024-01-26T15:16:48.416245Z",
     "start_time": "2024-01-26T15:16:48.403812Z"
    }
   },
   "outputs": [],
   "source": [
    "dict_results_across_mice = np.load('dict_results/dict_results_across_mice_BL_wf_USV_Bedding_wb.npy', \n",
    "                                   allow_pickle=True).item()"
   ]
  },
  {
   "cell_type": "code",
   "execution_count": 124,
   "metadata": {
    "ExecuteTime": {
     "end_time": "2024-01-26T15:16:48.777429Z",
     "start_time": "2024-01-26T15:16:48.775128Z"
    }
   },
   "outputs": [],
   "source": [
    "subjects = list(dict_results_across_mice.keys())"
   ]
  },
  {
   "cell_type": "markdown",
   "metadata": {},
   "source": [
    "# List areas with null cell count"
   ]
  },
  {
   "cell_type": "code",
   "execution_count": 125,
   "metadata": {
    "ExecuteTime": {
     "end_time": "2024-01-26T15:16:49.158142Z",
     "start_time": "2024-01-26T15:16:49.146607Z"
    }
   },
   "outputs": [],
   "source": [
    "db_null_count = {subject: dict_results_across_mice[subject][\n",
    "    dict_results_across_mice[subject].n_cells == 0] for subject in subjects}"
   ]
  },
  {
   "cell_type": "markdown",
   "metadata": {},
   "source": [
    "# List areas with no volume"
   ]
  },
  {
   "cell_type": "code",
   "execution_count": 126,
   "metadata": {
    "ExecuteTime": {
     "end_time": "2024-01-26T15:16:49.579370Z",
     "start_time": "2024-01-26T15:16:49.571578Z"
    }
   },
   "outputs": [],
   "source": [
    "db_null_volume = {subject: dict_results_across_mice[subject][\n",
    "    dict_results_across_mice[subject]['energy'].isnull()] for subject in subjects}"
   ]
  },
  {
   "cell_type": "markdown",
   "metadata": {},
   "source": [
    "# Divide mice into experimental groups: FAM/UNFAM/CONTROL"
   ]
  },
  {
   "cell_type": "code",
   "execution_count": 152,
   "metadata": {
    "ExecuteTime": {
     "end_time": "2024-01-26T15:23:21.174361Z",
     "start_time": "2024-01-26T15:23:21.156765Z"
    }
   },
   "outputs": [
    {
     "data": {
      "text/plain": [
       "{'Control': ['BL55Control', 'BL69Control', 'BL62Control'],\n",
       " 'USVC57': ['BL56USVC57', 'BL63USVC57'],\n",
       " 'USVBALB': ['BL61USVBALB', 'BL68USVBALB', 'BL57USVBALB'],\n",
       " 'USVBALB_Bedding': ['BL58USVBALB_Bedding', 'BL71USVBALB_Bedding'],\n",
       " 'USVC57_Bedding': ['BL59USVC57_Bedding',\n",
       "  'BL70USVC57_Bedding',\n",
       "  'BL66USVC57_Bedding'],\n",
       " 'Bedding': ['BL60Bedding', 'BL72Bedding']}"
      ]
     },
     "execution_count": 152,
     "metadata": {},
     "output_type": "execute_result"
    }
   ],
   "source": [
    "experimental_groups = utils.divide_in_exp_groups(list_subjects=subjects,\n",
    "                                                group_labels=['Control',\n",
    "                                                       'USVC57',\n",
    "                                                       'USVBALB',\n",
    "                                                       'USVBALB_Bedding',\n",
    "                                                       'USVC57_Bedding',\n",
    "                                                       'Bedding'])\n",
    "experimental_groups"
   ]
  },
  {
   "cell_type": "markdown",
   "metadata": {},
   "source": [
    "# Calculate cell count across experimental groups"
   ]
  },
  {
   "cell_type": "code",
   "execution_count": 153,
   "metadata": {
    "ExecuteTime": {
     "end_time": "2024-01-26T15:23:21.660699Z",
     "start_time": "2024-01-26T15:23:21.646006Z"
    }
   },
   "outputs": [],
   "source": [
    "df_Control_cell_count, df_USVC57_cell_count, df_USVBALB_cell_count,\\\n",
    "df_USVBALB_Bedding_cell_count, df_USVC57_Bedding_cell_count, df_Bedding_cell_count = \\\n",
    "ace.calculate_value_across_groups(experimental_groups=experimental_groups, \n",
    "                              dict_results_across_mice=dict_results_across_mice, \n",
    "                              value='n_cells')\n",
    "groups_df = [df_Control_cell_count, df_USVC57_cell_count, df_USVBALB_cell_count,\\\n",
    "df_USVBALB_Bedding_cell_count, df_USVC57_Bedding_cell_count, df_Bedding_cell_count]"
   ]
  },
  {
   "cell_type": "code",
   "execution_count": 154,
   "metadata": {
    "ExecuteTime": {
     "end_time": "2024-01-26T15:23:22.139947Z",
     "start_time": "2024-01-26T15:23:22.130108Z"
    }
   },
   "outputs": [
    {
     "name": "stdout",
     "output_type": "stream",
     "text": [
      "Control\n",
      "BL55Control    217841\n",
      "BL69Control    127369\n",
      "BL62Control     73044\n",
      " \n",
      "USVC57\n",
      "BL56USVC57    138517\n",
      "BL63USVC57    173128\n",
      " \n",
      "USVBALB\n",
      "BL61USVBALB     65856\n",
      "BL68USVBALB    188648\n",
      "BL57USVBALB    149626\n",
      " \n",
      "USVBALB_Bedding\n",
      "BL58USVBALB_Bedding    180282\n",
      "BL71USVBALB_Bedding    157923\n",
      " \n",
      "USVC57_Bedding\n",
      "BL59USVC57_Bedding    276063\n",
      "BL70USVC57_Bedding    175941\n",
      "BL66USVC57_Bedding    134469\n",
      " \n",
      "Bedding\n",
      "BL60Bedding    183583\n",
      "BL72Bedding    228225\n",
      " \n"
     ]
    }
   ],
   "source": [
    "print_results(experimental_groups=experimental_groups,\n",
    "              groups_df=groups_df)"
   ]
  },
  {
   "cell_type": "code",
   "execution_count": 155,
   "metadata": {
    "ExecuteTime": {
     "end_time": "2024-01-26T15:23:22.600398Z",
     "start_time": "2024-01-26T15:23:22.595305Z"
    }
   },
   "outputs": [
    {
     "data": {
      "text/plain": [
       "BL59USVC57_Bedding    276063\n",
       "BL70USVC57_Bedding    175941\n",
       "BL66USVC57_Bedding    134469\n",
       "dtype: int64"
      ]
     },
     "execution_count": 155,
     "metadata": {},
     "output_type": "execute_result"
    }
   ],
   "source": [
    "df_USVC57_Bedding_cell_count.set_index('area').sum()"
   ]
  },
  {
   "cell_type": "code",
   "execution_count": 156,
   "metadata": {
    "ExecuteTime": {
     "end_time": "2024-01-26T15:23:23.078093Z",
     "start_time": "2024-01-26T15:23:23.073786Z"
    }
   },
   "outputs": [
    {
     "data": {
      "text/plain": [
       "BL60Bedding    183583\n",
       "BL72Bedding    228225\n",
       "dtype: int64"
      ]
     },
     "execution_count": 156,
     "metadata": {},
     "output_type": "execute_result"
    }
   ],
   "source": [
    "df_Bedding_cell_count.set_index('area').sum()"
   ]
  },
  {
   "cell_type": "markdown",
   "metadata": {},
   "source": [
    "# Look at cell count per area"
   ]
  },
  {
   "cell_type": "code",
   "execution_count": 157,
   "metadata": {
    "ExecuteTime": {
     "end_time": "2024-01-26T15:23:23.522886Z",
     "start_time": "2024-01-26T15:23:23.512697Z"
    }
   },
   "outputs": [
    {
     "name": "stdout",
     "output_type": "stream",
     "text": [
      "Control\n",
      "BL55Control    1799\n",
      "BL69Control     515\n",
      "BL62Control     626\n",
      " \n",
      "USVC57\n",
      "BL56USVC57    1013\n",
      "BL63USVC57     979\n",
      " \n",
      "USVBALB\n",
      "BL61USVBALB     525\n",
      "BL68USVBALB    1336\n",
      "BL57USVBALB     553\n",
      " \n",
      "USVBALB_Bedding\n",
      "BL58USVBALB_Bedding    479\n",
      "BL71USVBALB_Bedding    687\n",
      " \n",
      "USVC57_Bedding\n",
      "BL59USVC57_Bedding    2096\n",
      "BL70USVC57_Bedding     927\n",
      "BL66USVC57_Bedding    1040\n",
      " \n",
      "Bedding\n",
      "BL60Bedding    1172\n",
      "BL72Bedding     924\n",
      " \n"
     ]
    }
   ],
   "source": [
    "print_results(experimental_groups=experimental_groups,\n",
    "              groups_df=groups_df,\n",
    "             area='Inferior colliculus')"
   ]
  },
  {
   "cell_type": "markdown",
   "metadata": {
    "ExecuteTime": {
     "end_time": "2024-01-23T09:43:40.727464Z",
     "start_time": "2024-01-23T09:43:40.724386Z"
    }
   },
   "source": [
    "## AUDITORY"
   ]
  },
  {
   "cell_type": "code",
   "execution_count": 158,
   "metadata": {
    "ExecuteTime": {
     "end_time": "2024-01-26T15:23:24.002697Z",
     "start_time": "2024-01-26T15:23:23.990684Z"
    }
   },
   "outputs": [
    {
     "name": "stdout",
     "output_type": "stream",
     "text": [
      "Control\n",
      "BL55Control    217841\n",
      "BL69Control    127369\n",
      "BL62Control     73044\n",
      " \n",
      "USVC57\n",
      "BL56USVC57    138517\n",
      "BL63USVC57    173128\n",
      " \n",
      "USVBALB\n",
      "BL61USVBALB     65856\n",
      "BL68USVBALB    188648\n",
      "BL57USVBALB    149626\n",
      " \n",
      "USVBALB_Bedding\n",
      "BL58USVBALB_Bedding    180282\n",
      "BL71USVBALB_Bedding    157923\n",
      " \n",
      "USVC57_Bedding\n",
      "BL59USVC57_Bedding    276063\n",
      "BL70USVC57_Bedding    175941\n",
      "BL66USVC57_Bedding    134469\n",
      " \n",
      "Bedding\n",
      "BL60Bedding    183583\n",
      "BL72Bedding    228225\n",
      " \n"
     ]
    }
   ],
   "source": [
    "print_results(experimental_groups=experimental_groups,\n",
    "              groups_df=groups_df)"
   ]
  },
  {
   "cell_type": "code",
   "execution_count": 159,
   "metadata": {
    "ExecuteTime": {
     "end_time": "2024-01-26T15:23:24.486447Z",
     "start_time": "2024-01-26T15:23:24.475086Z"
    }
   },
   "outputs": [
    {
     "name": "stdout",
     "output_type": "stream",
     "text": [
      "Control\n",
      "BL55Control    483\n",
      "BL69Control    245\n",
      "BL62Control    189\n",
      " \n",
      "USVC57\n",
      "BL56USVC57    434\n",
      "BL63USVC57    530\n",
      " \n",
      "USVBALB\n",
      "BL61USVBALB    180\n",
      "BL68USVBALB    321\n",
      "BL57USVBALB    672\n",
      " \n",
      "USVBALB_Bedding\n",
      "BL58USVBALB_Bedding    320\n",
      "BL71USVBALB_Bedding    196\n",
      " \n",
      "USVC57_Bedding\n",
      "BL59USVC57_Bedding    907\n",
      "BL70USVC57_Bedding    432\n",
      "BL66USVC57_Bedding    236\n",
      " \n",
      "Bedding\n",
      "BL60Bedding    247\n",
      "BL72Bedding    817\n",
      " \n"
     ]
    }
   ],
   "source": [
    "print_results(experimental_groups=experimental_groups,\n",
    "              groups_df=groups_df,\n",
    "             area='Primary auditory area')"
   ]
  },
  {
   "cell_type": "code",
   "execution_count": 160,
   "metadata": {
    "ExecuteTime": {
     "end_time": "2024-01-26T15:23:24.954808Z",
     "start_time": "2024-01-26T15:23:24.943929Z"
    }
   },
   "outputs": [
    {
     "name": "stdout",
     "output_type": "stream",
     "text": [
      "Control\n",
      "BL55Control    242\n",
      "BL69Control    103\n",
      "BL62Control     88\n",
      " \n",
      "USVC57\n",
      "BL56USVC57    318\n",
      "BL63USVC57    187\n",
      " \n",
      "USVBALB\n",
      "BL61USVBALB     30\n",
      "BL68USVBALB    136\n",
      "BL57USVBALB    440\n",
      " \n",
      "USVBALB_Bedding\n",
      "BL58USVBALB_Bedding    198\n",
      "BL71USVBALB_Bedding    169\n",
      " \n",
      "USVC57_Bedding\n",
      "BL59USVC57_Bedding    655\n",
      "BL70USVC57_Bedding    320\n",
      "BL66USVC57_Bedding    106\n",
      " \n",
      "Bedding\n",
      "BL60Bedding    145\n",
      "BL72Bedding    588\n",
      " \n"
     ]
    }
   ],
   "source": [
    "print_results(experimental_groups=experimental_groups,\n",
    "              groups_df=groups_df,\n",
    "             area='Dorsal auditory area')"
   ]
  },
  {
   "cell_type": "code",
   "execution_count": 161,
   "metadata": {
    "ExecuteTime": {
     "end_time": "2024-01-26T15:23:25.424289Z",
     "start_time": "2024-01-26T15:23:25.415178Z"
    }
   },
   "outputs": [
    {
     "name": "stdout",
     "output_type": "stream",
     "text": [
      "Control\n",
      "BL55Control    695\n",
      "BL69Control    305\n",
      "BL62Control    181\n",
      " \n",
      "USVC57\n",
      "BL56USVC57    527\n",
      "BL63USVC57    655\n",
      " \n",
      "USVBALB\n",
      "BL61USVBALB    182\n",
      "BL68USVBALB    577\n",
      "BL57USVBALB    685\n",
      " \n",
      "USVBALB_Bedding\n",
      "BL58USVBALB_Bedding    327\n",
      "BL71USVBALB_Bedding    286\n",
      " \n",
      "USVC57_Bedding\n",
      "BL59USVC57_Bedding    1091\n",
      "BL70USVC57_Bedding     514\n",
      "BL66USVC57_Bedding     365\n",
      " \n",
      "Bedding\n",
      "BL60Bedding    359\n",
      "BL72Bedding    952\n",
      " \n"
     ]
    }
   ],
   "source": [
    "print_results(experimental_groups=experimental_groups,\n",
    "              groups_df=groups_df,\n",
    "             area='Ventral auditory area')"
   ]
  },
  {
   "cell_type": "markdown",
   "metadata": {},
   "source": [
    "## VENTRAL"
   ]
  },
  {
   "cell_type": "code",
   "execution_count": 162,
   "metadata": {
    "ExecuteTime": {
     "end_time": "2024-01-26T15:23:25.898742Z",
     "start_time": "2024-01-26T15:23:25.890090Z"
    }
   },
   "outputs": [
    {
     "name": "stdout",
     "output_type": "stream",
     "text": [
      "Control\n",
      "BL55Control    13\n",
      "BL69Control     1\n",
      "BL62Control     7\n",
      " \n",
      "USVC57\n",
      "BL56USVC57    11\n",
      "BL63USVC57    13\n",
      " \n",
      "USVBALB\n",
      "BL61USVBALB    13\n",
      "BL68USVBALB     6\n",
      "BL57USVBALB     4\n",
      " \n",
      "USVBALB_Bedding\n",
      "BL58USVBALB_Bedding    421\n",
      "BL71USVBALB_Bedding    395\n",
      " \n",
      "USVC57_Bedding\n",
      "BL59USVC57_Bedding    399\n",
      "BL70USVC57_Bedding    389\n",
      "BL66USVC57_Bedding    453\n",
      " \n",
      "Bedding\n",
      "BL60Bedding    332\n",
      "BL72Bedding    406\n",
      " \n"
     ]
    }
   ],
   "source": [
    "print_results(experimental_groups=experimental_groups,\n",
    "              groups_df=groups_df,\n",
    "             area='Ventral premammillary nucleus')"
   ]
  },
  {
   "cell_type": "markdown",
   "metadata": {},
   "source": [
    "## MAIN"
   ]
  },
  {
   "cell_type": "code",
   "execution_count": 163,
   "metadata": {
    "ExecuteTime": {
     "end_time": "2024-01-26T15:23:26.376265Z",
     "start_time": "2024-01-26T15:23:26.365215Z"
    }
   },
   "outputs": [
    {
     "name": "stdout",
     "output_type": "stream",
     "text": [
      "Control\n",
      "BL55Control    7370\n",
      "BL69Control    4894\n",
      "BL62Control    5730\n",
      " \n",
      "USVC57\n",
      "BL56USVC57     8581\n",
      "BL63USVC57    18060\n",
      " \n",
      "USVBALB\n",
      "BL61USVBALB    3000\n",
      "BL68USVBALB    9323\n",
      "BL57USVBALB    5431\n",
      " \n",
      "USVBALB_Bedding\n",
      "BL58USVBALB_Bedding    15102\n",
      "BL71USVBALB_Bedding    16596\n",
      " \n",
      "USVC57_Bedding\n",
      "BL59USVC57_Bedding    21364\n",
      "BL70USVC57_Bedding    10252\n",
      "BL66USVC57_Bedding    10572\n",
      " \n",
      "Bedding\n",
      "BL60Bedding    14516\n",
      "BL72Bedding    16254\n",
      " \n"
     ]
    }
   ],
   "source": [
    "print_results(experimental_groups=experimental_groups,\n",
    "              groups_df=groups_df,\n",
    "             area='Main olfactory bulb')"
   ]
  },
  {
   "cell_type": "markdown",
   "metadata": {},
   "source": [
    "## AOB"
   ]
  },
  {
   "cell_type": "code",
   "execution_count": 164,
   "metadata": {
    "ExecuteTime": {
     "end_time": "2024-01-26T15:23:26.820291Z",
     "start_time": "2024-01-26T15:23:26.808880Z"
    }
   },
   "outputs": [
    {
     "name": "stdout",
     "output_type": "stream",
     "text": [
      "Control\n",
      "BL55Control    164\n",
      "BL69Control    142\n",
      "BL62Control     88\n",
      " \n",
      "USVC57\n",
      "BL56USVC57    124\n",
      "BL63USVC57    160\n",
      " \n",
      "USVBALB\n",
      "BL61USVBALB     63\n",
      "BL68USVBALB     51\n",
      "BL57USVBALB    184\n",
      " \n",
      "USVBALB_Bedding\n",
      "BL58USVBALB_Bedding    2065\n",
      "BL71USVBALB_Bedding    1989\n",
      " \n",
      "USVC57_Bedding\n",
      "BL59USVC57_Bedding    2633\n",
      "BL70USVC57_Bedding    2718\n",
      "BL66USVC57_Bedding    2362\n",
      " \n",
      "Bedding\n",
      "BL60Bedding    1695\n",
      "BL72Bedding    1936\n",
      " \n"
     ]
    }
   ],
   "source": [
    "print_results(experimental_groups=experimental_groups,\n",
    "              groups_df=groups_df,\n",
    "             area='Accessory olfactory bulb')"
   ]
  },
  {
   "cell_type": "markdown",
   "metadata": {},
   "source": [
    "## Calculate t-tests across groups per area"
   ]
  },
  {
   "cell_type": "code",
   "execution_count": null,
   "metadata": {
    "ExecuteTime": {
     "end_time": "2024-01-12T13:58:37.998050Z",
     "start_time": "2024-01-12T13:58:30.754384Z"
    }
   },
   "outputs": [],
   "source": [
    "df_ttest_ncells = ace.test_across_groups([df_control_cell_count,df_fam_cell_count,df_unfam_cell_count])"
   ]
  },
  {
   "cell_type": "code",
   "execution_count": null,
   "metadata": {
    "ExecuteTime": {
     "end_time": "2024-01-12T13:58:38.030953Z",
     "start_time": "2024-01-12T13:58:38.004401Z"
    }
   },
   "outputs": [],
   "source": [
    "# remove rows corresponding to area that have zero cell count across all experimental groups\n",
    "df_ttest_not_null_ncells = df_ttest_ncells.dropna(axis=0,\n",
    "                                   how='all',\n",
    "                                   subset=['pval_Control_vs_Fam',\n",
    "                                          'pval_Control_vs_Unfam',\n",
    "                                          'pval_Fam_vs_Unfam'])"
   ]
  },
  {
   "cell_type": "code",
   "execution_count": null,
   "metadata": {
    "ExecuteTime": {
     "end_time": "2024-01-12T13:58:38.099812Z",
     "start_time": "2024-01-12T13:58:38.040079Z"
    }
   },
   "outputs": [],
   "source": [
    "# sort dataframe pvalues of control vs fam and pick the first 20\n",
    "df_ttest_not_null_ncells.sort_values(by='pval_Control_vs_Fam')[['area', 'pval_Control_vs_Fam']][0:35].set_index('area')"
   ]
  },
  {
   "cell_type": "code",
   "execution_count": null,
   "metadata": {},
   "outputs": [],
   "source": []
  },
  {
   "cell_type": "code",
   "execution_count": null,
   "metadata": {
    "ExecuteTime": {
     "end_time": "2024-01-12T13:58:38.149249Z",
     "start_time": "2024-01-12T13:58:38.107914Z"
    }
   },
   "outputs": [],
   "source": [
    "# sort dataframe pvalues of control vs unfam and pick the first 20\n",
    "df_ttest_not_null_ncells.sort_values(by='pval_Control_vs_Fam')[['area', 'pval_Control_vs_Fam']].set_index('area').loc['Ventral premammillary nucleus']"
   ]
  },
  {
   "cell_type": "code",
   "execution_count": null,
   "metadata": {
    "ExecuteTime": {
     "end_time": "2024-01-12T13:58:38.200560Z",
     "start_time": "2024-01-12T13:58:38.156768Z"
    }
   },
   "outputs": [],
   "source": [
    "# sort dataframe pvalues of control vs unfam and pick the first 20\n",
    "df_ttest_not_null_ncells.sort_values(by='pval_Control_vs_Unfam')[['area', 'pval_Control_vs_Unfam']][0:15].set_index('area')"
   ]
  },
  {
   "cell_type": "code",
   "execution_count": null,
   "metadata": {
    "ExecuteTime": {
     "end_time": "2024-01-12T13:58:38.247972Z",
     "start_time": "2024-01-12T13:58:38.207887Z"
    }
   },
   "outputs": [],
   "source": [
    "# sort dataframe pvalues of control vs unfam and pick the first 20\n",
    "df_ttest_not_null_ncells.sort_values(by='pval_Control_vs_Unfam')[['area', 'pval_Control_vs_Unfam']].set_index('area').loc['Supramammillary nucleus']"
   ]
  },
  {
   "cell_type": "code",
   "execution_count": null,
   "metadata": {
    "ExecuteTime": {
     "end_time": "2024-01-12T13:58:38.312392Z",
     "start_time": "2024-01-12T13:58:38.255991Z"
    }
   },
   "outputs": [],
   "source": [
    "# sort dataframe pvalues of fam vs unfam and pick the first 20\n",
    "df_ttest_not_null_ncells.sort_values(by='pval_Fam_vs_Unfam')[['area', 'pval_Fam_vs_Unfam']][0:40].set_index('area')"
   ]
  },
  {
   "cell_type": "code",
   "execution_count": null,
   "metadata": {
    "ExecuteTime": {
     "end_time": "2024-01-12T13:58:38.355666Z",
     "start_time": "2024-01-12T13:58:38.320716Z"
    }
   },
   "outputs": [],
   "source": [
    "df_ttest_not_null_ncells.sort_values(by='pval_Fam_vs_Unfam')[['area', 'pval_Fam_vs_Unfam']].set_index('area').loc['Supramammillary nucleus']"
   ]
  },
  {
   "cell_type": "markdown",
   "metadata": {},
   "source": [
    "## Calculate cross corr across groups per area on cell count"
   ]
  },
  {
   "cell_type": "code",
   "execution_count": null,
   "metadata": {
    "ExecuteTime": {
     "end_time": "2024-01-12T13:58:38.411342Z",
     "start_time": "2024-01-12T13:58:38.365120Z"
    }
   },
   "outputs": [],
   "source": [
    "corr_matrix_control_ncells = ace.cross_corr(df_control_cell_count)"
   ]
  },
  {
   "cell_type": "code",
   "execution_count": null,
   "metadata": {
    "ExecuteTime": {
     "end_time": "2024-01-12T13:58:38.463651Z",
     "start_time": "2024-01-12T13:58:38.418962Z"
    }
   },
   "outputs": [],
   "source": [
    "corr_matrix_fam_ncells = ace.cross_corr(df_fam_cell_count)"
   ]
  },
  {
   "cell_type": "code",
   "execution_count": null,
   "metadata": {
    "ExecuteTime": {
     "end_time": "2024-01-12T13:58:38.520690Z",
     "start_time": "2024-01-12T13:58:38.473111Z"
    }
   },
   "outputs": [],
   "source": [
    "corr_matrix_unfam_ncells = ace.cross_corr(df_unfam_cell_count)"
   ]
  },
  {
   "cell_type": "markdown",
   "metadata": {},
   "source": [
    "## Plot cross corr matrix across groups per area on cell count"
   ]
  },
  {
   "cell_type": "code",
   "execution_count": null,
   "metadata": {
    "ExecuteTime": {
     "end_time": "2024-01-12T13:58:45.408889Z",
     "start_time": "2024-01-12T13:58:38.531594Z"
    }
   },
   "outputs": [],
   "source": [
    "f, ax = plt.subplots(figsize=(10, 8))\n",
    "sns.heatmap(corr_matrix_control_ncells,\n",
    "    cmap=sns.diverging_palette(220, 10, as_cmap=True),\n",
    "    vmin=-1.0, vmax=1.0,\n",
    "    square=True, ax=ax)\n",
    "ax.set_title('CONTROL')"
   ]
  },
  {
   "cell_type": "code",
   "execution_count": null,
   "metadata": {
    "ExecuteTime": {
     "end_time": "2024-01-12T13:58:52.436281Z",
     "start_time": "2024-01-12T13:58:45.417253Z"
    }
   },
   "outputs": [],
   "source": [
    "f, ax = plt.subplots(figsize=(10, 8))\n",
    "sns.heatmap(corr_matrix_fam_ncells,\n",
    "    cmap=sns.diverging_palette(220, 10, as_cmap=True),\n",
    "    vmin=-1.0, vmax=1.0,\n",
    "    square=True, ax=ax)\n",
    "ax.set_title('FAM')"
   ]
  },
  {
   "cell_type": "code",
   "execution_count": null,
   "metadata": {
    "ExecuteTime": {
     "end_time": "2024-01-12T13:59:03.191264Z",
     "start_time": "2024-01-12T13:58:53.468644Z"
    }
   },
   "outputs": [],
   "source": [
    "f, ax = plt.subplots(figsize=(10, 8))\n",
    "sns.heatmap(corr_matrix_unfam_ncells,\n",
    "    cmap=sns.diverging_palette(220, 10, as_cmap=True),\n",
    "    vmin=-1.0, vmax=1.0,\n",
    "    square=True, ax=ax)\n",
    "ax.set_title('UNFAM')"
   ]
  },
  {
   "cell_type": "markdown",
   "metadata": {},
   "source": [
    "# Calculate energy across experimental groups"
   ]
  },
  {
   "cell_type": "code",
   "execution_count": null,
   "metadata": {
    "ExecuteTime": {
     "end_time": "2024-01-12T13:59:03.300157Z",
     "start_time": "2024-01-12T13:59:03.206122Z"
    }
   },
   "outputs": [],
   "source": [
    "df_control_energy, df_fam_energy, df_unfam_energy = \\\n",
    "ace.calculate_value_across_groups(experimental_groups, dict_results_across_mice, value='energy')"
   ]
  },
  {
   "cell_type": "markdown",
   "metadata": {},
   "source": [
    "## T-test on energy across groups"
   ]
  },
  {
   "cell_type": "code",
   "execution_count": null,
   "metadata": {
    "ExecuteTime": {
     "end_time": "2024-01-12T13:59:13.332417Z",
     "start_time": "2024-01-12T13:59:03.311470Z"
    }
   },
   "outputs": [],
   "source": [
    "df_ttest_energy = ace.test_across_groups([df_control_energy,df_fam_energy,df_unfam_energy])"
   ]
  },
  {
   "cell_type": "code",
   "execution_count": null,
   "metadata": {
    "ExecuteTime": {
     "end_time": "2024-01-12T13:59:13.372656Z",
     "start_time": "2024-01-12T13:59:13.342344Z"
    }
   },
   "outputs": [],
   "source": [
    "# remove rows corresponding to area that have zero cell count across all experimental groups\n",
    "df_ttest_not_null_energy = df_ttest_energy.dropna(axis=0,\n",
    "                                   how='all',\n",
    "                                   subset=['pval_Control_vs_Fam',\n",
    "                                          'pval_Control_vs_Unfam',\n",
    "                                          'pval_Fam_vs_Unfam'])"
   ]
  },
  {
   "cell_type": "code",
   "execution_count": null,
   "metadata": {
    "ExecuteTime": {
     "end_time": "2024-01-12T13:59:17.534785Z",
     "start_time": "2024-01-12T13:59:17.478671Z"
    },
    "scrolled": false
   },
   "outputs": [],
   "source": [
    "# sort dataframe pvalues of control vs fam and pick the first 20\n",
    "df_ttest_not_null_energy.sort_values(by='pval_Control_vs_Fam')[['area', 'pval_Control_vs_Fam']][0:10].set_index('area')"
   ]
  },
  {
   "cell_type": "code",
   "execution_count": null,
   "metadata": {
    "ExecuteTime": {
     "end_time": "2024-01-12T13:59:17.606855Z",
     "start_time": "2024-01-12T13:59:17.546405Z"
    }
   },
   "outputs": [],
   "source": [
    "# sort dataframe pvalues of control vs fam and pick the first 20\n",
    "df_ttest_not_null_energy.sort_values(by='pval_Control_vs_Unfam')[['area', 'pval_Control_vs_Unfam']][0:15].set_index('area')"
   ]
  },
  {
   "cell_type": "code",
   "execution_count": null,
   "metadata": {
    "ExecuteTime": {
     "end_time": "2024-01-12T13:59:17.687026Z",
     "start_time": "2024-01-12T13:59:17.615551Z"
    }
   },
   "outputs": [],
   "source": [
    "# sort dataframe pvalues of control vs fam and pick the first 20\n",
    "df_ttest_not_null_energy.sort_values(by='pval_Fam_vs_Unfam')[['area', 'pval_Fam_vs_Unfam']][0:20].set_index('area')"
   ]
  },
  {
   "cell_type": "markdown",
   "metadata": {
    "ExecuteTime": {
     "end_time": "2023-04-05T15:11:36.529234Z",
     "start_time": "2023-04-05T15:11:36.525705Z"
    }
   },
   "source": [
    "\n"
   ]
  },
  {
   "cell_type": "code",
   "execution_count": null,
   "metadata": {
    "ExecuteTime": {
     "end_time": "2024-01-12T13:59:17.746532Z",
     "start_time": "2024-01-12T13:59:17.698374Z"
    }
   },
   "outputs": [],
   "source": [
    "corr_matrix_control_energy = ace.cross_corr(df_control_energy)"
   ]
  },
  {
   "cell_type": "code",
   "execution_count": null,
   "metadata": {
    "ExecuteTime": {
     "end_time": "2024-01-12T13:59:17.801754Z",
     "start_time": "2024-01-12T13:59:17.757895Z"
    }
   },
   "outputs": [],
   "source": [
    "corr_matrix_fam_energy = ace.cross_corr(df_fam_energy)"
   ]
  },
  {
   "cell_type": "code",
   "execution_count": null,
   "metadata": {
    "ExecuteTime": {
     "end_time": "2024-01-12T13:59:17.859849Z",
     "start_time": "2024-01-12T13:59:17.812533Z"
    }
   },
   "outputs": [],
   "source": [
    "corr_matrix_unfam_energy = ace.cross_corr(df_unfam_energy)"
   ]
  },
  {
   "cell_type": "markdown",
   "metadata": {
    "ExecuteTime": {
     "end_time": "2023-04-06T10:58:02.369256Z",
     "start_time": "2023-04-06T10:58:01.314282Z"
    }
   },
   "source": [
    "## Plot cross corr matrix across groups per area on energy"
   ]
  },
  {
   "cell_type": "code",
   "execution_count": null,
   "metadata": {
    "ExecuteTime": {
     "end_time": "2024-01-12T13:59:30.774828Z",
     "start_time": "2024-01-12T13:59:17.871782Z"
    }
   },
   "outputs": [],
   "source": [
    "f, ax = plt.subplots(figsize=(10, 8))\n",
    "sns.heatmap(corr_matrix_control_energy,\n",
    "    cmap=sns.diverging_palette(220, 10, as_cmap=True),\n",
    "    vmin=-1.0, vmax=1.0,\n",
    "    square=True, ax=ax)\n",
    "ax.set_title('CONTROL')"
   ]
  },
  {
   "cell_type": "code",
   "execution_count": null,
   "metadata": {
    "ExecuteTime": {
     "end_time": "2024-01-12T13:59:48.536487Z",
     "start_time": "2024-01-12T13:59:30.794096Z"
    }
   },
   "outputs": [],
   "source": [
    "f, ax = plt.subplots(figsize=(10, 8))\n",
    "sns.heatmap(corr_matrix_fam_energy,\n",
    "    cmap=sns.diverging_palette(220, 10, as_cmap=True),\n",
    "    vmin=-1.0, vmax=1.0,\n",
    "    square=True, ax=ax)\n",
    "ax.set_title('FAM')"
   ]
  },
  {
   "cell_type": "code",
   "execution_count": null,
   "metadata": {
    "ExecuteTime": {
     "end_time": "2024-01-12T14:00:05.465188Z",
     "start_time": "2024-01-12T13:59:48.549821Z"
    }
   },
   "outputs": [],
   "source": [
    "f, ax = plt.subplots(figsize=(10, 8))\n",
    "sns.heatmap(corr_matrix_unfam_energy,\n",
    "    cmap=sns.diverging_palette(220, 10, as_cmap=True),\n",
    "    vmin=-1.0, vmax=1.0,\n",
    "    square=True, ax=ax)\n",
    "ax.set_title('UNFAM')"
   ]
  },
  {
   "cell_type": "markdown",
   "metadata": {},
   "source": [
    "# Calculate relative density"
   ]
  },
  {
   "cell_type": "code",
   "execution_count": null,
   "metadata": {
    "ExecuteTime": {
     "end_time": "2024-01-12T14:00:05.596022Z",
     "start_time": "2024-01-12T14:00:05.479466Z"
    }
   },
   "outputs": [],
   "source": [
    "df_control_rd, df_fam_rd, df_unfam_rd = \\\n",
    "ace.calculate_value_across_groups(experimental_groups, dict_results_across_mice, value='relative_density')"
   ]
  },
  {
   "cell_type": "code",
   "execution_count": null,
   "metadata": {
    "ExecuteTime": {
     "end_time": "2024-01-12T14:00:23.158442Z",
     "start_time": "2024-01-12T14:00:05.610948Z"
    }
   },
   "outputs": [],
   "source": [
    "df_ttest_rd = ace.test_across_groups([df_control_rd,df_fam_rd,df_unfam_rd])"
   ]
  },
  {
   "cell_type": "code",
   "execution_count": null,
   "metadata": {
    "ExecuteTime": {
     "end_time": "2024-01-12T14:00:23.217378Z",
     "start_time": "2024-01-12T14:00:23.175304Z"
    }
   },
   "outputs": [],
   "source": [
    "# remove rows corresponding to area that have zero cell count across all experimental groups\n",
    "df_ttest_not_null_rd = df_ttest_rd.dropna(axis=0,\n",
    "                                   how='all',\n",
    "                                   subset=['pval_Control_vs_Fam',\n",
    "                                          'pval_Control_vs_Unfam',\n",
    "                                          'pval_Fam_vs_Unfam'])"
   ]
  },
  {
   "cell_type": "code",
   "execution_count": null,
   "metadata": {
    "ExecuteTime": {
     "end_time": "2024-01-12T14:00:23.332310Z",
     "start_time": "2024-01-12T14:00:23.232309Z"
    }
   },
   "outputs": [],
   "source": [
    "# sort dataframe pvalues of control vs fam and pick the first 20\n",
    "df_ttest_not_null_rd.sort_values(by='pval_Control_vs_Fam')[['area', 'pval_Control_vs_Fam']][0:20].set_index('area')"
   ]
  },
  {
   "cell_type": "code",
   "execution_count": null,
   "metadata": {
    "ExecuteTime": {
     "end_time": "2024-01-12T14:00:23.449078Z",
     "start_time": "2024-01-12T14:00:23.349918Z"
    }
   },
   "outputs": [],
   "source": [
    "# sort dataframe pvalues of control vs fam and pick the first 20\n",
    "df_ttest_not_null_rd.sort_values(by='pval_Control_vs_Unfam')[['area', 'pval_Control_vs_Unfam']][0:20].set_index('area')"
   ]
  },
  {
   "cell_type": "code",
   "execution_count": null,
   "metadata": {
    "ExecuteTime": {
     "end_time": "2024-01-12T14:00:23.566361Z",
     "start_time": "2024-01-12T14:00:23.466000Z"
    }
   },
   "outputs": [],
   "source": [
    "# sort dataframe pvalues of control vs fam and pick the first 20\n",
    "df_ttest_not_null_rd.sort_values(by='pval_Fam_vs_Unfam')[['area', 'pval_Fam_vs_Unfam']][0:20].set_index('area')"
   ]
  },
  {
   "cell_type": "code",
   "execution_count": null,
   "metadata": {},
   "outputs": [],
   "source": []
  },
  {
   "cell_type": "code",
   "execution_count": null,
   "metadata": {},
   "outputs": [],
   "source": []
  },
  {
   "cell_type": "code",
   "execution_count": null,
   "metadata": {},
   "outputs": [],
   "source": []
  },
  {
   "cell_type": "code",
   "execution_count": null,
   "metadata": {},
   "outputs": [],
   "source": []
  },
  {
   "cell_type": "code",
   "execution_count": null,
   "metadata": {},
   "outputs": [],
   "source": []
  },
  {
   "cell_type": "code",
   "execution_count": null,
   "metadata": {},
   "outputs": [],
   "source": []
  },
  {
   "cell_type": "code",
   "execution_count": null,
   "metadata": {},
   "outputs": [],
   "source": []
  },
  {
   "cell_type": "code",
   "execution_count": null,
   "metadata": {},
   "outputs": [],
   "source": []
  },
  {
   "cell_type": "code",
   "execution_count": null,
   "metadata": {},
   "outputs": [],
   "source": []
  }
 ],
 "metadata": {
  "kernelspec": {
   "display_name": "Python 3",
   "language": "python",
   "name": "python3"
  },
  "language_info": {
   "codemirror_mode": {
    "name": "ipython",
    "version": 3
   },
   "file_extension": ".py",
   "mimetype": "text/x-python",
   "name": "python",
   "nbconvert_exporter": "python",
   "pygments_lexer": "ipython3",
   "version": "3.8.1"
  },
  "latex_envs": {
   "LaTeX_envs_menu_present": true,
   "autoclose": false,
   "autocomplete": true,
   "bibliofile": "biblio.bib",
   "cite_by": "apalike",
   "current_citInitial": 1,
   "eqLabelWithNumbers": true,
   "eqNumInitial": 1,
   "hotkeys": {
    "equation": "Ctrl-E",
    "itemize": "Ctrl-I"
   },
   "labels_anchors": false,
   "latex_user_defs": false,
   "report_style_numbering": false,
   "user_envs_cfg": false
  },
  "toc": {
   "nav_menu": {},
   "number_sections": true,
   "sideBar": true,
   "skip_h1_title": false,
   "title_cell": "Table of Contents",
   "title_sidebar": "Contents",
   "toc_cell": false,
   "toc_position": {},
   "toc_section_display": true,
   "toc_window_display": false
  },
  "varInspector": {
   "cols": {
    "lenName": 16,
    "lenType": 16,
    "lenVar": 40
   },
   "kernels_config": {
    "python": {
     "delete_cmd_postfix": "",
     "delete_cmd_prefix": "del ",
     "library": "var_list.py",
     "varRefreshCmd": "print(var_dic_list())"
    },
    "r": {
     "delete_cmd_postfix": ") ",
     "delete_cmd_prefix": "rm(",
     "library": "var_list.r",
     "varRefreshCmd": "cat(var_dic_list()) "
    }
   },
   "types_to_exclude": [
    "module",
    "function",
    "builtin_function_or_method",
    "instance",
    "_Feature"
   ],
   "window_display": false
  }
 },
 "nbformat": 4,
 "nbformat_minor": 4
}
