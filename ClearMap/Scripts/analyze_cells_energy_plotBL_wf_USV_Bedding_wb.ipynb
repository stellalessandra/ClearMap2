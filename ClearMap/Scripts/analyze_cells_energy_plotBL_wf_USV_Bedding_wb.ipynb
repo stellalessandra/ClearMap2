{
 "cells": [
  {
   "cell_type": "code",
   "execution_count": 1,
   "metadata": {
    "ExecuteTime": {
     "end_time": "2024-03-12T15:07:48.057326Z",
     "start_time": "2024-03-12T15:07:46.949014Z"
    }
   },
   "outputs": [],
   "source": [
    "# !pip install odfpy\n",
    "# !pip install seaborn\n",
    "import os\n",
    "import pandas as pd\n",
    "import seaborn as sns\n",
    "import matplotlib.pyplot as plt\n",
    "import yaml\n",
    "from yaml import Loader\n",
    "import numpy as np\n",
    "import analyze_cells_energy as ace\n",
    "import utils\n",
    "from scipy.stats import ttest_ind, mannwhitneyu\n",
    "import networkx as nx\n",
    "import matplotlib.pyplot as plt\n",
    "from scipy.stats import f_oneway, kruskal\n",
    "import utils_PLS as upls\n",
    "import scikit_posthocs as sp"
   ]
  },
  {
   "cell_type": "code",
   "execution_count": 2,
   "metadata": {
    "ExecuteTime": {
     "end_time": "2024-03-12T15:07:48.064514Z",
     "start_time": "2024-03-12T15:07:48.058885Z"
    }
   },
   "outputs": [],
   "source": [
    "root_directory = '/home/stella/Documents/Torino/projects/'\n",
    "experiment = 'SexualImprinting'\n",
    "experimental_group = 'BL_wf_USV_Bedding_wb'\n",
    "data_directory = root_directory + experiment + '/' \\\n",
    "                + experimental_group + '/'\n",
    "subjects = [name for name in os.listdir(data_directory) \\\n",
    "            if os.path.isdir(os.path.join(data_directory, name))]"
   ]
  },
  {
   "cell_type": "code",
   "execution_count": 3,
   "metadata": {
    "ExecuteTime": {
     "end_time": "2024-03-12T15:07:48.235000Z",
     "start_time": "2024-03-12T15:07:48.066171Z"
    }
   },
   "outputs": [],
   "source": [
    "# load query file where we added volumes for each area\n",
    "volumes = ace.clean_volumes_database()"
   ]
  },
  {
   "cell_type": "code",
   "execution_count": 4,
   "metadata": {
    "ExecuteTime": {
     "end_time": "2024-03-12T15:07:48.239036Z",
     "start_time": "2024-03-12T15:07:48.236291Z"
    }
   },
   "outputs": [],
   "source": [
    "def load_subject(subject, data_directory, threshold):\n",
    "    file_suffix = 'cells_' + str(threshold)\n",
    "    df_mouse = pd.read_csv(data_directory + subject + '/' + file_suffix + '.csv')\n",
    "    df_mouse = ace.reformat_df_mouse(df=df_mouse)\n",
    "    \n",
    "    return df_mouse"
   ]
  },
  {
   "cell_type": "code",
   "execution_count": 5,
   "metadata": {
    "ExecuteTime": {
     "end_time": "2024-03-12T15:07:48.243915Z",
     "start_time": "2024-03-12T15:07:48.240471Z"
    }
   },
   "outputs": [],
   "source": [
    "def print_results(experimental_groups, groups_df, area=None):\n",
    "    for i, df in zip(experimental_groups.keys(), groups_df):\n",
    "        print(i)\n",
    "        if area==None:\n",
    "            print(df.set_index('area').sum().to_string())\n",
    "        else:\n",
    "            print(df.set_index('area').loc[area].to_string())\n",
    "        print(' ')"
   ]
  },
  {
   "cell_type": "markdown",
   "metadata": {
    "ExecuteTime": {
     "end_time": "2023-04-03T11:25:09.047637Z",
     "start_time": "2023-04-03T11:25:09.031624Z"
    }
   },
   "source": [
    "# Analysis on Black with father Whole Brain USVs and Bedding"
   ]
  },
  {
   "cell_type": "code",
   "execution_count": 6,
   "metadata": {
    "ExecuteTime": {
     "end_time": "2024-03-12T15:07:48.249710Z",
     "start_time": "2024-03-12T15:07:48.247424Z"
    },
    "scrolled": true
   },
   "outputs": [],
   "source": [
    "# dict_results_across_mice = {subject: ace.calculate_cells_energy_per_level(\n",
    "#     df_mouse=load_subject(subject=subject, \n",
    "#                           data_directory=data_directory,\n",
    "#                           threshold=2500),\n",
    "#     vol=volumes,\n",
    "#     level=8) for subject in subjects}\n",
    "# np.save('dict_results/dict_results_across_mice_BL_wf_USV_Bedding_wb.npy', dict_results_across_mice)"
   ]
  },
  {
   "cell_type": "code",
   "execution_count": 7,
   "metadata": {
    "ExecuteTime": {
     "end_time": "2024-03-12T15:07:48.282399Z",
     "start_time": "2024-03-12T15:07:48.252672Z"
    }
   },
   "outputs": [],
   "source": [
    "dict_results_across_mice = np.load('dict_results/dict_results_across_mice_BL_wf_USV_Bedding_wb.npy', \n",
    "                                   allow_pickle=True).item()"
   ]
  },
  {
   "cell_type": "code",
   "execution_count": 8,
   "metadata": {
    "ExecuteTime": {
     "end_time": "2024-03-12T15:07:48.286104Z",
     "start_time": "2024-03-12T15:07:48.283931Z"
    }
   },
   "outputs": [],
   "source": [
    "subjects = list(dict_results_across_mice.keys())"
   ]
  },
  {
   "cell_type": "markdown",
   "metadata": {},
   "source": [
    "# List areas with null cell count"
   ]
  },
  {
   "cell_type": "code",
   "execution_count": 9,
   "metadata": {
    "ExecuteTime": {
     "end_time": "2024-03-12T15:07:48.324060Z",
     "start_time": "2024-03-12T15:07:48.287453Z"
    }
   },
   "outputs": [],
   "source": [
    "db_null_count = {subject: dict_results_across_mice[subject][\n",
    "    dict_results_across_mice[subject].n_cells == 0] for subject in subjects}"
   ]
  },
  {
   "cell_type": "markdown",
   "metadata": {},
   "source": [
    "# List areas with no volume"
   ]
  },
  {
   "cell_type": "code",
   "execution_count": 10,
   "metadata": {
    "ExecuteTime": {
     "end_time": "2024-03-12T15:07:48.348399Z",
     "start_time": "2024-03-12T15:07:48.325368Z"
    }
   },
   "outputs": [],
   "source": [
    "db_null_volume = {subject: dict_results_across_mice[subject][\n",
    "    dict_results_across_mice[subject]['energy'].isnull()] for subject in subjects}"
   ]
  },
  {
   "cell_type": "markdown",
   "metadata": {},
   "source": [
    "# Divide mice into experimental groups: FAM/UNFAM/CONTROL"
   ]
  },
  {
   "cell_type": "code",
   "execution_count": 11,
   "metadata": {
    "ExecuteTime": {
     "end_time": "2024-03-12T15:07:48.353659Z",
     "start_time": "2024-03-12T15:07:48.350189Z"
    }
   },
   "outputs": [],
   "source": [
    "experimental_groups = utils.divide_in_exp_groups(list_subjects=subjects,\n",
    "                                                group_labels=['Control',\n",
    "                                                       'USVC57',\n",
    "                                                       'USVBALB',\n",
    "                                                       'USVBALB_Bedding',\n",
    "                                                       'USVC57_Bedding',\n",
    "                                                       'Bedding'])"
   ]
  },
  {
   "cell_type": "markdown",
   "metadata": {},
   "source": [
    "# Calculate cell count across experimental groups"
   ]
  },
  {
   "cell_type": "code",
   "execution_count": 12,
   "metadata": {
    "ExecuteTime": {
     "end_time": "2024-03-12T15:07:48.388834Z",
     "start_time": "2024-03-12T15:07:48.355313Z"
    }
   },
   "outputs": [],
   "source": [
    "df_Control_cell_count, df_USVC57_cell_count, df_USVBALB_cell_count,\\\n",
    "df_USVBALB_Bedding_cell_count, df_USVC57_Bedding_cell_count, df_Bedding_cell_count = \\\n",
    "ace.calculate_value_across_groups(experimental_groups=experimental_groups, \n",
    "                              dict_results_across_mice=dict_results_across_mice, \n",
    "                              value='n_cells')\n",
    "groups_df = [df_Control_cell_count, df_USVC57_cell_count, df_USVBALB_cell_count,\\\n",
    "df_USVBALB_Bedding_cell_count, df_USVC57_Bedding_cell_count, df_Bedding_cell_count]"
   ]
  },
  {
   "cell_type": "markdown",
   "metadata": {},
   "source": [
    "# Look at cell count per area"
   ]
  },
  {
   "cell_type": "code",
   "execution_count": 13,
   "metadata": {
    "ExecuteTime": {
     "end_time": "2024-03-12T15:07:48.405075Z",
     "start_time": "2024-03-12T15:07:48.389922Z"
    }
   },
   "outputs": [
    {
     "name": "stdout",
     "output_type": "stream",
     "text": [
      "Control\n",
      "BL55Control    1799\n",
      "BL79Control     701\n",
      "BL69Control     515\n",
      "BL62Control     626\n",
      "BL74Control     418\n",
      "BL92Control     418\n",
      "BL85Control     334\n",
      " \n",
      "USVC57\n",
      "BL81USVC57     542\n",
      "BL73USVC57     985\n",
      "BL86USVC57     263\n",
      "BL67USVC57    1070\n",
      "BL56USVC57    1013\n",
      "BL93USVC57     479\n",
      "BL63USVC57     979\n",
      " \n",
      "USVBALB\n",
      "BL87USVBALB    1025\n",
      "BL61USVBALB     525\n",
      "BL80USVBALB     650\n",
      "BL68USVBALB    1336\n",
      "BL91USVBALB     327\n",
      "BL57USVBALB     553\n",
      "BL75USVBALB     640\n",
      " \n",
      "USVBALB_Bedding\n",
      "BL78USVBALB_Bedding     699\n",
      "BL58USVBALB_Bedding     479\n",
      "BL71USVBALB_Bedding     687\n",
      "BL88USVBALB_Bedding     539\n",
      "BL94USVBALB_Bedding     363\n",
      "BL64USVBALB_Bedding    1193\n",
      "BL84USVBALB_Bedding     805\n",
      " \n",
      "USVC57_Bedding\n",
      "BL77USVC57_Bedding     869\n",
      "BL59USVC57_Bedding    2096\n",
      "BL89USVC57_Bedding     502\n",
      "BL70USVC57_Bedding     927\n",
      "BL82USVC57_Bedding     544\n",
      "BL96USVC57_Bedding     469\n",
      "BL66USVC57_Bedding    1040\n",
      " \n",
      "Bedding\n",
      "BL95Bedding     293\n",
      "BL60Bedding    1172\n",
      "BL72Bedding     924\n",
      "BL83Bedding     439\n",
      "BL65Bedding     896\n",
      "BL76Bedding     212\n",
      "BL90Bedding     568\n",
      " \n"
     ]
    }
   ],
   "source": [
    "print_results(experimental_groups=experimental_groups,\n",
    "              groups_df=groups_df,\n",
    "             area='Inferior colliculus')"
   ]
  },
  {
   "cell_type": "markdown",
   "metadata": {},
   "source": [
    "# Calculate anova across groups"
   ]
  },
  {
   "cell_type": "code",
   "execution_count": 14,
   "metadata": {
    "ExecuteTime": {
     "end_time": "2024-03-12T15:07:48.409835Z",
     "start_time": "2024-03-12T15:07:48.406401Z"
    }
   },
   "outputs": [],
   "source": [
    "def boxplot(dfs, value):\n",
    "    df = pd.concat(dfs, ignore_index=True)\n",
    "\n",
    "    f, ax = plt.subplots(ncols=1, nrows=1, figsize=(5,5), sharey=True)\n",
    "    sns.boxplot(\n",
    "        data=df,\n",
    "        x=\"group\", y=value, palette=\"Accent\", ax=ax)\n",
    "    ax.set_xlabel('')\n",
    "    ax.tick_params(axis='x', labelrotation=90)\n"
   ]
  },
  {
   "cell_type": "code",
   "execution_count": 17,
   "metadata": {
    "ExecuteTime": {
     "end_time": "2024-03-12T15:16:22.208446Z",
     "start_time": "2024-03-12T15:16:19.943506Z"
    }
   },
   "outputs": [
    {
     "name": "stdout",
     "output_type": "stream",
     "text": [
      "n_cells\n",
      "KruskalResult(statistic=3.767916468913171, pvalue=0.5832902112739948)\n",
      "energy\n",
      "KruskalResult(statistic=12.354532510678695, pvalue=0.030239893209611072)\n",
      "density\n",
      "KruskalResult(statistic=11.333175130517304, pvalue=0.04515994893109083)\n",
      "relative_density\n",
      "KruskalResult(statistic=17.72899857617466, pvalue=0.003305941658094609)\n"
     ]
    },
    {
     "data": {
      "image/png": "[encoded data removed]",
      "text/plain": [
       "<Figure size 360x360 with 1 Axes>"
      ]
     },
     "metadata": {
      "needs_background": "light"
     },
     "output_type": "display_data"
    },
    {
     "data": {
      "image/png": "[encoded data removed]",
      "text/plain": [
       "<Figure size 360x360 with 1 Axes>"
      ]
     },
     "metadata": {
      "needs_background": "light"
     },
     "output_type": "display_data"
    },
    {
     "data": {
      "image/png": "[encoded data removed]",
      "text/plain": [
       "<Figure size 360x360 with 1 Axes>"
      ]
     },
     "metadata": {
      "needs_background": "light"
     },
     "output_type": "display_data"
    },
    {
     "data": {
      "image/png": "[encoded data removed]",
      "text/plain": [
       "<Figure size 360x360 with 1 Axes>"
      ]
     },
     "metadata": {
      "needs_background": "light"
     },
     "output_type": "display_data"
    }
   ],
   "source": [
    "for value in ['n_cells', 'energy', 'density', 'relative_density']:\n",
    "    boxplot(ace.create_dfs_across_groups(dictionary_results=dict_results_across_mice, \n",
    "        experimental_groups=experimental_groups, \n",
    "        value=value), value=value)\n",
    "    print(value)\n",
    "    dfs = ace.create_dfs_across_groups(dictionary_results=dict_results_across_mice, \n",
    "            experimental_groups=experimental_groups, \n",
    "            value=value)\n",
    "    \n",
    "    print(kruskal(*[dfs[key][value].to_numpy() for key in dfs.keys()]))"
   ]
  },
  {
   "cell_type": "code",
   "execution_count": 18,
   "metadata": {
    "ExecuteTime": {
     "end_time": "2024-03-12T15:16:57.731076Z",
     "start_time": "2024-03-12T15:16:25.950248Z"
    },
    "scrolled": true
   },
   "outputs": [],
   "source": [
    "sig_ncells = ace.kruskal_per_area(dictionary=dict_results_across_mice,\n",
    "                 value='n_cells', experimental_groups=experimental_groups)"
   ]
  },
  {
   "cell_type": "code",
   "execution_count": 92,
   "metadata": {
    "ExecuteTime": {
     "end_time": "2024-03-12T17:13:00.500855Z",
     "start_time": "2024-03-12T17:13:00.491764Z"
    }
   },
   "outputs": [
    {
     "data": {
      "text/plain": [
       "[('Control', 'USVC57_Bedding'),\n",
       " ('Bedding', 'USVBALB'),\n",
       " ('USVBALB', 'USVBALB_Bedding'),\n",
       " ('USVBALB', 'USVC57_Bedding')]"
      ]
     },
     "execution_count": 92,
     "metadata": {},
     "output_type": "execute_result"
    }
   ],
   "source": [
    "df = sig_ncells['Central linear nucleus raphe'][1]< 0.05\n",
    "lst = df.where(df).stack().index.to_list()\n",
    "b = [tuple(sorted(s)) for s in set(frozenset(i) for i in lst)]\n",
    "b"
   ]
  },
  {
   "cell_type": "code",
   "execution_count": 82,
   "metadata": {
    "ExecuteTime": {
     "end_time": "2024-03-12T16:58:17.134974Z",
     "start_time": "2024-03-12T16:58:17.131965Z"
    }
   },
   "outputs": [
    {
     "data": {
      "text/plain": [
       "[('Control', 'USVBALB_Bedding'),\n",
       " ('USVBALB_Bedding', 'USVC57'),\n",
       " ('USVC57', 'USVC57_Bedding'),\n",
       " ('Bedding', 'USVC57'),\n",
       " ('USVBALB', 'USVBALB_Bedding'),\n",
       " ('Bedding', 'USVBALB'),\n",
       " ('USVBALB', 'USVC57_Bedding')]"
      ]
     },
     "execution_count": 82,
     "metadata": {},
     "output_type": "execute_result"
    }
   ],
   "source": [
    "b"
   ]
  },
  {
   "cell_type": "code",
   "execution_count": 41,
   "metadata": {
    "ExecuteTime": {
     "end_time": "2024-03-12T16:19:31.901532Z",
     "start_time": "2024-03-12T16:19:31.891969Z"
    },
    "scrolled": false
   },
   "outputs": [
    {
     "name": "stdout",
     "output_type": "stream",
     "text": [
      "Infralimbic area\n",
      "Accessory olfactory bulb\n",
      "Cortical amygdalar area\n",
      "Piriform-amygdalar area\n",
      "Postpiriform transition area\n",
      "Basomedial amygdalar nucleus\n",
      "Posterior amygdalar nucleus\n",
      "Bed nucleus of the accessory olfactory tract\n",
      "Intercalated amygdalar nucleus\n",
      "Medial amygdalar nucleus\n",
      "Magnocellular nucleus\n",
      "Bed nuclei of the stria terminalis\n",
      "Suprageniculate nucleus\n",
      "Submedial nucleus of the thalamus\n",
      "Paraventricular hypothalamic nucleus\n",
      "Arcuate hypothalamic nucleus\n",
      "Anterodorsal preoptic nucleus\n",
      "Anteroventral preoptic nucleus\n",
      "Anteroventral periventricular nucleus\n",
      "Medial preoptic area\n",
      "Posterodorsal preoptic nucleus\n",
      "Parastrial nucleus\n",
      "Periventricular hypothalamic nucleus posterior part\n",
      "Periventricular hypothalamic nucleus preoptic part\n",
      "Supramammillary nucleus\n",
      "Tuberomammillary nucleus\n",
      "Medial preoptic nucleus\n",
      "Dorsal premammillary nucleus\n",
      "Ventral premammillary nucleus\n",
      "Ventromedial hypothalamic nucleus\n",
      "Lateral preoptic area\n",
      "Tuberal nucleus\n",
      "Lateral terminal nucleus of the accessory optic tract\n",
      "Interfascicular nucleus raphe\n",
      "Central linear nucleus raphe\n"
     ]
    }
   ],
   "source": [
    "for key in sig_ncells.keys():\n",
    "    print(key)"
   ]
  },
  {
   "cell_type": "code",
   "execution_count": 19,
   "metadata": {
    "ExecuteTime": {
     "end_time": "2024-03-12T15:17:30.067911Z",
     "start_time": "2024-03-12T15:17:00.487547Z"
    }
   },
   "outputs": [],
   "source": [
    "sig_energy = ace.kruskal_per_area(dictionary=dict_results_across_mice,\n",
    "                 value='energy', experimental_groups=experimental_groups)"
   ]
  },
  {
   "cell_type": "code",
   "execution_count": 20,
   "metadata": {
    "ExecuteTime": {
     "end_time": "2024-03-12T15:18:04.183641Z",
     "start_time": "2024-03-12T15:17:33.223997Z"
    },
    "scrolled": true
   },
   "outputs": [],
   "source": [
    "sig_density = ace.kruskal_per_area(dictionary=dict_results_across_mice,\n",
    "                 value='density', experimental_groups=experimental_groups)"
   ]
  },
  {
   "cell_type": "code",
   "execution_count": 21,
   "metadata": {
    "ExecuteTime": {
     "end_time": "2024-03-12T15:18:48.300131Z",
     "start_time": "2024-03-12T15:18:07.815314Z"
    }
   },
   "outputs": [],
   "source": [
    "sig_rel_density = ace.kruskal_per_area(dictionary=dict_results_across_mice,\n",
    "                 value='relative_density', experimental_groups=experimental_groups)"
   ]
  },
  {
   "cell_type": "code",
   "execution_count": 22,
   "metadata": {
    "ExecuteTime": {
     "end_time": "2024-03-12T15:18:53.148512Z",
     "start_time": "2024-03-12T15:18:53.145169Z"
    }
   },
   "outputs": [
    {
     "data": {
      "text/plain": [
       "(35, 30, 35, 37)"
      ]
     },
     "execution_count": 22,
     "metadata": {},
     "output_type": "execute_result"
    }
   ],
   "source": [
    "len(sig_ncells), len(sig_energy), len(sig_density), len(sig_rel_density)"
   ]
  },
  {
   "cell_type": "code",
   "execution_count": 23,
   "metadata": {
    "ExecuteTime": {
     "end_time": "2024-03-12T15:18:57.879131Z",
     "start_time": "2024-03-12T15:18:57.875989Z"
    }
   },
   "outputs": [
    {
     "data": {
      "text/plain": [
       "{'Bed nucleus of the accessory olfactory tract',\n",
       " 'Lateral terminal nucleus of the accessory optic tract',\n",
       " 'Paraventricular hypothalamic nucleus',\n",
       " 'Suprageniculate nucleus',\n",
       " 'Supramammillary nucleus'}"
      ]
     },
     "execution_count": 23,
     "metadata": {},
     "output_type": "execute_result"
    }
   ],
   "source": [
    "set(sig_ncells).difference(set(sig_energy))"
   ]
  },
  {
   "cell_type": "code",
   "execution_count": null,
   "metadata": {},
   "outputs": [],
   "source": []
  }
 ],
 "metadata": {
  "kernelspec": {
   "display_name": "Python 3",
   "language": "python",
   "name": "python3"
  },
  "language_info": {
   "codemirror_mode": {
    "name": "ipython",
    "version": 3
   },
   "file_extension": ".py",
   "mimetype": "text/x-python",
   "name": "python",
   "nbconvert_exporter": "python",
   "pygments_lexer": "ipython3",
   "version": "3.8.1"
  },
  "latex_envs": {
   "LaTeX_envs_menu_present": true,
   "autoclose": false,
   "autocomplete": true,
   "bibliofile": "biblio.bib",
   "cite_by": "apalike",
   "current_citInitial": 1,
   "eqLabelWithNumbers": true,
   "eqNumInitial": 1,
   "hotkeys": {
    "equation": "Ctrl-E",
    "itemize": "Ctrl-I"
   },
   "labels_anchors": false,
   "latex_user_defs": false,
   "report_style_numbering": false,
   "user_envs_cfg": false
  },
  "toc": {
   "nav_menu": {},
   "number_sections": true,
   "sideBar": true,
   "skip_h1_title": false,
   "title_cell": "Table of Contents",
   "title_sidebar": "Contents",
   "toc_cell": false,
   "toc_position": {},
   "toc_section_display": true,
   "toc_window_display": false
  },
  "varInspector": {
   "cols": {
    "lenName": 16,
    "lenType": 16,
    "lenVar": 40
   },
   "kernels_config": {
    "python": {
     "delete_cmd_postfix": "",
     "delete_cmd_prefix": "del ",
     "library": "var_list.py",
     "varRefreshCmd": "print(var_dic_list())"
    },
    "r": {
     "delete_cmd_postfix": ") ",
     "delete_cmd_prefix": "rm(",
     "library": "var_list.r",
     "varRefreshCmd": "cat(var_dic_list()) "
    }
   },
   "types_to_exclude": [
    "module",
    "function",
    "builtin_function_or_method",
    "instance",
    "_Feature"
   ],
   "window_display": false
  }
 },
 "nbformat": 4,
 "nbformat_minor": 4
}
