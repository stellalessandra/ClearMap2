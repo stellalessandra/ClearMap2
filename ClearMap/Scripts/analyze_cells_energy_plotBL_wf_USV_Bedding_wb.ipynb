{
 "cells": [
  {
   "cell_type": "code",
   "execution_count": 2,
   "metadata": {
    "ExecuteTime": {
     "end_time": "2024-02-14T09:11:46.265634Z",
     "start_time": "2024-02-14T09:11:45.434164Z"
    }
   },
   "outputs": [],
   "source": [
    "# !pip install odfpy\n",
    "# !pip install seaborn\n",
    "import os\n",
    "import pandas as pd\n",
    "import seaborn as sns\n",
    "import matplotlib.pyplot as plt\n",
    "import yaml\n",
    "from yaml import Loader\n",
    "import numpy as np\n",
    "import analyze_cells_energy as ace\n",
    "import utils\n",
    "from scipy.stats import ttest_ind, mannwhitneyu\n",
    "import networkx as nx\n",
    "import matplotlib.pyplot as plt"
   ]
  },
  {
   "cell_type": "code",
   "execution_count": 3,
   "metadata": {
    "ExecuteTime": {
     "end_time": "2024-02-14T09:11:46.280173Z",
     "start_time": "2024-02-14T09:11:46.276886Z"
    }
   },
   "outputs": [],
   "source": [
    "root_directory = '/home/stella/Documents/Torino/projects/'\n",
    "experiment = 'SexualImprinting'\n",
    "experimental_group = 'BL_wf_USV_Bedding_wb'\n",
    "data_directory = root_directory + experiment + '/' \\\n",
    "                + experimental_group + '/'\n",
    "subjects = [name for name in os.listdir(data_directory) \\\n",
    "            if os.path.isdir(os.path.join(data_directory, name))]"
   ]
  },
  {
   "cell_type": "code",
   "execution_count": 4,
   "metadata": {
    "ExecuteTime": {
     "end_time": "2024-02-14T09:11:46.441682Z",
     "start_time": "2024-02-14T09:11:46.291175Z"
    }
   },
   "outputs": [],
   "source": [
    "# load query file where we added volumes for each area\n",
    "volumes = ace.clean_volumes_database()"
   ]
  },
  {
   "cell_type": "code",
   "execution_count": 5,
   "metadata": {
    "ExecuteTime": {
     "end_time": "2024-02-14T09:11:46.489196Z",
     "start_time": "2024-02-14T09:11:46.485679Z"
    }
   },
   "outputs": [],
   "source": [
    "def load_subject(subject, data_directory, threshold):\n",
    "    file_suffix = 'cells_' + str(threshold)\n",
    "    df_mouse = pd.read_csv(data_directory + subject + '/' + file_suffix + '.csv')\n",
    "    df_mouse = ace.reformat_df_mouse(df=df_mouse)\n",
    "    \n",
    "    return df_mouse"
   ]
  },
  {
   "cell_type": "code",
   "execution_count": 6,
   "metadata": {
    "ExecuteTime": {
     "end_time": "2024-02-14T09:11:46.531014Z",
     "start_time": "2024-02-14T09:11:46.527973Z"
    }
   },
   "outputs": [],
   "source": [
    "def print_results(experimental_groups, groups_df, area=None):\n",
    "    for i, df in zip(experimental_groups.keys(), groups_df):\n",
    "        print(i)\n",
    "        if area==None:\n",
    "            print(df.set_index('area').sum().to_string())\n",
    "        else:\n",
    "            print(df.set_index('area').loc[area].to_string())\n",
    "        print(' ')"
   ]
  },
  {
   "cell_type": "markdown",
   "metadata": {
    "ExecuteTime": {
     "end_time": "2023-04-03T11:25:09.047637Z",
     "start_time": "2023-04-03T11:25:09.031624Z"
    }
   },
   "source": [
    "# Analysis on Black with father Whole Brain USVs and Bedding"
   ]
  },
  {
   "cell_type": "code",
   "execution_count": 7,
   "metadata": {
    "ExecuteTime": {
     "end_time": "2024-02-14T09:11:46.574101Z",
     "start_time": "2024-02-14T09:11:46.572228Z"
    }
   },
   "outputs": [],
   "source": [
    "# dict_results_across_mice = {subject: ace.calculate_cells_energy_per_level(\n",
    "#     df_mouse=load_subject(subject=subject, \n",
    "#                           data_directory=data_directory,\n",
    "#                           threshold=2500), \n",
    "#                                                                          vol=volumes, \n",
    "#                                                                          level=8) for subject in subjects}\n",
    "# np.save('dict_results/dict_results_across_mice_BL_wf_USV_Bedding_wb.npy', dict_results_across_mice)"
   ]
  },
  {
   "cell_type": "code",
   "execution_count": 8,
   "metadata": {
    "ExecuteTime": {
     "end_time": "2024-02-14T09:11:46.642870Z",
     "start_time": "2024-02-14T09:11:46.620202Z"
    }
   },
   "outputs": [],
   "source": [
    "dict_results_across_mice = np.load('dict_results/dict_results_across_mice_BL_wf_USV_Bedding_wb.npy', \n",
    "                                   allow_pickle=True).item()"
   ]
  },
  {
   "cell_type": "code",
   "execution_count": 9,
   "metadata": {
    "ExecuteTime": {
     "end_time": "2024-02-14T09:11:46.901887Z",
     "start_time": "2024-02-14T09:11:46.899626Z"
    }
   },
   "outputs": [],
   "source": [
    "subjects = list(dict_results_across_mice.keys())"
   ]
  },
  {
   "cell_type": "markdown",
   "metadata": {},
   "source": [
    "# List areas with null cell count"
   ]
  },
  {
   "cell_type": "code",
   "execution_count": 10,
   "metadata": {
    "ExecuteTime": {
     "end_time": "2024-02-14T09:11:47.177273Z",
     "start_time": "2024-02-14T09:11:47.155133Z"
    }
   },
   "outputs": [],
   "source": [
    "db_null_count = {subject: dict_results_across_mice[subject][\n",
    "    dict_results_across_mice[subject].n_cells == 0] for subject in subjects}"
   ]
  },
  {
   "cell_type": "markdown",
   "metadata": {},
   "source": [
    "# List areas with no volume"
   ]
  },
  {
   "cell_type": "code",
   "execution_count": 11,
   "metadata": {
    "ExecuteTime": {
     "end_time": "2024-02-14T09:11:47.620182Z",
     "start_time": "2024-02-14T09:11:47.606343Z"
    }
   },
   "outputs": [],
   "source": [
    "db_null_volume = {subject: dict_results_across_mice[subject][\n",
    "    dict_results_across_mice[subject]['energy'].isnull()] for subject in subjects}"
   ]
  },
  {
   "cell_type": "markdown",
   "metadata": {},
   "source": [
    "# Divide mice into experimental groups: FAM/UNFAM/CONTROL"
   ]
  },
  {
   "cell_type": "code",
   "execution_count": 12,
   "metadata": {
    "ExecuteTime": {
     "end_time": "2024-02-14T09:11:48.176014Z",
     "start_time": "2024-02-14T09:11:48.170342Z"
    }
   },
   "outputs": [
    {
     "data": {
      "text/plain": [
       "{'Control': ['BL55Control',\n",
       "  'BL79Control',\n",
       "  'BL69Control',\n",
       "  'BL62Control',\n",
       "  'BL74Control'],\n",
       " 'USVC57': ['BL81USVC57',\n",
       "  'BL73USVC57',\n",
       "  'BL67USVC57',\n",
       "  'BL56USVC57',\n",
       "  'BL63USVC57'],\n",
       " 'USVBALB': ['BL61USVBALB',\n",
       "  'BL80USVBALB',\n",
       "  'BL68USVBALB',\n",
       "  'BL57USVBALB',\n",
       "  'BL75USVBALB'],\n",
       " 'USVBALB_Bedding': ['BL78USVBALB_Bedding',\n",
       "  'BL58USVBALB_Bedding',\n",
       "  'BL71USVBALB_Bedding',\n",
       "  'BL64USVBALB_Bedding',\n",
       "  'BL84USVBALB_Bedding'],\n",
       " 'USVC57_Bedding': ['BL77USVC57_Bedding',\n",
       "  'BL59USVC57_Bedding',\n",
       "  'BL70USVC57_Bedding',\n",
       "  'BL82USVC57_Bedding',\n",
       "  'BL66USVC57_Bedding'],\n",
       " 'Bedding': ['BL60Bedding',\n",
       "  'BL72Bedding',\n",
       "  'BL83Bedding',\n",
       "  'BL65Bedding',\n",
       "  'BL76Bedding']}"
      ]
     },
     "execution_count": 12,
     "metadata": {},
     "output_type": "execute_result"
    }
   ],
   "source": [
    "experimental_groups = utils.divide_in_exp_groups(list_subjects=subjects,\n",
    "                                                group_labels=['Control',\n",
    "                                                       'USVC57',\n",
    "                                                       'USVBALB',\n",
    "                                                       'USVBALB_Bedding',\n",
    "                                                       'USVC57_Bedding',\n",
    "                                                       'Bedding'])\n",
    "experimental_groups"
   ]
  },
  {
   "cell_type": "markdown",
   "metadata": {},
   "source": [
    "# Calculate cell count across experimental groups"
   ]
  },
  {
   "cell_type": "code",
   "execution_count": 13,
   "metadata": {
    "ExecuteTime": {
     "end_time": "2024-02-14T09:11:48.721185Z",
     "start_time": "2024-02-14T09:11:48.700432Z"
    }
   },
   "outputs": [],
   "source": [
    "df_Control_cell_count, df_USVC57_cell_count, df_USVBALB_cell_count,\\\n",
    "df_USVBALB_Bedding_cell_count, df_USVC57_Bedding_cell_count, df_Bedding_cell_count = \\\n",
    "ace.calculate_value_across_groups(experimental_groups=experimental_groups, \n",
    "                              dict_results_across_mice=dict_results_across_mice, \n",
    "                              value='n_cells')\n",
    "groups_df = [df_Control_cell_count, df_USVC57_cell_count, df_USVBALB_cell_count,\\\n",
    "df_USVBALB_Bedding_cell_count, df_USVC57_Bedding_cell_count, df_Bedding_cell_count]"
   ]
  },
  {
   "cell_type": "code",
   "execution_count": 14,
   "metadata": {
    "ExecuteTime": {
     "end_time": "2024-02-14T09:11:49.361163Z",
     "start_time": "2024-02-14T09:11:49.349498Z"
    }
   },
   "outputs": [
    {
     "name": "stdout",
     "output_type": "stream",
     "text": [
      "Control\n",
      "BL55Control    217841\n",
      "BL79Control    137308\n",
      "BL69Control    127369\n",
      "BL62Control     73044\n",
      "BL74Control    136898\n",
      " \n",
      "USVC57\n",
      "BL81USVC57     79021\n",
      "BL73USVC57    155085\n",
      "BL67USVC57    150832\n",
      "BL56USVC57    138517\n",
      "BL63USVC57    173128\n",
      " \n",
      "USVBALB\n",
      "BL61USVBALB     65856\n",
      "BL80USVBALB    101695\n",
      "BL68USVBALB    188648\n",
      "BL57USVBALB    149626\n",
      "BL75USVBALB    148906\n",
      " \n",
      "USVBALB_Bedding\n",
      "BL78USVBALB_Bedding    150121\n",
      "BL58USVBALB_Bedding    180282\n",
      "BL71USVBALB_Bedding    157923\n",
      "BL64USVBALB_Bedding    159550\n",
      "BL84USVBALB_Bedding    171060\n",
      " \n",
      "USVC57_Bedding\n",
      "BL77USVC57_Bedding    129170\n",
      "BL59USVC57_Bedding    276063\n",
      "BL70USVC57_Bedding    175941\n",
      "BL82USVC57_Bedding    198354\n",
      "BL66USVC57_Bedding    134469\n",
      " \n",
      "Bedding\n",
      "BL60Bedding    183583\n",
      "BL72Bedding    228225\n",
      "BL83Bedding     93141\n",
      "BL65Bedding     93964\n",
      "BL76Bedding     24701\n",
      " \n"
     ]
    }
   ],
   "source": [
    "print_results(experimental_groups=experimental_groups,\n",
    "              groups_df=groups_df)"
   ]
  },
  {
   "cell_type": "code",
   "execution_count": 15,
   "metadata": {
    "ExecuteTime": {
     "end_time": "2024-02-14T09:11:49.993856Z",
     "start_time": "2024-02-14T09:11:49.988849Z"
    }
   },
   "outputs": [
    {
     "data": {
      "text/plain": [
       "BL77USVC57_Bedding    129170\n",
       "BL59USVC57_Bedding    276063\n",
       "BL70USVC57_Bedding    175941\n",
       "BL82USVC57_Bedding    198354\n",
       "BL66USVC57_Bedding    134469\n",
       "dtype: int64"
      ]
     },
     "execution_count": 15,
     "metadata": {},
     "output_type": "execute_result"
    }
   ],
   "source": [
    "df_USVC57_Bedding_cell_count.set_index('area').sum()"
   ]
  },
  {
   "cell_type": "code",
   "execution_count": 16,
   "metadata": {
    "ExecuteTime": {
     "end_time": "2024-02-14T09:11:50.594349Z",
     "start_time": "2024-02-14T09:11:50.589556Z"
    }
   },
   "outputs": [
    {
     "data": {
      "text/plain": [
       "BL60Bedding    183583\n",
       "BL72Bedding    228225\n",
       "BL83Bedding     93141\n",
       "BL65Bedding     93964\n",
       "BL76Bedding     24701\n",
       "dtype: int64"
      ]
     },
     "execution_count": 16,
     "metadata": {},
     "output_type": "execute_result"
    }
   ],
   "source": [
    "df_Bedding_cell_count.set_index('area').sum()"
   ]
  },
  {
   "cell_type": "markdown",
   "metadata": {},
   "source": [
    "# Look at cell count per area"
   ]
  },
  {
   "cell_type": "code",
   "execution_count": 17,
   "metadata": {
    "ExecuteTime": {
     "end_time": "2024-02-14T09:11:51.187525Z",
     "start_time": "2024-02-14T09:11:51.175887Z"
    }
   },
   "outputs": [
    {
     "name": "stdout",
     "output_type": "stream",
     "text": [
      "Control\n",
      "BL55Control    1799\n",
      "BL79Control     701\n",
      "BL69Control     515\n",
      "BL62Control     626\n",
      "BL74Control     418\n",
      " \n",
      "USVC57\n",
      "BL81USVC57     542\n",
      "BL73USVC57     985\n",
      "BL67USVC57    1070\n",
      "BL56USVC57    1013\n",
      "BL63USVC57     979\n",
      " \n",
      "USVBALB\n",
      "BL61USVBALB     525\n",
      "BL80USVBALB     650\n",
      "BL68USVBALB    1336\n",
      "BL57USVBALB     553\n",
      "BL75USVBALB     640\n",
      " \n",
      "USVBALB_Bedding\n",
      "BL78USVBALB_Bedding     699\n",
      "BL58USVBALB_Bedding     479\n",
      "BL71USVBALB_Bedding     687\n",
      "BL64USVBALB_Bedding    1193\n",
      "BL84USVBALB_Bedding     805\n",
      " \n",
      "USVC57_Bedding\n",
      "BL77USVC57_Bedding     869\n",
      "BL59USVC57_Bedding    2096\n",
      "BL70USVC57_Bedding     927\n",
      "BL82USVC57_Bedding     544\n",
      "BL66USVC57_Bedding    1040\n",
      " \n",
      "Bedding\n",
      "BL60Bedding    1172\n",
      "BL72Bedding     924\n",
      "BL83Bedding     439\n",
      "BL65Bedding     896\n",
      "BL76Bedding     212\n",
      " \n"
     ]
    }
   ],
   "source": [
    "print_results(experimental_groups=experimental_groups,\n",
    "              groups_df=groups_df,\n",
    "             area='Inferior colliculus')"
   ]
  },
  {
   "cell_type": "markdown",
   "metadata": {
    "ExecuteTime": {
     "end_time": "2024-01-23T09:43:40.727464Z",
     "start_time": "2024-01-23T09:43:40.724386Z"
    }
   },
   "source": [
    "## AUDITORY"
   ]
  },
  {
   "cell_type": "code",
   "execution_count": 18,
   "metadata": {
    "ExecuteTime": {
     "end_time": "2024-02-14T09:11:51.794511Z",
     "start_time": "2024-02-14T09:11:51.783677Z"
    }
   },
   "outputs": [
    {
     "name": "stdout",
     "output_type": "stream",
     "text": [
      "Control\n",
      "BL55Control    197\n",
      "BL79Control    380\n",
      "BL69Control     68\n",
      "BL62Control     92\n",
      "BL74Control     86\n",
      " \n",
      "USVC57\n",
      "BL81USVC57     72\n",
      "BL73USVC57    128\n",
      "BL67USVC57     24\n",
      "BL56USVC57    178\n",
      "BL63USVC57    236\n",
      " \n",
      "USVBALB\n",
      "BL61USVBALB    111\n",
      "BL80USVBALB    111\n",
      "BL68USVBALB    109\n",
      "BL57USVBALB    120\n",
      "BL75USVBALB     68\n",
      " \n",
      "USVBALB_Bedding\n",
      "BL78USVBALB_Bedding    146\n",
      "BL58USVBALB_Bedding    199\n",
      "BL71USVBALB_Bedding    222\n",
      "BL64USVBALB_Bedding    216\n",
      "BL84USVBALB_Bedding    186\n",
      " \n",
      "USVC57_Bedding\n",
      "BL77USVC57_Bedding    190\n",
      "BL59USVC57_Bedding    277\n",
      "BL70USVC57_Bedding    132\n",
      "BL82USVC57_Bedding    165\n",
      "BL66USVC57_Bedding    195\n",
      " \n",
      "Bedding\n",
      "BL60Bedding    112\n",
      "BL72Bedding    124\n",
      "BL83Bedding    176\n",
      "BL65Bedding    202\n",
      "BL76Bedding     87\n",
      " \n"
     ]
    }
   ],
   "source": [
    "print_results(experimental_groups=experimental_groups,\n",
    "              groups_df=groups_df,\n",
    "             area='Supramammillary nucleus')"
   ]
  },
  {
   "cell_type": "code",
   "execution_count": 19,
   "metadata": {
    "ExecuteTime": {
     "end_time": "2024-02-14T09:11:52.432858Z",
     "start_time": "2024-02-14T09:11:52.421491Z"
    }
   },
   "outputs": [
    {
     "name": "stdout",
     "output_type": "stream",
     "text": [
      "Control\n",
      "BL55Control    483\n",
      "BL79Control    347\n",
      "BL69Control    245\n",
      "BL62Control    189\n",
      "BL74Control    216\n",
      " \n",
      "USVC57\n",
      "BL81USVC57    122\n",
      "BL73USVC57    303\n",
      "BL67USVC57    427\n",
      "BL56USVC57    434\n",
      "BL63USVC57    530\n",
      " \n",
      "USVBALB\n",
      "BL61USVBALB    180\n",
      "BL80USVBALB    243\n",
      "BL68USVBALB    321\n",
      "BL57USVBALB    672\n",
      "BL75USVBALB    472\n",
      " \n",
      "USVBALB_Bedding\n",
      "BL78USVBALB_Bedding    188\n",
      "BL58USVBALB_Bedding    320\n",
      "BL71USVBALB_Bedding    196\n",
      "BL64USVBALB_Bedding    290\n",
      "BL84USVBALB_Bedding    371\n",
      " \n",
      "USVC57_Bedding\n",
      "BL77USVC57_Bedding    176\n",
      "BL59USVC57_Bedding    907\n",
      "BL70USVC57_Bedding    432\n",
      "BL82USVC57_Bedding    336\n",
      "BL66USVC57_Bedding    236\n",
      " \n",
      "Bedding\n",
      "BL60Bedding    247\n",
      "BL72Bedding    817\n",
      "BL83Bedding     72\n",
      "BL65Bedding     69\n",
      "BL76Bedding     13\n",
      " \n"
     ]
    }
   ],
   "source": [
    "print_results(experimental_groups=experimental_groups,\n",
    "              groups_df=groups_df,\n",
    "             area='Primary auditory area')"
   ]
  },
  {
   "cell_type": "code",
   "execution_count": 20,
   "metadata": {
    "ExecuteTime": {
     "end_time": "2024-02-14T09:11:53.027141Z",
     "start_time": "2024-02-14T09:11:53.015903Z"
    }
   },
   "outputs": [
    {
     "name": "stdout",
     "output_type": "stream",
     "text": [
      "Control\n",
      "BL55Control    242\n",
      "BL79Control    247\n",
      "BL69Control    103\n",
      "BL62Control     88\n",
      "BL74Control    110\n",
      " \n",
      "USVC57\n",
      "BL81USVC57     98\n",
      "BL73USVC57    211\n",
      "BL67USVC57    217\n",
      "BL56USVC57    318\n",
      "BL63USVC57    187\n",
      " \n",
      "USVBALB\n",
      "BL61USVBALB     30\n",
      "BL80USVBALB    115\n",
      "BL68USVBALB    136\n",
      "BL57USVBALB    440\n",
      "BL75USVBALB    309\n",
      " \n",
      "USVBALB_Bedding\n",
      "BL78USVBALB_Bedding    127\n",
      "BL58USVBALB_Bedding    198\n",
      "BL71USVBALB_Bedding    169\n",
      "BL64USVBALB_Bedding    107\n",
      "BL84USVBALB_Bedding    163\n",
      " \n",
      "USVC57_Bedding\n",
      "BL77USVC57_Bedding     93\n",
      "BL59USVC57_Bedding    655\n",
      "BL70USVC57_Bedding    320\n",
      "BL82USVC57_Bedding    288\n",
      "BL66USVC57_Bedding    106\n",
      " \n",
      "Bedding\n",
      "BL60Bedding    145\n",
      "BL72Bedding    588\n",
      "BL83Bedding     29\n",
      "BL65Bedding     25\n",
      "BL76Bedding      2\n",
      " \n"
     ]
    }
   ],
   "source": [
    "print_results(experimental_groups=experimental_groups,\n",
    "              groups_df=groups_df,\n",
    "             area='Dorsal auditory area')"
   ]
  },
  {
   "cell_type": "code",
   "execution_count": 21,
   "metadata": {
    "ExecuteTime": {
     "end_time": "2024-02-14T09:11:53.643924Z",
     "start_time": "2024-02-14T09:11:53.634930Z"
    }
   },
   "outputs": [
    {
     "name": "stdout",
     "output_type": "stream",
     "text": [
      "Control\n",
      "BL55Control    695\n",
      "BL79Control    415\n",
      "BL69Control    305\n",
      "BL62Control    181\n",
      "BL74Control    288\n",
      " \n",
      "USVC57\n",
      "BL81USVC57    259\n",
      "BL73USVC57    451\n",
      "BL67USVC57    498\n",
      "BL56USVC57    527\n",
      "BL63USVC57    655\n",
      " \n",
      "USVBALB\n",
      "BL61USVBALB    182\n",
      "BL80USVBALB    332\n",
      "BL68USVBALB    577\n",
      "BL57USVBALB    685\n",
      "BL75USVBALB    533\n",
      " \n",
      "USVBALB_Bedding\n",
      "BL78USVBALB_Bedding    236\n",
      "BL58USVBALB_Bedding    327\n",
      "BL71USVBALB_Bedding    286\n",
      "BL64USVBALB_Bedding    556\n",
      "BL84USVBALB_Bedding    609\n",
      " \n",
      "USVC57_Bedding\n",
      "BL77USVC57_Bedding     302\n",
      "BL59USVC57_Bedding    1091\n",
      "BL70USVC57_Bedding     514\n",
      "BL82USVC57_Bedding     521\n",
      "BL66USVC57_Bedding     365\n",
      " \n",
      "Bedding\n",
      "BL60Bedding    359\n",
      "BL72Bedding    952\n",
      "BL83Bedding    118\n",
      "BL65Bedding    116\n",
      "BL76Bedding     10\n",
      " \n"
     ]
    }
   ],
   "source": [
    "print_results(experimental_groups=experimental_groups,\n",
    "              groups_df=groups_df,\n",
    "             area='Ventral auditory area')"
   ]
  },
  {
   "cell_type": "markdown",
   "metadata": {},
   "source": [
    "## VENTRAL"
   ]
  },
  {
   "cell_type": "code",
   "execution_count": 22,
   "metadata": {
    "ExecuteTime": {
     "end_time": "2024-02-14T09:11:54.257887Z",
     "start_time": "2024-02-14T09:11:54.247447Z"
    }
   },
   "outputs": [
    {
     "name": "stdout",
     "output_type": "stream",
     "text": [
      "Control\n",
      "BL55Control    13\n",
      "BL79Control    43\n",
      "BL69Control     1\n",
      "BL62Control     7\n",
      "BL74Control     3\n",
      " \n",
      "USVC57\n",
      "BL81USVC57     3\n",
      "BL73USVC57    30\n",
      "BL67USVC57     3\n",
      "BL56USVC57    11\n",
      "BL63USVC57    13\n",
      " \n",
      "USVBALB\n",
      "BL61USVBALB    13\n",
      "BL80USVBALB    18\n",
      "BL68USVBALB     6\n",
      "BL57USVBALB     4\n",
      "BL75USVBALB     5\n",
      " \n",
      "USVBALB_Bedding\n",
      "BL78USVBALB_Bedding    354\n",
      "BL58USVBALB_Bedding    421\n",
      "BL71USVBALB_Bedding    395\n",
      "BL64USVBALB_Bedding    305\n",
      "BL84USVBALB_Bedding    237\n",
      " \n",
      "USVC57_Bedding\n",
      "BL77USVC57_Bedding    377\n",
      "BL59USVC57_Bedding    399\n",
      "BL70USVC57_Bedding    389\n",
      "BL82USVC57_Bedding    313\n",
      "BL66USVC57_Bedding    453\n",
      " \n",
      "Bedding\n",
      "BL60Bedding    332\n",
      "BL72Bedding    406\n",
      "BL83Bedding    306\n",
      "BL65Bedding    353\n",
      "BL76Bedding     43\n",
      " \n"
     ]
    }
   ],
   "source": [
    "print_results(experimental_groups=experimental_groups,\n",
    "              groups_df=groups_df,\n",
    "             area='Ventral premammillary nucleus')"
   ]
  },
  {
   "cell_type": "markdown",
   "metadata": {},
   "source": [
    "## MAIN"
   ]
  },
  {
   "cell_type": "code",
   "execution_count": 23,
   "metadata": {
    "ExecuteTime": {
     "end_time": "2024-02-14T09:11:54.878116Z",
     "start_time": "2024-02-14T09:11:54.866362Z"
    }
   },
   "outputs": [
    {
     "name": "stdout",
     "output_type": "stream",
     "text": [
      "Control\n",
      "BL55Control    7370\n",
      "BL79Control    5444\n",
      "BL69Control    4894\n",
      "BL62Control    5730\n",
      "BL74Control    6164\n",
      " \n",
      "USVC57\n",
      "BL81USVC57     1839\n",
      "BL73USVC57    12464\n",
      "BL67USVC57    12178\n",
      "BL56USVC57     8581\n",
      "BL63USVC57    18060\n",
      " \n",
      "USVBALB\n",
      "BL61USVBALB    3000\n",
      "BL80USVBALB    6390\n",
      "BL68USVBALB    9323\n",
      "BL57USVBALB    5431\n",
      "BL75USVBALB    6255\n",
      " \n",
      "USVBALB_Bedding\n",
      "BL78USVBALB_Bedding     7214\n",
      "BL58USVBALB_Bedding    15102\n",
      "BL71USVBALB_Bedding    16596\n",
      "BL64USVBALB_Bedding    12797\n",
      "BL84USVBALB_Bedding    12387\n",
      " \n",
      "USVC57_Bedding\n",
      "BL77USVC57_Bedding     5799\n",
      "BL59USVC57_Bedding    21364\n",
      "BL70USVC57_Bedding    10252\n",
      "BL82USVC57_Bedding    12435\n",
      "BL66USVC57_Bedding    10572\n",
      " \n",
      "Bedding\n",
      "BL60Bedding    14516\n",
      "BL72Bedding    16254\n",
      "BL83Bedding     8800\n",
      "BL65Bedding     2688\n",
      "BL76Bedding     2202\n",
      " \n"
     ]
    }
   ],
   "source": [
    "print_results(experimental_groups=experimental_groups,\n",
    "              groups_df=groups_df,\n",
    "             area='Main olfactory bulb')"
   ]
  },
  {
   "cell_type": "markdown",
   "metadata": {},
   "source": [
    "## AOB"
   ]
  },
  {
   "cell_type": "code",
   "execution_count": 24,
   "metadata": {
    "ExecuteTime": {
     "end_time": "2024-02-14T09:11:55.528979Z",
     "start_time": "2024-02-14T09:11:55.517786Z"
    }
   },
   "outputs": [
    {
     "name": "stdout",
     "output_type": "stream",
     "text": [
      "Control\n",
      "BL55Control    164\n",
      "BL79Control    131\n",
      "BL69Control    142\n",
      "BL62Control     88\n",
      "BL74Control     83\n",
      " \n",
      "USVC57\n",
      "BL81USVC57     27\n",
      "BL73USVC57     80\n",
      "BL67USVC57     83\n",
      "BL56USVC57    124\n",
      "BL63USVC57    160\n",
      " \n",
      "USVBALB\n",
      "BL61USVBALB     63\n",
      "BL80USVBALB     44\n",
      "BL68USVBALB     51\n",
      "BL57USVBALB    184\n",
      "BL75USVBALB     81\n",
      " \n",
      "USVBALB_Bedding\n",
      "BL78USVBALB_Bedding    1339\n",
      "BL58USVBALB_Bedding    2065\n",
      "BL71USVBALB_Bedding    1989\n",
      "BL64USVBALB_Bedding    2902\n",
      "BL84USVBALB_Bedding    1636\n",
      " \n",
      "USVC57_Bedding\n",
      "BL77USVC57_Bedding    1900\n",
      "BL59USVC57_Bedding    2633\n",
      "BL70USVC57_Bedding    2718\n",
      "BL82USVC57_Bedding    2442\n",
      "BL66USVC57_Bedding    2362\n",
      " \n",
      "Bedding\n",
      "BL60Bedding    1695\n",
      "BL72Bedding    1936\n",
      "BL83Bedding    1149\n",
      "BL65Bedding     696\n",
      "BL76Bedding     654\n",
      " \n"
     ]
    }
   ],
   "source": [
    "print_results(experimental_groups=experimental_groups,\n",
    "              groups_df=groups_df,\n",
    "             area='Accessory olfactory bulb')"
   ]
  },
  {
   "cell_type": "markdown",
   "metadata": {},
   "source": [
    "## Calculate t-tests across groups per area"
   ]
  },
  {
   "cell_type": "code",
   "execution_count": 25,
   "metadata": {
    "ExecuteTime": {
     "end_time": "2024-02-14T09:11:56.236197Z",
     "start_time": "2024-02-14T09:11:56.156008Z"
    }
   },
   "outputs": [
    {
     "ename": "NameError",
     "evalue": "name 'df_control_cell_count' is not defined",
     "output_type": "error",
     "traceback": [
      "\u001b[0;31m---------------------------------------------------------------------------\u001b[0m",
      "\u001b[0;31mNameError\u001b[0m                                 Traceback (most recent call last)",
      "\u001b[0;32m<ipython-input-25-617c2d8b1738>\u001b[0m in \u001b[0;36m<module>\u001b[0;34m\u001b[0m\n\u001b[0;32m----> 1\u001b[0;31m \u001b[0mdf_ttest_ncells\u001b[0m \u001b[0;34m=\u001b[0m \u001b[0mace\u001b[0m\u001b[0;34m.\u001b[0m\u001b[0mtest_across_groups\u001b[0m\u001b[0;34m(\u001b[0m\u001b[0;34m[\u001b[0m\u001b[0mdf_control_cell_count\u001b[0m\u001b[0;34m,\u001b[0m\u001b[0mdf_fam_cell_count\u001b[0m\u001b[0;34m,\u001b[0m\u001b[0mdf_unfam_cell_count\u001b[0m\u001b[0;34m]\u001b[0m\u001b[0;34m)\u001b[0m\u001b[0;34m\u001b[0m\u001b[0;34m\u001b[0m\u001b[0m\n\u001b[0m",
      "\u001b[0;31mNameError\u001b[0m: name 'df_control_cell_count' is not defined"
     ]
    }
   ],
   "source": [
    "df_ttest_ncells = ace.test_across_groups([df_control_cell_count,df_fam_cell_count,df_unfam_cell_count])"
   ]
  },
  {
   "cell_type": "code",
   "execution_count": null,
   "metadata": {
    "ExecuteTime": {
     "end_time": "2024-02-14T09:11:56.241306Z",
     "start_time": "2024-02-14T09:11:49.528Z"
    }
   },
   "outputs": [],
   "source": [
    "# remove rows corresponding to area that have zero cell count across all experimental groups\n",
    "df_ttest_not_null_ncells = df_ttest_ncells.dropna(axis=0,\n",
    "                                   how='all',\n",
    "                                   subset=['pval_Control_vs_Fam',\n",
    "                                          'pval_Control_vs_Unfam',\n",
    "                                          'pval_Fam_vs_Unfam'])"
   ]
  },
  {
   "cell_type": "code",
   "execution_count": null,
   "metadata": {
    "ExecuteTime": {
     "end_time": "2024-02-14T09:11:56.244061Z",
     "start_time": "2024-02-14T09:11:49.561Z"
    }
   },
   "outputs": [],
   "source": [
    "# sort dataframe pvalues of control vs fam and pick the first 20\n",
    "df_ttest_not_null_ncells.sort_values(by='pval_Control_vs_Fam')[['area', 'pval_Control_vs_Fam']][0:35].set_index('area')"
   ]
  },
  {
   "cell_type": "code",
   "execution_count": null,
   "metadata": {},
   "outputs": [],
   "source": []
  },
  {
   "cell_type": "code",
   "execution_count": null,
   "metadata": {
    "ExecuteTime": {
     "end_time": "2024-02-14T09:11:56.246561Z",
     "start_time": "2024-02-14T09:11:49.623Z"
    }
   },
   "outputs": [],
   "source": [
    "# sort dataframe pvalues of control vs unfam and pick the first 20\n",
    "df_ttest_not_null_ncells.sort_values(by='pval_Control_vs_Fam')[['area', 'pval_Control_vs_Fam']].set_index('area').loc['Ventral premammillary nucleus']"
   ]
  },
  {
   "cell_type": "code",
   "execution_count": null,
   "metadata": {
    "ExecuteTime": {
     "end_time": "2024-02-14T09:11:56.247456Z",
     "start_time": "2024-02-14T09:11:49.651Z"
    }
   },
   "outputs": [],
   "source": [
    "# sort dataframe pvalues of control vs unfam and pick the first 20\n",
    "df_ttest_not_null_ncells.sort_values(by='pval_Control_vs_Unfam')[['area', 'pval_Control_vs_Unfam']][0:15].set_index('area')"
   ]
  },
  {
   "cell_type": "code",
   "execution_count": null,
   "metadata": {
    "ExecuteTime": {
     "end_time": "2024-02-14T09:11:56.253218Z",
     "start_time": "2024-02-14T09:11:49.689Z"
    }
   },
   "outputs": [],
   "source": [
    "# sort dataframe pvalues of control vs unfam and pick the first 20\n",
    "df_ttest_not_null_ncells.sort_values(by='pval_Control_vs_Unfam')[['area', 'pval_Control_vs_Unfam']].set_index('area').loc['Supramammillary nucleus']"
   ]
  },
  {
   "cell_type": "code",
   "execution_count": null,
   "metadata": {
    "ExecuteTime": {
     "end_time": "2024-02-14T09:11:56.256728Z",
     "start_time": "2024-02-14T09:11:49.740Z"
    }
   },
   "outputs": [],
   "source": [
    "# sort dataframe pvalues of fam vs unfam and pick the first 20\n",
    "df_ttest_not_null_ncells.sort_values(by='pval_Fam_vs_Unfam')[['area', 'pval_Fam_vs_Unfam']][0:40].set_index('area')"
   ]
  },
  {
   "cell_type": "code",
   "execution_count": null,
   "metadata": {
    "ExecuteTime": {
     "end_time": "2024-02-14T09:11:56.260110Z",
     "start_time": "2024-02-14T09:11:49.776Z"
    }
   },
   "outputs": [],
   "source": [
    "df_ttest_not_null_ncells.sort_values(by='pval_Fam_vs_Unfam')[['area', 'pval_Fam_vs_Unfam']].set_index('area').loc['Supramammillary nucleus']"
   ]
  },
  {
   "cell_type": "markdown",
   "metadata": {},
   "source": [
    "## Calculate cross corr across groups per area on cell count"
   ]
  },
  {
   "cell_type": "code",
   "execution_count": null,
   "metadata": {
    "ExecuteTime": {
     "end_time": "2024-02-14T09:11:56.262697Z",
     "start_time": "2024-02-14T09:11:49.862Z"
    }
   },
   "outputs": [],
   "source": [
    "corr_matrix_control_ncells = ace.cross_corr(df_control_cell_count)"
   ]
  },
  {
   "cell_type": "code",
   "execution_count": null,
   "metadata": {
    "ExecuteTime": {
     "end_time": "2024-02-14T09:11:56.265249Z",
     "start_time": "2024-02-14T09:11:49.891Z"
    }
   },
   "outputs": [],
   "source": [
    "corr_matrix_fam_ncells = ace.cross_corr(df_fam_cell_count)"
   ]
  },
  {
   "cell_type": "code",
   "execution_count": null,
   "metadata": {
    "ExecuteTime": {
     "end_time": "2024-02-14T09:11:56.268679Z",
     "start_time": "2024-02-14T09:11:49.922Z"
    }
   },
   "outputs": [],
   "source": [
    "corr_matrix_unfam_ncells = ace.cross_corr(df_unfam_cell_count)"
   ]
  },
  {
   "cell_type": "markdown",
   "metadata": {},
   "source": [
    "## Plot cross corr matrix across groups per area on cell count"
   ]
  },
  {
   "cell_type": "code",
   "execution_count": null,
   "metadata": {
    "ExecuteTime": {
     "end_time": "2024-02-14T09:11:56.270747Z",
     "start_time": "2024-02-14T09:11:50.012Z"
    }
   },
   "outputs": [],
   "source": [
    "f, ax = plt.subplots(figsize=(10, 8))\n",
    "sns.heatmap(corr_matrix_control_ncells,\n",
    "    cmap=sns.diverging_palette(220, 10, as_cmap=True),\n",
    "    vmin=-1.0, vmax=1.0,\n",
    "    square=True, ax=ax)\n",
    "ax.set_title('CONTROL')"
   ]
  },
  {
   "cell_type": "code",
   "execution_count": null,
   "metadata": {
    "ExecuteTime": {
     "end_time": "2024-02-14T09:11:56.274015Z",
     "start_time": "2024-02-14T09:11:50.049Z"
    }
   },
   "outputs": [],
   "source": [
    "f, ax = plt.subplots(figsize=(10, 8))\n",
    "sns.heatmap(corr_matrix_fam_ncells,\n",
    "    cmap=sns.diverging_palette(220, 10, as_cmap=True),\n",
    "    vmin=-1.0, vmax=1.0,\n",
    "    square=True, ax=ax)\n",
    "ax.set_title('FAM')"
   ]
  },
  {
   "cell_type": "code",
   "execution_count": null,
   "metadata": {
    "ExecuteTime": {
     "end_time": "2024-02-14T09:11:56.277168Z",
     "start_time": "2024-02-14T09:11:50.107Z"
    }
   },
   "outputs": [],
   "source": [
    "f, ax = plt.subplots(figsize=(10, 8))\n",
    "sns.heatmap(corr_matrix_unfam_ncells,\n",
    "    cmap=sns.diverging_palette(220, 10, as_cmap=True),\n",
    "    vmin=-1.0, vmax=1.0,\n",
    "    square=True, ax=ax)\n",
    "ax.set_title('UNFAM')"
   ]
  },
  {
   "cell_type": "markdown",
   "metadata": {},
   "source": [
    "# Calculate energy across experimental groups"
   ]
  },
  {
   "cell_type": "code",
   "execution_count": null,
   "metadata": {
    "ExecuteTime": {
     "end_time": "2024-02-14T09:11:56.279368Z",
     "start_time": "2024-02-14T09:11:50.275Z"
    }
   },
   "outputs": [],
   "source": [
    "df_control_energy, df_fam_energy, df_unfam_energy = \\\n",
    "ace.calculate_value_across_groups(experimental_groups, dict_results_across_mice, value='energy')"
   ]
  },
  {
   "cell_type": "markdown",
   "metadata": {},
   "source": [
    "## T-test on energy across groups"
   ]
  },
  {
   "cell_type": "code",
   "execution_count": null,
   "metadata": {
    "ExecuteTime": {
     "end_time": "2024-02-14T09:11:56.282292Z",
     "start_time": "2024-02-14T09:11:50.580Z"
    }
   },
   "outputs": [],
   "source": [
    "df_ttest_energy = ace.test_across_groups([df_control_energy,df_fam_energy,df_unfam_energy])"
   ]
  },
  {
   "cell_type": "code",
   "execution_count": null,
   "metadata": {
    "ExecuteTime": {
     "end_time": "2024-02-14T09:11:56.285181Z",
     "start_time": "2024-02-14T09:11:50.730Z"
    }
   },
   "outputs": [],
   "source": [
    "# remove rows corresponding to area that have zero cell count across all experimental groups\n",
    "df_ttest_not_null_energy = df_ttest_energy.dropna(axis=0,\n",
    "                                   how='all',\n",
    "                                   subset=['pval_Control_vs_Fam',\n",
    "                                          'pval_Control_vs_Unfam',\n",
    "                                          'pval_Fam_vs_Unfam'])"
   ]
  },
  {
   "cell_type": "code",
   "execution_count": null,
   "metadata": {
    "ExecuteTime": {
     "end_time": "2024-02-14T09:11:56.288188Z",
     "start_time": "2024-02-14T09:11:50.862Z"
    },
    "scrolled": false
   },
   "outputs": [],
   "source": [
    "# sort dataframe pvalues of control vs fam and pick the first 20\n",
    "df_ttest_not_null_energy.sort_values(by='pval_Control_vs_Fam')[['area', 'pval_Control_vs_Fam']][0:10].set_index('area')"
   ]
  },
  {
   "cell_type": "code",
   "execution_count": null,
   "metadata": {
    "ExecuteTime": {
     "end_time": "2024-02-14T09:11:56.290614Z",
     "start_time": "2024-02-14T09:11:51.005Z"
    }
   },
   "outputs": [],
   "source": [
    "# sort dataframe pvalues of control vs fam and pick the first 20\n",
    "df_ttest_not_null_energy.sort_values(by='pval_Control_vs_Unfam')[['area', 'pval_Control_vs_Unfam']][0:15].set_index('area')"
   ]
  },
  {
   "cell_type": "code",
   "execution_count": null,
   "metadata": {
    "ExecuteTime": {
     "end_time": "2024-02-14T09:11:56.292991Z",
     "start_time": "2024-02-14T09:11:51.144Z"
    }
   },
   "outputs": [],
   "source": [
    "# sort dataframe pvalues of control vs fam and pick the first 20\n",
    "df_ttest_not_null_energy.sort_values(by='pval_Fam_vs_Unfam')[['area', 'pval_Fam_vs_Unfam']][0:20].set_index('area')"
   ]
  },
  {
   "cell_type": "markdown",
   "metadata": {
    "ExecuteTime": {
     "end_time": "2023-04-05T15:11:36.529234Z",
     "start_time": "2023-04-05T15:11:36.525705Z"
    }
   },
   "source": [
    "\n"
   ]
  },
  {
   "cell_type": "code",
   "execution_count": null,
   "metadata": {
    "ExecuteTime": {
     "end_time": "2024-02-14T09:11:56.295561Z",
     "start_time": "2024-02-14T09:11:51.422Z"
    }
   },
   "outputs": [],
   "source": [
    "corr_matrix_control_energy = ace.cross_corr(df_control_energy)"
   ]
  },
  {
   "cell_type": "code",
   "execution_count": null,
   "metadata": {
    "ExecuteTime": {
     "end_time": "2024-02-14T09:11:56.298726Z",
     "start_time": "2024-02-14T09:11:51.566Z"
    }
   },
   "outputs": [],
   "source": [
    "corr_matrix_fam_energy = ace.cross_corr(df_fam_energy)"
   ]
  },
  {
   "cell_type": "code",
   "execution_count": null,
   "metadata": {
    "ExecuteTime": {
     "end_time": "2024-02-14T09:11:56.301992Z",
     "start_time": "2024-02-14T09:11:51.709Z"
    }
   },
   "outputs": [],
   "source": [
    "corr_matrix_unfam_energy = ace.cross_corr(df_unfam_energy)"
   ]
  },
  {
   "cell_type": "markdown",
   "metadata": {
    "ExecuteTime": {
     "end_time": "2023-04-06T10:58:02.369256Z",
     "start_time": "2023-04-06T10:58:01.314282Z"
    }
   },
   "source": [
    "## Plot cross corr matrix across groups per area on energy"
   ]
  },
  {
   "cell_type": "code",
   "execution_count": null,
   "metadata": {
    "ExecuteTime": {
     "end_time": "2024-02-14T09:11:56.304531Z",
     "start_time": "2024-02-14T09:11:52.273Z"
    }
   },
   "outputs": [],
   "source": [
    "f, ax = plt.subplots(figsize=(10, 8))\n",
    "sns.heatmap(corr_matrix_control_energy,\n",
    "    cmap=sns.diverging_palette(220, 10, as_cmap=True),\n",
    "    vmin=-1.0, vmax=1.0,\n",
    "    square=True, ax=ax)\n",
    "ax.set_title('CONTROL')"
   ]
  },
  {
   "cell_type": "code",
   "execution_count": null,
   "metadata": {
    "ExecuteTime": {
     "end_time": "2024-02-14T09:11:56.305350Z",
     "start_time": "2024-02-14T09:11:52.304Z"
    }
   },
   "outputs": [],
   "source": [
    "f, ax = plt.subplots(figsize=(10, 8))\n",
    "sns.heatmap(corr_matrix_fam_energy,\n",
    "    cmap=sns.diverging_palette(220, 10, as_cmap=True),\n",
    "    vmin=-1.0, vmax=1.0,\n",
    "    square=True, ax=ax)\n",
    "ax.set_title('FAM')"
   ]
  },
  {
   "cell_type": "code",
   "execution_count": null,
   "metadata": {
    "ExecuteTime": {
     "end_time": "2024-02-14T09:11:56.309448Z",
     "start_time": "2024-02-14T09:11:52.330Z"
    }
   },
   "outputs": [],
   "source": [
    "f, ax = plt.subplots(figsize=(10, 8))\n",
    "sns.heatmap(corr_matrix_unfam_energy,\n",
    "    cmap=sns.diverging_palette(220, 10, as_cmap=True),\n",
    "    vmin=-1.0, vmax=1.0,\n",
    "    square=True, ax=ax)\n",
    "ax.set_title('UNFAM')"
   ]
  },
  {
   "cell_type": "markdown",
   "metadata": {},
   "source": [
    "# Calculate relative density"
   ]
  },
  {
   "cell_type": "code",
   "execution_count": null,
   "metadata": {
    "ExecuteTime": {
     "end_time": "2024-02-14T09:11:56.312052Z",
     "start_time": "2024-02-14T09:11:52.426Z"
    }
   },
   "outputs": [],
   "source": [
    "df_control_rd, df_fam_rd, df_unfam_rd = \\\n",
    "ace.calculate_value_across_groups(experimental_groups, dict_results_across_mice, value='relative_density')"
   ]
  },
  {
   "cell_type": "code",
   "execution_count": null,
   "metadata": {
    "ExecuteTime": {
     "end_time": "2024-02-14T09:11:56.314515Z",
     "start_time": "2024-02-14T09:11:52.470Z"
    }
   },
   "outputs": [],
   "source": [
    "df_ttest_rd = ace.test_across_groups([df_control_rd,df_fam_rd,df_unfam_rd])"
   ]
  },
  {
   "cell_type": "code",
   "execution_count": null,
   "metadata": {
    "ExecuteTime": {
     "end_time": "2024-02-14T09:11:56.317551Z",
     "start_time": "2024-02-14T09:11:52.513Z"
    }
   },
   "outputs": [],
   "source": [
    "# remove rows corresponding to area that have zero cell count across all experimental groups\n",
    "df_ttest_not_null_rd = df_ttest_rd.dropna(axis=0,\n",
    "                                   how='all',\n",
    "                                   subset=['pval_Control_vs_Fam',\n",
    "                                          'pval_Control_vs_Unfam',\n",
    "                                          'pval_Fam_vs_Unfam'])"
   ]
  },
  {
   "cell_type": "code",
   "execution_count": null,
   "metadata": {
    "ExecuteTime": {
     "end_time": "2024-02-14T09:11:56.320035Z",
     "start_time": "2024-02-14T09:11:52.543Z"
    }
   },
   "outputs": [],
   "source": [
    "# sort dataframe pvalues of control vs fam and pick the first 20\n",
    "df_ttest_not_null_rd.sort_values(by='pval_Control_vs_Fam')[['area', 'pval_Control_vs_Fam']][0:20].set_index('area')"
   ]
  },
  {
   "cell_type": "code",
   "execution_count": null,
   "metadata": {
    "ExecuteTime": {
     "end_time": "2024-02-14T09:11:56.322813Z",
     "start_time": "2024-02-14T09:11:52.584Z"
    }
   },
   "outputs": [],
   "source": [
    "# sort dataframe pvalues of control vs fam and pick the first 20\n",
    "df_ttest_not_null_rd.sort_values(by='pval_Control_vs_Unfam')[['area', 'pval_Control_vs_Unfam']][0:20].set_index('area')"
   ]
  },
  {
   "cell_type": "code",
   "execution_count": null,
   "metadata": {
    "ExecuteTime": {
     "end_time": "2024-02-14T09:11:56.326069Z",
     "start_time": "2024-02-14T09:11:52.639Z"
    }
   },
   "outputs": [],
   "source": [
    "# sort dataframe pvalues of control vs fam and pick the first 20\n",
    "df_ttest_not_null_rd.sort_values(by='pval_Fam_vs_Unfam')[['area', 'pval_Fam_vs_Unfam']][0:20].set_index('area')"
   ]
  },
  {
   "cell_type": "code",
   "execution_count": null,
   "metadata": {},
   "outputs": [],
   "source": []
  },
  {
   "cell_type": "code",
   "execution_count": null,
   "metadata": {},
   "outputs": [],
   "source": []
  },
  {
   "cell_type": "code",
   "execution_count": null,
   "metadata": {},
   "outputs": [],
   "source": []
  },
  {
   "cell_type": "code",
   "execution_count": null,
   "metadata": {},
   "outputs": [],
   "source": []
  },
  {
   "cell_type": "code",
   "execution_count": null,
   "metadata": {},
   "outputs": [],
   "source": []
  },
  {
   "cell_type": "code",
   "execution_count": null,
   "metadata": {},
   "outputs": [],
   "source": []
  },
  {
   "cell_type": "code",
   "execution_count": null,
   "metadata": {},
   "outputs": [],
   "source": []
  },
  {
   "cell_type": "code",
   "execution_count": null,
   "metadata": {},
   "outputs": [],
   "source": []
  },
  {
   "cell_type": "code",
   "execution_count": null,
   "metadata": {},
   "outputs": [],
   "source": []
  }
 ],
 "metadata": {
  "kernelspec": {
   "display_name": "Python 3",
   "language": "python",
   "name": "python3"
  },
  "language_info": {
   "codemirror_mode": {
    "name": "ipython",
    "version": 3
   },
   "file_extension": ".py",
   "mimetype": "text/x-python",
   "name": "python",
   "nbconvert_exporter": "python",
   "pygments_lexer": "ipython3",
   "version": "3.8.1"
  },
  "latex_envs": {
   "LaTeX_envs_menu_present": true,
   "autoclose": false,
   "autocomplete": true,
   "bibliofile": "biblio.bib",
   "cite_by": "apalike",
   "current_citInitial": 1,
   "eqLabelWithNumbers": true,
   "eqNumInitial": 1,
   "hotkeys": {
    "equation": "Ctrl-E",
    "itemize": "Ctrl-I"
   },
   "labels_anchors": false,
   "latex_user_defs": false,
   "report_style_numbering": false,
   "user_envs_cfg": false
  },
  "toc": {
   "nav_menu": {},
   "number_sections": true,
   "sideBar": true,
   "skip_h1_title": false,
   "title_cell": "Table of Contents",
   "title_sidebar": "Contents",
   "toc_cell": false,
   "toc_position": {},
   "toc_section_display": true,
   "toc_window_display": false
  },
  "varInspector": {
   "cols": {
    "lenName": 16,
    "lenType": 16,
    "lenVar": 40
   },
   "kernels_config": {
    "python": {
     "delete_cmd_postfix": "",
     "delete_cmd_prefix": "del ",
     "library": "var_list.py",
     "varRefreshCmd": "print(var_dic_list())"
    },
    "r": {
     "delete_cmd_postfix": ") ",
     "delete_cmd_prefix": "rm(",
     "library": "var_list.r",
     "varRefreshCmd": "cat(var_dic_list()) "
    }
   },
   "types_to_exclude": [
    "module",
    "function",
    "builtin_function_or_method",
    "instance",
    "_Feature"
   ],
   "window_display": false
  }
 },
 "nbformat": 4,
 "nbformat_minor": 4
}
