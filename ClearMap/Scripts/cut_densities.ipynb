{
 "cells": [
  {
   "cell_type": "code",
   "execution_count": 13,
   "metadata": {
    "ExecuteTime": {
     "end_time": "2024-03-04T09:58:01.918353Z",
     "start_time": "2024-03-04T09:58:01.757828Z"
    }
   },
   "outputs": [],
   "source": [
    "import numpy as np\n",
    "from tifffile import imread, imsave\n",
    "import os"
   ]
  },
  {
   "cell_type": "code",
   "execution_count": 14,
   "metadata": {
    "ExecuteTime": {
     "end_time": "2024-03-04T09:58:04.400997Z",
     "start_time": "2024-03-04T09:58:04.393929Z"
    }
   },
   "outputs": [],
   "source": [
    "data_directory = '/data01/astella/Projects/SexualImprinting/Black_wf_WholeBrain/'\n",
    "subjects = [name for name in os.listdir(data_directory) \\\n",
    "            if os.path.isdir(os.path.join(data_directory, name))]\n",
    "subjects = [\n",
    "'BL47Fam']"
   ]
  },
  {
   "cell_type": "code",
   "execution_count": 15,
   "metadata": {
    "ExecuteTime": {
     "end_time": "2024-03-04T10:28:49.568346Z",
     "start_time": "2024-03-04T10:28:49.558173Z"
    }
   },
   "outputs": [],
   "source": [
    "def split_image(path):\n",
    "    # Load the image\n",
    "    image = imread(path+'/density_counts_wholebrain.tif')\n",
    "\n",
    "    # Cut the image in half vertically and keep the second half\n",
    "    half_index = 201\n",
    "\n",
    "    image = image[:, :, half_index:]\n",
    "\n",
    "    # Invert x and z axes\n",
    "    image = np.swapaxes(image, 0, 2)\n",
    "\n",
    "    # Invert the x axis #check\n",
    "    image = image[::-1, :, :]\n",
    "\n",
    "    # Save the result\n",
    "    imsave(path+'/density_counts.tif', image)\n"
   ]
  },
  {
   "cell_type": "code",
   "execution_count": 16,
   "metadata": {
    "ExecuteTime": {
     "end_time": "2024-03-04T10:28:50.199158Z",
     "start_time": "2024-03-04T10:28:50.183509Z"
    }
   },
   "outputs": [
    {
     "name": "stdout",
     "output_type": "stream",
     "text": [
      "BL51Control\n",
      "BL49Fam\n",
      "BL48Unfam\n"
     ]
    }
   ],
   "source": [
    "for subject in subjects:\n",
    "    print(subject)\n",
    "    split_image(path=data_directory+subject)"
   ]
  },
  {
   "cell_type": "code",
   "execution_count": null,
   "metadata": {},
   "outputs": [],
   "source": []
  }
 ],
 "metadata": {
  "kernelspec": {
   "display_name": "ClearMap",
   "language": "python",
   "name": "python3"
  },
  "language_info": {
   "codemirror_mode": {
    "name": "ipython",
    "version": 3
   },
   "file_extension": ".py",
   "mimetype": "text/x-python",
   "name": "python",
   "nbconvert_exporter": "python",
   "pygments_lexer": "ipython3",
   "version": "3.6.8"
  },
  "latex_envs": {
   "LaTeX_envs_menu_present": true,
   "autoclose": false,
   "autocomplete": true,
   "bibliofile": "biblio.bib",
   "cite_by": "apalike",
   "current_citInitial": 1,
   "eqLabelWithNumbers": true,
   "eqNumInitial": 1,
   "hotkeys": {
    "equation": "Ctrl-E",
    "itemize": "Ctrl-I"
   },
   "labels_anchors": false,
   "latex_user_defs": false,
   "report_style_numbering": false,
   "user_envs_cfg": false
  },
  "toc": {
   "nav_menu": {},
   "number_sections": true,
   "sideBar": true,
   "skip_h1_title": false,
   "title_cell": "Table of Contents",
   "title_sidebar": "Contents",
   "toc_cell": false,
   "toc_position": {},
   "toc_section_display": true,
   "toc_window_display": false
  },
  "varInspector": {
   "cols": {
    "lenName": 16,
    "lenType": 16,
    "lenVar": 40
   },
   "kernels_config": {
    "python": {
     "delete_cmd_postfix": "",
     "delete_cmd_prefix": "del ",
     "library": "var_list.py",
     "varRefreshCmd": "print(var_dic_list())"
    },
    "r": {
     "delete_cmd_postfix": ") ",
     "delete_cmd_prefix": "rm(",
     "library": "var_list.r",
     "varRefreshCmd": "cat(var_dic_list()) "
    }
   },
   "types_to_exclude": [
    "module",
    "function",
    "builtin_function_or_method",
    "instance",
    "_Feature"
   ],
   "window_display": false
  }
 },
 "nbformat": 4,
 "nbformat_minor": 4
}
