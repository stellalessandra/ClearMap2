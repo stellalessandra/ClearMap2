{
 "cells": [
  {
   "cell_type": "markdown",
   "metadata": {},
   "source": [
    "# Tests for subareas at levels lower than 8 (default) and areas not entirely included in image acquisition (Supamammillary nucleus)\n",
    "\n",
    "This notebook performs an analysis of number of detected cells at levels with a finer granularity of our default (level 8 of the Allen Brain Atlas). It tests the number of detected cells across groups for all areas, and returns areas with a significant difference, for all experimental groups (c57 with and without father).\n",
    "\n",
    "In a second section, we consider only the Suprammamillary nucleus. We reanalyse data obtained at level 8 and do not consider subjects where the SUM area has been cut out."
   ]
  },
  {
   "cell_type": "code",
   "execution_count": 1,
   "metadata": {
    "ExecuteTime": {
     "end_time": "2024-07-05T10:28:33.799478Z",
     "start_time": "2024-07-05T10:28:32.986507Z"
    }
   },
   "outputs": [],
   "source": [
    "# !pip install odfpy\n",
    "# !pip install seaborn\n",
    "import os\n",
    "import pandas as pd\n",
    "import seaborn as sns\n",
    "import matplotlib.pyplot as plt\n",
    "import yaml\n",
    "from yaml import Loader\n",
    "import numpy as np\n",
    "import analyze_cells_energy as ace\n",
    "import utils\n",
    "from scipy.stats import ttest_ind, mannwhitneyu\n",
    "import networkx as nx\n",
    "import matplotlib.pyplot as plt"
   ]
  },
  {
   "cell_type": "code",
   "execution_count": 2,
   "metadata": {
    "ExecuteTime": {
     "end_time": "2024-07-05T10:28:33.957976Z",
     "start_time": "2024-07-05T10:28:33.800839Z"
    }
   },
   "outputs": [],
   "source": [
    "# load query file where we added volumes for each area\n",
    "volumes = ace.clean_volumes_database()"
   ]
  },
  {
   "cell_type": "code",
   "execution_count": 3,
   "metadata": {
    "ExecuteTime": {
     "end_time": "2024-07-05T10:28:33.965422Z",
     "start_time": "2024-07-05T10:28:33.959673Z"
    }
   },
   "outputs": [],
   "source": [
    "def find_significant_areas(dictionary, experimental_groups, value, test='mannwhitneyu', alpha=0.05):\n",
    "    \"\"\"\n",
    "    Find significant areas between experimental groups for a given value using statistical tests.\n",
    "\n",
    "    This function calculates the values across experimental groups, performs statistical tests,\n",
    "    and identifies significant areas where the p-value is below a specified threshold (alpha).\n",
    "\n",
    "    Parameters:\n",
    "    dictionary (dict): Nested dictionary with results data.\n",
    "    experimental_groups (dict): Dictionary specifying the experimental groups.\n",
    "    value (str): The value to be tested across groups.\n",
    "    test (str): The statistical test to be used (default is 'mannwhitneyu').\n",
    "    alpha (float): The significance level threshold (default is 0.05).\n",
    "\n",
    "    Returns:\n",
    "    pd.DataFrame: DataFrame containing significant areas for each comparison between groups.\n",
    "    \"\"\"\n",
    "    # Calculate the value across experimental groups\n",
    "    dfs = ace.calculate_value_across_groups(\n",
    "        experimental_groups=experimental_groups,\n",
    "        dict_results_across_mice=dictionary,\n",
    "        value=value\n",
    "    )\n",
    "\n",
    "    # Perform statistical tests across groups\n",
    "    df_ttest = ace.test_across_groups(\n",
    "        dfs,\n",
    "        test=test,\n",
    "        groups=list(experimental_groups.keys())\n",
    "    )\n",
    "\n",
    "    # Get the columns representing p-values from the statistical tests\n",
    "    columns = df_ttest.loc[:, df_ttest.columns != 'area'].columns\n",
    "\n",
    "    # Initialize an empty DataFrame to store significant areas\n",
    "    df_sigareas = pd.DataFrame()\n",
    "\n",
    "    # Iterate over each column (comparison)\n",
    "    for col in columns:\n",
    "        # Sort the DataFrame by the current column (p-value) and select the 'area' and p-value column\n",
    "        df = df_ttest.sort_values(by=col)[['area', col]]\n",
    "\n",
    "        # Concatenate significant areas (p-value < alpha) to the result DataFrame\n",
    "        df_sigareas = pd.concat([df_sigareas, df[df[col] < alpha]['area'].reset_index(drop=True)], axis=1)\n",
    "\n",
    "    # Rename columns to remove the 'pval_' prefix\n",
    "    df_sigareas.columns = [col.replace('pval_', '') for col in columns]\n",
    "\n",
    "    return df_sigareas"
   ]
  },
  {
   "cell_type": "markdown",
   "metadata": {
    "ExecuteTime": {
     "end_time": "2024-06-06T14:46:30.232805Z",
     "start_time": "2024-06-06T14:46:30.229306Z"
    }
   },
   "source": [
    "# Part 1: Data analysis"
   ]
  },
  {
   "cell_type": "markdown",
   "metadata": {},
   "source": [
    "## c57 WITH FATHER"
   ]
  },
  {
   "cell_type": "markdown",
   "metadata": {},
   "source": [
    "### Data loading"
   ]
  },
  {
   "cell_type": "code",
   "execution_count": 4,
   "metadata": {
    "ExecuteTime": {
     "end_time": "2024-07-05T10:28:33.971197Z",
     "start_time": "2024-07-05T10:28:33.967008Z"
    }
   },
   "outputs": [],
   "source": [
    "root_directory = '/home/stella/Documents/Torino/projects/'\n",
    "experiment = 'SexualImprinting'\n",
    "experimental_group = 'C57_MaleUrine_Exposure_cFos'\n",
    "data_directory = root_directory + experiment + '/' \\\n",
    "                + experimental_group + '/'\n",
    "subjects = [name for name in os.listdir(data_directory) \\\n",
    "            if os.path.isdir(os.path.join(data_directory, name))]\n",
    "threshold = (300, 2500)\n",
    "experimental_groups_wf = utils.divide_in_exp_groups(list_subjects=subjects)"
   ]
  },
  {
   "cell_type": "code",
   "execution_count": 5,
   "metadata": {
    "ExecuteTime": {
     "end_time": "2024-07-05T10:28:33.976991Z",
     "start_time": "2024-07-05T10:28:33.972930Z"
    }
   },
   "outputs": [],
   "source": [
    "def load_subject(subject, data_directory, threshold1hemisphere, threshold2hemispheres, \n",
    "                 thresholdF6Unfam, thresholdBL48Unfam):\n",
    "    if subject[0] == 'F':\n",
    "        if subject =='F6Unfam':\n",
    "            file_suffix = 'cells_' + str(thresholdF6Unfam)\n",
    "        else:\n",
    "            file_suffix = 'cells_' + str(threshold1hemisphere)\n",
    "    else:\n",
    "        if subject == 'BL48Unfam':\n",
    "            file_suffix = 'cells_' + str(thresholdBL48Unfam)\n",
    "        else:\n",
    "            file_suffix = 'cells_' + str(threshold2hemispheres)\n",
    "            \n",
    "    df_mouse = pd.read_csv(data_directory + subject + '/' + file_suffix + '.csv')\n",
    "    if subject[0]=='B':\n",
    "        df_mouse = ace.reformat_df_mouse(df=df_mouse[df_mouse[' x']>228].reset_index(drop=True))\n",
    "    else:\n",
    "        df_mouse = ace.reformat_df_mouse(df=df_mouse)\n",
    "    \n",
    "    return df_mouse"
   ]
  },
  {
   "cell_type": "code",
   "execution_count": 6,
   "metadata": {
    "ExecuteTime": {
     "end_time": "2024-07-05T10:28:33.981220Z",
     "start_time": "2024-07-05T10:28:33.978409Z"
    }
   },
   "outputs": [],
   "source": [
    "# for level in [9,10,11]:\n",
    "#     print(level)\n",
    "#     dict_results_across_mice = {subject: ace.calculate_cells_energy_per_level(\n",
    "#         df_mouse=load_subject(subject=subject, \n",
    "#                               data_directory=data_directory, \n",
    "#                               threshold1hemisphere=300, \n",
    "#                               threshold2hemispheres=2500,\n",
    "#                               thresholdF6Unfam=600,\n",
    "#                               thresholdBL48Unfam=3000), \n",
    "#         vol=volumes, \n",
    "#         level=level) for subject in subjects}\n",
    "#     np.save('dict_results/newvolumes/dict_results_across_mice_c57_merged_hemispheres_level'+str(level)+'.npy', \n",
    "#             dict_results_across_mice)"
   ]
  },
  {
   "cell_type": "markdown",
   "metadata": {},
   "source": [
    "### Level 9: ttest and kruskal wallis test"
   ]
  },
  {
   "cell_type": "code",
   "execution_count": 7,
   "metadata": {
    "ExecuteTime": {
     "end_time": "2024-07-05T10:28:34.714107Z",
     "start_time": "2024-07-05T10:28:33.982896Z"
    }
   },
   "outputs": [
    {
     "data": {
      "text/html": [
       "<div>\n",
       "<style scoped>\n",
       "    .dataframe tbody tr th:only-of-type {\n",
       "        vertical-align: middle;\n",
       "    }\n",
       "\n",
       "    .dataframe tbody tr th {\n",
       "        vertical-align: top;\n",
       "    }\n",
       "\n",
       "    .dataframe thead th {\n",
       "        text-align: right;\n",
       "    }\n",
       "</style>\n",
       "<table border=\"1\" class=\"dataframe\">\n",
       "  <thead>\n",
       "    <tr style=\"text-align: right;\">\n",
       "      <th></th>\n",
       "      <th>Control_vs_Fam</th>\n",
       "      <th>Control_vs_Unfam</th>\n",
       "      <th>Fam_vs_Unfam</th>\n",
       "    </tr>\n",
       "  </thead>\n",
       "  <tbody>\n",
       "    <tr>\n",
       "      <th>0</th>\n",
       "      <td>Cortical amygdalar area posterior part</td>\n",
       "      <td>Cortical amygdalar area posterior part</td>\n",
       "      <td>NaN</td>\n",
       "    </tr>\n",
       "    <tr>\n",
       "      <th>1</th>\n",
       "      <td>Posterior pretectal nucleus</td>\n",
       "      <td>Basolateral amygdalar nucleus ventral part</td>\n",
       "      <td>NaN</td>\n",
       "    </tr>\n",
       "    <tr>\n",
       "      <th>2</th>\n",
       "      <td>Tuberomammillary nucleus ventral part</td>\n",
       "      <td>Orbital area medial part</td>\n",
       "      <td>NaN</td>\n",
       "    </tr>\n",
       "    <tr>\n",
       "      <th>3</th>\n",
       "      <td>Endopiriform nucleus ventral part</td>\n",
       "      <td>Endopiriform nucleus dorsal part</td>\n",
       "      <td>NaN</td>\n",
       "    </tr>\n",
       "    <tr>\n",
       "      <th>4</th>\n",
       "      <td>Entorhinal area medial part ventral zone</td>\n",
       "      <td>Periventricular hypothalamic nucleus anterior ...</td>\n",
       "      <td>NaN</td>\n",
       "    </tr>\n",
       "    <tr>\n",
       "      <th>5</th>\n",
       "      <td>Basolateral amygdalar nucleus anterior part</td>\n",
       "      <td>Tuberomammillary nucleus ventral part</td>\n",
       "      <td>NaN</td>\n",
       "    </tr>\n",
       "    <tr>\n",
       "      <th>6</th>\n",
       "      <td>Endopiriform nucleus dorsal part</td>\n",
       "      <td>Basolateral amygdalar nucleus anterior part</td>\n",
       "      <td>NaN</td>\n",
       "    </tr>\n",
       "    <tr>\n",
       "      <th>7</th>\n",
       "      <td>NaN</td>\n",
       "      <td>Endopiriform nucleus ventral part</td>\n",
       "      <td>NaN</td>\n",
       "    </tr>\n",
       "    <tr>\n",
       "      <th>8</th>\n",
       "      <td>NaN</td>\n",
       "      <td>Periventricular hypothalamic nucleus intermedi...</td>\n",
       "      <td>NaN</td>\n",
       "    </tr>\n",
       "  </tbody>\n",
       "</table>\n",
       "</div>"
      ],
      "text/plain": [
       "                                Control_vs_Fam  \\\n",
       "0       Cortical amygdalar area posterior part   \n",
       "1                  Posterior pretectal nucleus   \n",
       "2        Tuberomammillary nucleus ventral part   \n",
       "3            Endopiriform nucleus ventral part   \n",
       "4     Entorhinal area medial part ventral zone   \n",
       "5  Basolateral amygdalar nucleus anterior part   \n",
       "6             Endopiriform nucleus dorsal part   \n",
       "7                                          NaN   \n",
       "8                                          NaN   \n",
       "\n",
       "                                    Control_vs_Unfam Fam_vs_Unfam  \n",
       "0             Cortical amygdalar area posterior part          NaN  \n",
       "1         Basolateral amygdalar nucleus ventral part          NaN  \n",
       "2                           Orbital area medial part          NaN  \n",
       "3                   Endopiriform nucleus dorsal part          NaN  \n",
       "4  Periventricular hypothalamic nucleus anterior ...          NaN  \n",
       "5              Tuberomammillary nucleus ventral part          NaN  \n",
       "6        Basolateral amygdalar nucleus anterior part          NaN  \n",
       "7                  Endopiriform nucleus ventral part          NaN  \n",
       "8  Periventricular hypothalamic nucleus intermedi...          NaN  "
      ]
     },
     "execution_count": 7,
     "metadata": {},
     "output_type": "execute_result"
    }
   ],
   "source": [
    "level9 = np.load('dict_results/newvolumes/dict_results_across_mice_c57_merged_hemispheres_level9.npy',\n",
    "                 allow_pickle=True).item()\n",
    "## ttest\n",
    "find_significant_areas(dictionary=level9, \n",
    "                       experimental_groups=experimental_groups_wf,\n",
    "                       value='n_cells',\n",
    "                       test='mannwhitneyu',\n",
    "                      alpha=0.05)"
   ]
  },
  {
   "cell_type": "code",
   "execution_count": 8,
   "metadata": {
    "ExecuteTime": {
     "end_time": "2024-07-05T10:28:35.362601Z",
     "start_time": "2024-07-05T10:28:34.717132Z"
    }
   },
   "outputs": [],
   "source": [
    "# save results to csv file\n",
    "find_significant_areas(dictionary=level9, \n",
    "                       experimental_groups=experimental_groups_wf,\n",
    "                       value='n_cells',\n",
    "                       test='mannwhitneyu',\n",
    "                      alpha=0.05).to_csv('non_param_test_c57WF_level9.csv')"
   ]
  },
  {
   "cell_type": "code",
   "execution_count": 9,
   "metadata": {
    "ExecuteTime": {
     "end_time": "2024-07-05T10:28:45.830974Z",
     "start_time": "2024-07-05T10:28:35.364094Z"
    }
   },
   "outputs": [
    {
     "data": {
      "text/plain": [
       "{'Orbital area medial part': (KruskalResult(statistic=7.288644688644695, pvalue=0.026139117174669622),\n",
       "            Control       Fam     Unfam\n",
       "  Control  1.000000  0.158366  0.020893\n",
       "  Fam      0.158366  1.000000  0.263033\n",
       "  Unfam    0.020893  0.263033  1.000000),\n",
       " 'Cortical amygdalar area posterior part': (KruskalResult(statistic=14.90769230769233, pvalue=0.00057920959339604),\n",
       "            Control       Fam     Unfam\n",
       "  Control  1.000000  0.001175  0.001504\n",
       "  Fam      0.001175  1.000000  0.718521\n",
       "  Unfam    0.001504  0.718521  1.000000),\n",
       " 'Basolateral amygdalar nucleus ventral part': (KruskalResult(statistic=8.157926186673627, pvalue=0.01692500620888636),\n",
       "            Control       Fam     Unfam\n",
       "  Control  1.000000  0.062722  0.014867\n",
       "  Fam      0.062722  1.000000  0.434599\n",
       "  Unfam    0.014867  0.434599  1.000000)}"
      ]
     },
     "execution_count": 9,
     "metadata": {},
     "output_type": "execute_result"
    }
   ],
   "source": [
    "#ks-test\n",
    "ace.kruskal_per_area(dictionary=level9,\n",
    "                     experimental_groups=utils.divide_in_exp_groups(list_subjects=list(level9.keys())),\n",
    "                     value='n_cells',\n",
    "                     level=9)"
   ]
  },
  {
   "cell_type": "markdown",
   "metadata": {},
   "source": [
    "### Level 10: ttest and kruskal wallis test\n",
    "\n",
    "No areas are found significant at level 10, since ClearMap does not detect cells in areas at that level."
   ]
  },
  {
   "cell_type": "code",
   "execution_count": 10,
   "metadata": {
    "ExecuteTime": {
     "end_time": "2024-07-05T10:28:45.995679Z",
     "start_time": "2024-07-05T10:28:45.832442Z"
    }
   },
   "outputs": [
    {
     "data": {
      "text/html": [
       "<div>\n",
       "<style scoped>\n",
       "    .dataframe tbody tr th:only-of-type {\n",
       "        vertical-align: middle;\n",
       "    }\n",
       "\n",
       "    .dataframe tbody tr th {\n",
       "        vertical-align: top;\n",
       "    }\n",
       "\n",
       "    .dataframe thead th {\n",
       "        text-align: right;\n",
       "    }\n",
       "</style>\n",
       "<table border=\"1\" class=\"dataframe\">\n",
       "  <thead>\n",
       "    <tr style=\"text-align: right;\">\n",
       "      <th></th>\n",
       "      <th>Control_vs_Fam</th>\n",
       "      <th>Control_vs_Unfam</th>\n",
       "      <th>Fam_vs_Unfam</th>\n",
       "    </tr>\n",
       "  </thead>\n",
       "  <tbody>\n",
       "  </tbody>\n",
       "</table>\n",
       "</div>"
      ],
      "text/plain": [
       "Empty DataFrame\n",
       "Columns: [Control_vs_Fam, Control_vs_Unfam, Fam_vs_Unfam]\n",
       "Index: []"
      ]
     },
     "execution_count": 10,
     "metadata": {},
     "output_type": "execute_result"
    }
   ],
   "source": [
    "level10 = np.load('dict_results/newvolumes/dict_results_across_mice_c57_merged_hemispheres_level10.npy',\n",
    "                 allow_pickle=True).item()\n",
    "find_significant_areas(dictionary=level10, \n",
    "                       experimental_groups=experimental_groups_wf,\n",
    "                       value='n_cells',\n",
    "                       test='mannwhitneyu',\n",
    "                      alpha=0.05)"
   ]
  },
  {
   "cell_type": "code",
   "execution_count": 11,
   "metadata": {
    "ExecuteTime": {
     "end_time": "2024-07-05T10:28:46.126887Z",
     "start_time": "2024-07-05T10:28:45.996983Z"
    }
   },
   "outputs": [],
   "source": [
    "# save results to csv file\n",
    "find_significant_areas(dictionary=level10, \n",
    "                       experimental_groups=experimental_groups_wf,\n",
    "                       value='n_cells',\n",
    "                       test='mannwhitneyu',\n",
    "                      alpha=0.05).to_csv('non_param_test_c57WF_level10.csv')"
   ]
  },
  {
   "cell_type": "code",
   "execution_count": 12,
   "metadata": {
    "ExecuteTime": {
     "end_time": "2024-07-05T10:28:48.627865Z",
     "start_time": "2024-07-05T10:28:46.128115Z"
    }
   },
   "outputs": [
    {
     "data": {
      "text/plain": [
       "{}"
      ]
     },
     "execution_count": 12,
     "metadata": {},
     "output_type": "execute_result"
    }
   ],
   "source": [
    "#ks-test\n",
    "ace.kruskal_per_area(dictionary=level10,\n",
    "                     experimental_groups=utils.divide_in_exp_groups(list_subjects=list(level10.keys())),\n",
    "                     value='n_cells',\n",
    "                     level=10)"
   ]
  },
  {
   "cell_type": "markdown",
   "metadata": {},
   "source": [
    "### Level 11"
   ]
  },
  {
   "cell_type": "code",
   "execution_count": 13,
   "metadata": {
    "ExecuteTime": {
     "end_time": "2024-07-05T10:28:50.552655Z",
     "start_time": "2024-07-05T10:28:48.629054Z"
    }
   },
   "outputs": [
    {
     "data": {
      "text/html": [
       "<div>\n",
       "<style scoped>\n",
       "    .dataframe tbody tr th:only-of-type {\n",
       "        vertical-align: middle;\n",
       "    }\n",
       "\n",
       "    .dataframe tbody tr th {\n",
       "        vertical-align: top;\n",
       "    }\n",
       "\n",
       "    .dataframe thead th {\n",
       "        text-align: right;\n",
       "    }\n",
       "</style>\n",
       "<table border=\"1\" class=\"dataframe\">\n",
       "  <thead>\n",
       "    <tr style=\"text-align: right;\">\n",
       "      <th></th>\n",
       "      <th>Control_vs_Fam</th>\n",
       "      <th>Control_vs_Unfam</th>\n",
       "      <th>Fam_vs_Unfam</th>\n",
       "    </tr>\n",
       "  </thead>\n",
       "  <tbody>\n",
       "    <tr>\n",
       "      <th>0</th>\n",
       "      <td>Accessory olfactory bulb granular layer</td>\n",
       "      <td>Accessory olfactory bulb granular layer</td>\n",
       "      <td>Posterior auditory area layer 6b</td>\n",
       "    </tr>\n",
       "    <tr>\n",
       "      <th>1</th>\n",
       "      <td>Accessory olfactory bulb mitral layer</td>\n",
       "      <td>Accessory olfactory bulb mitral layer</td>\n",
       "      <td>Primary somatosensory area mouth layer 6b</td>\n",
       "    </tr>\n",
       "    <tr>\n",
       "      <th>2</th>\n",
       "      <td>Infralimbic area layer 5</td>\n",
       "      <td>Infralimbic area layer 5</td>\n",
       "      <td>Dorsal auditory area layer 5</td>\n",
       "    </tr>\n",
       "    <tr>\n",
       "      <th>3</th>\n",
       "      <td>Posterolateral visual area layer 4</td>\n",
       "      <td>Orbital area medial part layer 5</td>\n",
       "      <td>NaN</td>\n",
       "    </tr>\n",
       "    <tr>\n",
       "      <th>4</th>\n",
       "      <td>Posterolateral visual area layer 5</td>\n",
       "      <td>Nucleus of the lateral olfactory tract layer 3</td>\n",
       "      <td>NaN</td>\n",
       "    </tr>\n",
       "    <tr>\n",
       "      <th>5</th>\n",
       "      <td>Nucleus of the lateral olfactory tract layer 3</td>\n",
       "      <td>Orbital area medial part layer 2/3</td>\n",
       "      <td>NaN</td>\n",
       "    </tr>\n",
       "    <tr>\n",
       "      <th>6</th>\n",
       "      <td>Visceral area layer 1</td>\n",
       "      <td>Posterior auditory area layer 6b</td>\n",
       "      <td>NaN</td>\n",
       "    </tr>\n",
       "    <tr>\n",
       "      <th>7</th>\n",
       "      <td>Perirhinal area layer 1</td>\n",
       "      <td>Posterolateral visual area layer 5</td>\n",
       "      <td>NaN</td>\n",
       "    </tr>\n",
       "    <tr>\n",
       "      <th>8</th>\n",
       "      <td>Orbital area medial part layer 2/3</td>\n",
       "      <td>Lateral visual area layer 5</td>\n",
       "      <td>NaN</td>\n",
       "    </tr>\n",
       "    <tr>\n",
       "      <th>9</th>\n",
       "      <td>NaN</td>\n",
       "      <td>Dentate gyrus molecular layer</td>\n",
       "      <td>NaN</td>\n",
       "    </tr>\n",
       "    <tr>\n",
       "      <th>10</th>\n",
       "      <td>NaN</td>\n",
       "      <td>Gustatory areas layer 1</td>\n",
       "      <td>NaN</td>\n",
       "    </tr>\n",
       "    <tr>\n",
       "      <th>11</th>\n",
       "      <td>NaN</td>\n",
       "      <td>Visceral area layer 6b</td>\n",
       "      <td>NaN</td>\n",
       "    </tr>\n",
       "    <tr>\n",
       "      <th>12</th>\n",
       "      <td>NaN</td>\n",
       "      <td>Posterolateral visual area layer 4</td>\n",
       "      <td>NaN</td>\n",
       "    </tr>\n",
       "    <tr>\n",
       "      <th>13</th>\n",
       "      <td>NaN</td>\n",
       "      <td>Primary visual area layer 2/3</td>\n",
       "      <td>NaN</td>\n",
       "    </tr>\n",
       "  </tbody>\n",
       "</table>\n",
       "</div>"
      ],
      "text/plain": [
       "                                    Control_vs_Fam  \\\n",
       "0          Accessory olfactory bulb granular layer   \n",
       "1            Accessory olfactory bulb mitral layer   \n",
       "2                         Infralimbic area layer 5   \n",
       "3               Posterolateral visual area layer 4   \n",
       "4               Posterolateral visual area layer 5   \n",
       "5   Nucleus of the lateral olfactory tract layer 3   \n",
       "6                            Visceral area layer 1   \n",
       "7                          Perirhinal area layer 1   \n",
       "8               Orbital area medial part layer 2/3   \n",
       "9                                              NaN   \n",
       "10                                             NaN   \n",
       "11                                             NaN   \n",
       "12                                             NaN   \n",
       "13                                             NaN   \n",
       "\n",
       "                                  Control_vs_Unfam  \\\n",
       "0          Accessory olfactory bulb granular layer   \n",
       "1            Accessory olfactory bulb mitral layer   \n",
       "2                         Infralimbic area layer 5   \n",
       "3                 Orbital area medial part layer 5   \n",
       "4   Nucleus of the lateral olfactory tract layer 3   \n",
       "5               Orbital area medial part layer 2/3   \n",
       "6                 Posterior auditory area layer 6b   \n",
       "7               Posterolateral visual area layer 5   \n",
       "8                      Lateral visual area layer 5   \n",
       "9                    Dentate gyrus molecular layer   \n",
       "10                         Gustatory areas layer 1   \n",
       "11                          Visceral area layer 6b   \n",
       "12              Posterolateral visual area layer 4   \n",
       "13                   Primary visual area layer 2/3   \n",
       "\n",
       "                                 Fam_vs_Unfam  \n",
       "0            Posterior auditory area layer 6b  \n",
       "1   Primary somatosensory area mouth layer 6b  \n",
       "2                Dorsal auditory area layer 5  \n",
       "3                                         NaN  \n",
       "4                                         NaN  \n",
       "5                                         NaN  \n",
       "6                                         NaN  \n",
       "7                                         NaN  \n",
       "8                                         NaN  \n",
       "9                                         NaN  \n",
       "10                                        NaN  \n",
       "11                                        NaN  \n",
       "12                                        NaN  \n",
       "13                                        NaN  "
      ]
     },
     "execution_count": 13,
     "metadata": {},
     "output_type": "execute_result"
    }
   ],
   "source": [
    "level11 = np.load('dict_results/newvolumes/dict_results_across_mice_c57_merged_hemispheres_level11.npy',\n",
    "                 allow_pickle=True).item()\n",
    "find_significant_areas(dictionary=level11, \n",
    "                       experimental_groups=experimental_groups_wf,\n",
    "                       value='n_cells',\n",
    "                       test='mannwhitneyu',\n",
    "                      alpha=0.05)"
   ]
  },
  {
   "cell_type": "code",
   "execution_count": 14,
   "metadata": {
    "ExecuteTime": {
     "end_time": "2024-07-05T10:28:52.429209Z",
     "start_time": "2024-07-05T10:28:50.553893Z"
    }
   },
   "outputs": [],
   "source": [
    "# save results to csv file\n",
    "find_significant_areas(dictionary=level11, \n",
    "                       experimental_groups=experimental_groups_wf,\n",
    "                       value='n_cells',\n",
    "                       test='mannwhitneyu',\n",
    "                      alpha=0.05).to_csv('non_param_test_c57WF_level11.csv')"
   ]
  },
  {
   "cell_type": "code",
   "execution_count": 15,
   "metadata": {
    "ExecuteTime": {
     "end_time": "2024-07-05T10:29:24.148621Z",
     "start_time": "2024-07-05T10:28:52.430277Z"
    }
   },
   "outputs": [
    {
     "data": {
      "text/plain": [
       "{'Posterior auditory area layer 6b': (KruskalResult(statistic=6.826310380267206, pvalue=0.03293711339990913),\n",
       "            Control       Fam     Unfam\n",
       "  Control  1.000000  0.761026  0.077172\n",
       "  Fam      0.761026  1.000000  0.046227\n",
       "  Unfam    0.077172  0.046227  1.000000),\n",
       " 'Infralimbic area layer 5': (KruskalResult(statistic=7.550383525503225, pvalue=0.022932692584018765),\n",
       "            Control       Fam     Unfam\n",
       "  Control  1.000000  0.023015  0.023015\n",
       "  Fam      0.023015  1.000000  0.928188\n",
       "  Unfam    0.023015  0.928188  1.000000),\n",
       " 'Orbital area medial part layer 5': (KruskalResult(statistic=6.820653649056531, pvalue=0.033030403465604416),\n",
       "            Control       Fam     Unfam\n",
       "  Control  1.000000  0.211284  0.028398\n",
       "  Fam      0.211284  1.000000  0.211284\n",
       "  Unfam    0.028398  0.211284  1.000000),\n",
       " 'Accessory olfactory bulb granular layer': (KruskalResult(statistic=10.116061928647447, pvalue=0.006358066455242902),\n",
       "            Control       Fam     Unfam\n",
       "  Control  1.000000  0.008682  0.008682\n",
       "  Fam      0.008682  1.000000  0.949571\n",
       "  Unfam    0.008682  0.949571  1.000000),\n",
       " 'Accessory olfactory bulb mitral layer': (KruskalResult(statistic=8.625110304931857, pvalue=0.0133992686420543),\n",
       "            Control       Fam     Unfam\n",
       "  Control  1.000000  0.022131  0.018342\n",
       "  Fam      0.022131  1.000000  0.790173\n",
       "  Unfam    0.018342  0.790173  1.000000)}"
      ]
     },
     "execution_count": 15,
     "metadata": {},
     "output_type": "execute_result"
    }
   ],
   "source": [
    "#ks-test\n",
    "ace.kruskal_per_area(dictionary=level11,\n",
    "                     experimental_groups=utils.divide_in_exp_groups(list_subjects=list(level11.keys())),\n",
    "                     value='n_cells',\n",
    "                     level=11)"
   ]
  },
  {
   "cell_type": "markdown",
   "metadata": {},
   "source": [
    "## c57 WITHOUT FATHER"
   ]
  },
  {
   "cell_type": "markdown",
   "metadata": {},
   "source": [
    "### Data loading"
   ]
  },
  {
   "cell_type": "code",
   "execution_count": 17,
   "metadata": {
    "ExecuteTime": {
     "end_time": "2024-07-05T10:40:56.054315Z",
     "start_time": "2024-07-05T10:40:56.048450Z"
    }
   },
   "outputs": [],
   "source": [
    "root_directory = '/home/stella/Documents/Torino/projects/'\n",
    "experiment = 'SexualImprinting'\n",
    "experimental_group = 'BL_woF'\n",
    "data_directory = root_directory + experiment + '/' \\\n",
    "                + experimental_group + '/'\n",
    "merged_controls = False\n",
    "    \n",
    "subjects = [name for name in os.listdir(data_directory) \\\n",
    "                if os.path.isdir(os.path.join(data_directory, name))]\n",
    "experimental_groups_wof = utils.divide_in_exp_groups(list_subjects=subjects)"
   ]
  },
  {
   "cell_type": "code",
   "execution_count": 18,
   "metadata": {
    "ExecuteTime": {
     "end_time": "2024-07-05T10:40:56.795403Z",
     "start_time": "2024-07-05T10:40:56.792442Z"
    }
   },
   "outputs": [],
   "source": [
    "def load_subject(subject, data_directory, threshold1, threshold2):\n",
    "    file_suffix = 'cells' + str(threshold2) if subject[0] == 'BL36Fam' else 'cells' + str(threshold1)\n",
    "    df_mouse = pd.read_csv(data_directory + subject + '/' + file_suffix + '.csv')\n",
    "    df_mouse = ace.reformat_df_mouse(df=df_mouse)\n",
    "    \n",
    "    return df_mouse"
   ]
  },
  {
   "cell_type": "code",
   "execution_count": 19,
   "metadata": {
    "ExecuteTime": {
     "end_time": "2024-07-05T10:40:57.851740Z",
     "start_time": "2024-07-05T10:40:57.849934Z"
    }
   },
   "outputs": [],
   "source": [
    "# for level in [9,10,11]:\n",
    "#     print(level)\n",
    "#     dict_results_across_mice = {subject: ace.calculate_cells_energy_per_level(\n",
    "#         df_mouse=load_subject(subject=subject, \n",
    "#                               data_directory=data_directory, \n",
    "#                               threshold1=2000, \n",
    "#                               threshold2=1500), \n",
    "#         vol=volumes, \n",
    "#         level=level) for subject in subjects}\n",
    "#     np.save('dict_results/newvolumes/dict_results_across_mice_BL_woF_level'+str(level)+'.npy', dict_results_across_mice)"
   ]
  },
  {
   "cell_type": "markdown",
   "metadata": {},
   "source": [
    "### Level 9"
   ]
  },
  {
   "cell_type": "code",
   "execution_count": 20,
   "metadata": {
    "ExecuteTime": {
     "end_time": "2024-07-05T10:40:59.591424Z",
     "start_time": "2024-07-05T10:40:58.929703Z"
    }
   },
   "outputs": [
    {
     "data": {
      "text/html": [
       "<div>\n",
       "<style scoped>\n",
       "    .dataframe tbody tr th:only-of-type {\n",
       "        vertical-align: middle;\n",
       "    }\n",
       "\n",
       "    .dataframe tbody tr th {\n",
       "        vertical-align: top;\n",
       "    }\n",
       "\n",
       "    .dataframe thead th {\n",
       "        text-align: right;\n",
       "    }\n",
       "</style>\n",
       "<table border=\"1\" class=\"dataframe\">\n",
       "  <thead>\n",
       "    <tr style=\"text-align: right;\">\n",
       "      <th></th>\n",
       "      <th>Control_vs_Fam</th>\n",
       "      <th>Control_vs_Unfam</th>\n",
       "      <th>Fam_vs_Unfam</th>\n",
       "    </tr>\n",
       "  </thead>\n",
       "  <tbody>\n",
       "    <tr>\n",
       "      <th>0</th>\n",
       "      <td>Cortical amygdalar area posterior part</td>\n",
       "      <td>Cortical amygdalar area posterior part</td>\n",
       "      <td>Basolateral amygdalar nucleus ventral part</td>\n",
       "    </tr>\n",
       "    <tr>\n",
       "      <th>1</th>\n",
       "      <td>Posterior pretectal nucleus</td>\n",
       "      <td>Lateral septal nucleus ventral part</td>\n",
       "      <td>Ventral posteromedial nucleus of the thalamus ...</td>\n",
       "    </tr>\n",
       "    <tr>\n",
       "      <th>2</th>\n",
       "      <td>Ventral posteromedial nucleus of the thalamus</td>\n",
       "      <td>Entorhinal area medial part ventral zone</td>\n",
       "      <td>Medial septal nucleus</td>\n",
       "    </tr>\n",
       "    <tr>\n",
       "      <th>3</th>\n",
       "      <td>Primary somatosensory area upper limb</td>\n",
       "      <td>Medial septal nucleus</td>\n",
       "      <td>Agranular insular area ventral part</td>\n",
       "    </tr>\n",
       "    <tr>\n",
       "      <th>4</th>\n",
       "      <td>NaN</td>\n",
       "      <td>Tuberomammillary nucleus ventral part</td>\n",
       "      <td>Lateral septal nucleus ventral part</td>\n",
       "    </tr>\n",
       "    <tr>\n",
       "      <th>5</th>\n",
       "      <td>NaN</td>\n",
       "      <td>Basolateral amygdalar nucleus ventral part</td>\n",
       "      <td>Cortical amygdalar area posterior part</td>\n",
       "    </tr>\n",
       "    <tr>\n",
       "      <th>6</th>\n",
       "      <td>NaN</td>\n",
       "      <td>Lateral septal nucleus rostral (rostroventral)...</td>\n",
       "      <td>Primary somatosensory area mouth</td>\n",
       "    </tr>\n",
       "    <tr>\n",
       "      <th>7</th>\n",
       "      <td>NaN</td>\n",
       "      <td>NaN</td>\n",
       "      <td>Tuberomammillary nucleus ventral part</td>\n",
       "    </tr>\n",
       "    <tr>\n",
       "      <th>8</th>\n",
       "      <td>NaN</td>\n",
       "      <td>NaN</td>\n",
       "      <td>Basolateral amygdalar nucleus posterior part</td>\n",
       "    </tr>\n",
       "  </tbody>\n",
       "</table>\n",
       "</div>"
      ],
      "text/plain": [
       "                                  Control_vs_Fam  \\\n",
       "0         Cortical amygdalar area posterior part   \n",
       "1                    Posterior pretectal nucleus   \n",
       "2  Ventral posteromedial nucleus of the thalamus   \n",
       "3          Primary somatosensory area upper limb   \n",
       "4                                            NaN   \n",
       "5                                            NaN   \n",
       "6                                            NaN   \n",
       "7                                            NaN   \n",
       "8                                            NaN   \n",
       "\n",
       "                                    Control_vs_Unfam  \\\n",
       "0             Cortical amygdalar area posterior part   \n",
       "1                Lateral septal nucleus ventral part   \n",
       "2           Entorhinal area medial part ventral zone   \n",
       "3                              Medial septal nucleus   \n",
       "4              Tuberomammillary nucleus ventral part   \n",
       "5         Basolateral amygdalar nucleus ventral part   \n",
       "6  Lateral septal nucleus rostral (rostroventral)...   \n",
       "7                                                NaN   \n",
       "8                                                NaN   \n",
       "\n",
       "                                        Fam_vs_Unfam  \n",
       "0         Basolateral amygdalar nucleus ventral part  \n",
       "1  Ventral posteromedial nucleus of the thalamus ...  \n",
       "2                              Medial septal nucleus  \n",
       "3                Agranular insular area ventral part  \n",
       "4                Lateral septal nucleus ventral part  \n",
       "5             Cortical amygdalar area posterior part  \n",
       "6                   Primary somatosensory area mouth  \n",
       "7              Tuberomammillary nucleus ventral part  \n",
       "8       Basolateral amygdalar nucleus posterior part  "
      ]
     },
     "execution_count": 20,
     "metadata": {},
     "output_type": "execute_result"
    }
   ],
   "source": [
    "level9 = np.load('dict_results/newvolumes/dict_results_across_mice_BL_woF_level9.npy',\n",
    "                 allow_pickle=True).item()\n",
    "find_significant_areas(dictionary=level9, \n",
    "                       experimental_groups=experimental_groups_wof,\n",
    "                       value='n_cells',\n",
    "                       test='mannwhitneyu',\n",
    "                      alpha=0.05)"
   ]
  },
  {
   "cell_type": "code",
   "execution_count": 21,
   "metadata": {
    "ExecuteTime": {
     "end_time": "2024-07-05T10:41:01.325197Z",
     "start_time": "2024-07-05T10:41:00.716806Z"
    }
   },
   "outputs": [],
   "source": [
    "# save results to csv file\n",
    "find_significant_areas(dictionary=level9, \n",
    "                       experimental_groups=experimental_groups_wof,\n",
    "                       value='n_cells',\n",
    "                       test='mannwhitneyu',\n",
    "                      alpha=0.05).to_csv('non_param_test_c57WOF_level9.csv')"
   ]
  },
  {
   "cell_type": "code",
   "execution_count": 22,
   "metadata": {
    "ExecuteTime": {
     "end_time": "2024-07-05T10:41:14.186743Z",
     "start_time": "2024-07-05T10:41:02.415052Z"
    }
   },
   "outputs": [
    {
     "data": {
      "text/plain": [
       "{'Cortical amygdalar area posterior part': (KruskalResult(statistic=14.98522167487684, pvalue=0.0005571863368546974),\n",
       "            Control       Fam     Unfam\n",
       "  Control  1.000000  0.038654  0.000327\n",
       "  Fam      0.038654  1.000000  0.081909\n",
       "  Unfam    0.000327  0.081909  1.000000),\n",
       " 'Entorhinal area medial part ventral zone': (KruskalResult(statistic=9.427074774034505, pvalue=0.008972980471623404),\n",
       "            Control       Fam     Unfam\n",
       "  Control  1.000000  0.137763  0.006416\n",
       "  Fam      0.137763  1.000000  0.141972\n",
       "  Unfam    0.006416  0.141972  1.000000),\n",
       " 'Basolateral amygdalar nucleus ventral part': (KruskalResult(statistic=6.572689882094864, pvalue=0.03739026356100799),\n",
       "            Control       Fam     Unfam\n",
       "  Control  1.000000  0.748466  0.079155\n",
       "  Fam      0.748466  1.000000  0.049943\n",
       "  Unfam    0.079155  0.049943  1.000000),\n",
       " 'Lateral septal nucleus ventral part': (KruskalResult(statistic=10.985134393856283, pvalue=0.004117260776017655),\n",
       "            Control       Fam     Unfam\n",
       "  Control  1.000000  0.213374  0.003517\n",
       "  Fam      0.213374  1.000000  0.050681\n",
       "  Unfam    0.003517  0.050681  1.000000),\n",
       " 'Medial septal nucleus': (KruskalResult(statistic=8.547904109589027, pvalue=0.013926635425390766),\n",
       "            Control       Fam     Unfam\n",
       "  Control  1.000000  0.724401  0.025038\n",
       "  Fam      0.724401  1.000000  0.025038\n",
       "  Unfam    0.025038  0.025038  1.000000),\n",
       " 'Tuberomammillary nucleus ventral part': (KruskalResult(statistic=8.119293941979512, pvalue=0.0172551095944869),\n",
       "            Control       Fam     Unfam\n",
       "  Control  1.000000  0.383224  0.018431\n",
       "  Fam      0.383224  1.000000  0.071326\n",
       "  Unfam    0.018431  0.071326  1.000000)}"
      ]
     },
     "execution_count": 22,
     "metadata": {},
     "output_type": "execute_result"
    }
   ],
   "source": [
    "#ks-test\n",
    "ace.kruskal_per_area(dictionary=level9,\n",
    "                     experimental_groups=utils.divide_in_exp_groups(list_subjects=list(level9.keys())),\n",
    "                     value='n_cells',\n",
    "                     level=9)"
   ]
  },
  {
   "cell_type": "markdown",
   "metadata": {},
   "source": [
    "### Level 10"
   ]
  },
  {
   "cell_type": "code",
   "execution_count": 23,
   "metadata": {
    "ExecuteTime": {
     "end_time": "2024-07-05T10:41:15.368020Z",
     "start_time": "2024-07-05T10:41:15.199895Z"
    }
   },
   "outputs": [
    {
     "data": {
      "text/html": [
       "<div>\n",
       "<style scoped>\n",
       "    .dataframe tbody tr th:only-of-type {\n",
       "        vertical-align: middle;\n",
       "    }\n",
       "\n",
       "    .dataframe tbody tr th {\n",
       "        vertical-align: top;\n",
       "    }\n",
       "\n",
       "    .dataframe thead th {\n",
       "        text-align: right;\n",
       "    }\n",
       "</style>\n",
       "<table border=\"1\" class=\"dataframe\">\n",
       "  <thead>\n",
       "    <tr style=\"text-align: right;\">\n",
       "      <th></th>\n",
       "      <th>Control_vs_Fam</th>\n",
       "      <th>Control_vs_Unfam</th>\n",
       "      <th>Fam_vs_Unfam</th>\n",
       "    </tr>\n",
       "  </thead>\n",
       "  <tbody>\n",
       "  </tbody>\n",
       "</table>\n",
       "</div>"
      ],
      "text/plain": [
       "Empty DataFrame\n",
       "Columns: [Control_vs_Fam, Control_vs_Unfam, Fam_vs_Unfam]\n",
       "Index: []"
      ]
     },
     "execution_count": 23,
     "metadata": {},
     "output_type": "execute_result"
    }
   ],
   "source": [
    "level10 = np.load('dict_results/newvolumes/dict_results_across_mice_BL_woF_level10.npy',\n",
    "                 allow_pickle=True).item()\n",
    "find_significant_areas(dictionary=level10, \n",
    "                       experimental_groups=experimental_groups_wof,\n",
    "                       value='n_cells',\n",
    "                       test='mannwhitneyu',\n",
    "                      alpha=0.05)"
   ]
  },
  {
   "cell_type": "code",
   "execution_count": 24,
   "metadata": {
    "ExecuteTime": {
     "end_time": "2024-07-05T10:41:16.513652Z",
     "start_time": "2024-07-05T10:41:16.401645Z"
    }
   },
   "outputs": [],
   "source": [
    "# save results to csv file\n",
    "find_significant_areas(dictionary=level10, \n",
    "                       experimental_groups=experimental_groups_wof,\n",
    "                       value='n_cells',\n",
    "                       test='mannwhitneyu',\n",
    "                      alpha=0.05).to_csv('non_param_test_c57WOF_level10.csv')"
   ]
  },
  {
   "cell_type": "code",
   "execution_count": 25,
   "metadata": {
    "ExecuteTime": {
     "end_time": "2024-07-05T10:41:19.920401Z",
     "start_time": "2024-07-05T10:41:17.551966Z"
    }
   },
   "outputs": [
    {
     "data": {
      "text/plain": [
       "{}"
      ]
     },
     "execution_count": 25,
     "metadata": {},
     "output_type": "execute_result"
    }
   ],
   "source": [
    "#ks-test\n",
    "ace.kruskal_per_area(dictionary=level10,\n",
    "                     experimental_groups=utils.divide_in_exp_groups(list_subjects=list(level10.keys())),\n",
    "                     value='n_cells',\n",
    "                     level=10)"
   ]
  },
  {
   "cell_type": "code",
   "execution_count": 26,
   "metadata": {
    "ExecuteTime": {
     "end_time": "2024-07-05T10:41:20.969822Z",
     "start_time": "2024-07-05T10:41:20.967537Z"
    }
   },
   "outputs": [],
   "source": [
    "# df_control_cell_count, df_fam_cell_count, df_unfam_cell_count = \\\n",
    "# ace.calculate_value_across_groups(experimental_groups=experimental_groups_wof, \n",
    "#                               dict_results_across_mice=level10, \n",
    "#                               value='n_cells')"
   ]
  },
  {
   "cell_type": "markdown",
   "metadata": {},
   "source": [
    "### Level 11"
   ]
  },
  {
   "cell_type": "code",
   "execution_count": 27,
   "metadata": {
    "ExecuteTime": {
     "end_time": "2024-07-05T10:41:23.775379Z",
     "start_time": "2024-07-05T10:41:21.998267Z"
    }
   },
   "outputs": [
    {
     "data": {
      "text/html": [
       "<div>\n",
       "<style scoped>\n",
       "    .dataframe tbody tr th:only-of-type {\n",
       "        vertical-align: middle;\n",
       "    }\n",
       "\n",
       "    .dataframe tbody tr th {\n",
       "        vertical-align: top;\n",
       "    }\n",
       "\n",
       "    .dataframe thead th {\n",
       "        text-align: right;\n",
       "    }\n",
       "</style>\n",
       "<table border=\"1\" class=\"dataframe\">\n",
       "  <thead>\n",
       "    <tr style=\"text-align: right;\">\n",
       "      <th></th>\n",
       "      <th>Control_vs_Fam</th>\n",
       "      <th>Control_vs_Unfam</th>\n",
       "      <th>Fam_vs_Unfam</th>\n",
       "    </tr>\n",
       "  </thead>\n",
       "  <tbody>\n",
       "    <tr>\n",
       "      <th>0</th>\n",
       "      <td>Accessory olfactory bulb mitral layer</td>\n",
       "      <td>Accessory olfactory bulb mitral layer</td>\n",
       "      <td>Primary somatosensory area mouth layer 1</td>\n",
       "    </tr>\n",
       "    <tr>\n",
       "      <th>1</th>\n",
       "      <td>Accessory olfactory bulb granular layer</td>\n",
       "      <td>Accessory olfactory bulb granular layer</td>\n",
       "      <td>Primary somatosensory area trunk layer 1</td>\n",
       "    </tr>\n",
       "    <tr>\n",
       "      <th>2</th>\n",
       "      <td>Agranular insular area ventral part layer 6b</td>\n",
       "      <td>Primary auditory area layer 1</td>\n",
       "      <td>Anteromedial visual area layer 5</td>\n",
       "    </tr>\n",
       "    <tr>\n",
       "      <th>3</th>\n",
       "      <td>Visceral area layer 5</td>\n",
       "      <td>Anteromedial visual area layer 5</td>\n",
       "      <td>Agranular insular area posterior part layer 6b</td>\n",
       "    </tr>\n",
       "    <tr>\n",
       "      <th>4</th>\n",
       "      <td>Perirhinal area layer 2/3</td>\n",
       "      <td>Primary visual area layer 2/3</td>\n",
       "      <td>Primary somatosensory area upper limb layer 1</td>\n",
       "    </tr>\n",
       "    <tr>\n",
       "      <th>5</th>\n",
       "      <td>Infralimbic area layer 6b</td>\n",
       "      <td>Temporal association areas layer 2/3</td>\n",
       "      <td>Agranular insular area dorsal part layer 2/3</td>\n",
       "    </tr>\n",
       "    <tr>\n",
       "      <th>6</th>\n",
       "      <td>Posterior auditory area layer 1</td>\n",
       "      <td>Retrosplenial area lateral agranular part layer 1</td>\n",
       "      <td>Primary motor area Layer 1</td>\n",
       "    </tr>\n",
       "    <tr>\n",
       "      <th>7</th>\n",
       "      <td>Dorsal auditory area layer 5</td>\n",
       "      <td>Anteromedial visual area layer 2/3</td>\n",
       "      <td>Retrosplenial area dorsal part layer 6b</td>\n",
       "    </tr>\n",
       "    <tr>\n",
       "      <th>8</th>\n",
       "      <td>Visceral area layer 2/3</td>\n",
       "      <td>NaN</td>\n",
       "      <td>Agranular insular area ventral part layer 5</td>\n",
       "    </tr>\n",
       "    <tr>\n",
       "      <th>9</th>\n",
       "      <td>Primary somatosensory area trunk layer 1</td>\n",
       "      <td>NaN</td>\n",
       "      <td>Gustatory areas layer 4</td>\n",
       "    </tr>\n",
       "    <tr>\n",
       "      <th>10</th>\n",
       "      <td>Agranular insular area dorsal part layer 2/3</td>\n",
       "      <td>NaN</td>\n",
       "      <td>Temporal association areas layer 1</td>\n",
       "    </tr>\n",
       "    <tr>\n",
       "      <th>11</th>\n",
       "      <td>Secondary motor area layer 5</td>\n",
       "      <td>NaN</td>\n",
       "      <td>Agranular insular area posterior part layer 1</td>\n",
       "    </tr>\n",
       "    <tr>\n",
       "      <th>12</th>\n",
       "      <td>Primary auditory area layer 5</td>\n",
       "      <td>NaN</td>\n",
       "      <td>Visceral area layer 2/3</td>\n",
       "    </tr>\n",
       "    <tr>\n",
       "      <th>13</th>\n",
       "      <td>Retrosplenial area dorsal part layer 6b</td>\n",
       "      <td>NaN</td>\n",
       "      <td>Gustatory areas layer 1</td>\n",
       "    </tr>\n",
       "    <tr>\n",
       "      <th>14</th>\n",
       "      <td>Visceral area layer 6b</td>\n",
       "      <td>NaN</td>\n",
       "      <td>Agranular insular area posterior part layer 6a</td>\n",
       "    </tr>\n",
       "    <tr>\n",
       "      <th>15</th>\n",
       "      <td>Primary somatosensory area upper limb layer 1</td>\n",
       "      <td>NaN</td>\n",
       "      <td>Agranular insular area ventral part layer 6a</td>\n",
       "    </tr>\n",
       "    <tr>\n",
       "      <th>16</th>\n",
       "      <td>Perirhinal area layer 1</td>\n",
       "      <td>NaN</td>\n",
       "      <td>Anterior cingulate area dorsal part layer 1</td>\n",
       "    </tr>\n",
       "    <tr>\n",
       "      <th>17</th>\n",
       "      <td>Perirhinal area layer 5</td>\n",
       "      <td>NaN</td>\n",
       "      <td>Agranular insular area ventral part layer 2/3</td>\n",
       "    </tr>\n",
       "    <tr>\n",
       "      <th>18</th>\n",
       "      <td>Primary auditory area layer 6b</td>\n",
       "      <td>NaN</td>\n",
       "      <td>Gustatory areas layer 5</td>\n",
       "    </tr>\n",
       "    <tr>\n",
       "      <th>19</th>\n",
       "      <td>Visceral area layer 4</td>\n",
       "      <td>NaN</td>\n",
       "      <td>Prelimbic area layer 6b</td>\n",
       "    </tr>\n",
       "    <tr>\n",
       "      <th>20</th>\n",
       "      <td>Agranular insular area ventral part layer 1</td>\n",
       "      <td>NaN</td>\n",
       "      <td>Accessory olfactory bulb glomerular layer</td>\n",
       "    </tr>\n",
       "    <tr>\n",
       "      <th>21</th>\n",
       "      <td>Gustatory areas layer 4</td>\n",
       "      <td>NaN</td>\n",
       "      <td>Primary somatosensory area barrel field layer 2/3</td>\n",
       "    </tr>\n",
       "    <tr>\n",
       "      <th>22</th>\n",
       "      <td>NaN</td>\n",
       "      <td>NaN</td>\n",
       "      <td>Agranular insular area dorsal part layer 5</td>\n",
       "    </tr>\n",
       "    <tr>\n",
       "      <th>23</th>\n",
       "      <td>NaN</td>\n",
       "      <td>NaN</td>\n",
       "      <td>Orbital area medial part layer 6a</td>\n",
       "    </tr>\n",
       "  </tbody>\n",
       "</table>\n",
       "</div>"
      ],
      "text/plain": [
       "                                   Control_vs_Fam  \\\n",
       "0           Accessory olfactory bulb mitral layer   \n",
       "1         Accessory olfactory bulb granular layer   \n",
       "2    Agranular insular area ventral part layer 6b   \n",
       "3                           Visceral area layer 5   \n",
       "4                       Perirhinal area layer 2/3   \n",
       "5                       Infralimbic area layer 6b   \n",
       "6                 Posterior auditory area layer 1   \n",
       "7                    Dorsal auditory area layer 5   \n",
       "8                         Visceral area layer 2/3   \n",
       "9        Primary somatosensory area trunk layer 1   \n",
       "10   Agranular insular area dorsal part layer 2/3   \n",
       "11                   Secondary motor area layer 5   \n",
       "12                  Primary auditory area layer 5   \n",
       "13        Retrosplenial area dorsal part layer 6b   \n",
       "14                         Visceral area layer 6b   \n",
       "15  Primary somatosensory area upper limb layer 1   \n",
       "16                        Perirhinal area layer 1   \n",
       "17                        Perirhinal area layer 5   \n",
       "18                 Primary auditory area layer 6b   \n",
       "19                          Visceral area layer 4   \n",
       "20    Agranular insular area ventral part layer 1   \n",
       "21                        Gustatory areas layer 4   \n",
       "22                                            NaN   \n",
       "23                                            NaN   \n",
       "\n",
       "                                     Control_vs_Unfam  \\\n",
       "0               Accessory olfactory bulb mitral layer   \n",
       "1             Accessory olfactory bulb granular layer   \n",
       "2                       Primary auditory area layer 1   \n",
       "3                    Anteromedial visual area layer 5   \n",
       "4                       Primary visual area layer 2/3   \n",
       "5                Temporal association areas layer 2/3   \n",
       "6   Retrosplenial area lateral agranular part layer 1   \n",
       "7                  Anteromedial visual area layer 2/3   \n",
       "8                                                 NaN   \n",
       "9                                                 NaN   \n",
       "10                                                NaN   \n",
       "11                                                NaN   \n",
       "12                                                NaN   \n",
       "13                                                NaN   \n",
       "14                                                NaN   \n",
       "15                                                NaN   \n",
       "16                                                NaN   \n",
       "17                                                NaN   \n",
       "18                                                NaN   \n",
       "19                                                NaN   \n",
       "20                                                NaN   \n",
       "21                                                NaN   \n",
       "22                                                NaN   \n",
       "23                                                NaN   \n",
       "\n",
       "                                         Fam_vs_Unfam  \n",
       "0            Primary somatosensory area mouth layer 1  \n",
       "1            Primary somatosensory area trunk layer 1  \n",
       "2                    Anteromedial visual area layer 5  \n",
       "3      Agranular insular area posterior part layer 6b  \n",
       "4       Primary somatosensory area upper limb layer 1  \n",
       "5        Agranular insular area dorsal part layer 2/3  \n",
       "6                          Primary motor area Layer 1  \n",
       "7             Retrosplenial area dorsal part layer 6b  \n",
       "8         Agranular insular area ventral part layer 5  \n",
       "9                             Gustatory areas layer 4  \n",
       "10                 Temporal association areas layer 1  \n",
       "11      Agranular insular area posterior part layer 1  \n",
       "12                            Visceral area layer 2/3  \n",
       "13                            Gustatory areas layer 1  \n",
       "14     Agranular insular area posterior part layer 6a  \n",
       "15       Agranular insular area ventral part layer 6a  \n",
       "16        Anterior cingulate area dorsal part layer 1  \n",
       "17      Agranular insular area ventral part layer 2/3  \n",
       "18                            Gustatory areas layer 5  \n",
       "19                            Prelimbic area layer 6b  \n",
       "20          Accessory olfactory bulb glomerular layer  \n",
       "21  Primary somatosensory area barrel field layer 2/3  \n",
       "22         Agranular insular area dorsal part layer 5  \n",
       "23                  Orbital area medial part layer 6a  "
      ]
     },
     "execution_count": 27,
     "metadata": {},
     "output_type": "execute_result"
    }
   ],
   "source": [
    "level11 = np.load('dict_results/newvolumes/dict_results_across_mice_BL_woF_level11.npy',\n",
    "                 allow_pickle=True).item()\n",
    "find_significant_areas(dictionary=level11, \n",
    "                       experimental_groups=experimental_groups_wof,\n",
    "                       value='n_cells',\n",
    "                       test='mannwhitneyu',\n",
    "                      alpha=0.05)"
   ]
  },
  {
   "cell_type": "code",
   "execution_count": 28,
   "metadata": {
    "ExecuteTime": {
     "end_time": "2024-07-05T10:41:26.611469Z",
     "start_time": "2024-07-05T10:41:24.838326Z"
    }
   },
   "outputs": [],
   "source": [
    "# save results to csv file\n",
    "find_significant_areas(dictionary=level11, \n",
    "                       experimental_groups=experimental_groups_wof,\n",
    "                       value='n_cells',\n",
    "                       test='mannwhitneyu',\n",
    "                      alpha=0.05).to_csv('non_param_test_c57WOF_level11.csv')"
   ]
  },
  {
   "cell_type": "code",
   "execution_count": 29,
   "metadata": {
    "ExecuteTime": {
     "end_time": "2024-07-05T10:42:04.012024Z",
     "start_time": "2024-07-05T10:41:27.677747Z"
    }
   },
   "outputs": [
    {
     "data": {
      "text/plain": [
       "{'Primary somatosensory area upper limb layer 1': (KruskalResult(statistic=6.011579670329674, pvalue=0.04949964232630368),\n",
       "            Control       Fam     Unfam\n",
       "  Control  1.000000  0.070951  0.923289\n",
       "  Fam      0.070951  1.000000  0.070951\n",
       "  Unfam    0.923289  0.070951  1.000000),\n",
       " 'Anteromedial visual area layer 5': (KruskalResult(statistic=6.391542568137109, pvalue=0.04093494072964938),\n",
       "            Control       Fam     Unfam\n",
       "  Control  1.000000  0.541695  0.133438\n",
       "  Fam      0.541695  1.000000  0.042695\n",
       "  Unfam    0.133438  0.042695  1.000000),\n",
       " 'Agranular insular area dorsal part layer 2/3': (KruskalResult(statistic=5.9934228555768625, pvalue=0.04995106624903229),\n",
       "            Control       Fam     Unfam\n",
       "  Control  1.000000  0.056658  0.938673\n",
       "  Fam      0.056658  1.000000  0.056658\n",
       "  Unfam    0.938673  0.056658  1.000000),\n",
       " 'Accessory olfactory bulb granular layer': (KruskalResult(statistic=12.551671232876707, pvalue=0.001881218419775376),\n",
       "            Control       Fam     Unfam\n",
       "  Control  1.000000  0.010639  0.001946\n",
       "  Fam      0.010639  1.000000  0.446334\n",
       "  Unfam    0.001946  0.446334  1.000000),\n",
       " 'Accessory olfactory bulb mitral layer': (KruskalResult(statistic=16.02754934210526, pvalue=0.000330873420527084),\n",
       "            Control       Fam     Unfam\n",
       "  Control  1.000000  0.001686  0.000542\n",
       "  Fam      0.001686  1.000000  0.605225\n",
       "  Unfam    0.000542  0.605225  1.000000)}"
      ]
     },
     "execution_count": 29,
     "metadata": {},
     "output_type": "execute_result"
    }
   ],
   "source": [
    "#ks-test\n",
    "ace.kruskal_per_area(dictionary=level11,\n",
    "                     experimental_groups=utils.divide_in_exp_groups(list_subjects=list(level11.keys())),\n",
    "                     value='n_cells',\n",
    "                     level=11)"
   ]
  },
  {
   "cell_type": "markdown",
   "metadata": {},
   "source": [
    "# Adapted tests for SUM\n"
   ]
  },
  {
   "cell_type": "markdown",
   "metadata": {},
   "source": [
    "## c57 WITH FATHER"
   ]
  },
  {
   "cell_type": "code",
   "execution_count": 30,
   "metadata": {
    "ExecuteTime": {
     "end_time": "2024-07-05T10:42:05.258633Z",
     "start_time": "2024-07-05T10:42:05.184466Z"
    }
   },
   "outputs": [],
   "source": [
    "c57_wf = np.load('dict_results/newvolumes/dict_results_across_mice_c57_merged_hemispheres_F6BL48.npy', \n",
    "                                   allow_pickle=True).item()\n",
    "# remove animals that do not include SUM \n",
    "c57_wf.pop('F1Control')\n",
    "c57_wf.pop('F9Fam')\n",
    "experimental_groups = utils.divide_in_exp_groups(list_subjects=c57_wf.keys())"
   ]
  },
  {
   "cell_type": "markdown",
   "metadata": {},
   "source": [
    "### NON PARAMETRIC TEST "
   ]
  },
  {
   "cell_type": "code",
   "execution_count": 31,
   "metadata": {
    "ExecuteTime": {
     "end_time": "2024-07-05T10:42:07.983439Z",
     "start_time": "2024-07-05T10:42:06.767298Z"
    }
   },
   "outputs": [
    {
     "data": {
      "text/plain": [
       "pval_Control_vs_Fam       0.238595\n",
       "pval_Control_vs_Unfam     0.127201\n",
       "pval_Fam_vs_Unfam        0.0985791\n",
       "Name: Supramammillary nucleus, dtype: object"
      ]
     },
     "execution_count": 31,
     "metadata": {},
     "output_type": "execute_result"
    }
   ],
   "source": [
    "df_control_cell_count, df_fam_cell_count, df_unfam_cell_count = \\\n",
    "ace.calculate_value_across_groups(experimental_groups=experimental_groups, \n",
    "                              dict_results_across_mice=c57_wf, \n",
    "                              value='n_cells')\n",
    "\n",
    "df_ttest_ncells = ace.test_across_groups([df_control_cell_count,df_fam_cell_count,df_unfam_cell_count], \n",
    "                                         test='mannwhitneyu')\n",
    "\n",
    "df_ttest_not_null_ncells = df_ttest_ncells.dropna(axis=0,\n",
    "                                   how='all',\n",
    "                                   subset=['pval_Control_vs_Fam',\n",
    "                                          'pval_Control_vs_Unfam',\n",
    "                                          'pval_Fam_vs_Unfam'])\n",
    "\n",
    "df_ttest_not_null_ncells.set_index('area').loc['Supramammillary nucleus']"
   ]
  },
  {
   "cell_type": "markdown",
   "metadata": {},
   "source": [
    "### KRUSKAL WALLIS TEST"
   ]
  },
  {
   "cell_type": "code",
   "execution_count": 32,
   "metadata": {
    "ExecuteTime": {
     "end_time": "2024-07-05T10:42:25.146995Z",
     "start_time": "2024-07-05T10:42:09.489239Z"
    }
   },
   "outputs": [],
   "source": [
    "ks_wf = ace.kruskal_per_area(dictionary=c57_wf,\n",
    "                     experimental_groups=utils.divide_in_exp_groups(list_subjects=list(c57_wf.keys())),\n",
    "                     value='n_cells',\n",
    "                     level=8)"
   ]
  },
  {
   "cell_type": "code",
   "execution_count": 33,
   "metadata": {
    "ExecuteTime": {
     "end_time": "2024-07-05T10:42:26.690014Z",
     "start_time": "2024-07-05T10:42:26.687145Z"
    }
   },
   "outputs": [
    {
     "data": {
      "text/plain": [
       "dict_keys(['Main olfactory bulb', 'Accessory olfactory bulb', 'Cortical amygdalar area', 'Piriform-amygdalar area', 'Basomedial amygdalar nucleus', 'Posterior amygdalar nucleus', 'Medial amygdalar nucleus', 'Bed nuclei of the stria terminalis', 'Arcuate hypothalamic nucleus', 'Posterodorsal preoptic nucleus', 'Periventricular hypothalamic nucleus posterior part', 'Medial preoptic nucleus', 'Ventral premammillary nucleus', 'Tuberal nucleus', 'Lateral terminal nucleus of the accessory optic tract'])"
      ]
     },
     "execution_count": 33,
     "metadata": {},
     "output_type": "execute_result"
    }
   ],
   "source": [
    "ks_wf.keys()"
   ]
  },
  {
   "cell_type": "markdown",
   "metadata": {},
   "source": [
    "## c57 WITHOUT FATHER"
   ]
  },
  {
   "cell_type": "code",
   "execution_count": 34,
   "metadata": {
    "ExecuteTime": {
     "end_time": "2024-07-05T10:42:28.365391Z",
     "start_time": "2024-07-05T10:42:28.335699Z"
    }
   },
   "outputs": [],
   "source": [
    "c57_wof = np.load('dict_results/newvolumes/dict_results_across_mice_BL_woF2000_36.npy', \n",
    "                                   allow_pickle=True).item()\n",
    "c57_wof.pop('BL21Fam')\n",
    "c57_wof.pop('BL24Fam')\n",
    "c57_wof.pop('BL36Fam')\n",
    "c57_wof.pop('BL37Fam')\n",
    "c57_wof.pop('BL31Unfam')\n",
    "c57_wof.pop('BL35Unfam')\n",
    "experimental_groups = utils.divide_in_exp_groups(list_subjects=c57_wof.keys())"
   ]
  },
  {
   "cell_type": "markdown",
   "metadata": {
    "ExecuteTime": {
     "end_time": "2024-06-07T07:35:47.219268Z",
     "start_time": "2024-06-07T07:35:47.216240Z"
    }
   },
   "source": [
    "### NON PARAMETRIC TEST"
   ]
  },
  {
   "cell_type": "code",
   "execution_count": 35,
   "metadata": {
    "ExecuteTime": {
     "end_time": "2024-07-05T10:42:31.395831Z",
     "start_time": "2024-07-05T10:42:30.171256Z"
    }
   },
   "outputs": [
    {
     "data": {
      "text/plain": [
       "pval_Control_vs_Fam      0.0775629\n",
       "pval_Control_vs_Unfam    0.0517809\n",
       "pval_Fam_vs_Unfam         0.280638\n",
       "Name: Supramammillary nucleus, dtype: object"
      ]
     },
     "execution_count": 35,
     "metadata": {},
     "output_type": "execute_result"
    }
   ],
   "source": [
    "df_control_cell_count, df_fam_cell_count, df_unfam_cell_count = \\\n",
    "ace.calculate_value_across_groups(experimental_groups=experimental_groups, \n",
    "                              dict_results_across_mice=c57_wof, \n",
    "                              value='n_cells')\n",
    "\n",
    "df_ttest_ncells = ace.test_across_groups([df_control_cell_count,df_fam_cell_count,df_unfam_cell_count], \n",
    "                                         test='mannwhitneyu')\n",
    "\n",
    "df_ttest_not_null_ncells = df_ttest_ncells.dropna(axis=0,\n",
    "                                   how='all',\n",
    "                                   subset=['pval_Control_vs_Fam',\n",
    "                                          'pval_Control_vs_Unfam',\n",
    "                                          'pval_Fam_vs_Unfam'])\n",
    "\n",
    "df_ttest_not_null_ncells.set_index('area').loc['Supramammillary nucleus']"
   ]
  },
  {
   "cell_type": "markdown",
   "metadata": {},
   "source": [
    "### KRUSKAL WALLIS TEST"
   ]
  },
  {
   "cell_type": "code",
   "execution_count": 36,
   "metadata": {
    "ExecuteTime": {
     "end_time": "2024-07-05T10:42:47.357810Z",
     "start_time": "2024-07-05T10:42:33.312432Z"
    },
    "scrolled": false
   },
   "outputs": [],
   "source": [
    "ks_wof = ace.kruskal_per_area(dictionary=c57_wof,\n",
    "                     experimental_groups=utils.divide_in_exp_groups(list_subjects=list(c57_wof.keys())),\n",
    "                     value='n_cells',\n",
    "                     level=8)"
   ]
  },
  {
   "cell_type": "code",
   "execution_count": 37,
   "metadata": {
    "ExecuteTime": {
     "end_time": "2024-07-05T10:42:49.333968Z",
     "start_time": "2024-07-05T10:42:49.297580Z"
    }
   },
   "outputs": [
    {
     "data": {
      "text/plain": [
       "{'Main olfactory bulb': (KruskalResult(statistic=11.826086956521735, pvalue=0.002703944953989953),\n",
       "            Control      Fam     Unfam\n",
       "  Control  1.000000  0.05478  0.002112\n",
       "  Fam      0.054780  1.00000  0.295770\n",
       "  Unfam    0.002112  0.29577  1.000000),\n",
       " 'Accessory olfactory bulb': (KruskalResult(statistic=14.95607344632769, pvalue=0.0005653662972509756),\n",
       "            Control       Fam     Unfam\n",
       "  Control  1.000000  0.007553  0.000761\n",
       "  Fam      0.007553  1.000000  0.560335\n",
       "  Unfam    0.000761  0.560335  1.000000),\n",
       " 'Anterior olfactory nucleus': (KruskalResult(statistic=7.947628458498016, pvalue=0.018801582648680502),\n",
       "            Control       Fam     Unfam\n",
       "  Control  1.000000  0.201577  0.014841\n",
       "  Fam      0.201577  1.000000  0.269180\n",
       "  Unfam    0.014841  0.269180  1.000000),\n",
       " 'Cortical amygdalar area': (KruskalResult(statistic=14.778656126482218, pvalue=0.0006178109439535902),\n",
       "            Control       Fam     Unfam\n",
       "  Control  1.000000  0.024592  0.000484\n",
       "  Fam      0.024592  1.000000  0.274362\n",
       "  Unfam    0.000484  0.274362  1.000000),\n",
       " 'Piriform-amygdalar area': (KruskalResult(statistic=11.905295531674202, pvalue=0.0025989499891864594),\n",
       "            Control       Fam     Unfam\n",
       "  Control  1.000000  0.134055  0.001690\n",
       "  Fam      0.134055  1.000000  0.134055\n",
       "  Unfam    0.001690  0.134055  1.000000),\n",
       " 'Induseum griseum': (KruskalResult(statistic=10.63815789473682, pvalue=0.004897262284925482),\n",
       "            Control       Fam     Unfam\n",
       "  Control  1.000000  1.000000  0.011154\n",
       "  Fam      1.000000  1.000000  0.011154\n",
       "  Unfam    0.011154  0.011154  1.000000),\n",
       " 'Posterior amygdalar nucleus': (KruskalResult(statistic=13.310628531073432, pvalue=0.0012871635685713745),\n",
       "            Control       Fam     Unfam\n",
       "  Control  1.000000  0.145431  0.000820\n",
       "  Fam      0.145431  1.000000  0.083542\n",
       "  Unfam    0.000820  0.083542  1.000000),\n",
       " 'Septohippocampal nucleus': (KruskalResult(statistic=12.570475847152121, pvalue=0.0018636135194338055),\n",
       "            Control       Fam     Unfam\n",
       "  Control  1.000000  0.468465  0.009195\n",
       "  Fam      0.468465  1.000000  0.003314\n",
       "  Unfam    0.009195  0.003314  1.000000),\n",
       " 'Medial amygdalar nucleus': (KruskalResult(statistic=15.184782608695656, pvalue=0.0005042737390261604),\n",
       "            Control       Fam     Unfam\n",
       "  Control  1.000000  0.019533  0.000414\n",
       "  Fam      0.019533  1.000000  0.295770\n",
       "  Unfam    0.000414  0.295770  1.000000),\n",
       " 'Medial septal complex': (KruskalResult(statistic=6.684385617214042, pvalue=0.03535933639116372),\n",
       "            Control       Fam     Unfam\n",
       "  Control  1.000000  0.734539  0.045434\n",
       "  Fam      0.734539  1.000000  0.084271\n",
       "  Unfam    0.045434  0.084271  1.000000),\n",
       " 'Triangular nucleus of septum': (KruskalResult(statistic=6.254526361529536, pvalue=0.04383760883773525),\n",
       "           Control      Fam    Unfam\n",
       "  Control  1.00000  0.52749  0.09595\n",
       "  Fam      0.52749  1.00000  0.05680\n",
       "  Unfam    0.09595  0.05680  1.00000),\n",
       " 'Bed nuclei of the stria terminalis': (KruskalResult(statistic=10.265677966101686, pvalue=0.0058997872794506),\n",
       "            Control       Fam     Unfam\n",
       "  Control  1.000000  0.199305  0.004175\n",
       "  Fam      0.199305  1.000000  0.140688\n",
       "  Unfam    0.004175  0.140688  1.000000),\n",
       " 'Anteromedial nucleus': (KruskalResult(statistic=6.351749999999999, pvalue=0.04175755023848564),\n",
       "            Control       Fam     Unfam\n",
       "  Control  1.000000  0.219668  0.037461\n",
       "  Fam      0.219668  1.000000  0.389478\n",
       "  Unfam    0.037461  0.389478  1.000000),\n",
       " 'Anterodorsal preoptic nucleus': (KruskalResult(statistic=6.805611079383215, pvalue=0.033279771145459595),\n",
       "            Control       Fam     Unfam\n",
       "  Control  1.000000  0.092226  0.039636\n",
       "  Fam      0.092226  1.000000  0.671431\n",
       "  Unfam    0.039636  0.671431  1.000000),\n",
       " 'Medial preoptic area': (KruskalResult(statistic=8.031709039548028, pvalue=0.01802754307494817),\n",
       "            Control       Fam     Unfam\n",
       "  Control  1.000000  0.033226  0.033096\n",
       "  Fam      0.033226  1.000000  0.947883\n",
       "  Unfam    0.033096  0.947883  1.000000),\n",
       " 'Posterodorsal preoptic nucleus': (KruskalResult(statistic=6.273542600896844, pvalue=0.04342277089591872),\n",
       "            Control       Fam     Unfam\n",
       "  Control  1.000000  0.685503  0.052159\n",
       "  Fam      0.685503  1.000000  0.108495\n",
       "  Unfam    0.052159  0.108495  1.000000),\n",
       " 'Periventricular hypothalamic nucleus posterior part': (KruskalResult(statistic=13.695068220579866, pvalue=0.0010620714175177892),\n",
       "            Control       Fam     Unfam\n",
       "  Control  1.000000  0.021434  0.000982\n",
       "  Fam      0.021434  1.000000  0.380898\n",
       "  Unfam    0.000982  0.380898  1.000000),\n",
       " 'Periventricular hypothalamic nucleus preoptic part': (KruskalResult(statistic=6.7575510493476925, pvalue=0.03408917053761376),\n",
       "            Control       Fam     Unfam\n",
       "  Control  1.000000  0.048114  0.048114\n",
       "  Fam      0.048114  1.000000  0.985749\n",
       "  Unfam    0.048114  0.985749  1.000000),\n",
       " 'Tuberomammillary nucleus': (KruskalResult(statistic=9.69501986379115, pvalue=0.007847895032316808),\n",
       "            Control       Fam     Unfam\n",
       "  Control  1.000000  0.017051  0.016356\n",
       "  Fam      0.017051  1.000000  0.966746\n",
       "  Unfam    0.016356  0.966746  1.000000),\n",
       " 'Medial preoptic nucleus': (KruskalResult(statistic=12.22620396600567, pvalue=0.00221367337428348),\n",
       "            Control       Fam     Unfam\n",
       "  Control  1.000000  0.004474  0.004474\n",
       "  Fam      0.004474  1.000000  0.793452\n",
       "  Unfam    0.004474  0.793452  1.000000),\n",
       " 'Dorsal premammillary nucleus': (KruskalResult(statistic=7.697922555115872, pvalue=0.02130185166197803),\n",
       "            Control       Fam     Unfam\n",
       "  Control  1.000000  0.223029  0.016635\n",
       "  Fam      0.223029  1.000000  0.223029\n",
       "  Unfam    0.016635  0.223029  1.000000),\n",
       " 'Ventral premammillary nucleus': (KruskalResult(statistic=14.784977388354998, pvalue=0.0006158613541611624),\n",
       "            Control       Fam     Unfam\n",
       "  Control  1.000000  0.009211  0.000758\n",
       "  Fam      0.009211  1.000000  0.517055\n",
       "  Unfam    0.000758  0.517055  1.000000),\n",
       " 'Parasubthalamic nucleus': (KruskalResult(statistic=8.068590651558065, pvalue=0.017698147148118654),\n",
       "            Control       Fam     Unfam\n",
       "  Control  1.000000  0.250769  0.013768\n",
       "  Fam      0.250769  1.000000  0.210008\n",
       "  Unfam    0.013768  0.210008  1.000000),\n",
       " 'Tuberal nucleus': (KruskalResult(statistic=8.566101694915243, pvalue=0.01380049459204959),\n",
       "            Control       Fam     Unfam\n",
       "  Control  1.000000  0.175468  0.010274\n",
       "  Fam      0.175468  1.000000  0.175468\n",
       "  Unfam    0.010274  0.175468  1.000000),\n",
       " 'Nucleus of the brachium of the inferior colliculus': (KruskalResult(statistic=6.325391548463353, pvalue=0.04231152488066027),\n",
       "            Control       Fam     Unfam\n",
       "  Control  1.000000  0.355584  0.037138\n",
       "  Fam      0.355584  1.000000  0.245977\n",
       "  Unfam    0.037138  0.245977  1.000000)}"
      ]
     },
     "execution_count": 37,
     "metadata": {},
     "output_type": "execute_result"
    }
   ],
   "source": [
    "ks_wof"
   ]
  },
  {
   "cell_type": "code",
   "execution_count": null,
   "metadata": {},
   "outputs": [],
   "source": []
  }
 ],
 "metadata": {
  "kernelspec": {
   "display_name": "ClearMap",
   "language": "python",
   "name": "clearmap"
  },
  "language_info": {
   "codemirror_mode": {
    "name": "ipython",
    "version": 3
   },
   "file_extension": ".py",
   "mimetype": "text/x-python",
   "name": "python",
   "nbconvert_exporter": "python",
   "pygments_lexer": "ipython3",
   "version": "3.6.8"
  },
  "latex_envs": {
   "LaTeX_envs_menu_present": true,
   "autoclose": false,
   "autocomplete": true,
   "bibliofile": "biblio.bib",
   "cite_by": "apalike",
   "current_citInitial": 1,
   "eqLabelWithNumbers": true,
   "eqNumInitial": 1,
   "hotkeys": {
    "equation": "Ctrl-E",
    "itemize": "Ctrl-I"
   },
   "labels_anchors": false,
   "latex_user_defs": false,
   "report_style_numbering": false,
   "user_envs_cfg": false
  },
  "toc": {
   "nav_menu": {},
   "number_sections": true,
   "sideBar": true,
   "skip_h1_title": false,
   "title_cell": "Table of Contents",
   "title_sidebar": "Contents",
   "toc_cell": false,
   "toc_position": {},
   "toc_section_display": true,
   "toc_window_display": false
  },
  "varInspector": {
   "cols": {
    "lenName": 16,
    "lenType": 16,
    "lenVar": 40
   },
   "kernels_config": {
    "python": {
     "delete_cmd_postfix": "",
     "delete_cmd_prefix": "del ",
     "library": "var_list.py",
     "varRefreshCmd": "print(var_dic_list())"
    },
    "r": {
     "delete_cmd_postfix": ") ",
     "delete_cmd_prefix": "rm(",
     "library": "var_list.r",
     "varRefreshCmd": "cat(var_dic_list()) "
    }
   },
   "types_to_exclude": [
    "module",
    "function",
    "builtin_function_or_method",
    "instance",
    "_Feature"
   ],
   "window_display": false
  }
 },
 "nbformat": 4,
 "nbformat_minor": 4
}
