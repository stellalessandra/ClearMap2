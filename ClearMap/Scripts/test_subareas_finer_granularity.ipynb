{
 "cells": [
  {
   "cell_type": "markdown",
   "metadata": {},
   "source": [
    "# Adapted tests for subareas and areas not entirely included in image acquisition"
   ]
  },
  {
   "cell_type": "markdown",
   "metadata": {},
   "source": [
    "Areas:\n",
    "- AON\n",
    "- COA\n",
    "- BMA\n",
    "- MEA\n",
    "- ILA"
   ]
  },
  {
   "cell_type": "code",
   "execution_count": 1,
   "metadata": {
    "ExecuteTime": {
     "end_time": "2024-06-07T09:16:25.468190Z",
     "start_time": "2024-06-07T09:16:24.639547Z"
    }
   },
   "outputs": [],
   "source": [
    "# !pip install odfpy\n",
    "# !pip install seaborn\n",
    "import os\n",
    "import pandas as pd\n",
    "import seaborn as sns\n",
    "import matplotlib.pyplot as plt\n",
    "import yaml\n",
    "from yaml import Loader\n",
    "import numpy as np\n",
    "import analyze_cells_energy as ace\n",
    "import utils\n",
    "from scipy.stats import ttest_ind, mannwhitneyu\n",
    "import networkx as nx\n",
    "import matplotlib.pyplot as plt"
   ]
  },
  {
   "cell_type": "code",
   "execution_count": 2,
   "metadata": {
    "ExecuteTime": {
     "end_time": "2024-06-07T09:16:25.622090Z",
     "start_time": "2024-06-07T09:16:25.469501Z"
    }
   },
   "outputs": [],
   "source": [
    "# load query file where we added volumes for each area\n",
    "volumes = ace.clean_volumes_database()"
   ]
  },
  {
   "cell_type": "code",
   "execution_count": 3,
   "metadata": {
    "ExecuteTime": {
     "end_time": "2024-06-07T09:16:25.629993Z",
     "start_time": "2024-06-07T09:16:25.625883Z"
    }
   },
   "outputs": [],
   "source": [
    "def find_significant_areas(dictionary, experimental_groups, value, test='mannwhitneyu', alpha=0.05):\n",
    "    dfs = \\\n",
    "    ace.calculate_value_across_groups(experimental_groups=experimental_groups, \n",
    "                                  dict_results_across_mice=dictionary, \n",
    "                                  value=value)\n",
    "    df_ttest = ace.test_across_groups(dfs,\n",
    "                                     test=test,\n",
    "                                     groups=list(experimental_groups.keys()))\n",
    "    # sort dataframe pvalues of control vs fam and pick the first 20\n",
    "    columns = df_ttest.loc[:, df_ttest.columns!='area'].columns\n",
    "    df_sigareas = pd.DataFrame()\n",
    "    for col in columns:\n",
    "        df = df_ttest.sort_values(by=col)[['area', col]]\n",
    "        df_sigareas = pd.concat([df_sigareas, df[df[col]<alpha]['area'].reset_index(drop=True)], axis=1)\n",
    "    df_sigareas.columns = [col.replace('pval_', '') for col in columns]\n",
    "    return df_sigareas"
   ]
  },
  {
   "cell_type": "markdown",
   "metadata": {
    "ExecuteTime": {
     "end_time": "2024-06-06T14:46:30.232805Z",
     "start_time": "2024-06-06T14:46:30.229306Z"
    }
   },
   "source": [
    "## WITH FATHER"
   ]
  },
  {
   "cell_type": "code",
   "execution_count": 4,
   "metadata": {
    "ExecuteTime": {
     "end_time": "2024-06-07T09:16:25.635609Z",
     "start_time": "2024-06-07T09:16:25.631408Z"
    }
   },
   "outputs": [],
   "source": [
    "root_directory = '/home/stella/Documents/Torino/projects/'\n",
    "experiment = 'SexualImprinting'\n",
    "experimental_group = 'C57_MaleUrine_Exposure_cFos'\n",
    "data_directory = root_directory + experiment + '/' \\\n",
    "                + experimental_group + '/'\n",
    "subjects = [name for name in os.listdir(data_directory) \\\n",
    "            if os.path.isdir(os.path.join(data_directory, name))]\n",
    "threshold = (300, 2500)\n",
    "experimental_groups_wf = utils.divide_in_exp_groups(list_subjects=subjects)"
   ]
  },
  {
   "cell_type": "code",
   "execution_count": 5,
   "metadata": {
    "ExecuteTime": {
     "end_time": "2024-06-07T09:16:25.641466Z",
     "start_time": "2024-06-07T09:16:25.637583Z"
    }
   },
   "outputs": [],
   "source": [
    "def load_subject(subject, data_directory, threshold1hemisphere, threshold2hemispheres, \n",
    "                 thresholdF6Unfam, thresholdBL48Unfam):\n",
    "    if subject[0] == 'F':\n",
    "        if subject =='F6Unfam':\n",
    "            file_suffix = 'cells_' + str(thresholdF6Unfam)\n",
    "        else:\n",
    "            file_suffix = 'cells_' + str(threshold1hemisphere)\n",
    "    else:\n",
    "        if subject == 'BL48Unfam':\n",
    "            file_suffix = 'cells_' + str(thresholdBL48Unfam)\n",
    "        else:\n",
    "            file_suffix = 'cells_' + str(threshold2hemispheres)\n",
    "            \n",
    "    df_mouse = pd.read_csv(data_directory + subject + '/' + file_suffix + '.csv')\n",
    "    if subject[0]=='B':\n",
    "        df_mouse = ace.reformat_df_mouse(df=df_mouse[df_mouse[' x']>228].reset_index(drop=True))\n",
    "    else:\n",
    "        df_mouse = ace.reformat_df_mouse(df=df_mouse)\n",
    "    \n",
    "    return df_mouse"
   ]
  },
  {
   "cell_type": "code",
   "execution_count": 6,
   "metadata": {
    "ExecuteTime": {
     "end_time": "2024-06-07T09:16:25.644513Z",
     "start_time": "2024-06-07T09:16:25.642761Z"
    }
   },
   "outputs": [],
   "source": [
    "# for level in [9,10,11]:\n",
    "#     print(level)\n",
    "#     dict_results_across_mice = {subject: ace.calculate_cells_energy_per_level(\n",
    "#         df_mouse=load_subject(subject=subject, \n",
    "#                               data_directory=data_directory, \n",
    "#                               threshold1hemisphere=300, \n",
    "#                               threshold2hemispheres=2500,\n",
    "#                               thresholdF6Unfam=600,\n",
    "#                               thresholdBL48Unfam=3000), \n",
    "#         vol=volumes, \n",
    "#         level=level) for subject in subjects}\n",
    "#     np.save('dict_results/newvolumes/dict_results_across_mice_c57_merged_hemispheres_level'+str(level)+'.npy', \n",
    "#             dict_results_across_mice)"
   ]
  },
  {
   "cell_type": "markdown",
   "metadata": {},
   "source": [
    "### Level 9: ttest and kruskal wallis test"
   ]
  },
  {
   "cell_type": "code",
   "execution_count": 7,
   "metadata": {
    "ExecuteTime": {
     "end_time": "2024-06-07T09:16:26.381136Z",
     "start_time": "2024-06-07T09:16:25.646952Z"
    }
   },
   "outputs": [
    {
     "data": {
      "text/html": [
       "<div>\n",
       "<style scoped>\n",
       "    .dataframe tbody tr th:only-of-type {\n",
       "        vertical-align: middle;\n",
       "    }\n",
       "\n",
       "    .dataframe tbody tr th {\n",
       "        vertical-align: top;\n",
       "    }\n",
       "\n",
       "    .dataframe thead th {\n",
       "        text-align: right;\n",
       "    }\n",
       "</style>\n",
       "<table border=\"1\" class=\"dataframe\">\n",
       "  <thead>\n",
       "    <tr style=\"text-align: right;\">\n",
       "      <th></th>\n",
       "      <th>Control_vs_Fam</th>\n",
       "      <th>Control_vs_Unfam</th>\n",
       "      <th>Fam_vs_Unfam</th>\n",
       "    </tr>\n",
       "  </thead>\n",
       "  <tbody>\n",
       "    <tr>\n",
       "      <th>0</th>\n",
       "      <td>Cortical amygdalar area posterior part</td>\n",
       "      <td>Cortical amygdalar area posterior part</td>\n",
       "      <td>NaN</td>\n",
       "    </tr>\n",
       "    <tr>\n",
       "      <th>1</th>\n",
       "      <td>Posterior pretectal nucleus</td>\n",
       "      <td>Basolateral amygdalar nucleus ventral part</td>\n",
       "      <td>NaN</td>\n",
       "    </tr>\n",
       "    <tr>\n",
       "      <th>2</th>\n",
       "      <td>Tuberomammillary nucleus ventral part</td>\n",
       "      <td>Orbital area medial part</td>\n",
       "      <td>NaN</td>\n",
       "    </tr>\n",
       "    <tr>\n",
       "      <th>3</th>\n",
       "      <td>Endopiriform nucleus ventral part</td>\n",
       "      <td>Endopiriform nucleus dorsal part</td>\n",
       "      <td>NaN</td>\n",
       "    </tr>\n",
       "    <tr>\n",
       "      <th>4</th>\n",
       "      <td>Entorhinal area medial part ventral zone</td>\n",
       "      <td>Periventricular hypothalamic nucleus anterior ...</td>\n",
       "      <td>NaN</td>\n",
       "    </tr>\n",
       "    <tr>\n",
       "      <th>5</th>\n",
       "      <td>Basolateral amygdalar nucleus anterior part</td>\n",
       "      <td>Tuberomammillary nucleus ventral part</td>\n",
       "      <td>NaN</td>\n",
       "    </tr>\n",
       "    <tr>\n",
       "      <th>6</th>\n",
       "      <td>Endopiriform nucleus dorsal part</td>\n",
       "      <td>Basolateral amygdalar nucleus anterior part</td>\n",
       "      <td>NaN</td>\n",
       "    </tr>\n",
       "    <tr>\n",
       "      <th>7</th>\n",
       "      <td>NaN</td>\n",
       "      <td>Endopiriform nucleus ventral part</td>\n",
       "      <td>NaN</td>\n",
       "    </tr>\n",
       "    <tr>\n",
       "      <th>8</th>\n",
       "      <td>NaN</td>\n",
       "      <td>Periventricular hypothalamic nucleus intermedi...</td>\n",
       "      <td>NaN</td>\n",
       "    </tr>\n",
       "  </tbody>\n",
       "</table>\n",
       "</div>"
      ],
      "text/plain": [
       "                                Control_vs_Fam  \\\n",
       "0       Cortical amygdalar area posterior part   \n",
       "1                  Posterior pretectal nucleus   \n",
       "2        Tuberomammillary nucleus ventral part   \n",
       "3            Endopiriform nucleus ventral part   \n",
       "4     Entorhinal area medial part ventral zone   \n",
       "5  Basolateral amygdalar nucleus anterior part   \n",
       "6             Endopiriform nucleus dorsal part   \n",
       "7                                          NaN   \n",
       "8                                          NaN   \n",
       "\n",
       "                                    Control_vs_Unfam Fam_vs_Unfam  \n",
       "0             Cortical amygdalar area posterior part          NaN  \n",
       "1         Basolateral amygdalar nucleus ventral part          NaN  \n",
       "2                           Orbital area medial part          NaN  \n",
       "3                   Endopiriform nucleus dorsal part          NaN  \n",
       "4  Periventricular hypothalamic nucleus anterior ...          NaN  \n",
       "5              Tuberomammillary nucleus ventral part          NaN  \n",
       "6        Basolateral amygdalar nucleus anterior part          NaN  \n",
       "7                  Endopiriform nucleus ventral part          NaN  \n",
       "8  Periventricular hypothalamic nucleus intermedi...          NaN  "
      ]
     },
     "execution_count": 7,
     "metadata": {},
     "output_type": "execute_result"
    }
   ],
   "source": [
    "level9 = np.load('dict_results/newvolumes/dict_results_across_mice_c57_merged_hemispheres_level9.npy',\n",
    "                 allow_pickle=True).item()\n",
    "## ttest\n",
    "find_significant_areas(dictionary=level9, \n",
    "                       experimental_groups=experimental_groups_wf,\n",
    "                       value='n_cells',\n",
    "                       test='mannwhitneyu',\n",
    "                      alpha=0.05)"
   ]
  },
  {
   "cell_type": "code",
   "execution_count": 8,
   "metadata": {
    "ExecuteTime": {
     "end_time": "2024-06-07T09:16:26.985008Z",
     "start_time": "2024-06-07T09:16:26.382823Z"
    }
   },
   "outputs": [],
   "source": [
    "find_significant_areas(dictionary=level9, \n",
    "                       experimental_groups=experimental_groups_wf,\n",
    "                       value='n_cells',\n",
    "                       test='mannwhitneyu',\n",
    "                      alpha=0.05).to_csv('non_param_test_c57WF_level9.csv')"
   ]
  },
  {
   "cell_type": "code",
   "execution_count": 9,
   "metadata": {
    "ExecuteTime": {
     "end_time": "2024-06-07T09:16:37.200097Z",
     "start_time": "2024-06-07T09:16:26.986063Z"
    }
   },
   "outputs": [
    {
     "data": {
      "text/plain": [
       "{'Orbital area medial part': (KruskalResult(statistic=7.288644688644695, pvalue=0.026139117174669622),\n",
       "            Control       Fam     Unfam\n",
       "  Control  1.000000  0.158366  0.020893\n",
       "  Fam      0.158366  1.000000  0.263033\n",
       "  Unfam    0.020893  0.263033  1.000000),\n",
       " 'Cortical amygdalar area posterior part': (KruskalResult(statistic=14.90769230769233, pvalue=0.00057920959339604),\n",
       "            Control       Fam     Unfam\n",
       "  Control  1.000000  0.001175  0.001504\n",
       "  Fam      0.001175  1.000000  0.718521\n",
       "  Unfam    0.001504  0.718521  1.000000),\n",
       " 'Basolateral amygdalar nucleus ventral part': (KruskalResult(statistic=8.157926186673627, pvalue=0.01692500620888636),\n",
       "            Control       Fam     Unfam\n",
       "  Control  1.000000  0.062722  0.014867\n",
       "  Fam      0.062722  1.000000  0.434599\n",
       "  Unfam    0.014867  0.434599  1.000000)}"
      ]
     },
     "execution_count": 9,
     "metadata": {},
     "output_type": "execute_result"
    }
   ],
   "source": [
    "#ks-test\n",
    "ace.kruskal_per_area(dictionary=level9,\n",
    "                     experimental_groups=utils.divide_in_exp_groups(list_subjects=list(level9.keys())),\n",
    "                     value='n_cells',\n",
    "                     level=9)"
   ]
  },
  {
   "cell_type": "markdown",
   "metadata": {},
   "source": [
    "### Level 10"
   ]
  },
  {
   "cell_type": "code",
   "execution_count": 10,
   "metadata": {
    "ExecuteTime": {
     "end_time": "2024-06-07T09:16:37.326473Z",
     "start_time": "2024-06-07T09:16:37.201216Z"
    }
   },
   "outputs": [
    {
     "data": {
      "text/html": [
       "<div>\n",
       "<style scoped>\n",
       "    .dataframe tbody tr th:only-of-type {\n",
       "        vertical-align: middle;\n",
       "    }\n",
       "\n",
       "    .dataframe tbody tr th {\n",
       "        vertical-align: top;\n",
       "    }\n",
       "\n",
       "    .dataframe thead th {\n",
       "        text-align: right;\n",
       "    }\n",
       "</style>\n",
       "<table border=\"1\" class=\"dataframe\">\n",
       "  <thead>\n",
       "    <tr style=\"text-align: right;\">\n",
       "      <th></th>\n",
       "      <th>Control_vs_Fam</th>\n",
       "      <th>Control_vs_Unfam</th>\n",
       "      <th>Fam_vs_Unfam</th>\n",
       "    </tr>\n",
       "  </thead>\n",
       "  <tbody>\n",
       "  </tbody>\n",
       "</table>\n",
       "</div>"
      ],
      "text/plain": [
       "Empty DataFrame\n",
       "Columns: [Control_vs_Fam, Control_vs_Unfam, Fam_vs_Unfam]\n",
       "Index: []"
      ]
     },
     "execution_count": 10,
     "metadata": {},
     "output_type": "execute_result"
    }
   ],
   "source": [
    "level10 = np.load('dict_results/newvolumes/dict_results_across_mice_c57_merged_hemispheres_level10.npy',\n",
    "                 allow_pickle=True).item()\n",
    "find_significant_areas(dictionary=level10, \n",
    "                       experimental_groups=experimental_groups_wf,\n",
    "                       value='n_cells',\n",
    "                       test='mannwhitneyu',\n",
    "                      alpha=0.05)"
   ]
  },
  {
   "cell_type": "code",
   "execution_count": 11,
   "metadata": {
    "ExecuteTime": {
     "end_time": "2024-06-07T09:16:37.435593Z",
     "start_time": "2024-06-07T09:16:37.327713Z"
    }
   },
   "outputs": [],
   "source": [
    "find_significant_areas(dictionary=level10, \n",
    "                       experimental_groups=experimental_groups_wf,\n",
    "                       value='n_cells',\n",
    "                       test='mannwhitneyu',\n",
    "                      alpha=0.05).to_csv('non_param_test_c57WF_level10.csv')"
   ]
  },
  {
   "cell_type": "code",
   "execution_count": 12,
   "metadata": {
    "ExecuteTime": {
     "end_time": "2024-06-07T09:16:39.731564Z",
     "start_time": "2024-06-07T09:16:37.436887Z"
    }
   },
   "outputs": [
    {
     "data": {
      "text/plain": [
       "{}"
      ]
     },
     "execution_count": 12,
     "metadata": {},
     "output_type": "execute_result"
    }
   ],
   "source": [
    "#ks-test\n",
    "ace.kruskal_per_area(dictionary=level10,\n",
    "                     experimental_groups=utils.divide_in_exp_groups(list_subjects=list(level10.keys())),\n",
    "                     value='n_cells',\n",
    "                     level=10)"
   ]
  },
  {
   "cell_type": "markdown",
   "metadata": {},
   "source": [
    "### Level 11"
   ]
  },
  {
   "cell_type": "code",
   "execution_count": 13,
   "metadata": {
    "ExecuteTime": {
     "end_time": "2024-06-07T09:16:41.552882Z",
     "start_time": "2024-06-07T09:16:39.732671Z"
    }
   },
   "outputs": [
    {
     "data": {
      "text/html": [
       "<div>\n",
       "<style scoped>\n",
       "    .dataframe tbody tr th:only-of-type {\n",
       "        vertical-align: middle;\n",
       "    }\n",
       "\n",
       "    .dataframe tbody tr th {\n",
       "        vertical-align: top;\n",
       "    }\n",
       "\n",
       "    .dataframe thead th {\n",
       "        text-align: right;\n",
       "    }\n",
       "</style>\n",
       "<table border=\"1\" class=\"dataframe\">\n",
       "  <thead>\n",
       "    <tr style=\"text-align: right;\">\n",
       "      <th></th>\n",
       "      <th>Control_vs_Fam</th>\n",
       "      <th>Control_vs_Unfam</th>\n",
       "      <th>Fam_vs_Unfam</th>\n",
       "    </tr>\n",
       "  </thead>\n",
       "  <tbody>\n",
       "    <tr>\n",
       "      <th>0</th>\n",
       "      <td>Accessory olfactory bulb granular layer</td>\n",
       "      <td>Accessory olfactory bulb granular layer</td>\n",
       "      <td>Posterior auditory area layer 6b</td>\n",
       "    </tr>\n",
       "    <tr>\n",
       "      <th>1</th>\n",
       "      <td>Accessory olfactory bulb mitral layer</td>\n",
       "      <td>Accessory olfactory bulb mitral layer</td>\n",
       "      <td>Primary somatosensory area mouth layer 6b</td>\n",
       "    </tr>\n",
       "    <tr>\n",
       "      <th>2</th>\n",
       "      <td>Infralimbic area layer 5</td>\n",
       "      <td>Infralimbic area layer 5</td>\n",
       "      <td>Dorsal auditory area layer 5</td>\n",
       "    </tr>\n",
       "    <tr>\n",
       "      <th>3</th>\n",
       "      <td>Posterolateral visual area layer 4</td>\n",
       "      <td>Orbital area medial part layer 5</td>\n",
       "      <td>NaN</td>\n",
       "    </tr>\n",
       "    <tr>\n",
       "      <th>4</th>\n",
       "      <td>Posterolateral visual area layer 5</td>\n",
       "      <td>Nucleus of the lateral olfactory tract layer 3</td>\n",
       "      <td>NaN</td>\n",
       "    </tr>\n",
       "    <tr>\n",
       "      <th>5</th>\n",
       "      <td>Nucleus of the lateral olfactory tract layer 3</td>\n",
       "      <td>Orbital area medial part layer 2/3</td>\n",
       "      <td>NaN</td>\n",
       "    </tr>\n",
       "    <tr>\n",
       "      <th>6</th>\n",
       "      <td>Visceral area layer 1</td>\n",
       "      <td>Posterior auditory area layer 6b</td>\n",
       "      <td>NaN</td>\n",
       "    </tr>\n",
       "    <tr>\n",
       "      <th>7</th>\n",
       "      <td>Perirhinal area layer 1</td>\n",
       "      <td>Posterolateral visual area layer 5</td>\n",
       "      <td>NaN</td>\n",
       "    </tr>\n",
       "    <tr>\n",
       "      <th>8</th>\n",
       "      <td>Orbital area medial part layer 2/3</td>\n",
       "      <td>Lateral visual area layer 5</td>\n",
       "      <td>NaN</td>\n",
       "    </tr>\n",
       "    <tr>\n",
       "      <th>9</th>\n",
       "      <td>NaN</td>\n",
       "      <td>Dentate gyrus molecular layer</td>\n",
       "      <td>NaN</td>\n",
       "    </tr>\n",
       "    <tr>\n",
       "      <th>10</th>\n",
       "      <td>NaN</td>\n",
       "      <td>Gustatory areas layer 1</td>\n",
       "      <td>NaN</td>\n",
       "    </tr>\n",
       "    <tr>\n",
       "      <th>11</th>\n",
       "      <td>NaN</td>\n",
       "      <td>Visceral area layer 6b</td>\n",
       "      <td>NaN</td>\n",
       "    </tr>\n",
       "    <tr>\n",
       "      <th>12</th>\n",
       "      <td>NaN</td>\n",
       "      <td>Posterolateral visual area layer 4</td>\n",
       "      <td>NaN</td>\n",
       "    </tr>\n",
       "    <tr>\n",
       "      <th>13</th>\n",
       "      <td>NaN</td>\n",
       "      <td>Primary visual area layer 2/3</td>\n",
       "      <td>NaN</td>\n",
       "    </tr>\n",
       "  </tbody>\n",
       "</table>\n",
       "</div>"
      ],
      "text/plain": [
       "                                    Control_vs_Fam  \\\n",
       "0          Accessory olfactory bulb granular layer   \n",
       "1            Accessory olfactory bulb mitral layer   \n",
       "2                         Infralimbic area layer 5   \n",
       "3               Posterolateral visual area layer 4   \n",
       "4               Posterolateral visual area layer 5   \n",
       "5   Nucleus of the lateral olfactory tract layer 3   \n",
       "6                            Visceral area layer 1   \n",
       "7                          Perirhinal area layer 1   \n",
       "8               Orbital area medial part layer 2/3   \n",
       "9                                              NaN   \n",
       "10                                             NaN   \n",
       "11                                             NaN   \n",
       "12                                             NaN   \n",
       "13                                             NaN   \n",
       "\n",
       "                                  Control_vs_Unfam  \\\n",
       "0          Accessory olfactory bulb granular layer   \n",
       "1            Accessory olfactory bulb mitral layer   \n",
       "2                         Infralimbic area layer 5   \n",
       "3                 Orbital area medial part layer 5   \n",
       "4   Nucleus of the lateral olfactory tract layer 3   \n",
       "5               Orbital area medial part layer 2/3   \n",
       "6                 Posterior auditory area layer 6b   \n",
       "7               Posterolateral visual area layer 5   \n",
       "8                      Lateral visual area layer 5   \n",
       "9                    Dentate gyrus molecular layer   \n",
       "10                         Gustatory areas layer 1   \n",
       "11                          Visceral area layer 6b   \n",
       "12              Posterolateral visual area layer 4   \n",
       "13                   Primary visual area layer 2/3   \n",
       "\n",
       "                                 Fam_vs_Unfam  \n",
       "0            Posterior auditory area layer 6b  \n",
       "1   Primary somatosensory area mouth layer 6b  \n",
       "2                Dorsal auditory area layer 5  \n",
       "3                                         NaN  \n",
       "4                                         NaN  \n",
       "5                                         NaN  \n",
       "6                                         NaN  \n",
       "7                                         NaN  \n",
       "8                                         NaN  \n",
       "9                                         NaN  \n",
       "10                                        NaN  \n",
       "11                                        NaN  \n",
       "12                                        NaN  \n",
       "13                                        NaN  "
      ]
     },
     "execution_count": 13,
     "metadata": {},
     "output_type": "execute_result"
    }
   ],
   "source": [
    "level11 = np.load('dict_results/newvolumes/dict_results_across_mice_c57_merged_hemispheres_level11.npy',\n",
    "                 allow_pickle=True).item()\n",
    "find_significant_areas(dictionary=level11, \n",
    "                       experimental_groups=experimental_groups_wf,\n",
    "                       value='n_cells',\n",
    "                       test='mannwhitneyu',\n",
    "                      alpha=0.05)"
   ]
  },
  {
   "cell_type": "code",
   "execution_count": 14,
   "metadata": {
    "ExecuteTime": {
     "end_time": "2024-06-07T09:16:43.358696Z",
     "start_time": "2024-06-07T09:16:41.554312Z"
    }
   },
   "outputs": [],
   "source": [
    "find_significant_areas(dictionary=level11, \n",
    "                       experimental_groups=experimental_groups_wf,\n",
    "                       value='n_cells',\n",
    "                       test='mannwhitneyu',\n",
    "                      alpha=0.05).to_csv('non_param_test_c57WF_level11.csv')"
   ]
  },
  {
   "cell_type": "code",
   "execution_count": 15,
   "metadata": {
    "ExecuteTime": {
     "end_time": "2024-06-07T09:17:16.605910Z",
     "start_time": "2024-06-07T09:16:43.359725Z"
    }
   },
   "outputs": [
    {
     "data": {
      "text/plain": [
       "{'Posterior auditory area layer 6b': (KruskalResult(statistic=6.826310380267206, pvalue=0.03293711339990913),\n",
       "            Control       Fam     Unfam\n",
       "  Control  1.000000  0.761026  0.077172\n",
       "  Fam      0.761026  1.000000  0.046227\n",
       "  Unfam    0.077172  0.046227  1.000000),\n",
       " 'Infralimbic area layer 5': (KruskalResult(statistic=7.550383525503225, pvalue=0.022932692584018765),\n",
       "            Control       Fam     Unfam\n",
       "  Control  1.000000  0.023015  0.023015\n",
       "  Fam      0.023015  1.000000  0.928188\n",
       "  Unfam    0.023015  0.928188  1.000000),\n",
       " 'Orbital area medial part layer 5': (KruskalResult(statistic=6.820653649056531, pvalue=0.033030403465604416),\n",
       "            Control       Fam     Unfam\n",
       "  Control  1.000000  0.211284  0.028398\n",
       "  Fam      0.211284  1.000000  0.211284\n",
       "  Unfam    0.028398  0.211284  1.000000),\n",
       " 'Accessory olfactory bulb granular layer': (KruskalResult(statistic=10.116061928647447, pvalue=0.006358066455242902),\n",
       "            Control       Fam     Unfam\n",
       "  Control  1.000000  0.008682  0.008682\n",
       "  Fam      0.008682  1.000000  0.949571\n",
       "  Unfam    0.008682  0.949571  1.000000),\n",
       " 'Accessory olfactory bulb mitral layer': (KruskalResult(statistic=8.625110304931857, pvalue=0.0133992686420543),\n",
       "            Control       Fam     Unfam\n",
       "  Control  1.000000  0.022131  0.018342\n",
       "  Fam      0.022131  1.000000  0.790173\n",
       "  Unfam    0.018342  0.790173  1.000000)}"
      ]
     },
     "execution_count": 15,
     "metadata": {},
     "output_type": "execute_result"
    }
   ],
   "source": [
    "#ks-test\n",
    "ace.kruskal_per_area(dictionary=level11,\n",
    "                     experimental_groups=utils.divide_in_exp_groups(list_subjects=list(level11.keys())),\n",
    "                     value='n_cells',\n",
    "                     level=11)"
   ]
  },
  {
   "cell_type": "markdown",
   "metadata": {},
   "source": [
    "## WITHOUT FATHER"
   ]
  },
  {
   "cell_type": "code",
   "execution_count": 16,
   "metadata": {
    "ExecuteTime": {
     "end_time": "2024-06-07T09:17:16.610638Z",
     "start_time": "2024-06-07T09:17:16.607180Z"
    }
   },
   "outputs": [],
   "source": [
    "root_directory = '/home/stella/Documents/Torino/projects/'\n",
    "experiment = 'SexualImprinting'\n",
    "experimental_group = 'BL_woF'\n",
    "data_directory = root_directory + experiment + '/' \\\n",
    "                + experimental_group + '/'\n",
    "merged_controls = False\n",
    "    \n",
    "subjects = [name for name in os.listdir(data_directory) \\\n",
    "                if os.path.isdir(os.path.join(data_directory, name))]\n",
    "experimental_groups_wof = utils.divide_in_exp_groups(list_subjects=subjects)"
   ]
  },
  {
   "cell_type": "code",
   "execution_count": 17,
   "metadata": {
    "ExecuteTime": {
     "end_time": "2024-06-07T09:17:16.615622Z",
     "start_time": "2024-06-07T09:17:16.612036Z"
    }
   },
   "outputs": [],
   "source": [
    "def load_subject(subject, data_directory, threshold1, threshold2):\n",
    "    file_suffix = 'cells' + str(threshold2) if subject[0] == 'BL36Fam' else 'cells' + str(threshold1)\n",
    "    df_mouse = pd.read_csv(data_directory + subject + '/' + file_suffix + '.csv')\n",
    "    df_mouse = ace.reformat_df_mouse(df=df_mouse)\n",
    "    \n",
    "    return df_mouse"
   ]
  },
  {
   "cell_type": "code",
   "execution_count": 18,
   "metadata": {
    "ExecuteTime": {
     "end_time": "2024-06-07T09:17:16.625213Z",
     "start_time": "2024-06-07T09:17:16.616988Z"
    }
   },
   "outputs": [],
   "source": [
    "# for level in [9,10,11]:\n",
    "#     print(level)\n",
    "#     dict_results_across_mice = {subject: ace.calculate_cells_energy_per_level(\n",
    "#         df_mouse=load_subject(subject=subject, \n",
    "#                               data_directory=data_directory, \n",
    "#                               threshold1=2000, \n",
    "#                               threshold2=1500), \n",
    "#         vol=volumes, \n",
    "#         level=level) for subject in subjects}\n",
    "#     np.save('dict_results/newvolumes/dict_results_across_mice_BL_woF_level'+str(level)+'.npy', dict_results_across_mice)"
   ]
  },
  {
   "cell_type": "markdown",
   "metadata": {},
   "source": [
    "### Level 9"
   ]
  },
  {
   "cell_type": "code",
   "execution_count": 19,
   "metadata": {
    "ExecuteTime": {
     "end_time": "2024-06-07T09:17:17.404210Z",
     "start_time": "2024-06-07T09:17:16.627731Z"
    }
   },
   "outputs": [
    {
     "data": {
      "text/html": [
       "<div>\n",
       "<style scoped>\n",
       "    .dataframe tbody tr th:only-of-type {\n",
       "        vertical-align: middle;\n",
       "    }\n",
       "\n",
       "    .dataframe tbody tr th {\n",
       "        vertical-align: top;\n",
       "    }\n",
       "\n",
       "    .dataframe thead th {\n",
       "        text-align: right;\n",
       "    }\n",
       "</style>\n",
       "<table border=\"1\" class=\"dataframe\">\n",
       "  <thead>\n",
       "    <tr style=\"text-align: right;\">\n",
       "      <th></th>\n",
       "      <th>Control_vs_Fam</th>\n",
       "      <th>Control_vs_Unfam</th>\n",
       "      <th>Fam_vs_Unfam</th>\n",
       "    </tr>\n",
       "  </thead>\n",
       "  <tbody>\n",
       "    <tr>\n",
       "      <th>0</th>\n",
       "      <td>Cortical amygdalar area posterior part</td>\n",
       "      <td>Cortical amygdalar area posterior part</td>\n",
       "      <td>Basolateral amygdalar nucleus ventral part</td>\n",
       "    </tr>\n",
       "    <tr>\n",
       "      <th>1</th>\n",
       "      <td>Posterior pretectal nucleus</td>\n",
       "      <td>Lateral septal nucleus ventral part</td>\n",
       "      <td>Ventral posteromedial nucleus of the thalamus ...</td>\n",
       "    </tr>\n",
       "    <tr>\n",
       "      <th>2</th>\n",
       "      <td>Ventral posteromedial nucleus of the thalamus</td>\n",
       "      <td>Entorhinal area medial part ventral zone</td>\n",
       "      <td>Medial septal nucleus</td>\n",
       "    </tr>\n",
       "    <tr>\n",
       "      <th>3</th>\n",
       "      <td>Primary somatosensory area upper limb</td>\n",
       "      <td>Medial septal nucleus</td>\n",
       "      <td>Agranular insular area ventral part</td>\n",
       "    </tr>\n",
       "    <tr>\n",
       "      <th>4</th>\n",
       "      <td>NaN</td>\n",
       "      <td>Tuberomammillary nucleus ventral part</td>\n",
       "      <td>Lateral septal nucleus ventral part</td>\n",
       "    </tr>\n",
       "    <tr>\n",
       "      <th>5</th>\n",
       "      <td>NaN</td>\n",
       "      <td>Basolateral amygdalar nucleus ventral part</td>\n",
       "      <td>Cortical amygdalar area posterior part</td>\n",
       "    </tr>\n",
       "    <tr>\n",
       "      <th>6</th>\n",
       "      <td>NaN</td>\n",
       "      <td>Lateral septal nucleus rostral (rostroventral)...</td>\n",
       "      <td>Primary somatosensory area mouth</td>\n",
       "    </tr>\n",
       "    <tr>\n",
       "      <th>7</th>\n",
       "      <td>NaN</td>\n",
       "      <td>NaN</td>\n",
       "      <td>Tuberomammillary nucleus ventral part</td>\n",
       "    </tr>\n",
       "    <tr>\n",
       "      <th>8</th>\n",
       "      <td>NaN</td>\n",
       "      <td>NaN</td>\n",
       "      <td>Basolateral amygdalar nucleus posterior part</td>\n",
       "    </tr>\n",
       "  </tbody>\n",
       "</table>\n",
       "</div>"
      ],
      "text/plain": [
       "                                  Control_vs_Fam  \\\n",
       "0         Cortical amygdalar area posterior part   \n",
       "1                    Posterior pretectal nucleus   \n",
       "2  Ventral posteromedial nucleus of the thalamus   \n",
       "3          Primary somatosensory area upper limb   \n",
       "4                                            NaN   \n",
       "5                                            NaN   \n",
       "6                                            NaN   \n",
       "7                                            NaN   \n",
       "8                                            NaN   \n",
       "\n",
       "                                    Control_vs_Unfam  \\\n",
       "0             Cortical amygdalar area posterior part   \n",
       "1                Lateral septal nucleus ventral part   \n",
       "2           Entorhinal area medial part ventral zone   \n",
       "3                              Medial septal nucleus   \n",
       "4              Tuberomammillary nucleus ventral part   \n",
       "5         Basolateral amygdalar nucleus ventral part   \n",
       "6  Lateral septal nucleus rostral (rostroventral)...   \n",
       "7                                                NaN   \n",
       "8                                                NaN   \n",
       "\n",
       "                                        Fam_vs_Unfam  \n",
       "0         Basolateral amygdalar nucleus ventral part  \n",
       "1  Ventral posteromedial nucleus of the thalamus ...  \n",
       "2                              Medial septal nucleus  \n",
       "3                Agranular insular area ventral part  \n",
       "4                Lateral septal nucleus ventral part  \n",
       "5             Cortical amygdalar area posterior part  \n",
       "6                   Primary somatosensory area mouth  \n",
       "7              Tuberomammillary nucleus ventral part  \n",
       "8       Basolateral amygdalar nucleus posterior part  "
      ]
     },
     "execution_count": 19,
     "metadata": {},
     "output_type": "execute_result"
    }
   ],
   "source": [
    "level9 = np.load('dict_results/newvolumes/dict_results_across_mice_BL_woF_level9.npy',\n",
    "                 allow_pickle=True).item()\n",
    "find_significant_areas(dictionary=level9, \n",
    "                       experimental_groups=experimental_groups_wof,\n",
    "                       value='n_cells',\n",
    "                       test='mannwhitneyu',\n",
    "                      alpha=0.05)"
   ]
  },
  {
   "cell_type": "code",
   "execution_count": 20,
   "metadata": {
    "ExecuteTime": {
     "end_time": "2024-06-07T09:17:18.128436Z",
     "start_time": "2024-06-07T09:17:17.405405Z"
    }
   },
   "outputs": [],
   "source": [
    "find_significant_areas(dictionary=level9, \n",
    "                       experimental_groups=experimental_groups_wof,\n",
    "                       value='n_cells',\n",
    "                       test='mannwhitneyu',\n",
    "                      alpha=0.05).to_csv('non_param_test_c57WOF_level9.csv')"
   ]
  },
  {
   "cell_type": "code",
   "execution_count": 21,
   "metadata": {
    "ExecuteTime": {
     "end_time": "2024-06-07T09:17:31.299370Z",
     "start_time": "2024-06-07T09:17:18.130884Z"
    }
   },
   "outputs": [
    {
     "data": {
      "text/plain": [
       "{'Cortical amygdalar area posterior part': (KruskalResult(statistic=14.98522167487684, pvalue=0.0005571863368546974),\n",
       "            Control       Fam     Unfam\n",
       "  Control  1.000000  0.038654  0.000327\n",
       "  Fam      0.038654  1.000000  0.081909\n",
       "  Unfam    0.000327  0.081909  1.000000),\n",
       " 'Entorhinal area medial part ventral zone': (KruskalResult(statistic=9.427074774034505, pvalue=0.008972980471623404),\n",
       "            Control       Fam     Unfam\n",
       "  Control  1.000000  0.137763  0.006416\n",
       "  Fam      0.137763  1.000000  0.141972\n",
       "  Unfam    0.006416  0.141972  1.000000),\n",
       " 'Basolateral amygdalar nucleus ventral part': (KruskalResult(statistic=6.572689882094864, pvalue=0.03739026356100799),\n",
       "            Control       Fam     Unfam\n",
       "  Control  1.000000  0.748466  0.079155\n",
       "  Fam      0.748466  1.000000  0.049943\n",
       "  Unfam    0.079155  0.049943  1.000000),\n",
       " 'Lateral septal nucleus ventral part': (KruskalResult(statistic=10.985134393856283, pvalue=0.004117260776017655),\n",
       "            Control       Fam     Unfam\n",
       "  Control  1.000000  0.213374  0.003517\n",
       "  Fam      0.213374  1.000000  0.050681\n",
       "  Unfam    0.003517  0.050681  1.000000),\n",
       " 'Medial septal nucleus': (KruskalResult(statistic=8.547904109589027, pvalue=0.013926635425390766),\n",
       "            Control       Fam     Unfam\n",
       "  Control  1.000000  0.724401  0.025038\n",
       "  Fam      0.724401  1.000000  0.025038\n",
       "  Unfam    0.025038  0.025038  1.000000),\n",
       " 'Tuberomammillary nucleus ventral part': (KruskalResult(statistic=8.119293941979512, pvalue=0.0172551095944869),\n",
       "            Control       Fam     Unfam\n",
       "  Control  1.000000  0.383224  0.018431\n",
       "  Fam      0.383224  1.000000  0.071326\n",
       "  Unfam    0.018431  0.071326  1.000000)}"
      ]
     },
     "execution_count": 21,
     "metadata": {},
     "output_type": "execute_result"
    }
   ],
   "source": [
    "#ks-test\n",
    "ace.kruskal_per_area(dictionary=level9,\n",
    "                     experimental_groups=utils.divide_in_exp_groups(list_subjects=list(level9.keys())),\n",
    "                     value='n_cells',\n",
    "                     level=9)"
   ]
  },
  {
   "cell_type": "markdown",
   "metadata": {},
   "source": [
    "### Level 10"
   ]
  },
  {
   "cell_type": "code",
   "execution_count": 22,
   "metadata": {
    "ExecuteTime": {
     "end_time": "2024-06-07T09:17:31.442778Z",
     "start_time": "2024-06-07T09:17:31.303552Z"
    }
   },
   "outputs": [
    {
     "data": {
      "text/html": [
       "<div>\n",
       "<style scoped>\n",
       "    .dataframe tbody tr th:only-of-type {\n",
       "        vertical-align: middle;\n",
       "    }\n",
       "\n",
       "    .dataframe tbody tr th {\n",
       "        vertical-align: top;\n",
       "    }\n",
       "\n",
       "    .dataframe thead th {\n",
       "        text-align: right;\n",
       "    }\n",
       "</style>\n",
       "<table border=\"1\" class=\"dataframe\">\n",
       "  <thead>\n",
       "    <tr style=\"text-align: right;\">\n",
       "      <th></th>\n",
       "      <th>Control_vs_Fam</th>\n",
       "      <th>Control_vs_Unfam</th>\n",
       "      <th>Fam_vs_Unfam</th>\n",
       "    </tr>\n",
       "  </thead>\n",
       "  <tbody>\n",
       "  </tbody>\n",
       "</table>\n",
       "</div>"
      ],
      "text/plain": [
       "Empty DataFrame\n",
       "Columns: [Control_vs_Fam, Control_vs_Unfam, Fam_vs_Unfam]\n",
       "Index: []"
      ]
     },
     "execution_count": 22,
     "metadata": {},
     "output_type": "execute_result"
    }
   ],
   "source": [
    "level10 = np.load('dict_results/newvolumes/dict_results_across_mice_BL_woF_level10.npy',\n",
    "                 allow_pickle=True).item()\n",
    "find_significant_areas(dictionary=level10, \n",
    "                       experimental_groups=experimental_groups_wof,\n",
    "                       value='n_cells',\n",
    "                       test='mannwhitneyu',\n",
    "                      alpha=0.05)"
   ]
  },
  {
   "cell_type": "code",
   "execution_count": 23,
   "metadata": {
    "ExecuteTime": {
     "end_time": "2024-06-07T09:17:31.562716Z",
     "start_time": "2024-06-07T09:17:31.445091Z"
    }
   },
   "outputs": [],
   "source": [
    "find_significant_areas(dictionary=level10, \n",
    "                       experimental_groups=experimental_groups_wof,\n",
    "                       value='n_cells',\n",
    "                       test='mannwhitneyu',\n",
    "                      alpha=0.05).to_csv('non_param_test_c57WOF_level10.csv')"
   ]
  },
  {
   "cell_type": "code",
   "execution_count": 24,
   "metadata": {
    "ExecuteTime": {
     "end_time": "2024-06-07T09:17:43.898478Z",
     "start_time": "2024-06-07T09:17:31.563941Z"
    }
   },
   "outputs": [
    {
     "data": {
      "text/plain": [
       "{'Cortical amygdalar area posterior part': (KruskalResult(statistic=14.98522167487684, pvalue=0.0005571863368546974),\n",
       "            Control       Fam     Unfam\n",
       "  Control  1.000000  0.038654  0.000327\n",
       "  Fam      0.038654  1.000000  0.081909\n",
       "  Unfam    0.000327  0.081909  1.000000),\n",
       " 'Entorhinal area medial part ventral zone': (KruskalResult(statistic=9.427074774034505, pvalue=0.008972980471623404),\n",
       "            Control       Fam     Unfam\n",
       "  Control  1.000000  0.137763  0.006416\n",
       "  Fam      0.137763  1.000000  0.141972\n",
       "  Unfam    0.006416  0.141972  1.000000),\n",
       " 'Basolateral amygdalar nucleus ventral part': (KruskalResult(statistic=6.572689882094864, pvalue=0.03739026356100799),\n",
       "            Control       Fam     Unfam\n",
       "  Control  1.000000  0.748466  0.079155\n",
       "  Fam      0.748466  1.000000  0.049943\n",
       "  Unfam    0.079155  0.049943  1.000000),\n",
       " 'Lateral septal nucleus ventral part': (KruskalResult(statistic=10.985134393856283, pvalue=0.004117260776017655),\n",
       "            Control       Fam     Unfam\n",
       "  Control  1.000000  0.213374  0.003517\n",
       "  Fam      0.213374  1.000000  0.050681\n",
       "  Unfam    0.003517  0.050681  1.000000),\n",
       " 'Medial septal nucleus': (KruskalResult(statistic=8.547904109589027, pvalue=0.013926635425390766),\n",
       "            Control       Fam     Unfam\n",
       "  Control  1.000000  0.724401  0.025038\n",
       "  Fam      0.724401  1.000000  0.025038\n",
       "  Unfam    0.025038  0.025038  1.000000),\n",
       " 'Tuberomammillary nucleus ventral part': (KruskalResult(statistic=8.119293941979512, pvalue=0.0172551095944869),\n",
       "            Control       Fam     Unfam\n",
       "  Control  1.000000  0.383224  0.018431\n",
       "  Fam      0.383224  1.000000  0.071326\n",
       "  Unfam    0.018431  0.071326  1.000000)}"
      ]
     },
     "execution_count": 24,
     "metadata": {},
     "output_type": "execute_result"
    }
   ],
   "source": [
    "#ks-test\n",
    "ace.kruskal_per_area(dictionary=level9,\n",
    "                     experimental_groups=utils.divide_in_exp_groups(list_subjects=list(level9.keys())),\n",
    "                     value='n_cells',\n",
    "                     level=9)"
   ]
  },
  {
   "cell_type": "code",
   "execution_count": 25,
   "metadata": {
    "ExecuteTime": {
     "end_time": "2024-06-07T09:17:43.901592Z",
     "start_time": "2024-06-07T09:17:43.899758Z"
    }
   },
   "outputs": [],
   "source": [
    "# df_control_cell_count, df_fam_cell_count, df_unfam_cell_count = \\\n",
    "# ace.calculate_value_across_groups(experimental_groups=experimental_groups_wof, \n",
    "#                               dict_results_across_mice=level10, \n",
    "#                               value='n_cells')"
   ]
  },
  {
   "cell_type": "markdown",
   "metadata": {},
   "source": [
    "### Level 11"
   ]
  },
  {
   "cell_type": "code",
   "execution_count": 26,
   "metadata": {
    "ExecuteTime": {
     "end_time": "2024-06-07T09:17:46.396454Z",
     "start_time": "2024-06-07T09:17:43.902930Z"
    }
   },
   "outputs": [
    {
     "data": {
      "text/html": [
       "<div>\n",
       "<style scoped>\n",
       "    .dataframe tbody tr th:only-of-type {\n",
       "        vertical-align: middle;\n",
       "    }\n",
       "\n",
       "    .dataframe tbody tr th {\n",
       "        vertical-align: top;\n",
       "    }\n",
       "\n",
       "    .dataframe thead th {\n",
       "        text-align: right;\n",
       "    }\n",
       "</style>\n",
       "<table border=\"1\" class=\"dataframe\">\n",
       "  <thead>\n",
       "    <tr style=\"text-align: right;\">\n",
       "      <th></th>\n",
       "      <th>Control_vs_Fam</th>\n",
       "      <th>Control_vs_Unfam</th>\n",
       "      <th>Fam_vs_Unfam</th>\n",
       "    </tr>\n",
       "  </thead>\n",
       "  <tbody>\n",
       "    <tr>\n",
       "      <th>0</th>\n",
       "      <td>Accessory olfactory bulb mitral layer</td>\n",
       "      <td>Accessory olfactory bulb mitral layer</td>\n",
       "      <td>Primary somatosensory area mouth layer 1</td>\n",
       "    </tr>\n",
       "    <tr>\n",
       "      <th>1</th>\n",
       "      <td>Accessory olfactory bulb granular layer</td>\n",
       "      <td>Accessory olfactory bulb granular layer</td>\n",
       "      <td>Primary somatosensory area trunk layer 1</td>\n",
       "    </tr>\n",
       "    <tr>\n",
       "      <th>2</th>\n",
       "      <td>Agranular insular area ventral part layer 6b</td>\n",
       "      <td>Primary auditory area layer 1</td>\n",
       "      <td>Anteromedial visual area layer 5</td>\n",
       "    </tr>\n",
       "    <tr>\n",
       "      <th>3</th>\n",
       "      <td>Visceral area layer 5</td>\n",
       "      <td>Anteromedial visual area layer 5</td>\n",
       "      <td>Agranular insular area posterior part layer 6b</td>\n",
       "    </tr>\n",
       "    <tr>\n",
       "      <th>4</th>\n",
       "      <td>Perirhinal area layer 2/3</td>\n",
       "      <td>Primary visual area layer 2/3</td>\n",
       "      <td>Primary somatosensory area upper limb layer 1</td>\n",
       "    </tr>\n",
       "    <tr>\n",
       "      <th>5</th>\n",
       "      <td>Infralimbic area layer 6b</td>\n",
       "      <td>Temporal association areas layer 2/3</td>\n",
       "      <td>Agranular insular area dorsal part layer 2/3</td>\n",
       "    </tr>\n",
       "    <tr>\n",
       "      <th>6</th>\n",
       "      <td>Posterior auditory area layer 1</td>\n",
       "      <td>Retrosplenial area lateral agranular part layer 1</td>\n",
       "      <td>Primary motor area Layer 1</td>\n",
       "    </tr>\n",
       "    <tr>\n",
       "      <th>7</th>\n",
       "      <td>Dorsal auditory area layer 5</td>\n",
       "      <td>Anteromedial visual area layer 2/3</td>\n",
       "      <td>Retrosplenial area dorsal part layer 6b</td>\n",
       "    </tr>\n",
       "    <tr>\n",
       "      <th>8</th>\n",
       "      <td>Visceral area layer 2/3</td>\n",
       "      <td>NaN</td>\n",
       "      <td>Agranular insular area ventral part layer 5</td>\n",
       "    </tr>\n",
       "    <tr>\n",
       "      <th>9</th>\n",
       "      <td>Primary somatosensory area trunk layer 1</td>\n",
       "      <td>NaN</td>\n",
       "      <td>Gustatory areas layer 4</td>\n",
       "    </tr>\n",
       "    <tr>\n",
       "      <th>10</th>\n",
       "      <td>Agranular insular area dorsal part layer 2/3</td>\n",
       "      <td>NaN</td>\n",
       "      <td>Temporal association areas layer 1</td>\n",
       "    </tr>\n",
       "    <tr>\n",
       "      <th>11</th>\n",
       "      <td>Secondary motor area layer 5</td>\n",
       "      <td>NaN</td>\n",
       "      <td>Agranular insular area posterior part layer 1</td>\n",
       "    </tr>\n",
       "    <tr>\n",
       "      <th>12</th>\n",
       "      <td>Primary auditory area layer 5</td>\n",
       "      <td>NaN</td>\n",
       "      <td>Visceral area layer 2/3</td>\n",
       "    </tr>\n",
       "    <tr>\n",
       "      <th>13</th>\n",
       "      <td>Retrosplenial area dorsal part layer 6b</td>\n",
       "      <td>NaN</td>\n",
       "      <td>Gustatory areas layer 1</td>\n",
       "    </tr>\n",
       "    <tr>\n",
       "      <th>14</th>\n",
       "      <td>Visceral area layer 6b</td>\n",
       "      <td>NaN</td>\n",
       "      <td>Agranular insular area posterior part layer 6a</td>\n",
       "    </tr>\n",
       "    <tr>\n",
       "      <th>15</th>\n",
       "      <td>Primary somatosensory area upper limb layer 1</td>\n",
       "      <td>NaN</td>\n",
       "      <td>Agranular insular area ventral part layer 6a</td>\n",
       "    </tr>\n",
       "    <tr>\n",
       "      <th>16</th>\n",
       "      <td>Perirhinal area layer 1</td>\n",
       "      <td>NaN</td>\n",
       "      <td>Anterior cingulate area dorsal part layer 1</td>\n",
       "    </tr>\n",
       "    <tr>\n",
       "      <th>17</th>\n",
       "      <td>Perirhinal area layer 5</td>\n",
       "      <td>NaN</td>\n",
       "      <td>Agranular insular area ventral part layer 2/3</td>\n",
       "    </tr>\n",
       "    <tr>\n",
       "      <th>18</th>\n",
       "      <td>Primary auditory area layer 6b</td>\n",
       "      <td>NaN</td>\n",
       "      <td>Gustatory areas layer 5</td>\n",
       "    </tr>\n",
       "    <tr>\n",
       "      <th>19</th>\n",
       "      <td>Visceral area layer 4</td>\n",
       "      <td>NaN</td>\n",
       "      <td>Prelimbic area layer 6b</td>\n",
       "    </tr>\n",
       "    <tr>\n",
       "      <th>20</th>\n",
       "      <td>Agranular insular area ventral part layer 1</td>\n",
       "      <td>NaN</td>\n",
       "      <td>Accessory olfactory bulb glomerular layer</td>\n",
       "    </tr>\n",
       "    <tr>\n",
       "      <th>21</th>\n",
       "      <td>Gustatory areas layer 4</td>\n",
       "      <td>NaN</td>\n",
       "      <td>Primary somatosensory area barrel field layer 2/3</td>\n",
       "    </tr>\n",
       "    <tr>\n",
       "      <th>22</th>\n",
       "      <td>NaN</td>\n",
       "      <td>NaN</td>\n",
       "      <td>Agranular insular area dorsal part layer 5</td>\n",
       "    </tr>\n",
       "    <tr>\n",
       "      <th>23</th>\n",
       "      <td>NaN</td>\n",
       "      <td>NaN</td>\n",
       "      <td>Orbital area medial part layer 6a</td>\n",
       "    </tr>\n",
       "  </tbody>\n",
       "</table>\n",
       "</div>"
      ],
      "text/plain": [
       "                                   Control_vs_Fam  \\\n",
       "0           Accessory olfactory bulb mitral layer   \n",
       "1         Accessory olfactory bulb granular layer   \n",
       "2    Agranular insular area ventral part layer 6b   \n",
       "3                           Visceral area layer 5   \n",
       "4                       Perirhinal area layer 2/3   \n",
       "5                       Infralimbic area layer 6b   \n",
       "6                 Posterior auditory area layer 1   \n",
       "7                    Dorsal auditory area layer 5   \n",
       "8                         Visceral area layer 2/3   \n",
       "9        Primary somatosensory area trunk layer 1   \n",
       "10   Agranular insular area dorsal part layer 2/3   \n",
       "11                   Secondary motor area layer 5   \n",
       "12                  Primary auditory area layer 5   \n",
       "13        Retrosplenial area dorsal part layer 6b   \n",
       "14                         Visceral area layer 6b   \n",
       "15  Primary somatosensory area upper limb layer 1   \n",
       "16                        Perirhinal area layer 1   \n",
       "17                        Perirhinal area layer 5   \n",
       "18                 Primary auditory area layer 6b   \n",
       "19                          Visceral area layer 4   \n",
       "20    Agranular insular area ventral part layer 1   \n",
       "21                        Gustatory areas layer 4   \n",
       "22                                            NaN   \n",
       "23                                            NaN   \n",
       "\n",
       "                                     Control_vs_Unfam  \\\n",
       "0               Accessory olfactory bulb mitral layer   \n",
       "1             Accessory olfactory bulb granular layer   \n",
       "2                       Primary auditory area layer 1   \n",
       "3                    Anteromedial visual area layer 5   \n",
       "4                       Primary visual area layer 2/3   \n",
       "5                Temporal association areas layer 2/3   \n",
       "6   Retrosplenial area lateral agranular part layer 1   \n",
       "7                  Anteromedial visual area layer 2/3   \n",
       "8                                                 NaN   \n",
       "9                                                 NaN   \n",
       "10                                                NaN   \n",
       "11                                                NaN   \n",
       "12                                                NaN   \n",
       "13                                                NaN   \n",
       "14                                                NaN   \n",
       "15                                                NaN   \n",
       "16                                                NaN   \n",
       "17                                                NaN   \n",
       "18                                                NaN   \n",
       "19                                                NaN   \n",
       "20                                                NaN   \n",
       "21                                                NaN   \n",
       "22                                                NaN   \n",
       "23                                                NaN   \n",
       "\n",
       "                                         Fam_vs_Unfam  \n",
       "0            Primary somatosensory area mouth layer 1  \n",
       "1            Primary somatosensory area trunk layer 1  \n",
       "2                    Anteromedial visual area layer 5  \n",
       "3      Agranular insular area posterior part layer 6b  \n",
       "4       Primary somatosensory area upper limb layer 1  \n",
       "5        Agranular insular area dorsal part layer 2/3  \n",
       "6                          Primary motor area Layer 1  \n",
       "7             Retrosplenial area dorsal part layer 6b  \n",
       "8         Agranular insular area ventral part layer 5  \n",
       "9                             Gustatory areas layer 4  \n",
       "10                 Temporal association areas layer 1  \n",
       "11      Agranular insular area posterior part layer 1  \n",
       "12                            Visceral area layer 2/3  \n",
       "13                            Gustatory areas layer 1  \n",
       "14     Agranular insular area posterior part layer 6a  \n",
       "15       Agranular insular area ventral part layer 6a  \n",
       "16        Anterior cingulate area dorsal part layer 1  \n",
       "17      Agranular insular area ventral part layer 2/3  \n",
       "18                            Gustatory areas layer 5  \n",
       "19                            Prelimbic area layer 6b  \n",
       "20          Accessory olfactory bulb glomerular layer  \n",
       "21  Primary somatosensory area barrel field layer 2/3  \n",
       "22         Agranular insular area dorsal part layer 5  \n",
       "23                  Orbital area medial part layer 6a  "
      ]
     },
     "execution_count": 26,
     "metadata": {},
     "output_type": "execute_result"
    }
   ],
   "source": [
    "level11 = np.load('dict_results/newvolumes/dict_results_across_mice_BL_woF_level11.npy',\n",
    "                 allow_pickle=True).item()\n",
    "find_significant_areas(dictionary=level11, \n",
    "                       experimental_groups=experimental_groups_wof,\n",
    "                       value='n_cells',\n",
    "                       test='mannwhitneyu',\n",
    "                      alpha=0.05)"
   ]
  },
  {
   "cell_type": "code",
   "execution_count": 27,
   "metadata": {
    "ExecuteTime": {
     "end_time": "2024-06-07T09:17:48.253372Z",
     "start_time": "2024-06-07T09:17:46.398028Z"
    }
   },
   "outputs": [],
   "source": [
    "find_significant_areas(dictionary=level11, \n",
    "                       experimental_groups=experimental_groups_wof,\n",
    "                       value='n_cells',\n",
    "                       test='mannwhitneyu',\n",
    "                      alpha=0.05).to_csv('non_param_test_c57WOF_level11.csv')"
   ]
  },
  {
   "cell_type": "code",
   "execution_count": 28,
   "metadata": {
    "ExecuteTime": {
     "end_time": "2024-06-07T09:18:22.621947Z",
     "start_time": "2024-06-07T09:17:48.254676Z"
    }
   },
   "outputs": [
    {
     "data": {
      "text/plain": [
       "{'Primary somatosensory area upper limb layer 1': (KruskalResult(statistic=6.011579670329674, pvalue=0.04949964232630368),\n",
       "            Control       Fam     Unfam\n",
       "  Control  1.000000  0.070951  0.923289\n",
       "  Fam      0.070951  1.000000  0.070951\n",
       "  Unfam    0.923289  0.070951  1.000000),\n",
       " 'Anteromedial visual area layer 5': (KruskalResult(statistic=6.391542568137109, pvalue=0.04093494072964938),\n",
       "            Control       Fam     Unfam\n",
       "  Control  1.000000  0.541695  0.133438\n",
       "  Fam      0.541695  1.000000  0.042695\n",
       "  Unfam    0.133438  0.042695  1.000000),\n",
       " 'Agranular insular area dorsal part layer 2/3': (KruskalResult(statistic=5.9934228555768625, pvalue=0.04995106624903229),\n",
       "            Control       Fam     Unfam\n",
       "  Control  1.000000  0.056658  0.938673\n",
       "  Fam      0.056658  1.000000  0.056658\n",
       "  Unfam    0.938673  0.056658  1.000000),\n",
       " 'Accessory olfactory bulb granular layer': (KruskalResult(statistic=12.551671232876707, pvalue=0.001881218419775376),\n",
       "            Control       Fam     Unfam\n",
       "  Control  1.000000  0.010639  0.001946\n",
       "  Fam      0.010639  1.000000  0.446334\n",
       "  Unfam    0.001946  0.446334  1.000000),\n",
       " 'Accessory olfactory bulb mitral layer': (KruskalResult(statistic=16.02754934210526, pvalue=0.000330873420527084),\n",
       "            Control       Fam     Unfam\n",
       "  Control  1.000000  0.001686  0.000542\n",
       "  Fam      0.001686  1.000000  0.605225\n",
       "  Unfam    0.000542  0.605225  1.000000)}"
      ]
     },
     "execution_count": 28,
     "metadata": {},
     "output_type": "execute_result"
    }
   ],
   "source": [
    "#ks-test\n",
    "ace.kruskal_per_area(dictionary=level11,\n",
    "                     experimental_groups=utils.divide_in_exp_groups(list_subjects=list(level11.keys())),\n",
    "                     value='n_cells',\n",
    "                     level=11)"
   ]
  },
  {
   "cell_type": "markdown",
   "metadata": {},
   "source": [
    "# Adapted tests for SUM\n"
   ]
  },
  {
   "cell_type": "markdown",
   "metadata": {},
   "source": [
    "## c57 WITH FATHER"
   ]
  },
  {
   "cell_type": "code",
   "execution_count": 29,
   "metadata": {
    "ExecuteTime": {
     "end_time": "2024-06-07T09:18:22.646549Z",
     "start_time": "2024-06-07T09:18:22.623369Z"
    }
   },
   "outputs": [],
   "source": [
    "c57_wf = np.load('dict_results/newvolumes/dict_results_across_mice_c57_merged_hemispheres_F6BL48.npy', \n",
    "                                   allow_pickle=True).item()\n",
    "c57_wf.pop('F1Control')\n",
    "c57_wf.pop('F9Fam')\n",
    "experimental_groups = utils.divide_in_exp_groups(list_subjects=c57_wf.keys())"
   ]
  },
  {
   "cell_type": "markdown",
   "metadata": {},
   "source": [
    "### NON PARAMETRIC TEST "
   ]
  },
  {
   "cell_type": "code",
   "execution_count": 30,
   "metadata": {
    "ExecuteTime": {
     "end_time": "2024-06-07T09:18:23.749283Z",
     "start_time": "2024-06-07T09:18:22.647580Z"
    }
   },
   "outputs": [
    {
     "data": {
      "text/plain": [
       "pval_Control_vs_Fam       0.238595\n",
       "pval_Control_vs_Unfam     0.127201\n",
       "pval_Fam_vs_Unfam        0.0985791\n",
       "Name: Supramammillary nucleus, dtype: object"
      ]
     },
     "execution_count": 30,
     "metadata": {},
     "output_type": "execute_result"
    }
   ],
   "source": [
    "df_control_cell_count, df_fam_cell_count, df_unfam_cell_count = \\\n",
    "ace.calculate_value_across_groups(experimental_groups=experimental_groups, \n",
    "                              dict_results_across_mice=c57_wf, \n",
    "                              value='n_cells')\n",
    "\n",
    "df_ttest_ncells = ace.test_across_groups([df_control_cell_count,df_fam_cell_count,df_unfam_cell_count], \n",
    "                                         test='mannwhitneyu')\n",
    "\n",
    "df_ttest_not_null_ncells = df_ttest_ncells.dropna(axis=0,\n",
    "                                   how='all',\n",
    "                                   subset=['pval_Control_vs_Fam',\n",
    "                                          'pval_Control_vs_Unfam',\n",
    "                                          'pval_Fam_vs_Unfam'])\n",
    "\n",
    "df_ttest_not_null_ncells.set_index('area').loc['Supramammillary nucleus']"
   ]
  },
  {
   "cell_type": "markdown",
   "metadata": {},
   "source": [
    "### KRUSKAL WALLIS TEST"
   ]
  },
  {
   "cell_type": "code",
   "execution_count": 31,
   "metadata": {
    "ExecuteTime": {
     "end_time": "2024-06-07T09:18:37.008950Z",
     "start_time": "2024-06-07T09:18:23.750548Z"
    }
   },
   "outputs": [],
   "source": [
    "ks_wf = ace.kruskal_per_area(dictionary=c57_wf,\n",
    "                     experimental_groups=utils.divide_in_exp_groups(list_subjects=list(c57_wf.keys())),\n",
    "                     value='n_cells',\n",
    "                     level=8)"
   ]
  },
  {
   "cell_type": "code",
   "execution_count": 32,
   "metadata": {
    "ExecuteTime": {
     "end_time": "2024-06-07T09:18:37.013009Z",
     "start_time": "2024-06-07T09:18:37.010040Z"
    }
   },
   "outputs": [
    {
     "data": {
      "text/plain": [
       "dict_keys(['Main olfactory bulb', 'Accessory olfactory bulb', 'Cortical amygdalar area', 'Piriform-amygdalar area', 'Basomedial amygdalar nucleus', 'Posterior amygdalar nucleus', 'Medial amygdalar nucleus', 'Bed nuclei of the stria terminalis', 'Arcuate hypothalamic nucleus', 'Posterodorsal preoptic nucleus', 'Periventricular hypothalamic nucleus posterior part', 'Medial preoptic nucleus', 'Ventral premammillary nucleus', 'Tuberal nucleus', 'Lateral terminal nucleus of the accessory optic tract'])"
      ]
     },
     "execution_count": 32,
     "metadata": {},
     "output_type": "execute_result"
    }
   ],
   "source": [
    "ks_wf.keys()"
   ]
  },
  {
   "cell_type": "markdown",
   "metadata": {},
   "source": [
    "## c57 WITHOUT FATHER"
   ]
  },
  {
   "cell_type": "code",
   "execution_count": 33,
   "metadata": {
    "ExecuteTime": {
     "end_time": "2024-06-07T09:18:37.041778Z",
     "start_time": "2024-06-07T09:18:37.014300Z"
    }
   },
   "outputs": [],
   "source": [
    "c57_wof = np.load('dict_results/newvolumes/dict_results_across_mice_BL_woF2000_36.npy', \n",
    "                                   allow_pickle=True).item()\n",
    "c57_wof.pop('BL21Fam')\n",
    "c57_wof.pop('BL24Fam')\n",
    "c57_wof.pop('BL36Fam')\n",
    "c57_wof.pop('BL37Fam')\n",
    "c57_wof.pop('BL31Unfam')\n",
    "c57_wof.pop('BL35Unfam')\n",
    "experimental_groups = utils.divide_in_exp_groups(list_subjects=c57_wof.keys())"
   ]
  },
  {
   "cell_type": "markdown",
   "metadata": {
    "ExecuteTime": {
     "end_time": "2024-06-07T07:35:47.219268Z",
     "start_time": "2024-06-07T07:35:47.216240Z"
    }
   },
   "source": [
    "### NON PARAMETRIC TEST"
   ]
  },
  {
   "cell_type": "code",
   "execution_count": 34,
   "metadata": {
    "ExecuteTime": {
     "end_time": "2024-06-07T09:18:38.191600Z",
     "start_time": "2024-06-07T09:18:37.043041Z"
    }
   },
   "outputs": [
    {
     "data": {
      "text/plain": [
       "pval_Control_vs_Fam      0.0775629\n",
       "pval_Control_vs_Unfam    0.0517809\n",
       "pval_Fam_vs_Unfam         0.280638\n",
       "Name: Supramammillary nucleus, dtype: object"
      ]
     },
     "execution_count": 34,
     "metadata": {},
     "output_type": "execute_result"
    }
   ],
   "source": [
    "df_control_cell_count, df_fam_cell_count, df_unfam_cell_count = \\\n",
    "ace.calculate_value_across_groups(experimental_groups=experimental_groups, \n",
    "                              dict_results_across_mice=c57_wof, \n",
    "                              value='n_cells')\n",
    "\n",
    "df_ttest_ncells = ace.test_across_groups([df_control_cell_count,df_fam_cell_count,df_unfam_cell_count], \n",
    "                                         test='mannwhitneyu')\n",
    "\n",
    "df_ttest_not_null_ncells = df_ttest_ncells.dropna(axis=0,\n",
    "                                   how='all',\n",
    "                                   subset=['pval_Control_vs_Fam',\n",
    "                                          'pval_Control_vs_Unfam',\n",
    "                                          'pval_Fam_vs_Unfam'])\n",
    "\n",
    "df_ttest_not_null_ncells.set_index('area').loc['Supramammillary nucleus']"
   ]
  },
  {
   "cell_type": "markdown",
   "metadata": {},
   "source": [
    "### KRUSKAL WALLIS TEST"
   ]
  },
  {
   "cell_type": "code",
   "execution_count": 35,
   "metadata": {
    "ExecuteTime": {
     "end_time": "2024-06-07T09:18:50.895443Z",
     "start_time": "2024-06-07T09:18:38.192888Z"
    },
    "scrolled": false
   },
   "outputs": [],
   "source": [
    "ks_wof = ace.kruskal_per_area(dictionary=c57_wof,\n",
    "                     experimental_groups=utils.divide_in_exp_groups(list_subjects=list(c57_wof.keys())),\n",
    "                     value='n_cells',\n",
    "                     level=8)"
   ]
  },
  {
   "cell_type": "code",
   "execution_count": 36,
   "metadata": {
    "ExecuteTime": {
     "end_time": "2024-06-07T09:18:50.899279Z",
     "start_time": "2024-06-07T09:18:50.896534Z"
    }
   },
   "outputs": [
    {
     "data": {
      "text/plain": [
       "dict_keys(['Main olfactory bulb', 'Accessory olfactory bulb', 'Anterior olfactory nucleus', 'Cortical amygdalar area', 'Piriform-amygdalar area', 'Induseum griseum', 'Posterior amygdalar nucleus', 'Septohippocampal nucleus', 'Medial amygdalar nucleus', 'Medial septal complex', 'Triangular nucleus of septum', 'Bed nuclei of the stria terminalis', 'Anteromedial nucleus', 'Anterodorsal preoptic nucleus', 'Medial preoptic area', 'Posterodorsal preoptic nucleus', 'Periventricular hypothalamic nucleus posterior part', 'Periventricular hypothalamic nucleus preoptic part', 'Tuberomammillary nucleus', 'Medial preoptic nucleus', 'Dorsal premammillary nucleus', 'Ventral premammillary nucleus', 'Parasubthalamic nucleus', 'Tuberal nucleus', 'Nucleus of the brachium of the inferior colliculus'])"
      ]
     },
     "execution_count": 36,
     "metadata": {},
     "output_type": "execute_result"
    }
   ],
   "source": [
    "ks_wof.keys()"
   ]
  },
  {
   "cell_type": "code",
   "execution_count": null,
   "metadata": {},
   "outputs": [],
   "source": []
  }
 ],
 "metadata": {
  "kernelspec": {
   "display_name": "ClearMap",
   "language": "python",
   "name": "clearmap"
  },
  "language_info": {
   "codemirror_mode": {
    "name": "ipython",
    "version": 3
   },
   "file_extension": ".py",
   "mimetype": "text/x-python",
   "name": "python",
   "nbconvert_exporter": "python",
   "pygments_lexer": "ipython3",
   "version": "3.8.1"
  },
  "latex_envs": {
   "LaTeX_envs_menu_present": true,
   "autoclose": false,
   "autocomplete": true,
   "bibliofile": "biblio.bib",
   "cite_by": "apalike",
   "current_citInitial": 1,
   "eqLabelWithNumbers": true,
   "eqNumInitial": 1,
   "hotkeys": {
    "equation": "Ctrl-E",
    "itemize": "Ctrl-I"
   },
   "labels_anchors": false,
   "latex_user_defs": false,
   "report_style_numbering": false,
   "user_envs_cfg": false
  },
  "toc": {
   "nav_menu": {},
   "number_sections": true,
   "sideBar": true,
   "skip_h1_title": false,
   "title_cell": "Table of Contents",
   "title_sidebar": "Contents",
   "toc_cell": false,
   "toc_position": {},
   "toc_section_display": true,
   "toc_window_display": false
  },
  "varInspector": {
   "cols": {
    "lenName": 16,
    "lenType": 16,
    "lenVar": 40
   },
   "kernels_config": {
    "python": {
     "delete_cmd_postfix": "",
     "delete_cmd_prefix": "del ",
     "library": "var_list.py",
     "varRefreshCmd": "print(var_dic_list())"
    },
    "r": {
     "delete_cmd_postfix": ") ",
     "delete_cmd_prefix": "rm(",
     "library": "var_list.r",
     "varRefreshCmd": "cat(var_dic_list()) "
    }
   },
   "types_to_exclude": [
    "module",
    "function",
    "builtin_function_or_method",
    "instance",
    "_Feature"
   ],
   "window_display": false
  }
 },
 "nbformat": 4,
 "nbformat_minor": 4
}
