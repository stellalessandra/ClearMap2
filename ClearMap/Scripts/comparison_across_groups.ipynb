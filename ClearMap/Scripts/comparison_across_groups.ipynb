{
 "cells": [
  {
   "cell_type": "markdown",
   "metadata": {},
   "source": [
    "# Comparison general cell count across mice strains\n",
    "\n",
    "Notebook Plotting histograms and boxplots per group and per mouse across mice strains\n",
    "- c57 with father \n",
    "- c57 without father \n",
    "- WILD without father \n",
    "- WILD with father"
   ]
  },
  {
   "cell_type": "code",
   "execution_count": 1,
   "metadata": {
    "ExecuteTime": {
     "end_time": "2024-07-05T13:13:16.554327Z",
     "start_time": "2024-07-05T13:13:15.828019Z"
    }
   },
   "outputs": [],
   "source": [
    "# !pip install odfpy\n",
    "# !pip install seaborn\n",
    "import os\n",
    "import pandas as pd\n",
    "import seaborn as sns\n",
    "import matplotlib.pyplot as plt\n",
    "import yaml\n",
    "from yaml import Loader\n",
    "import numpy as np\n",
    "import analyze_cells_energy as ace\n",
    "import utils\n",
    "from scipy.stats import ttest_ind, mannwhitneyu"
   ]
  },
  {
   "cell_type": "code",
   "execution_count": 2,
   "metadata": {
    "ExecuteTime": {
     "end_time": "2024-07-05T13:13:16.564681Z",
     "start_time": "2024-07-05T13:13:16.555651Z"
    }
   },
   "outputs": [],
   "source": [
    "root_directory = '/home/stella/Documents/Torino/projects/'\n",
    "experiment = 'SexualImprinting'\n",
    "\n",
    "c57_wf = 'C57_MaleUrine_Exposure_cFos'\n",
    "c57_wof = 'BL_woF'\n",
    "wild_wf = 'WILD_with_father'\n",
    "wild_wof = 'WILD_without_father'\n",
    "\n",
    "data_directory_c57_wf = root_directory + experiment + '/' \\\n",
    "                + c57_wf + '/'\n",
    "data_directory_c57_wof = root_directory + experiment + '/' \\\n",
    "                + c57_wof + '/'\n",
    "data_directory_wild_wf = root_directory + experiment + '/' \\\n",
    "                + wild_wf + '/'\n",
    "data_directory_wild_wof = root_directory + experiment + '/' \\\n",
    "                + wild_wof + '/'"
   ]
  },
  {
   "cell_type": "code",
   "execution_count": 4,
   "metadata": {
    "ExecuteTime": {
     "end_time": "2024-07-05T13:13:16.575597Z",
     "start_time": "2024-07-05T13:13:16.572319Z"
    }
   },
   "outputs": [],
   "source": [
    "def append_mouse_group(df, dictionary, group_label, variable_label='n_cells'):\n",
    "    \"\"\"\n",
    "    Append data from a dictionary of results across mice to a DataFrame.\n",
    "\n",
    "    This function loads a dictionary from a file, calculates a specified variable\n",
    "    for each mouse, and appends this data along with a group label\n",
    "    to an existing DataFrame.\n",
    "\n",
    "    Parameters:\n",
    "    df (pd.DataFrame): Existing DataFrame to append the data.\n",
    "    dictionary (str): Name of the dictionary file (without '.npy') containing results.\n",
    "    group_label (str): Label to assign to the group being appended.\n",
    "    variable_label (str, optional): Label specifying the variable to calculate ('n_cells' or 'energy').\n",
    "                                    Defaults to 'n_cells'.\n",
    "\n",
    "    Returns:\n",
    "    pd.DataFrame: Updated DataFrame with appended data.\n",
    "    \"\"\"\n",
    "    # Load dictionary from file\n",
    "    dataset = np.load('dict_results/newvolumes/dict_results_across_mice_' + dictionary + '.npy', \n",
    "                      allow_pickle=True).item()\n",
    "    \n",
    "    # Calculate the specified variable for each mouse in the dataset\n",
    "    variable = [dataset[mouse][variable_label].sum() for mouse in dataset.keys()]\n",
    "    \n",
    "    # Create a DataFrame for the current mouse group\n",
    "    df_mouse_group = pd.DataFrame(columns=[variable_label, 'group'])\n",
    "    df_mouse_group[variable_label] = variable\n",
    "    df_mouse_group['group'] = group_label\n",
    "    \n",
    "    # Append the new DataFrame to the existing DataFrame\n",
    "    df = df.append(df_mouse_group)\n",
    "    \n",
    "    return df"
   ]
  },
  {
   "cell_type": "code",
   "execution_count": 15,
   "metadata": {
    "ExecuteTime": {
     "end_time": "2024-07-05T13:21:55.935385Z",
     "start_time": "2024-07-05T13:21:55.930197Z"
    }
   },
   "outputs": [],
   "source": [
    "def create_histogram(dataset, title):\n",
    "    \"\"\"\n",
    "    Create a histogram based on the total number of cells per experimental group.\n",
    "\n",
    "    This function calculates the total number of cells ('n_cells') for each mouse in \n",
    "    experimental groups ('Control', 'Fam', 'Unfam') from the provided dataset. It then \n",
    "    creates a histogram displaying these totals per mouse.\n",
    "\n",
    "    Parameters:\n",
    "    dataset (dict): Dictionary containing data for each mouse.\n",
    "    title (str): Title for the histogram plot.\n",
    "\n",
    "    Returns:\n",
    "    matplotlib.figure.Figure, matplotlib.axes.Axes: Figure and Axes objects of the histogram plot.\n",
    "    \"\"\"\n",
    "    # Divide mice into experimental groups\n",
    "    experimental_groups = utils.divide_in_exp_groups(list_subjects=dataset.keys(),\n",
    "                                                     group_labels=['Control', 'Fam', 'Unfam'])\n",
    "    \n",
    "    # Calculate total number of cells for each experimental group\n",
    "    variable_control = [dataset[mouse]['n_cells'].sum() for mouse in experimental_groups['Control']]\n",
    "    variable_fam = [dataset[mouse]['n_cells'].sum() for mouse in experimental_groups['Fam']]\n",
    "    variable_unfam = [dataset[mouse]['n_cells'].sum() for mouse in experimental_groups['Unfam']]\n",
    "    \n",
    "    # Combine all variables and corresponding mice\n",
    "    variable = variable_control + variable_fam + variable_unfam\n",
    "    mouse_control = [mouse for mouse in experimental_groups['Control']]\n",
    "    mouse_fam = [mouse for mouse in experimental_groups['Fam']]\n",
    "    mouse_unfam = [mouse for mouse in experimental_groups['Unfam']]\n",
    "    mouse = mouse_control + mouse_fam + mouse_unfam\n",
    "\n",
    "    # Create figure and axis for the histogram\n",
    "    fig, ax = plt.subplots(1, 1)\n",
    "    ax.bar(mouse, height=variable)\n",
    "    ax.tick_params(axis='x', labelrotation=90)\n",
    "    ax.set_title(title)  # Set the title for the histogram plot\n",
    "    \n",
    "    return fig, ax"
   ]
  },
  {
   "cell_type": "markdown",
   "metadata": {},
   "source": [
    "# Number of cells"
   ]
  },
  {
   "cell_type": "code",
   "execution_count": 5,
   "metadata": {
    "ExecuteTime": {
     "end_time": "2024-07-05T13:13:16.677272Z",
     "start_time": "2024-07-05T13:13:16.577401Z"
    }
   },
   "outputs": [],
   "source": [
    "df = {'n_cells', 'group'}\n",
    "df = pd.DataFrame(columns=['n_cells', 'group'])\n",
    "\n",
    "df = append_mouse_group(df=df, dictionary='c57_300', group_label='c57 with father')\n",
    "df = append_mouse_group(df=df, dictionary='BL_woF2000', group_label='c57 without father')\n",
    "df = append_mouse_group(df=df, dictionary='WILD_with_father2500_newwild', group_label='WILD with father')\n",
    "df = append_mouse_group(df=df, dictionary='WILD_without_father2500', group_label='WILD without father')"
   ]
  },
  {
   "cell_type": "code",
   "execution_count": 6,
   "metadata": {
    "ExecuteTime": {
     "end_time": "2024-07-05T13:13:16.874511Z",
     "start_time": "2024-07-05T13:13:16.679368Z"
    }
   },
   "outputs": [
    {
     "data": {
      "text/plain": [
       "<AxesSubplot:xlabel='n_cells', ylabel='group'>"
      ]
     },
     "execution_count": 6,
     "metadata": {},
     "output_type": "execute_result"
    },
    {
     "data": {
      "image/png": "[encoded data removed]",
      "text/plain": [
       "<Figure size 432x288 with 1 Axes>"
      ]
     },
     "metadata": {
      "needs_background": "light"
     },
     "output_type": "display_data"
    }
   ],
   "source": [
    "fig, ax = plt.subplots()\n",
    "sns.boxplot(data=df, x=\"n_cells\", y=\"group\", ax=ax)\n",
    "# fig.savefig('./figures/boxplot_ncells.png')"
   ]
  },
  {
   "cell_type": "code",
   "execution_count": 16,
   "metadata": {
    "ExecuteTime": {
     "end_time": "2024-07-05T13:22:21.611704Z",
     "start_time": "2024-07-05T13:22:21.362972Z"
    }
   },
   "outputs": [
    {
     "data": {
      "text/plain": [
       "(<Figure size 432x288 with 1 Axes>,\n",
       " <AxesSubplot:title={'center':'Black with father'}>)"
      ]
     },
     "execution_count": 16,
     "metadata": {},
     "output_type": "execute_result"
    },
    {
     "data": {
      "image/png": "[encoded data removed]",
      "text/plain": [
       "<Figure size 432x288 with 1 Axes>"
      ]
     },
     "metadata": {
      "needs_background": "light"
     },
     "output_type": "display_data"
    }
   ],
   "source": [
    "dataset = np.load('dict_results/newvolumes/dict_results_across_mice_c57_merged_hemispheres_F6BL48.npy', \n",
    "                  allow_pickle=True).item()\n",
    "\n",
    "create_histogram(dataset=dataset,\n",
    "                title='Black with father')"
   ]
  },
  {
   "cell_type": "code",
   "execution_count": 17,
   "metadata": {
    "ExecuteTime": {
     "end_time": "2024-07-05T13:22:36.636699Z",
     "start_time": "2024-07-05T13:22:36.381456Z"
    }
   },
   "outputs": [
    {
     "data": {
      "text/plain": [
       "(<Figure size 432x288 with 1 Axes>,\n",
       " <AxesSubplot:title={'center':'Black without father'}>)"
      ]
     },
     "execution_count": 17,
     "metadata": {},
     "output_type": "execute_result"
    },
    {
     "data": {
      "image/png": "[encoded data removed]",
      "text/plain": [
       "<Figure size 432x288 with 1 Axes>"
      ]
     },
     "metadata": {
      "needs_background": "light"
     },
     "output_type": "display_data"
    }
   ],
   "source": [
    "dataset = np.load('dict_results/newvolumes/dict_results_across_mice_BL_woF2000_36.npy', \n",
    "                  allow_pickle=True).item()\n",
    "\n",
    "create_histogram(dataset=dataset,\n",
    "                title='Black without father')"
   ]
  },
  {
   "cell_type": "code",
   "execution_count": 18,
   "metadata": {
    "ExecuteTime": {
     "end_time": "2024-07-05T13:22:51.590584Z",
     "start_time": "2024-07-05T13:22:51.296642Z"
    }
   },
   "outputs": [
    {
     "data": {
      "text/plain": [
       "(<Figure size 432x288 with 1 Axes>,\n",
       " <AxesSubplot:title={'center':'WILD with father'}>)"
      ]
     },
     "execution_count": 18,
     "metadata": {},
     "output_type": "execute_result"
    },
    {
     "data": {
      "image/png": "[encoded data removed]",
      "text/plain": [
       "<Figure size 432x288 with 1 Axes>"
      ]
     },
     "metadata": {
      "needs_background": "light"
     },
     "output_type": "display_data"
    }
   ],
   "source": [
    "dataset = np.load('dict_results/newvolumes/dict_results_across_mice_WILD_with_father2500_newwild.npy', \n",
    "                  allow_pickle=True).item()\n",
    "\n",
    "create_histogram(dataset=dataset,\n",
    "                title='WILD with father')"
   ]
  },
  {
   "cell_type": "code",
   "execution_count": 19,
   "metadata": {
    "ExecuteTime": {
     "end_time": "2024-07-05T13:23:05.888749Z",
     "start_time": "2024-07-05T13:23:05.673897Z"
    }
   },
   "outputs": [
    {
     "data": {
      "text/plain": [
       "(<Figure size 432x288 with 1 Axes>,\n",
       " <AxesSubplot:title={'center':'WILD without father'}>)"
      ]
     },
     "execution_count": 19,
     "metadata": {},
     "output_type": "execute_result"
    },
    {
     "data": {
      "image/png": "[encoded data removed]",
      "text/plain": [
       "<Figure size 432x288 with 1 Axes>"
      ]
     },
     "metadata": {
      "needs_background": "light"
     },
     "output_type": "display_data"
    }
   ],
   "source": [
    "dataset = np.load('dict_results/newvolumes/dict_results_across_mice_WILD_without_father2500.npy', \n",
    "                  allow_pickle=True).item()\n",
    "\n",
    "create_histogram(dataset=dataset,\n",
    "                title='WILD without father')"
   ]
  },
  {
   "cell_type": "markdown",
   "metadata": {},
   "source": [
    "# Energy"
   ]
  },
  {
   "cell_type": "code",
   "execution_count": 11,
   "metadata": {
    "ExecuteTime": {
     "end_time": "2024-07-05T13:13:18.167506Z",
     "start_time": "2024-07-05T13:13:18.019846Z"
    }
   },
   "outputs": [],
   "source": [
    "df = {'energy', 'group'}\n",
    "df = pd.DataFrame(columns=['energy', 'group'])\n",
    "\n",
    "df = append_mouse_group(df=df, dictionary='c57_merged_hemispheres_F6BL48', group_label='c57 with father', \n",
    "                        variable_label='energy')\n",
    "df = append_mouse_group(df=df, dictionary='BL_woF2000_36', group_label='c57 without father', \n",
    "                        variable_label='energy')\n",
    "df = append_mouse_group(df=df, dictionary='WILD_with_father2500_newwild', group_label='WILD with father', \n",
    "                        variable_label='energy')\n",
    "df = append_mouse_group(df=df, dictionary='WILD_without_father2500', group_label='WILD without father', \n",
    "                        variable_label='energy')"
   ]
  },
  {
   "cell_type": "code",
   "execution_count": 12,
   "metadata": {
    "ExecuteTime": {
     "end_time": "2024-07-05T13:13:18.355335Z",
     "start_time": "2024-07-05T13:13:18.169029Z"
    },
    "scrolled": true
   },
   "outputs": [
    {
     "data": {
      "image/png": "[encoded data removed]",
      "text/plain": [
       "<Figure size 432x288 with 1 Axes>"
      ]
     },
     "metadata": {
      "needs_background": "light"
     },
     "output_type": "display_data"
    }
   ],
   "source": [
    "fig, ax = plt.subplots()\n",
    "sns.boxplot(data=df, x=\"energy\", y=\"group\")\n",
    "fig.savefig('./figures/boxplot_energy.png')"
   ]
  },
  {
   "cell_type": "code",
   "execution_count": null,
   "metadata": {
    "ExecuteTime": {
     "end_time": "2023-04-26T07:34:04.980872Z",
     "start_time": "2023-04-26T07:34:04.964737Z"
    }
   },
   "outputs": [],
   "source": []
  },
  {
   "cell_type": "code",
   "execution_count": null,
   "metadata": {},
   "outputs": [],
   "source": []
  }
 ],
 "metadata": {
  "kernelspec": {
   "display_name": "ClearMap",
   "language": "python",
   "name": "clearmap"
  },
  "language_info": {
   "codemirror_mode": {
    "name": "ipython",
    "version": 3
   },
   "file_extension": ".py",
   "mimetype": "text/x-python",
   "name": "python",
   "nbconvert_exporter": "python",
   "pygments_lexer": "ipython3",
   "version": "3.8.1"
  },
  "latex_envs": {
   "LaTeX_envs_menu_present": true,
   "autoclose": false,
   "autocomplete": true,
   "bibliofile": "biblio.bib",
   "cite_by": "apalike",
   "current_citInitial": 1,
   "eqLabelWithNumbers": true,
   "eqNumInitial": 1,
   "hotkeys": {
    "equation": "Ctrl-E",
    "itemize": "Ctrl-I"
   },
   "labels_anchors": false,
   "latex_user_defs": false,
   "report_style_numbering": false,
   "user_envs_cfg": false
  },
  "toc": {
   "nav_menu": {},
   "number_sections": true,
   "sideBar": true,
   "skip_h1_title": false,
   "title_cell": "Table of Contents",
   "title_sidebar": "Contents",
   "toc_cell": false,
   "toc_position": {},
   "toc_section_display": true,
   "toc_window_display": false
  },
  "varInspector": {
   "cols": {
    "lenName": 16,
    "lenType": 16,
    "lenVar": 40
   },
   "kernels_config": {
    "python": {
     "delete_cmd_postfix": "",
     "delete_cmd_prefix": "del ",
     "library": "var_list.py",
     "varRefreshCmd": "print(var_dic_list())"
    },
    "r": {
     "delete_cmd_postfix": ") ",
     "delete_cmd_prefix": "rm(",
     "library": "var_list.r",
     "varRefreshCmd": "cat(var_dic_list()) "
    }
   },
   "types_to_exclude": [
    "module",
    "function",
    "builtin_function_or_method",
    "instance",
    "_Feature"
   ],
   "window_display": false
  }
 },
 "nbformat": 4,
 "nbformat_minor": 4
}
