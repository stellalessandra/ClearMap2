{
 "cells": [
  {
   "cell_type": "code",
   "execution_count": 1,
   "metadata": {
    "ExecuteTime": {
     "end_time": "2024-05-23T10:03:28.230858Z",
     "start_time": "2024-05-23T10:03:27.111601Z"
    }
   },
   "outputs": [],
   "source": [
    "# !pip install odfpy\n",
    "# !pip install seaborn\n",
    "import os\n",
    "import pandas as pd\n",
    "import seaborn as sns\n",
    "import matplotlib.pyplot as plt\n",
    "import yaml\n",
    "from yaml import Loader\n",
    "import numpy as np\n",
    "import analyze_cells_energy as ace\n",
    "import utils\n",
    "from scipy.stats import ttest_ind, mannwhitneyu, f_oneway, kruskal\n",
    "import networkx as nx\n",
    "import matplotlib.pyplot as plt\n",
    "import utils_PLS as upls\n",
    "import scikit_posthocs as sp"
   ]
  },
  {
   "cell_type": "code",
   "execution_count": 2,
   "metadata": {
    "ExecuteTime": {
     "end_time": "2024-05-23T10:03:28.246765Z",
     "start_time": "2024-05-23T10:03:28.242137Z"
    }
   },
   "outputs": [],
   "source": [
    "def boxplot(dfs, value):\n",
    "    df = pd.concat(dfs, ignore_index=True)\n",
    "    f, ax = plt.subplots(ncols=1, nrows=1, figsize=(5,5), sharey=True)\n",
    "    sns.boxplot(\n",
    "        data=df,\n",
    "        x=\"group\", y=value, palette=\"Accent\", ax=ax)\n",
    "    ax.set_xlabel('')\n",
    "    ax.tick_params(axis='x', labelrotation=90)"
   ]
  },
  {
   "cell_type": "markdown",
   "metadata": {},
   "source": [
    "# c57 with father"
   ]
  },
  {
   "cell_type": "code",
   "execution_count": 13,
   "metadata": {
    "ExecuteTime": {
     "end_time": "2024-05-27T12:54:59.650839Z",
     "start_time": "2024-05-27T12:54:59.071160Z"
    }
   },
   "outputs": [
    {
     "name": "stdout",
     "output_type": "stream",
     "text": [
      "n_cells\n",
      "KruskalResult(statistic=0.9200108533442091, pvalue=0.6312802197468721)\n",
      "energy\n",
      "KruskalResult(statistic=0.9140415140415286, pvalue=0.6331671972616968)\n",
      "density\n",
      "KruskalResult(statistic=3.061809795143134, pvalue=0.21633981334375155)\n",
      "relative_density\n",
      "KruskalResult(statistic=4.084981684981699, pvalue=0.12970523287396482)\n"
     ]
    },
    {
     "data": {
      "image/png": "[encoded data removed]",
      "text/plain": [
       "<Figure size 360x360 with 1 Axes>"
      ]
     },
     "metadata": {
      "needs_background": "light"
     },
     "output_type": "display_data"
    }
   ],
   "source": [
    "dict_results_across_mice = np.load('dict_results/newvolumes/dict_results_across_mice_c57_merged_hemispheres_F6BL48.npy', \n",
    "                                   allow_pickle=True).item()\n",
    "subjects = list(dict_results_across_mice.keys())\n",
    "experimental_groups = utils.divide_in_exp_groups(list_subjects=subjects)\n",
    "boxplot(ace.create_dfs_across_groups(dictionary_results=dict_results_across_mice, \n",
    "        experimental_groups=experimental_groups, \n",
    "        value='n_cells'), value='n_cells')\n",
    "for value in ['n_cells', 'energy', 'density', 'relative_density']:\n",
    "    print(value)\n",
    "    df = ace.create_dfs_across_groups(dictionary_results=dict_results_across_mice, \n",
    "            experimental_groups=experimental_groups, \n",
    "            value=value)\n",
    "    \n",
    "    print(kruskal(*[df[key][value].to_numpy() for key in df.keys()]))"
   ]
  },
  {
   "cell_type": "markdown",
   "metadata": {},
   "source": [
    "# c57 without father"
   ]
  },
  {
   "cell_type": "code",
   "execution_count": 14,
   "metadata": {
    "ExecuteTime": {
     "end_time": "2024-05-27T12:55:02.786882Z",
     "start_time": "2024-05-27T12:55:02.189452Z"
    }
   },
   "outputs": [
    {
     "name": "stdout",
     "output_type": "stream",
     "text": [
      "n_cells\n",
      "KruskalResult(statistic=3.036945812807872, pvalue=0.21904613562370936)\n",
      "energy\n",
      "KruskalResult(statistic=3.062438423645318, pvalue=0.21627182534269748)\n",
      "density\n",
      "KruskalResult(statistic=2.881773399014776, pvalue=0.23671776806825728)\n",
      "relative_density\n",
      "KruskalResult(statistic=2.3231527093596043, pvalue=0.31299240475971707)\n"
     ]
    },
    {
     "data": {
      "image/png": "[encoded data removed]",
      "text/plain": [
       "<Figure size 360x360 with 1 Axes>"
      ]
     },
     "metadata": {
      "needs_background": "light"
     },
     "output_type": "display_data"
    }
   ],
   "source": [
    "dict_results_across_mice = np.load('dict_results/newvolumes/dict_results_across_mice_BL_woF2000_36.npy', \n",
    "                                   allow_pickle=True).item()\n",
    "subjects = list(dict_results_across_mice.keys())\n",
    "experimental_groups = utils.divide_in_exp_groups(list_subjects=subjects)\n",
    "boxplot(ace.create_dfs_across_groups(dictionary_results=dict_results_across_mice, \n",
    "        experimental_groups=experimental_groups, \n",
    "        value='n_cells'), value='n_cells')\n",
    "for value in ['n_cells', 'energy', 'density', 'relative_density']:\n",
    "    print(value)\n",
    "    df = ace.create_dfs_across_groups(dictionary_results=dict_results_across_mice, \n",
    "            experimental_groups=experimental_groups, \n",
    "            value=value)\n",
    "    print(kruskal(*[df[key][value].to_numpy() for key in df.keys()]))"
   ]
  },
  {
   "cell_type": "markdown",
   "metadata": {},
   "source": [
    "# WILD with father"
   ]
  },
  {
   "cell_type": "code",
   "execution_count": 15,
   "metadata": {
    "ExecuteTime": {
     "end_time": "2024-05-27T12:55:05.184978Z",
     "start_time": "2024-05-27T12:55:04.696754Z"
    }
   },
   "outputs": [
    {
     "name": "stdout",
     "output_type": "stream",
     "text": [
      "n_cells\n",
      "KruskalResult(statistic=0.8800219780219862, pvalue=0.6440293437987165)\n",
      "energy\n",
      "KruskalResult(statistic=0.2967032967032992, pvalue=0.8621278957784488)\n",
      "density\n",
      "KruskalResult(statistic=0.41558241758242787, pvalue=0.8123766361057339)\n",
      "relative_density\n",
      "KruskalResult(statistic=0.5856923076923266, pvalue=0.746136922163362)\n"
     ]
    },
    {
     "data": {
      "image/png": "[encoded data removed]",
      "text/plain": [
       "<Figure size 360x360 with 1 Axes>"
      ]
     },
     "metadata": {
      "needs_background": "light"
     },
     "output_type": "display_data"
    }
   ],
   "source": [
    "dict_results_across_mice = np.load('dict_results/newvolumes/dict_results_across_mice_WILD_with_father2500_newwild.npy', \n",
    "                                   allow_pickle=True).item()\n",
    "subjects = list(dict_results_across_mice.keys())\n",
    "experimental_groups = utils.divide_in_exp_groups(list_subjects=subjects)\n",
    "boxplot(ace.create_dfs_across_groups(dictionary_results=dict_results_across_mice, \n",
    "        experimental_groups=experimental_groups, \n",
    "        value='n_cells'), value='n_cells')\n",
    "for value in ['n_cells', 'energy', 'density', 'relative_density']:\n",
    "    print(value)\n",
    "    df = ace.create_dfs_across_groups(dictionary_results=dict_results_across_mice, \n",
    "            experimental_groups=experimental_groups, \n",
    "            value=value)\n",
    "    print(kruskal(*[df[key][value].to_numpy() for key in df.keys()]))"
   ]
  },
  {
   "cell_type": "markdown",
   "metadata": {},
   "source": [
    "# WILD_without_father"
   ]
  },
  {
   "cell_type": "code",
   "execution_count": 16,
   "metadata": {
    "ExecuteTime": {
     "end_time": "2024-05-27T12:55:06.133475Z",
     "start_time": "2024-05-27T12:55:05.663049Z"
    }
   },
   "outputs": [
    {
     "name": "stdout",
     "output_type": "stream",
     "text": [
      "n_cells\n",
      "KruskalResult(statistic=4.481987577639757, pvalue=0.10635275966048233)\n",
      "energy\n",
      "KruskalResult(statistic=2.6269151138716467, pvalue=0.2688887491290317)\n",
      "density\n",
      "KruskalResult(statistic=2.163975155279502, pvalue=0.3389212235075171)\n",
      "relative_density\n",
      "KruskalResult(statistic=3.8059006211180133, pvalue=0.14912799565384136)\n"
     ]
    },
    {
     "data": {
      "image/png": "[encoded data removed]",
      "text/plain": [
       "<Figure size 360x360 with 1 Axes>"
      ]
     },
     "metadata": {
      "needs_background": "light"
     },
     "output_type": "display_data"
    }
   ],
   "source": [
    "dict_results_across_mice = np.load('dict_results/newvolumes/dict_results_across_mice_WILD_without_father2500.npy', \n",
    "                                   allow_pickle=True).item()\n",
    "subjects = list(dict_results_across_mice.keys())\n",
    "experimental_groups = utils.divide_in_exp_groups(list_subjects=subjects)\n",
    "boxplot(ace.create_dfs_across_groups(dictionary_results=dict_results_across_mice, \n",
    "        experimental_groups=experimental_groups, \n",
    "        value='n_cells'), value='n_cells')\n",
    "for value in ['n_cells', 'energy', 'density', 'relative_density']:\n",
    "    print(value)\n",
    "    df = ace.create_dfs_across_groups(dictionary_results=dict_results_across_mice, \n",
    "            experimental_groups=experimental_groups, \n",
    "            value=value)\n",
    "    print(kruskal(*[df[key][value].to_numpy() for key in df.keys()]))"
   ]
  },
  {
   "cell_type": "markdown",
   "metadata": {},
   "source": [
    "# Make kruskal test per area"
   ]
  },
  {
   "cell_type": "code",
   "execution_count": 17,
   "metadata": {
    "ExecuteTime": {
     "end_time": "2024-05-27T12:55:27.439626Z",
     "start_time": "2024-05-27T12:55:10.744204Z"
    }
   },
   "outputs": [],
   "source": [
    "results = np.load('dict_results/newvolumes/dict_results_across_mice_c57_merged_hemispheres_F6BL48.npy',\n",
    "                                    allow_pickle=True).item()\n",
    "c57_wf = ace.kruskal_per_area(dictionary=results,\n",
    "                 experimental_groups=utils.divide_in_exp_groups(list_subjects=list(results.keys())),\n",
    "                 value='n_cells')"
   ]
  },
  {
   "cell_type": "code",
   "execution_count": 18,
   "metadata": {
    "ExecuteTime": {
     "end_time": "2024-05-27T12:55:27.923563Z",
     "start_time": "2024-05-27T12:55:27.898067Z"
    }
   },
   "outputs": [
    {
     "data": {
      "text/plain": [
       "{'Infralimbic area': (KruskalResult(statistic=6.242515417019528, pvalue=0.0441016664831495),\n",
       "            Control       Fam     Unfam\n",
       "  Control  1.000000  0.050894  0.050894\n",
       "  Fam      0.050894  1.000000  0.803950\n",
       "  Unfam    0.050894  0.803950  1.000000),\n",
       " 'Main olfactory bulb': (KruskalResult(statistic=7.539682539682545, pvalue=0.023055722635306922),\n",
       "           Control      Fam    Unfam\n",
       "  Control  1.00000  0.02399  0.02399\n",
       "  Fam      0.02399  1.00000  1.00000\n",
       "  Unfam    0.02399  1.00000  1.00000),\n",
       " 'Accessory olfactory bulb': (KruskalResult(statistic=7.861294261294262, pvalue=0.019630964642816575),\n",
       "           Control       Fam     Unfam\n",
       "  Control  1.00000  0.021660  0.021660\n",
       "  Fam      0.02166  1.000000  0.977299\n",
       "  Unfam    0.02166  0.977299  1.000000),\n",
       " 'Cortical amygdalar area': (KruskalResult(statistic=12.69744234903264, pvalue=0.001748982349931995),\n",
       "            Control       Fam     Unfam\n",
       "  Control  1.000000  0.003027  0.003027\n",
       "  Fam      0.003027  1.000000  0.816207\n",
       "  Unfam    0.003027  0.816207  1.000000),\n",
       " 'Piriform-amygdalar area': (KruskalResult(statistic=11.623714557047904, pvalue=0.002991868176419166),\n",
       "            Control       Fam     Unfam\n",
       "  Control  1.000000  0.008694  0.003774\n",
       "  Fam      0.008694  1.000000  0.664901\n",
       "  Unfam    0.003774  0.664901  1.000000),\n",
       " 'Basomedial amygdalar nucleus': (KruskalResult(statistic=8.714504212537744, pvalue=0.012813549589363447),\n",
       "            Control       Fam     Unfam\n",
       "  Control  1.000000  0.014676  0.014676\n",
       "  Fam      0.014676  1.000000  0.888091\n",
       "  Unfam    0.014676  0.888091  1.000000),\n",
       " 'Posterior amygdalar nucleus': (KruskalResult(statistic=14.79221272554608, pvalue=0.0006136373970763657),\n",
       "            Control       Fam     Unfam\n",
       "  Control  1.000000  0.001374  0.001374\n",
       "  Fam      0.001374  1.000000  0.904368\n",
       "  Unfam    0.001374  0.904368  1.000000),\n",
       " 'Intercalated amygdalar nucleus': (KruskalResult(statistic=7.747971751136315, pvalue=0.02077539603079521),\n",
       "            Control       Fam     Unfam\n",
       "  Control  1.000000  0.025907  0.035237\n",
       "  Fam      0.025907  1.000000  0.652206\n",
       "  Unfam    0.035237  0.652206  1.000000),\n",
       " 'Medial amygdalar nucleus': (KruskalResult(statistic=14.191154524487871, pvalue=0.0008287622276502504),\n",
       "            Control       Fam     Unfam\n",
       "  Control  1.000000  0.001251  0.002827\n",
       "  Fam      0.001251  1.000000  0.590927\n",
       "  Unfam    0.002827  0.590927  1.000000),\n",
       " 'Bed nuclei of the stria terminalis': (KruskalResult(statistic=9.728037532842603, pvalue=0.007719399010000726),\n",
       "            Control       Fam     Unfam\n",
       "  Control  1.000000  0.010990  0.014043\n",
       "  Fam      0.010990  1.000000  0.689137\n",
       "  Unfam    0.014043  0.689137  1.000000),\n",
       " 'Arcuate hypothalamic nucleus': (KruskalResult(statistic=7.973421926910299, pvalue=0.018560660528168817),\n",
       "            Control       Fam     Unfam\n",
       "  Control  1.000000  0.026415  0.026739\n",
       "  Fam      0.026415  1.000000  0.739861\n",
       "  Unfam    0.026739  0.739861  1.000000),\n",
       " 'Posterodorsal preoptic nucleus': (KruskalResult(statistic=9.356916099773251, pvalue=0.009293332700190617),\n",
       "            Control       Fam     Unfam\n",
       "  Control  1.000000  0.014332  0.014332\n",
       "  Fam      0.014332  1.000000  0.753933\n",
       "  Unfam    0.014332  0.753933  1.000000),\n",
       " 'Periventricular hypothalamic nucleus posterior part': (KruskalResult(statistic=13.240179792847368, pvalue=0.0013333110803279305),\n",
       "            Control       Fam     Unfam\n",
       "  Control  1.000000  0.004533  0.001807\n",
       "  Fam      0.004533  1.000000  0.669448\n",
       "  Unfam    0.001807  0.669448  1.000000),\n",
       " 'Medial preoptic nucleus': (KruskalResult(statistic=7.762611827676828, pvalue=0.02062387458474202),\n",
       "            Control       Fam     Unfam\n",
       "  Control  1.000000  0.022136  0.045421\n",
       "  Fam      0.022136  1.000000  0.538515\n",
       "  Unfam    0.045421  0.538515  1.000000),\n",
       " 'Ventral premammillary nucleus': (KruskalResult(statistic=14.897128140799033, pvalue=0.0005822771211381093),\n",
       "            Control       Fam     Unfam\n",
       "  Control  1.000000  0.001235  0.001429\n",
       "  Fam      0.001235  1.000000  0.741012\n",
       "  Unfam    0.001429  0.741012  1.000000),\n",
       " 'Tuberal nucleus': (KruskalResult(statistic=7.994274260091638, pvalue=0.01836814931038987),\n",
       "            Control       Fam     Unfam\n",
       "  Control  1.000000  0.025320  0.027714\n",
       "  Fam      0.025320  1.000000  0.717293\n",
       "  Unfam    0.027714  0.717293  1.000000)}"
      ]
     },
     "execution_count": 18,
     "metadata": {},
     "output_type": "execute_result"
    }
   ],
   "source": [
    "c57_wf"
   ]
  },
  {
   "cell_type": "code",
   "execution_count": 12,
   "metadata": {
    "ExecuteTime": {
     "end_time": "2024-05-23T12:53:50.656323Z",
     "start_time": "2024-05-23T12:53:35.576748Z"
    },
    "scrolled": false
   },
   "outputs": [
    {
     "data": {
      "text/plain": [
       "{'Main olfactory bulb': (KruskalResult(statistic=10.69802955665024, pvalue=0.004752831285872949),\n",
       "            Control       Fam     Unfam\n",
       "  Control  1.000000  0.026637  0.004257\n",
       "  Fam      0.026637  1.000000  0.384379\n",
       "  Unfam    0.004257  0.384379  1.000000),\n",
       " 'Accessory olfactory bulb': (KruskalResult(statistic=14.759895262869664, pvalue=0.000623633543938199),\n",
       "            Control       Fam     Unfam\n",
       "  Control  1.000000  0.005950  0.000612\n",
       "  Fam      0.005950  1.000000  0.376864\n",
       "  Unfam    0.000612  0.376864  1.000000),\n",
       " 'Anterior olfactory nucleus': (KruskalResult(statistic=6.879310344827587, pvalue=0.03207574402246676),\n",
       "            Control       Fam     Unfam\n",
       "  Control  1.000000  0.243577  0.027863\n",
       "  Fam      0.243577  1.000000  0.191920\n",
       "  Unfam    0.027863  0.191920  1.000000),\n",
       " 'Cortical amygdalar area': (KruskalResult(statistic=14.731403940886707, pvalue=0.0006325811972878339),\n",
       "            Control       Fam     Unfam\n",
       "  Control  1.000000  0.044783  0.000372\n",
       "  Fam      0.044783  1.000000  0.077246\n",
       "  Unfam    0.000372  0.077246  1.000000),\n",
       " 'Piriform-amygdalar area': (KruskalResult(statistic=12.80225965488908, pvalue=0.0016596810602640306),\n",
       "            Control       Fam     Unfam\n",
       "  Control  1.000000  0.156614  0.001300\n",
       "  Fam      0.156614  1.000000  0.038629\n",
       "  Unfam    0.001300  0.038629  1.000000),\n",
       " 'Induseum griseum': (KruskalResult(statistic=6.947999999999985, pvalue=0.0309928111430788),\n",
       "            Control       Fam     Unfam\n",
       "  Control  1.000000  0.579206  0.042770\n",
       "  Fam      0.579206  1.000000  0.066455\n",
       "  Unfam    0.042770  0.066455  1.000000),\n",
       " 'Posterior amygdalar nucleus': (KruskalResult(statistic=15.1436028203724, pvalue=0.0005147643112116109),\n",
       "            Control       Fam     Unfam\n",
       "  Control  1.000000  0.219712  0.000525\n",
       "  Fam      0.219712  1.000000  0.011101\n",
       "  Unfam    0.000525  0.011101  1.000000),\n",
       " 'Septohippocampal nucleus': (KruskalResult(statistic=10.133049403747872, pvalue=0.006304291406314746),\n",
       "            Control       Fam     Unfam\n",
       "  Control  1.000000  0.977187  0.012777\n",
       "  Fam      0.977187  1.000000  0.012777\n",
       "  Unfam    0.012777  0.012777  1.000000),\n",
       " 'Intercalated amygdalar nucleus': (KruskalResult(statistic=6.038085937499997, pvalue=0.04884794500888775),\n",
       "            Control       Fam     Unfam\n",
       "  Control  1.000000  0.824916  0.059963\n",
       "  Fam      0.824916  1.000000  0.059963\n",
       "  Unfam    0.059963  0.059963  1.000000),\n",
       " 'Medial amygdalar nucleus': (KruskalResult(statistic=15.699014778325107, pvalue=0.00038994401159366394),\n",
       "            Control       Fam     Unfam\n",
       "  Control  1.000000  0.030563  0.000225\n",
       "  Fam      0.030563  1.000000  0.081909\n",
       "  Unfam    0.000225  0.081909  1.000000),\n",
       " 'Medial septal complex': (KruskalResult(statistic=6.354182665935256, pvalue=0.041706790030398615),\n",
       "            Control       Fam     Unfam\n",
       "  Control  1.000000  0.724256  0.090298\n",
       "  Fam      0.724256  1.000000  0.053724\n",
       "  Unfam    0.090298  0.053724  1.000000),\n",
       " 'Triangular nucleus of septum': (KruskalResult(statistic=6.864079169006173, pvalue=0.03232095218792741),\n",
       "            Control       Fam     Unfam\n",
       "  Control  1.000000  0.546172  0.111499\n",
       "  Fam      0.546172  1.000000  0.033934\n",
       "  Unfam    0.111499  0.033934  1.000000),\n",
       " 'Bed nuclei of the stria terminalis': (KruskalResult(statistic=13.682931836846421, pvalue=0.001068535864571309),\n",
       "            Control       Fam     Unfam\n",
       "  Control  1.000000  0.296254  0.001243\n",
       "  Fam      0.296254  1.000000  0.012542\n",
       "  Unfam    0.001243  0.012542  1.000000),\n",
       " 'Anteromedial nucleus': (KruskalResult(statistic=7.448394780447395, pvalue=0.02413246160565275),\n",
       "            Control       Fam     Unfam\n",
       "  Control  1.000000  0.050109  0.027687\n",
       "  Fam      0.050109  1.000000  0.613438\n",
       "  Unfam    0.027687  0.613438  1.000000),\n",
       " 'Posterodorsal preoptic nucleus': (KruskalResult(statistic=6.600574937421766, pvalue=0.036872566168488254),\n",
       "            Control       Fam     Unfam\n",
       "  Control  1.000000  0.688587  0.058991\n",
       "  Fam      0.688587  1.000000  0.060675\n",
       "  Unfam    0.058991  0.060675  1.000000),\n",
       " 'Periventricular hypothalamic nucleus posterior part': (KruskalResult(statistic=12.253731754337656, pvalue=0.002183413333953767),\n",
       "            Control       Fam     Unfam\n",
       "  Control  1.000000  0.055950  0.001414\n",
       "  Fam      0.055950  1.000000  0.133668\n",
       "  Unfam    0.001414  0.133668  1.000000),\n",
       " 'Tuberomammillary nucleus': (KruskalResult(statistic=6.26822945394373, pvalue=0.043538280038689245),\n",
       "            Control       Fam     Unfam\n",
       "  Control  1.000000  0.334661  0.042037\n",
       "  Fam      0.334661  1.000000  0.170238\n",
       "  Unfam    0.042037  0.170238  1.000000),\n",
       " 'Medial preoptic nucleus': (KruskalResult(statistic=8.139341058694445, pvalue=0.017083015932808945),\n",
       "            Control       Fam     Unfam\n",
       "  Control  1.000000  0.031676  0.022226\n",
       "  Fam      0.031676  1.000000  0.693149\n",
       "  Unfam    0.022226  0.693149  1.000000),\n",
       " 'Dorsal premammillary nucleus': (KruskalResult(statistic=6.015821917808213, pvalue=0.049394758734742014),\n",
       "            Control       Fam     Unfam\n",
       "  Control  1.000000  0.284362  0.045344\n",
       "  Fam      0.284362  1.000000  0.224170\n",
       "  Unfam    0.045344  0.224170  1.000000),\n",
       " 'Ventral premammillary nucleus': (KruskalResult(statistic=15.535538208709932, pvalue=0.0004231562319846353),\n",
       "            Control       Fam     Unfam\n",
       "  Control  1.000000  0.021903  0.000256\n",
       "  Fam      0.021903  1.000000  0.114735\n",
       "  Unfam    0.000256  0.114735  1.000000),\n",
       " 'Preparasubthalamic nucleus': (KruskalResult(statistic=6.279202493551159, pvalue=0.04330006049872058),\n",
       "            Control       Fam     Unfam\n",
       "  Control  1.000000  0.326963  0.041438\n",
       "  Fam      0.326963  1.000000  0.174017\n",
       "  Unfam    0.041438  0.174017  1.000000),\n",
       " 'Parasubthalamic nucleus': (KruskalResult(statistic=6.250736907046885, pvalue=0.04392074788743346),\n",
       "            Control       Fam     Unfam\n",
       "  Control  1.000000  0.610155  0.061285\n",
       "  Fam      0.610155  1.000000  0.082621\n",
       "  Unfam    0.061285  0.082621  1.000000),\n",
       " 'Tuberal nucleus': (KruskalResult(statistic=7.824023437499984, pvalue=0.02000022573483697),\n",
       "            Control       Fam     Unfam\n",
       "  Control  1.000000  0.354141  0.020232\n",
       "  Fam      0.354141  1.000000  0.087982\n",
       "  Unfam    0.020232  0.087982  1.000000),\n",
       " 'Nucleus of the brachium of the inferior colliculus': (KruskalResult(statistic=8.376206674305356, pvalue=0.015175039529164621),\n",
       "            Control       Fam    Unfam\n",
       "  Control  1.000000  0.986925  0.02357\n",
       "  Fam      0.986925  1.000000  0.02357\n",
       "  Unfam    0.023570  0.023570  1.00000)}"
      ]
     },
     "execution_count": 12,
     "metadata": {},
     "output_type": "execute_result"
    }
   ],
   "source": [
    "results = np.load('dict_results/newvolumes/dict_results_across_mice_BL_woF2000_36.npy',\n",
    "                                    allow_pickle=True).item()\n",
    "c57_wof = ace.kruskal_per_area(dictionary=results,\n",
    "                 experimental_groups=utils.divide_in_exp_groups(list_subjects=list(results.keys())),\n",
    "                 value='n_cells')\n",
    "c57_wof"
   ]
  },
  {
   "cell_type": "code",
   "execution_count": 6,
   "metadata": {
    "ExecuteTime": {
     "end_time": "2024-05-07T08:55:23.724885Z",
     "start_time": "2024-05-07T08:55:10.697402Z"
    }
   },
   "outputs": [
    {
     "data": {
      "text/plain": [
       "{'Cortical amygdalar area': (KruskalResult(statistic=10.257928873742648, pvalue=0.005922690619085436),\n",
       "            Control       Fam     Unfam\n",
       "  Control  1.000000  0.049652  0.006361\n",
       "  Fam      0.049652  1.000000  0.330572\n",
       "  Unfam    0.006361  0.330572  1.000000),\n",
       " 'Postpiriform transition area': (KruskalResult(statistic=7.8060046189376555, pvalue=0.020181230101072523),\n",
       "            Control       Fam     Unfam\n",
       "  Control  1.000000  0.641463  0.021484\n",
       "  Fam      0.641463  1.000000  0.049277\n",
       "  Unfam    0.021484  0.049277  1.000000),\n",
       " \"Ammon's horn\": (KruskalResult(statistic=6.307714285714297, pvalue=0.04268715844988441),\n",
       "            Control       Fam     Unfam\n",
       "  Control  1.000000  0.057589  0.856224\n",
       "  Fam      0.057589  1.000000  0.072627\n",
       "  Unfam    0.856224  0.072627  1.000000),\n",
       " 'Posterior amygdalar nucleus': (KruskalResult(statistic=13.680475456746649, pvalue=0.0010698490359350515),\n",
       "            Control       Fam     Unfam\n",
       "  Control  1.000000  0.005681  0.002710\n",
       "  Fam      0.005681  1.000000  0.612364\n",
       "  Unfam    0.002710  0.612364  1.000000),\n",
       " 'Septofimbrial nucleus': (KruskalResult(statistic=8.845476098583001, pvalue=0.012001327032201834),\n",
       "            Control       Fam     Unfam\n",
       "  Control  1.000000  0.070370  0.250085\n",
       "  Fam      0.070370  1.000000  0.010625\n",
       "  Unfam    0.250085  0.010625  1.000000),\n",
       " 'Medial amygdalar nucleus': (KruskalResult(statistic=9.967839278843517, pvalue=0.006847171447065144),\n",
       "            Control       Fam     Unfam\n",
       "  Control  1.000000  0.100869  0.005645\n",
       "  Fam      0.100869  1.000000  0.199690\n",
       "  Unfam    0.005645  0.199690  1.000000),\n",
       " 'Triangular nucleus of septum': (KruskalResult(statistic=7.842907464355617, pvalue=0.019812272061804),\n",
       "            Control       Fam     Unfam\n",
       "  Control  1.000000  0.021147  0.643443\n",
       "  Fam      0.021147  1.000000  0.063715\n",
       "  Unfam    0.643443  0.063715  1.000000),\n",
       " 'Ventral premammillary nucleus': (KruskalResult(statistic=6.403279771076396, pvalue=0.040695413408969344),\n",
       "            Control       Fam     Unfam\n",
       "  Control  1.000000  0.155659  0.043112\n",
       "  Fam      0.155659  1.000000  0.401014\n",
       "  Unfam    0.043112  0.401014  1.000000)}"
      ]
     },
     "execution_count": 6,
     "metadata": {},
     "output_type": "execute_result"
    }
   ],
   "source": [
    "results = np.load('dict_results/newvolumes/dict_results_across_mice_WILD_with_father2500_newwild.npy',\n",
    "                                    allow_pickle=True).item()\n",
    "wild_wf = ace.kruskal_per_area(dictionary=results,\n",
    "                 experimental_groups=utils.divide_in_exp_groups(list_subjects=list(results.keys())),\n",
    "                 value='n_cells')\n",
    "wild_wf"
   ]
  },
  {
   "cell_type": "code",
   "execution_count": 7,
   "metadata": {
    "ExecuteTime": {
     "end_time": "2024-05-07T08:55:36.256426Z",
     "start_time": "2024-05-07T08:55:24.037712Z"
    }
   },
   "outputs": [
    {
     "data": {
      "text/plain": [
       "{'Primary motor area': (KruskalResult(statistic=10.507660455486544, pvalue=0.005227457651766495),\n",
       "            Control       Fam     Unfam\n",
       "  Control  1.000000  0.022249  0.010383\n",
       "  Fam      0.022249  1.000000  0.742824\n",
       "  Unfam    0.010383  0.742824  1.000000),\n",
       " 'Secondary motor area': (KruskalResult(statistic=6.9760869565217405, pvalue=0.030560606207097732),\n",
       "            Control       Fam     Unfam\n",
       "  Control  1.000000  0.233035  0.025401\n",
       "  Fam      0.233035  1.000000  0.233035\n",
       "  Unfam    0.025401  0.233035  1.000000),\n",
       " 'Agranular insular area': (KruskalResult(statistic=10.841511387163564, pvalue=0.004423802345317263),\n",
       "            Control       Fam     Unfam\n",
       "  Control  1.000000  0.159393  0.003181\n",
       "  Fam      0.159393  1.000000  0.159393\n",
       "  Unfam    0.003181  0.159393  1.000000),\n",
       " 'Main olfactory bulb': (KruskalResult(statistic=9.827225672877844, pvalue=0.007345900794010483),\n",
       "            Control       Fam     Unfam\n",
       "  Control  1.000000  0.010440  0.042501\n",
       "  Fam      0.010440  1.000000  0.441412\n",
       "  Unfam    0.042501  0.441412  1.000000),\n",
       " 'Piriform area': (KruskalResult(statistic=7.7475155279502985, pvalue=0.020780135680043086),\n",
       "            Control       Fam     Unfam\n",
       "  Control  1.000000  0.033149  0.061574\n",
       "  Fam      0.033149  1.000000  0.583030\n",
       "  Unfam    0.061574  0.583030  1.000000),\n",
       " 'Cortical amygdalar area': (KruskalResult(statistic=8.96635610766046, pvalue=0.011297452130883585),\n",
       "            Control       Fam     Unfam\n",
       "  Control  1.000000  0.011096  0.103939\n",
       "  Fam      0.011096  1.000000  0.277785\n",
       "  Unfam    0.103939  0.277785  1.000000),\n",
       " 'Piriform-amygdalar area': (KruskalResult(statistic=10.137784679089037, pvalue=0.006289382784566506),\n",
       "            Control       Fam     Unfam\n",
       "  Control  1.000000  0.015882  0.018165\n",
       "  Fam      0.015882  1.000000  0.714383\n",
       "  Unfam    0.018165  0.714383  1.000000),\n",
       " 'Postpiriform transition area': (KruskalResult(statistic=12.713871635610772, pvalue=0.0017346739335381237),\n",
       "            Control       Fam     Unfam\n",
       "  Control  1.000000  0.065438  0.001416\n",
       "  Fam      0.065438  1.000000  0.220904\n",
       "  Unfam    0.001416  0.220904  1.000000),\n",
       " 'Basolateral amygdalar nucleus': (KruskalResult(statistic=7.53788819875777, pvalue=0.023076416830366497),\n",
       "            Control       Fam     Unfam\n",
       "  Control  1.000000  0.044868  0.044868\n",
       "  Fam      0.044868  1.000000  0.761984\n",
       "  Unfam    0.044868  0.761984  1.000000),\n",
       " 'Posterior amygdalar nucleus': (KruskalResult(statistic=7.154818425886667, pvalue=0.02794801188764519),\n",
       "            Control       Fam     Unfam\n",
       "  Control  1.000000  0.026862  0.613842\n",
       "  Fam      0.026862  1.000000  0.071700\n",
       "  Unfam    0.613842  0.071700  1.000000),\n",
       " 'Medial amygdalar nucleus': (KruskalResult(statistic=6.818219461697723, pvalue=0.03307062903506819),\n",
       "            Control       Fam     Unfam\n",
       "  Control  1.000000  0.027342  0.367141\n",
       "  Fam      0.027342  1.000000  0.157317\n",
       "  Unfam    0.367141  0.157317  1.000000),\n",
       " 'Ventral part of the lateral geniculate complex': (KruskalResult(statistic=6.892582052741412, pvalue=0.031863598730637904),\n",
       "            Control       Fam     Unfam\n",
       "  Control  1.000000  0.826051  0.035878\n",
       "  Fam      0.826051  1.000000  0.035878\n",
       "  Unfam    0.035878  0.035878  1.000000),\n",
       " 'Tuberal nucleus': (KruskalResult(statistic=9.449062691347553, pvalue=0.008874872182698985),\n",
       "            Control       Fam     Unfam\n",
       "  Control  1.000000  0.007270  0.147567\n",
       "  Fam      0.007270  1.000000  0.176698\n",
       "  Unfam    0.147567  0.176698  1.000000)}"
      ]
     },
     "execution_count": 7,
     "metadata": {},
     "output_type": "execute_result"
    }
   ],
   "source": [
    "results = np.load('dict_results/newvolumes/dict_results_across_mice_WILD_without_father2500.npy',\n",
    "                                    allow_pickle=True).item()\n",
    "wild_wof = ace.kruskal_per_area(dictionary=results,\n",
    "                 experimental_groups=utils.divide_in_exp_groups(list_subjects=list(results.keys())),\n",
    "                 value='n_cells')\n",
    "wild_wof"
   ]
  },
  {
   "cell_type": "code",
   "execution_count": 13,
   "metadata": {
    "ExecuteTime": {
     "end_time": "2024-03-12T14:22:26.165653Z",
     "start_time": "2024-03-12T14:22:26.162735Z"
    }
   },
   "outputs": [
    {
     "data": {
      "text/plain": [
       "dict_keys(['Infralimbic area', 'Main olfactory bulb', 'Accessory olfactory bulb', 'Cortical amygdalar area', 'Piriform-amygdalar area', 'Basomedial amygdalar nucleus', 'Posterior amygdalar nucleus', 'Intercalated amygdalar nucleus', 'Medial amygdalar nucleus', 'Bed nuclei of the stria terminalis', 'Arcuate hypothalamic nucleus', 'Posterodorsal preoptic nucleus', 'Periventricular hypothalamic nucleus posterior part', 'Medial preoptic nucleus', 'Dorsal premammillary nucleus', 'Ventral premammillary nucleus', 'Tuberal nucleus'])"
      ]
     },
     "execution_count": 13,
     "metadata": {},
     "output_type": "execute_result"
    }
   ],
   "source": [
    "c57_wf.keys()"
   ]
  },
  {
   "cell_type": "code",
   "execution_count": null,
   "metadata": {},
   "outputs": [],
   "source": [
    "# "
   ]
  },
  {
   "cell_type": "code",
   "execution_count": 27,
   "metadata": {
    "ExecuteTime": {
     "end_time": "2024-05-30T14:01:32.541375Z",
     "start_time": "2024-05-30T14:01:32.533055Z"
    }
   },
   "outputs": [],
   "source": [
    "def kruskal_all_per_area(dictionary, value, experimental_groups):\n",
    "    \"\"\"\n",
    "    Performs a Kruskal-Wallis H-test on a given dictionary of dataframes for each area.\n",
    "\n",
    "    Parameters:\n",
    "    dictionary (dict): A dictionary where keys are subjects and values are pandas dataframes.\n",
    "    value (str): The column name in the dataframe to perform the test on.\n",
    "    experimental_groups (list): A list of experimental groups.\n",
    "\n",
    "    Returns:\n",
    "    dict: A dictionary where keys are areas and values are tuples. \n",
    "    Each tuple contains the result of the Kruskal-Wallis H-test and the result of the post-hoc Dunn's test.\n",
    "    \n",
    "    \"\"\"\n",
    "    \n",
    "    # Get the list of subjects from the dictionary keys\n",
    "    subjects = list(dictionary.keys())\n",
    "\n",
    "    # Create a dataframe of levels from the cleaned volumes database\n",
    "    df_levels = upls.create_df_levels(ace.clean_volumes_database())\n",
    "\n",
    "    # Filter out certain areas and convert the remaining areas to a numpy array\n",
    "    areas = df_levels[~df_levels['parent_l5'].isin(['P','MY','CBX', 'CBN'])]['name_area'].to_numpy()\n",
    "\n",
    "    # Initialize an empty dictionary to store significant areas\n",
    "    significant_areas = {}\n",
    "\n",
    "    # Loop over each area\n",
    "    for area in areas:\n",
    "        # Create dataframes for the results dictionary, experimental groups, value, and area\n",
    "        dfs = ace.create_dfs_across_groups(dictionary_results=dictionary, \n",
    "                experimental_groups=experimental_groups, \n",
    "                value=value, area=area)\n",
    "\n",
    "        # Calculate the total sum of the value column for each key in the dataframes\n",
    "        tot_sum = 0\n",
    "        for key in dfs.keys():\n",
    "            tot_sum += dfs[key][value].to_numpy().sum()\n",
    "\n",
    "        # If the total sum is not zero, perform a Kruskal-Wallis H-test\n",
    "        if tot_sum != 0:\n",
    "            # If the p-value of the test is less than 0.05, add the area to the significant_areas dictionary\n",
    "            significant_areas[area] = \\\n",
    "                (kruskal(*[dfs[key][value].to_numpy() for key in dfs.keys()]), \n",
    "                 sp.posthoc_dunn(pd.concat(dfs, ignore_index=True), val_col=value, \n",
    "            group_col='group', p_adjust = 'fdr_bh'))\n",
    "\n",
    "    return significant_areas\n",
    "    "
   ]
  },
  {
   "cell_type": "code",
   "execution_count": 28,
   "metadata": {
    "ExecuteTime": {
     "end_time": "2024-05-30T14:01:49.048217Z",
     "start_time": "2024-05-30T14:01:33.390887Z"
    }
   },
   "outputs": [],
   "source": [
    "c57_wof_all = kruskal_all_per_area(dictionary=results,\n",
    "                 experimental_groups=utils.divide_in_exp_groups(list_subjects=list(results.keys())),\n",
    "                 value='n_cells')"
   ]
  },
  {
   "cell_type": "code",
   "execution_count": 29,
   "metadata": {
    "ExecuteTime": {
     "end_time": "2024-05-30T14:01:49.897003Z",
     "start_time": "2024-05-30T14:01:49.892288Z"
    }
   },
   "outputs": [
    {
     "data": {
      "text/plain": [
       "(KruskalResult(statistic=2.2307692307692406, pvalue=0.32778918188945116),\n",
       "           Control       Fam     Unfam\n",
       " Control  1.000000  0.424568  0.432883\n",
       " Fam      0.424568  1.000000  0.635315\n",
       " Unfam    0.432883  0.635315  1.000000)"
      ]
     },
     "execution_count": 29,
     "metadata": {},
     "output_type": "execute_result"
    }
   ],
   "source": [
    "c57_wof_all['Piriform area']"
   ]
  },
  {
   "cell_type": "code",
   "execution_count": null,
   "metadata": {},
   "outputs": [],
   "source": []
  }
 ],
 "metadata": {
  "kernelspec": {
   "display_name": "ClearMap",
   "language": "python",
   "name": "clearmap"
  },
  "language_info": {
   "codemirror_mode": {
    "name": "ipython",
    "version": 3
   },
   "file_extension": ".py",
   "mimetype": "text/x-python",
   "name": "python",
   "nbconvert_exporter": "python",
   "pygments_lexer": "ipython3",
   "version": "3.8.1"
  },
  "latex_envs": {
   "LaTeX_envs_menu_present": true,
   "autoclose": false,
   "autocomplete": true,
   "bibliofile": "biblio.bib",
   "cite_by": "apalike",
   "current_citInitial": 1,
   "eqLabelWithNumbers": true,
   "eqNumInitial": 1,
   "hotkeys": {
    "equation": "Ctrl-E",
    "itemize": "Ctrl-I"
   },
   "labels_anchors": false,
   "latex_user_defs": false,
   "report_style_numbering": false,
   "user_envs_cfg": false
  },
  "toc": {
   "nav_menu": {},
   "number_sections": true,
   "sideBar": true,
   "skip_h1_title": false,
   "title_cell": "Table of Contents",
   "title_sidebar": "Contents",
   "toc_cell": false,
   "toc_position": {},
   "toc_section_display": true,
   "toc_window_display": false
  },
  "varInspector": {
   "cols": {
    "lenName": 16,
    "lenType": 16,
    "lenVar": 40
   },
   "kernels_config": {
    "python": {
     "delete_cmd_postfix": "",
     "delete_cmd_prefix": "del ",
     "library": "var_list.py",
     "varRefreshCmd": "print(var_dic_list())"
    },
    "r": {
     "delete_cmd_postfix": ") ",
     "delete_cmd_prefix": "rm(",
     "library": "var_list.r",
     "varRefreshCmd": "cat(var_dic_list()) "
    }
   },
   "types_to_exclude": [
    "module",
    "function",
    "builtin_function_or_method",
    "instance",
    "_Feature"
   ],
   "window_display": false
  }
 },
 "nbformat": 4,
 "nbformat_minor": 4
}
