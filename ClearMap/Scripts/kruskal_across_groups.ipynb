{
 "cells": [
  {
   "cell_type": "markdown",
   "metadata": {},
   "source": [
    "# Kruskal-Wallis test\n",
    "\n",
    "### Overview\n",
    "\n",
    "This Python script is designed for statistical analysis and visualization of cellular data across different experimental groups of mice. The script loads pre-saved data, performs group-wise comparisons using non-parametric statistical tests, and visualizes the data using boxplots. It handles multiple datasets, including those with different experimental conditions, and tests for significant differences in metrics such as the number of cells, energy, density, and relative density between groups.\n",
    "\n",
    "### Key Features\n",
    "- **Data Loading:** The script loads multiple datasets stored as `.npy` files, which contain dictionaries of results for different groups of mice.\n",
    "- **Boxplot Visualization:** It provides a function for generating boxplots of various metrics (e.g., cell count, energy) across experimental groups.\n",
    "- **Statistical Testing:** For each metric, non-parametric Kruskal-Wallis tests are performed to assess differences across groups.\n",
    "- **Analysis across Experimental Conditions:** The script processes multiple experimental datasets, with and without certain variables (e.g., father involvement), and applies the same set of analyses for comparison.\n",
    "- **Per-Area Analysis:** It performs Kruskal-Wallis tests on a per-area basis for a detailed view of statistical differences at specific levels (e.g., brain regions or other categorized levels).\n",
    "\n",
    "### Detailed Breakdown\n",
    "\n",
    " 1. **Library Imports**\n",
    "The script begins by importing various libraries for data manipulation, statistical analysis, and visualization:\n",
    "- **Pandas:** For handling data frames.\n",
    "- **Seaborn and Matplotlib:** For data visualization, particularly for creating boxplots.\n",
    "- **NumPy:** For array manipulation and loading data.\n",
    "- **Scipy Stats:** For statistical testing (e.g., Kruskal-Wallis, Mann-Whitney U tests).\n",
    "- **Custom Modules:** It uses custom modules such as `analyze_cells_energy` (abbreviated as `ace`), `utils`, and `utils_PLS` for various data processing tasks.\n",
    "\n",
    "2. **`boxplot` Function**\n",
    "- **Purpose:** Creates a boxplot for a specified metric (`value`) across experimental groups.\n",
    "- **Inputs:**\n",
    "  - `dfs`: A list of DataFrames containing the data.\n",
    "  - `value`: The column to plot.\n",
    "- **Outputs:** Returns the figure and axis objects of the plot, allowing further customization if needed.\n",
    "- **How it works:**\n",
    "  - Combines multiple DataFrames into one.\n",
    "  - Plots the specified value on the y-axis and groups data on the x-axis.\n",
    "  - Rotates the x-axis labels for better readability.\n",
    "\n",
    "3. **Main Workflow**\n",
    "- **Data Loading:** It loads multiple datasets using `numpy.load()`. These files store the results of experimental observations across different groups of mice.\n",
    "- **Subject Grouping:** The function `utils.divide_in_exp_groups` is used to divide the loaded subjects into experimental groups for comparison.\n",
    "  \n",
    "- **Boxplot Generation:**\n",
    "  - For each dataset, the `boxplot` function visualizes the distribution of `n_cells` across the groups.\n",
    "  \n",
    "- **Statistical Analysis:**\n",
    "  - For each metric (`n_cells`, `energy`, `density`, `relative_density`), a Kruskal-Wallis test is performed. This non-parametric test is used to determine if there are statistically significant differences between the groups.\n",
    "  - The script prints the results of these tests.\n",
    "\n",
    "4. **Analysis across Different Conditions**\n",
    "The script is structured to repeat the same analysis for several experimental conditions:\n",
    "- Mice with and without father involvement.\n",
    "- Different datasets (`c57` e.g. c57 with father, `BL` e.g. c57 without father, `WILD` both groups) are analyzed separately.\n",
    "The function `ace.kruskal_per_area` applies the Kruskal-Wallis test at a more granular level (e.g., across brain regions) to identify area-specific differences.\n",
    "\n",
    " 5. **Example Datasets**\n",
    "- **`dict_results_across_mice_c57_merged_hemispheres_F6BL48.npy`:** Dataset of C57 mice with father.\n",
    "- **`dict_results_across_mice_BL_woF2000_36.npy`:** Dataset of BL mice without father.\n",
    "- **`dict_results_across_mice_WILD_with_father2500_newwild.npy`:** Dataset of wild mice with father involvement.\n",
    "- **`dict_results_across_mice_WILD_without_father2500.npy`:** Dataset of wild mice without father involvement.\n",
    "\n",
    "6. **Per-Area Analysis**\n",
    "The final part of the script uses `ace.kruskal_per_area` to conduct area-specific Kruskal-Wallis tests for `n_cells` across the different experimental groups.\n",
    "- Results from different experimental conditions (with and without father involvement) are compared.\n"
   ]
  },
  {
   "cell_type": "code",
   "execution_count": 1,
   "metadata": {
    "ExecuteTime": {
     "end_time": "2024-08-07T13:25:30.295652Z",
     "start_time": "2024-08-07T13:25:29.231828Z"
    }
   },
   "outputs": [],
   "source": [
    "# !pip install odfpy\n",
    "# !pip install seaborn\n",
    "import os\n",
    "import pandas as pd\n",
    "import seaborn as sns\n",
    "import matplotlib.pyplot as plt\n",
    "import yaml\n",
    "from yaml import Loader\n",
    "import numpy as np\n",
    "import analyze_cells_energy as ace\n",
    "import utils\n",
    "from scipy.stats import ttest_ind, mannwhitneyu, f_oneway, kruskal\n",
    "import networkx as nx\n",
    "import matplotlib.pyplot as plt\n",
    "import utils_PLS as upls\n",
    "import scikit_posthocs as sp"
   ]
  },
  {
   "cell_type": "code",
   "execution_count": 2,
   "metadata": {
    "ExecuteTime": {
     "end_time": "2024-08-07T13:25:30.310525Z",
     "start_time": "2024-08-07T13:25:30.306382Z"
    }
   },
   "outputs": [],
   "source": [
    "def boxplot(dfs, value):\n",
    "    \"\"\"\n",
    "    Create a boxplot for a specified value across different groups.\n",
    "\n",
    "    This function takes a list of DataFrames, concatenates them into a single DataFrame,\n",
    "    and creates a boxplot for the specified value, categorized by experimental groups.\n",
    "\n",
    "    Parameters:\n",
    "    dfs (list of pd.DataFrame): List of DataFrames containing the data to be plotted.\n",
    "    value (str): The column name in the DataFrames that contains the values to be plotted.\n",
    "\n",
    "    Returns:\n",
    "    tuple: The figure and axis of the created plot.\n",
    "    \"\"\"\n",
    "    # Concatenate all DataFrames into a single DataFrame\n",
    "    df = pd.concat(dfs, ignore_index=True)\n",
    "\n",
    "    # Create a figure and axis for the boxplot\n",
    "    f, ax = plt.subplots(ncols=1, nrows=1, figsize=(5, 5), sharey=True)\n",
    "\n",
    "    # Generate the boxplot\n",
    "    sns.boxplot(\n",
    "        data=df,\n",
    "        x=\"group\",  # Grouping variable on the x-axis\n",
    "        y=value,    # Variable to be plotted on the y-axis\n",
    "        palette=\"Accent\",  # Color palette\n",
    "        ax=ax  # Axis to plot on\n",
    "    )\n",
    "\n",
    "    # Remove x-axis label\n",
    "    ax.set_xlabel('')\n",
    "\n",
    "    # Rotate x-axis labels for better readability\n",
    "    ax.tick_params(axis='x', labelrotation=90)\n",
    "\n",
    "    return f, ax"
   ]
  },
  {
   "cell_type": "markdown",
   "metadata": {},
   "source": [
    "# c57 with father"
   ]
  },
  {
   "cell_type": "code",
   "execution_count": 3,
   "metadata": {
    "ExecuteTime": {
     "end_time": "2024-07-26T14:11:47.098293Z",
     "start_time": "2024-07-26T14:11:46.411549Z"
    }
   },
   "outputs": [
    {
     "name": "stdout",
     "output_type": "stream",
     "text": [
      "n_cells\n",
      "KruskalResult(statistic=0.9200108533442091, pvalue=0.6312802197468721)\n",
      "energy\n",
      "KruskalResult(statistic=0.9140415140415286, pvalue=0.6331671972616968)\n",
      "density\n",
      "KruskalResult(statistic=3.061809795143134, pvalue=0.21633981334375155)\n",
      "relative_density\n",
      "KruskalResult(statistic=4.084981684981699, pvalue=0.12970523287396482)\n"
     ]
    },
    {
     "data": {
      "image/png": "[encoded data removed]",
      "text/plain": [
       "<Figure size 360x360 with 1 Axes>"
      ]
     },
     "metadata": {
      "needs_background": "light"
     },
     "output_type": "display_data"
    }
   ],
   "source": [
    "dict_results_across_mice = np.load(\n",
    "    'dict_results/newvolumes/dict_results_across_mice_c57_merged_hemispheres_F6BL48.npy', \n",
    "                                   allow_pickle=True).item()\n",
    "\n",
    "subjects = list(dict_results_across_mice.keys())\n",
    "\n",
    "experimental_groups = utils.divide_in_exp_groups(list_subjects=subjects)\n",
    "\n",
    "boxplot(ace.create_dfs_across_groups(dictionary_results=dict_results_across_mice, \n",
    "        experimental_groups=experimental_groups, \n",
    "        value='n_cells'), value='n_cells')\n",
    "\n",
    "for value in ['n_cells', 'energy', 'density', 'relative_density']:\n",
    "    print(value)\n",
    "    df = ace.create_dfs_across_groups(dictionary_results=dict_results_across_mice, \n",
    "            experimental_groups=experimental_groups, \n",
    "            value=value)\n",
    "    \n",
    "    print(kruskal(*[df[key][value].to_numpy() for key in df.keys()]))"
   ]
  },
  {
   "cell_type": "markdown",
   "metadata": {},
   "source": [
    "# c57 without father"
   ]
  },
  {
   "cell_type": "code",
   "execution_count": 4,
   "metadata": {
    "ExecuteTime": {
     "end_time": "2024-07-26T14:11:47.775404Z",
     "start_time": "2024-07-26T14:11:47.099934Z"
    }
   },
   "outputs": [
    {
     "name": "stdout",
     "output_type": "stream",
     "text": [
      "n_cells\n",
      "KruskalResult(statistic=2.0968253968253947, pvalue=0.3504936469278033)\n",
      "energy\n",
      "KruskalResult(statistic=2.017857142857139, pvalue=0.36460942332143703)\n",
      "density\n",
      "KruskalResult(statistic=1.8589065255731896, pvalue=0.3947694865488062)\n",
      "relative_density\n",
      "KruskalResult(statistic=2.3033509700176324, pvalue=0.31610669340989317)\n"
     ]
    },
    {
     "data": {
      "image/png": "[encoded data removed]",
      "text/plain": [
       "<Figure size 360x360 with 1 Axes>"
      ]
     },
     "metadata": {
      "needs_background": "light"
     },
     "output_type": "display_data"
    }
   ],
   "source": [
    "dict_results_across_mice = np.load('dict_results/newvolumes/dict_results_across_mice_BL_woF2000_36.npy', \n",
    "                                   allow_pickle=True).item()\n",
    "\n",
    "del dict_results_across_mice['BL19Unfam']\n",
    "\n",
    "subjects = list(dict_results_across_mice.keys())\n",
    "\n",
    "experimental_groups = utils.divide_in_exp_groups(list_subjects=subjects)\n",
    "\n",
    "boxplot(ace.create_dfs_across_groups(dictionary_results=dict_results_across_mice, \n",
    "        experimental_groups=experimental_groups, \n",
    "        value='n_cells'), value='n_cells')\n",
    "\n",
    "for value in ['n_cells', 'energy', 'density', 'relative_density']:\n",
    "    print(value)\n",
    "    df = ace.create_dfs_across_groups(dictionary_results=dict_results_across_mice, \n",
    "            experimental_groups=experimental_groups, \n",
    "            value=value)\n",
    "    print(kruskal(*[df[key][value].to_numpy() for key in df.keys()]))"
   ]
  },
  {
   "cell_type": "markdown",
   "metadata": {},
   "source": [
    "# WILD with father"
   ]
  },
  {
   "cell_type": "code",
   "execution_count": 5,
   "metadata": {
    "ExecuteTime": {
     "end_time": "2024-07-26T14:11:48.412267Z",
     "start_time": "2024-07-26T14:11:47.776836Z"
    }
   },
   "outputs": [
    {
     "name": "stdout",
     "output_type": "stream",
     "text": [
      "n_cells\n",
      "KruskalResult(statistic=0.8800219780219862, pvalue=0.6440293437987165)\n",
      "energy\n",
      "KruskalResult(statistic=0.2967032967032992, pvalue=0.8621278957784488)\n",
      "density\n",
      "KruskalResult(statistic=0.41558241758242787, pvalue=0.8123766361057339)\n",
      "relative_density\n",
      "KruskalResult(statistic=0.5856923076923266, pvalue=0.746136922163362)\n"
     ]
    },
    {
     "data": {
      "image/png": "[encoded data removed]",
      "text/plain": [
       "<Figure size 360x360 with 1 Axes>"
      ]
     },
     "metadata": {
      "needs_background": "light"
     },
     "output_type": "display_data"
    }
   ],
   "source": [
    "dict_results_across_mice = np.load('dict_results/newvolumes/dict_results_across_mice_WILD_with_father2500_newwild.npy', \n",
    "                                   allow_pickle=True).item()\n",
    "\n",
    "subjects = list(dict_results_across_mice.keys())\n",
    "\n",
    "experimental_groups = utils.divide_in_exp_groups(list_subjects=subjects)\n",
    "\n",
    "boxplot(ace.create_dfs_across_groups(dictionary_results=dict_results_across_mice, \n",
    "        experimental_groups=experimental_groups, \n",
    "        value='n_cells'), value='n_cells')\n",
    "\n",
    "for value in ['n_cells', 'energy', 'density', 'relative_density']:\n",
    "    print(value)\n",
    "    df = ace.create_dfs_across_groups(dictionary_results=dict_results_across_mice, \n",
    "            experimental_groups=experimental_groups, \n",
    "            value=value)\n",
    "    print(kruskal(*[df[key][value].to_numpy() for key in df.keys()]))"
   ]
  },
  {
   "cell_type": "markdown",
   "metadata": {},
   "source": [
    "# WILD_without_father"
   ]
  },
  {
   "cell_type": "code",
   "execution_count": 6,
   "metadata": {
    "ExecuteTime": {
     "end_time": "2024-07-26T14:11:49.053495Z",
     "start_time": "2024-07-26T14:11:48.414266Z"
    }
   },
   "outputs": [
    {
     "name": "stdout",
     "output_type": "stream",
     "text": [
      "n_cells\n",
      "KruskalResult(statistic=4.481987577639757, pvalue=0.10635275966048233)\n",
      "energy\n",
      "KruskalResult(statistic=2.6269151138716467, pvalue=0.2688887491290317)\n",
      "density\n",
      "KruskalResult(statistic=2.163975155279502, pvalue=0.3389212235075171)\n",
      "relative_density\n",
      "KruskalResult(statistic=3.8059006211180133, pvalue=0.14912799565384136)\n"
     ]
    },
    {
     "data": {
      "image/png": "[encoded data removed]",
      "text/plain": [
       "<Figure size 360x360 with 1 Axes>"
      ]
     },
     "metadata": {
      "needs_background": "light"
     },
     "output_type": "display_data"
    }
   ],
   "source": [
    "dict_results_across_mice = np.load('dict_results/newvolumes/dict_results_across_mice_WILD_without_father2500.npy', \n",
    "                                   allow_pickle=True).item()\n",
    "\n",
    "subjects = list(dict_results_across_mice.keys())\n",
    "\n",
    "experimental_groups = utils.divide_in_exp_groups(list_subjects=subjects)\n",
    "\n",
    "boxplot(ace.create_dfs_across_groups(dictionary_results=dict_results_across_mice, \n",
    "        experimental_groups=experimental_groups, \n",
    "        value='n_cells'), value='n_cells')\n",
    "\n",
    "for value in ['n_cells', 'energy', 'density', 'relative_density']:\n",
    "    print(value)\n",
    "    df = ace.create_dfs_across_groups(dictionary_results=dict_results_across_mice, \n",
    "            experimental_groups=experimental_groups, \n",
    "            value=value)\n",
    "    print(kruskal(*[df[key][value].to_numpy() for key in df.keys()]))"
   ]
  },
  {
   "cell_type": "markdown",
   "metadata": {},
   "source": [
    "# Make kruskal test per area"
   ]
  },
  {
   "cell_type": "markdown",
   "metadata": {},
   "source": [
    "## c57 with father"
   ]
  },
  {
   "cell_type": "code",
   "execution_count": 3,
   "metadata": {
    "ExecuteTime": {
     "end_time": "2024-08-07T13:26:00.770735Z",
     "start_time": "2024-08-07T13:25:40.725750Z"
    }
   },
   "outputs": [
    {
     "name": "stderr",
     "output_type": "stream",
     "text": [
      "/home/stella/anaconda2/envs/ClearMap/lib/python3.6/site-packages/openpyxl/worksheet/_reader.py:329: UserWarning: Unknown extension is not supported and will be removed\n",
      "  warn(msg)\n"
     ]
    },
    {
     "data": {
      "text/plain": [
       "{'Infralimbic area': (KruskalResult(statistic=6.242515417019528, pvalue=0.0441016664831495),\n",
       "            Control       Fam     Unfam\n",
       "  Control  1.000000  0.050894  0.050894\n",
       "  Fam      0.050894  1.000000  0.803950\n",
       "  Unfam    0.050894  0.803950  1.000000),\n",
       " 'Main olfactory bulb': (KruskalResult(statistic=7.539682539682545, pvalue=0.023055722635306922),\n",
       "           Control      Fam    Unfam\n",
       "  Control  1.00000  0.02399  0.02399\n",
       "  Fam      0.02399  1.00000  1.00000\n",
       "  Unfam    0.02399  1.00000  1.00000),\n",
       " 'Accessory olfactory bulb': (KruskalResult(statistic=7.861294261294262, pvalue=0.019630964642816575),\n",
       "           Control       Fam     Unfam\n",
       "  Control  1.00000  0.021660  0.021660\n",
       "  Fam      0.02166  1.000000  0.977299\n",
       "  Unfam    0.02166  0.977299  1.000000),\n",
       " 'Cortical amygdalar area': (KruskalResult(statistic=12.69744234903264, pvalue=0.001748982349931995),\n",
       "            Control       Fam     Unfam\n",
       "  Control  1.000000  0.003027  0.003027\n",
       "  Fam      0.003027  1.000000  0.816207\n",
       "  Unfam    0.003027  0.816207  1.000000),\n",
       " 'Piriform-amygdalar area': (KruskalResult(statistic=11.623714557047904, pvalue=0.002991868176419166),\n",
       "            Control       Fam     Unfam\n",
       "  Control  1.000000  0.008694  0.003774\n",
       "  Fam      0.008694  1.000000  0.664901\n",
       "  Unfam    0.003774  0.664901  1.000000),\n",
       " 'Basomedial amygdalar nucleus': (KruskalResult(statistic=8.714504212537744, pvalue=0.012813549589363447),\n",
       "            Control       Fam     Unfam\n",
       "  Control  1.000000  0.014676  0.014676\n",
       "  Fam      0.014676  1.000000  0.888091\n",
       "  Unfam    0.014676  0.888091  1.000000),\n",
       " 'Posterior amygdalar nucleus': (KruskalResult(statistic=14.79221272554608, pvalue=0.0006136373970763657),\n",
       "            Control       Fam     Unfam\n",
       "  Control  1.000000  0.001374  0.001374\n",
       "  Fam      0.001374  1.000000  0.904368\n",
       "  Unfam    0.001374  0.904368  1.000000),\n",
       " 'Intercalated amygdalar nucleus': (KruskalResult(statistic=7.747971751136315, pvalue=0.02077539603079521),\n",
       "            Control       Fam     Unfam\n",
       "  Control  1.000000  0.025907  0.035237\n",
       "  Fam      0.025907  1.000000  0.652206\n",
       "  Unfam    0.035237  0.652206  1.000000),\n",
       " 'Medial amygdalar nucleus': (KruskalResult(statistic=14.191154524487871, pvalue=0.0008287622276502504),\n",
       "            Control       Fam     Unfam\n",
       "  Control  1.000000  0.001251  0.002827\n",
       "  Fam      0.001251  1.000000  0.590927\n",
       "  Unfam    0.002827  0.590927  1.000000),\n",
       " 'Bed nuclei of the stria terminalis': (KruskalResult(statistic=9.728037532842603, pvalue=0.007719399010000726),\n",
       "            Control       Fam     Unfam\n",
       "  Control  1.000000  0.010990  0.014043\n",
       "  Fam      0.010990  1.000000  0.689137\n",
       "  Unfam    0.014043  0.689137  1.000000),\n",
       " 'Arcuate hypothalamic nucleus': (KruskalResult(statistic=7.973421926910299, pvalue=0.018560660528168817),\n",
       "            Control       Fam     Unfam\n",
       "  Control  1.000000  0.026415  0.026739\n",
       "  Fam      0.026415  1.000000  0.739861\n",
       "  Unfam    0.026739  0.739861  1.000000),\n",
       " 'Posterodorsal preoptic nucleus': (KruskalResult(statistic=9.356916099773251, pvalue=0.009293332700190617),\n",
       "            Control       Fam     Unfam\n",
       "  Control  1.000000  0.014332  0.014332\n",
       "  Fam      0.014332  1.000000  0.753933\n",
       "  Unfam    0.014332  0.753933  1.000000),\n",
       " 'Periventricular hypothalamic nucleus posterior part': (KruskalResult(statistic=13.240179792847368, pvalue=0.0013333110803279305),\n",
       "            Control       Fam     Unfam\n",
       "  Control  1.000000  0.004533  0.001807\n",
       "  Fam      0.004533  1.000000  0.669448\n",
       "  Unfam    0.001807  0.669448  1.000000),\n",
       " 'Medial preoptic nucleus': (KruskalResult(statistic=7.762611827676828, pvalue=0.02062387458474202),\n",
       "            Control       Fam     Unfam\n",
       "  Control  1.000000  0.022136  0.045421\n",
       "  Fam      0.022136  1.000000  0.538515\n",
       "  Unfam    0.045421  0.538515  1.000000),\n",
       " 'Ventral premammillary nucleus': (KruskalResult(statistic=14.897128140799033, pvalue=0.0005822771211381093),\n",
       "            Control       Fam     Unfam\n",
       "  Control  1.000000  0.001235  0.001429\n",
       "  Fam      0.001235  1.000000  0.741012\n",
       "  Unfam    0.001429  0.741012  1.000000),\n",
       " 'Tuberal nucleus': (KruskalResult(statistic=7.994274260091638, pvalue=0.01836814931038987),\n",
       "            Control       Fam     Unfam\n",
       "  Control  1.000000  0.025320  0.027714\n",
       "  Fam      0.025320  1.000000  0.717293\n",
       "  Unfam    0.027714  0.717293  1.000000)}"
      ]
     },
     "execution_count": 3,
     "metadata": {},
     "output_type": "execute_result"
    }
   ],
   "source": [
    "results = np.load('dict_results/newvolumes/dict_results_across_mice_c57_merged_hemispheres_F6BL48.npy',\n",
    "                                    allow_pickle=True).item()\n",
    "\n",
    "c57_wf = ace.kruskal_per_area(dictionary=results,\n",
    "                 experimental_groups=utils.divide_in_exp_groups(list_subjects=list(results.keys())),\n",
    "                 value='n_cells', level=8)\n",
    "c57_wf"
   ]
  },
  {
   "cell_type": "code",
   "execution_count": 5,
   "metadata": {
    "ExecuteTime": {
     "end_time": "2024-08-07T13:26:15.573470Z",
     "start_time": "2024-08-07T13:26:15.549656Z"
    }
   },
   "outputs": [
    {
     "data": {
      "text/html": [
       "<div>\n",
       "<style scoped>\n",
       "    .dataframe tbody tr th:only-of-type {\n",
       "        vertical-align: middle;\n",
       "    }\n",
       "\n",
       "    .dataframe tbody tr th {\n",
       "        vertical-align: top;\n",
       "    }\n",
       "\n",
       "    .dataframe thead th {\n",
       "        text-align: right;\n",
       "    }\n",
       "</style>\n",
       "<table border=\"1\" class=\"dataframe\">\n",
       "  <thead>\n",
       "    <tr style=\"text-align: right;\">\n",
       "      <th></th>\n",
       "      <th>area</th>\n",
       "      <th>n_cells</th>\n",
       "      <th>energy</th>\n",
       "      <th>density</th>\n",
       "      <th>relative_density</th>\n",
       "    </tr>\n",
       "  </thead>\n",
       "  <tbody>\n",
       "    <tr>\n",
       "      <th>0</th>\n",
       "      <td>Frontal pole cerebral cortex</td>\n",
       "      <td>27</td>\n",
       "      <td>3.179955e+05</td>\n",
       "      <td>49.493749</td>\n",
       "      <td>0.629810</td>\n",
       "    </tr>\n",
       "    <tr>\n",
       "      <th>1</th>\n",
       "      <td>Primary motor area</td>\n",
       "      <td>745</td>\n",
       "      <td>8.340783e+05</td>\n",
       "      <td>125.831864</td>\n",
       "      <td>1.601215</td>\n",
       "    </tr>\n",
       "    <tr>\n",
       "      <th>2</th>\n",
       "      <td>Secondary motor area</td>\n",
       "      <td>494</td>\n",
       "      <td>4.831998e+05</td>\n",
       "      <td>72.243291</td>\n",
       "      <td>0.919299</td>\n",
       "    </tr>\n",
       "    <tr>\n",
       "      <th>3</th>\n",
       "      <td>Primary somatosensory area</td>\n",
       "      <td>1809</td>\n",
       "      <td>9.691292e+05</td>\n",
       "      <td>144.535266</td>\n",
       "      <td>1.839217</td>\n",
       "    </tr>\n",
       "    <tr>\n",
       "      <th>4</th>\n",
       "      <td>Supplemental somatosensory area</td>\n",
       "      <td>675</td>\n",
       "      <td>9.553327e+05</td>\n",
       "      <td>143.052516</td>\n",
       "      <td>1.820348</td>\n",
       "    </tr>\n",
       "    <tr>\n",
       "      <th>...</th>\n",
       "      <td>...</td>\n",
       "      <td>...</td>\n",
       "      <td>...</td>\n",
       "      <td>...</td>\n",
       "      <td>...</td>\n",
       "    </tr>\n",
       "    <tr>\n",
       "      <th>194</th>\n",
       "      <td>Interfascicular nucleus raphe</td>\n",
       "      <td>2</td>\n",
       "      <td>1.126414e+05</td>\n",
       "      <td>19.711514</td>\n",
       "      <td>0.250830</td>\n",
       "    </tr>\n",
       "    <tr>\n",
       "      <th>195</th>\n",
       "      <td>Interpeduncular nucleus</td>\n",
       "      <td>29</td>\n",
       "      <td>5.132276e+05</td>\n",
       "      <td>75.369538</td>\n",
       "      <td>0.959080</td>\n",
       "    </tr>\n",
       "    <tr>\n",
       "      <th>196</th>\n",
       "      <td>Rostral linear nucleus raphe</td>\n",
       "      <td>1</td>\n",
       "      <td>1.088539e+05</td>\n",
       "      <td>14.834273</td>\n",
       "      <td>0.188767</td>\n",
       "    </tr>\n",
       "    <tr>\n",
       "      <th>197</th>\n",
       "      <td>Central linear nucleus raphe</td>\n",
       "      <td>16</td>\n",
       "      <td>1.157174e+06</td>\n",
       "      <td>168.268836</td>\n",
       "      <td>2.141227</td>\n",
       "    </tr>\n",
       "    <tr>\n",
       "      <th>198</th>\n",
       "      <td>Dorsal nucleus raphe</td>\n",
       "      <td>3</td>\n",
       "      <td>1.252697e+05</td>\n",
       "      <td>16.946659</td>\n",
       "      <td>0.215647</td>\n",
       "    </tr>\n",
       "  </tbody>\n",
       "</table>\n",
       "<p>198 rows × 5 columns</p>\n",
       "</div>"
      ],
      "text/plain": [
       "                                area  n_cells        energy     density  \\\n",
       "0       Frontal pole cerebral cortex       27  3.179955e+05   49.493749   \n",
       "1                 Primary motor area      745  8.340783e+05  125.831864   \n",
       "2               Secondary motor area      494  4.831998e+05   72.243291   \n",
       "3         Primary somatosensory area     1809  9.691292e+05  144.535266   \n",
       "4    Supplemental somatosensory area      675  9.553327e+05  143.052516   \n",
       "..                               ...      ...           ...         ...   \n",
       "194    Interfascicular nucleus raphe        2  1.126414e+05   19.711514   \n",
       "195          Interpeduncular nucleus       29  5.132276e+05   75.369538   \n",
       "196     Rostral linear nucleus raphe        1  1.088539e+05   14.834273   \n",
       "197     Central linear nucleus raphe       16  1.157174e+06  168.268836   \n",
       "198             Dorsal nucleus raphe        3  1.252697e+05   16.946659   \n",
       "\n",
       "     relative_density  \n",
       "0            0.629810  \n",
       "1            1.601215  \n",
       "2            0.919299  \n",
       "3            1.839217  \n",
       "4            1.820348  \n",
       "..                ...  \n",
       "194          0.250830  \n",
       "195          0.959080  \n",
       "196          0.188767  \n",
       "197          2.141227  \n",
       "198          0.215647  \n",
       "\n",
       "[198 rows x 5 columns]"
      ]
     },
     "execution_count": 5,
     "metadata": {},
     "output_type": "execute_result"
    }
   ],
   "source": [
    "results['BL49Fam']"
   ]
  },
  {
   "cell_type": "markdown",
   "metadata": {},
   "source": [
    "## c57 without father"
   ]
  },
  {
   "cell_type": "code",
   "execution_count": 8,
   "metadata": {
    "ExecuteTime": {
     "end_time": "2024-07-26T14:12:26.024333Z",
     "start_time": "2024-07-26T14:12:07.648017Z"
    },
    "scrolled": true
   },
   "outputs": [
    {
     "name": "stderr",
     "output_type": "stream",
     "text": [
      "/home/stella/anaconda2/envs/ClearMap/lib/python3.6/site-packages/openpyxl/worksheet/_reader.py:329: UserWarning: Unknown extension is not supported and will be removed\n",
      "  warn(msg)\n"
     ]
    },
    {
     "data": {
      "text/plain": [
       "{'Main olfactory bulb': (KruskalResult(statistic=10.192063492063497, pvalue=0.006120988070681217),\n",
       "            Control       Fam     Unfam\n",
       "  Control  1.000000  0.028114  0.006009\n",
       "  Fam      0.028114  1.000000  0.400408\n",
       "  Unfam    0.006009  0.400408  1.000000),\n",
       " 'Accessory olfactory bulb': (KruskalResult(statistic=14.847964603271556, pvalue=0.0005967678974630086),\n",
       "            Control       Fam     Unfam\n",
       "  Control  1.000000  0.008328  0.000527\n",
       "  Fam      0.008328  1.000000  0.269259\n",
       "  Unfam    0.000527  0.269259  1.000000),\n",
       " 'Cortical amygdalar area': (KruskalResult(statistic=15.100573192239864, pvalue=0.0005259593675995538),\n",
       "            Control       Fam     Unfam\n",
       "  Control  1.000000  0.048006  0.000306\n",
       "  Fam      0.048006  1.000000  0.048006\n",
       "  Unfam    0.000306  0.048006  1.000000),\n",
       " 'Piriform-amygdalar area': (KruskalResult(statistic=11.529782394676996, pvalue=0.003135736521700568),\n",
       "            Control       Fam     Unfam\n",
       "  Control  1.000000  0.142064  0.002267\n",
       "  Fam      0.142064  1.000000  0.061016\n",
       "  Unfam    0.002267  0.061016  1.000000),\n",
       " 'Posterior amygdalar nucleus': (KruskalResult(statistic=14.456455745605089, pvalue=0.0007258059446041512),\n",
       "            Control       Fam     Unfam\n",
       "  Control  1.000000  0.222904  0.000681\n",
       "  Fam      0.222904  1.000000  0.012407\n",
       "  Unfam    0.000681  0.012407  1.000000),\n",
       " 'Septohippocampal nucleus': (KruskalResult(statistic=8.644692130534915, pvalue=0.01326871772042468),\n",
       "            Control       Fam     Unfam\n",
       "  Control  1.000000  0.976016  0.021202\n",
       "  Fam      0.976016  1.000000  0.021202\n",
       "  Unfam    0.021202  0.021202  1.000000),\n",
       " 'Medial amygdalar nucleus': (KruskalResult(statistic=14.85996472663139, pvalue=0.0005931979738605246),\n",
       "            Control       Fam     Unfam\n",
       "  Control  1.000000  0.026169  0.000371\n",
       "  Fam      0.026169  1.000000  0.108358\n",
       "  Unfam    0.000371  0.108358  1.000000),\n",
       " 'Bed nuclei of the stria terminalis': (KruskalResult(statistic=12.352491942324006, pvalue=0.002078214907779528),\n",
       "            Control       Fam     Unfam\n",
       "  Control  1.000000  0.279025  0.002048\n",
       "  Fam      0.279025  1.000000  0.020024\n",
       "  Unfam    0.002048  0.020024  1.000000),\n",
       " 'Anteromedial nucleus': (KruskalResult(statistic=6.741865385274268, pvalue=0.03435757733531964),\n",
       "            Control       Fam     Unfam\n",
       "  Control  1.000000  0.041106  0.041106\n",
       "  Fam      0.041106  1.000000  0.837443\n",
       "  Unfam    0.041106  0.837443  1.000000),\n",
       " 'Periventricular hypothalamic nucleus posterior part': (KruskalResult(statistic=12.635447620999411, pvalue=0.0018040451850688363),\n",
       "            Control       Fam     Unfam\n",
       "  Control  1.000000  0.063170  0.001145\n",
       "  Fam      0.063170  1.000000  0.097181\n",
       "  Unfam    0.001145  0.097181  1.000000),\n",
       " 'Tuberomammillary nucleus': (KruskalResult(statistic=7.611176842177147, pvalue=0.022246103237779556),\n",
       "            Control       Fam     Unfam\n",
       "  Control  1.000000  0.329032  0.020970\n",
       "  Fam      0.329032  1.000000  0.097579\n",
       "  Unfam    0.020970  0.097579  1.000000),\n",
       " 'Medial preoptic nucleus': (KruskalResult(statistic=7.688396893375484, pvalue=0.021403550774251816),\n",
       "            Control       Fam     Unfam\n",
       "  Control  1.000000  0.038606  0.028478\n",
       "  Fam      0.038606  1.000000  0.659415\n",
       "  Unfam    0.028478  0.659415  1.000000),\n",
       " 'Ventral premammillary nucleus': (KruskalResult(statistic=16.293556132491684, pvalue=0.00028966714610048985),\n",
       "            Control       Fam     Unfam\n",
       "  Control  1.000000  0.029336  0.000165\n",
       "  Fam      0.029336  1.000000  0.063669\n",
       "  Unfam    0.000165  0.063669  1.000000),\n",
       " 'Parasubthalamic nucleus': (KruskalResult(statistic=7.418359667006453, pvalue=0.024497607151100775),\n",
       "            Control       Fam     Unfam\n",
       "  Control  1.000000  0.615814  0.035076\n",
       "  Fam      0.615814  1.000000  0.047526\n",
       "  Unfam    0.035076  0.047526  1.000000),\n",
       " 'Tuberal nucleus': (KruskalResult(statistic=6.724560107340601, pvalue=0.03465615090964686),\n",
       "            Control       Fam     Unfam\n",
       "  Control  1.000000  0.350482  0.033357\n",
       "  Fam      0.350482  1.000000  0.127826\n",
       "  Unfam    0.033357  0.127826  1.000000),\n",
       " 'Nucleus of the brachium of the inferior colliculus': (KruskalResult(statistic=7.206937340153445, pvalue=0.02722910965399994),\n",
       "            Control       Fam     Unfam\n",
       "  Control  1.000000  0.983735  0.035133\n",
       "  Fam      0.983735  1.000000  0.035133\n",
       "  Unfam    0.035133  0.035133  1.000000)}"
      ]
     },
     "execution_count": 8,
     "metadata": {},
     "output_type": "execute_result"
    }
   ],
   "source": [
    "results = np.load('dict_results/newvolumes/dict_results_across_mice_BL_woF2000_36.npy',\n",
    "                                    allow_pickle=True).item()\n",
    "del results['BL19Unfam']\n",
    "\n",
    "c57_wof = ace.kruskal_per_area(dictionary=results,\n",
    "                 experimental_groups=utils.divide_in_exp_groups(list_subjects=list(results.keys())),\n",
    "                 value='n_cells', level=8)\n",
    "c57_wof"
   ]
  },
  {
   "cell_type": "markdown",
   "metadata": {},
   "source": [
    "## wild with father"
   ]
  },
  {
   "cell_type": "code",
   "execution_count": 9,
   "metadata": {
    "ExecuteTime": {
     "end_time": "2024-07-26T14:12:46.341434Z",
     "start_time": "2024-07-26T14:12:26.026217Z"
    }
   },
   "outputs": [
    {
     "name": "stderr",
     "output_type": "stream",
     "text": [
      "/home/stella/anaconda2/envs/ClearMap/lib/python3.6/site-packages/openpyxl/worksheet/_reader.py:329: UserWarning: Unknown extension is not supported and will be removed\n",
      "  warn(msg)\n"
     ]
    },
    {
     "data": {
      "text/plain": [
       "{'Cortical amygdalar area': (KruskalResult(statistic=10.257928873742648, pvalue=0.005922690619085436),\n",
       "            Control       Fam     Unfam\n",
       "  Control  1.000000  0.049652  0.006361\n",
       "  Fam      0.049652  1.000000  0.330572\n",
       "  Unfam    0.006361  0.330572  1.000000),\n",
       " 'Postpiriform transition area': (KruskalResult(statistic=7.8060046189376555, pvalue=0.020181230101072523),\n",
       "            Control       Fam     Unfam\n",
       "  Control  1.000000  0.641463  0.021484\n",
       "  Fam      0.641463  1.000000  0.049277\n",
       "  Unfam    0.021484  0.049277  1.000000),\n",
       " \"Ammon's horn\": (KruskalResult(statistic=6.307714285714297, pvalue=0.04268715844988441),\n",
       "            Control       Fam     Unfam\n",
       "  Control  1.000000  0.057589  0.856224\n",
       "  Fam      0.057589  1.000000  0.072627\n",
       "  Unfam    0.856224  0.072627  1.000000),\n",
       " 'Posterior amygdalar nucleus': (KruskalResult(statistic=13.680475456746649, pvalue=0.0010698490359350515),\n",
       "            Control       Fam     Unfam\n",
       "  Control  1.000000  0.005681  0.002710\n",
       "  Fam      0.005681  1.000000  0.612364\n",
       "  Unfam    0.002710  0.612364  1.000000),\n",
       " 'Septofimbrial nucleus': (KruskalResult(statistic=8.845476098583001, pvalue=0.012001327032201834),\n",
       "            Control       Fam     Unfam\n",
       "  Control  1.000000  0.070370  0.250085\n",
       "  Fam      0.070370  1.000000  0.010625\n",
       "  Unfam    0.250085  0.010625  1.000000),\n",
       " 'Medial amygdalar nucleus': (KruskalResult(statistic=9.967839278843517, pvalue=0.006847171447065144),\n",
       "            Control       Fam     Unfam\n",
       "  Control  1.000000  0.100869  0.005645\n",
       "  Fam      0.100869  1.000000  0.199690\n",
       "  Unfam    0.005645  0.199690  1.000000),\n",
       " 'Triangular nucleus of septum': (KruskalResult(statistic=7.842907464355617, pvalue=0.019812272061804),\n",
       "            Control       Fam     Unfam\n",
       "  Control  1.000000  0.021147  0.643443\n",
       "  Fam      0.021147  1.000000  0.063715\n",
       "  Unfam    0.643443  0.063715  1.000000),\n",
       " 'Ventral premammillary nucleus': (KruskalResult(statistic=6.403279771076396, pvalue=0.040695413408969344),\n",
       "            Control       Fam     Unfam\n",
       "  Control  1.000000  0.155659  0.043112\n",
       "  Fam      0.155659  1.000000  0.401014\n",
       "  Unfam    0.043112  0.401014  1.000000)}"
      ]
     },
     "execution_count": 9,
     "metadata": {},
     "output_type": "execute_result"
    }
   ],
   "source": [
    "results = np.load('dict_results/newvolumes/dict_results_across_mice_WILD_with_father2500_newwild.npy',\n",
    "                                    allow_pickle=True).item()\n",
    "\n",
    "wild_wf = ace.kruskal_per_area(dictionary=results,\n",
    "                 experimental_groups=utils.divide_in_exp_groups(list_subjects=list(results.keys())),\n",
    "                 value='n_cells', level=8)\n",
    "wild_wf"
   ]
  },
  {
   "cell_type": "markdown",
   "metadata": {},
   "source": [
    "## wild without father"
   ]
  },
  {
   "cell_type": "code",
   "execution_count": 10,
   "metadata": {
    "ExecuteTime": {
     "end_time": "2024-07-26T14:13:05.490328Z",
     "start_time": "2024-07-26T14:12:46.343933Z"
    }
   },
   "outputs": [
    {
     "name": "stderr",
     "output_type": "stream",
     "text": [
      "/home/stella/anaconda2/envs/ClearMap/lib/python3.6/site-packages/openpyxl/worksheet/_reader.py:329: UserWarning: Unknown extension is not supported and will be removed\n",
      "  warn(msg)\n"
     ]
    },
    {
     "data": {
      "text/plain": [
       "{'Primary motor area': (KruskalResult(statistic=10.507660455486544, pvalue=0.005227457651766495),\n",
       "            Control       Fam     Unfam\n",
       "  Control  1.000000  0.022249  0.010383\n",
       "  Fam      0.022249  1.000000  0.742824\n",
       "  Unfam    0.010383  0.742824  1.000000),\n",
       " 'Secondary motor area': (KruskalResult(statistic=6.9760869565217405, pvalue=0.030560606207097732),\n",
       "            Control       Fam     Unfam\n",
       "  Control  1.000000  0.233035  0.025401\n",
       "  Fam      0.233035  1.000000  0.233035\n",
       "  Unfam    0.025401  0.233035  1.000000),\n",
       " 'Agranular insular area': (KruskalResult(statistic=10.841511387163564, pvalue=0.004423802345317263),\n",
       "            Control       Fam     Unfam\n",
       "  Control  1.000000  0.159393  0.003181\n",
       "  Fam      0.159393  1.000000  0.159393\n",
       "  Unfam    0.003181  0.159393  1.000000),\n",
       " 'Main olfactory bulb': (KruskalResult(statistic=9.827225672877844, pvalue=0.007345900794010483),\n",
       "            Control       Fam     Unfam\n",
       "  Control  1.000000  0.010440  0.042501\n",
       "  Fam      0.010440  1.000000  0.441412\n",
       "  Unfam    0.042501  0.441412  1.000000),\n",
       " 'Piriform area': (KruskalResult(statistic=7.7475155279502985, pvalue=0.020780135680043086),\n",
       "            Control       Fam     Unfam\n",
       "  Control  1.000000  0.033149  0.061574\n",
       "  Fam      0.033149  1.000000  0.583030\n",
       "  Unfam    0.061574  0.583030  1.000000),\n",
       " 'Cortical amygdalar area': (KruskalResult(statistic=8.96635610766046, pvalue=0.011297452130883585),\n",
       "            Control       Fam     Unfam\n",
       "  Control  1.000000  0.011096  0.103939\n",
       "  Fam      0.011096  1.000000  0.277785\n",
       "  Unfam    0.103939  0.277785  1.000000),\n",
       " 'Piriform-amygdalar area': (KruskalResult(statistic=10.137784679089037, pvalue=0.006289382784566506),\n",
       "            Control       Fam     Unfam\n",
       "  Control  1.000000  0.015882  0.018165\n",
       "  Fam      0.015882  1.000000  0.714383\n",
       "  Unfam    0.018165  0.714383  1.000000),\n",
       " 'Postpiriform transition area': (KruskalResult(statistic=12.713871635610772, pvalue=0.0017346739335381237),\n",
       "            Control       Fam     Unfam\n",
       "  Control  1.000000  0.065438  0.001416\n",
       "  Fam      0.065438  1.000000  0.220904\n",
       "  Unfam    0.001416  0.220904  1.000000),\n",
       " 'Basolateral amygdalar nucleus': (KruskalResult(statistic=7.53788819875777, pvalue=0.023076416830366497),\n",
       "            Control       Fam     Unfam\n",
       "  Control  1.000000  0.044868  0.044868\n",
       "  Fam      0.044868  1.000000  0.761984\n",
       "  Unfam    0.044868  0.761984  1.000000),\n",
       " 'Posterior amygdalar nucleus': (KruskalResult(statistic=7.154818425886667, pvalue=0.02794801188764519),\n",
       "            Control       Fam     Unfam\n",
       "  Control  1.000000  0.026862  0.613842\n",
       "  Fam      0.026862  1.000000  0.071700\n",
       "  Unfam    0.613842  0.071700  1.000000),\n",
       " 'Medial amygdalar nucleus': (KruskalResult(statistic=6.818219461697723, pvalue=0.03307062903506819),\n",
       "            Control       Fam     Unfam\n",
       "  Control  1.000000  0.027342  0.367141\n",
       "  Fam      0.027342  1.000000  0.157317\n",
       "  Unfam    0.367141  0.157317  1.000000),\n",
       " 'Ventral part of the lateral geniculate complex': (KruskalResult(statistic=6.892582052741412, pvalue=0.031863598730637904),\n",
       "            Control       Fam     Unfam\n",
       "  Control  1.000000  0.826051  0.035878\n",
       "  Fam      0.826051  1.000000  0.035878\n",
       "  Unfam    0.035878  0.035878  1.000000),\n",
       " 'Tuberal nucleus': (KruskalResult(statistic=9.449062691347553, pvalue=0.008874872182698985),\n",
       "            Control       Fam     Unfam\n",
       "  Control  1.000000  0.007270  0.147567\n",
       "  Fam      0.007270  1.000000  0.176698\n",
       "  Unfam    0.147567  0.176698  1.000000)}"
      ]
     },
     "execution_count": 10,
     "metadata": {},
     "output_type": "execute_result"
    }
   ],
   "source": [
    "results = np.load('dict_results/newvolumes/dict_results_across_mice_WILD_without_father2500.npy',\n",
    "                                    allow_pickle=True).item()\n",
    "\n",
    "wild_wof = ace.kruskal_per_area(dictionary=results,\n",
    "                 experimental_groups=utils.divide_in_exp_groups(list_subjects=list(results.keys())),\n",
    "                 value='n_cells', level=8)\n",
    "wild_wof"
   ]
  },
  {
   "cell_type": "code",
   "execution_count": null,
   "metadata": {},
   "outputs": [],
   "source": []
  }
 ],
 "metadata": {
  "kernelspec": {
   "display_name": "ClearMap",
   "language": "python",
   "name": "clearmap"
  },
  "language_info": {
   "codemirror_mode": {
    "name": "ipython",
    "version": 3
   },
   "file_extension": ".py",
   "mimetype": "text/x-python",
   "name": "python",
   "nbconvert_exporter": "python",
   "pygments_lexer": "ipython3",
   "version": "3.6.8"
  },
  "latex_envs": {
   "LaTeX_envs_menu_present": true,
   "autoclose": false,
   "autocomplete": true,
   "bibliofile": "biblio.bib",
   "cite_by": "apalike",
   "current_citInitial": 1,
   "eqLabelWithNumbers": true,
   "eqNumInitial": 1,
   "hotkeys": {
    "equation": "Ctrl-E",
    "itemize": "Ctrl-I"
   },
   "labels_anchors": false,
   "latex_user_defs": false,
   "report_style_numbering": false,
   "user_envs_cfg": false
  },
  "toc": {
   "nav_menu": {},
   "number_sections": true,
   "sideBar": true,
   "skip_h1_title": false,
   "title_cell": "Table of Contents",
   "title_sidebar": "Contents",
   "toc_cell": false,
   "toc_position": {},
   "toc_section_display": true,
   "toc_window_display": false
  },
  "varInspector": {
   "cols": {
    "lenName": 16,
    "lenType": 16,
    "lenVar": 40
   },
   "kernels_config": {
    "python": {
     "delete_cmd_postfix": "",
     "delete_cmd_prefix": "del ",
     "library": "var_list.py",
     "varRefreshCmd": "print(var_dic_list())"
    },
    "r": {
     "delete_cmd_postfix": ") ",
     "delete_cmd_prefix": "rm(",
     "library": "var_list.r",
     "varRefreshCmd": "cat(var_dic_list()) "
    }
   },
   "types_to_exclude": [
    "module",
    "function",
    "builtin_function_or_method",
    "instance",
    "_Feature"
   ],
   "window_display": false
  }
 },
 "nbformat": 4,
 "nbformat_minor": 4
}
