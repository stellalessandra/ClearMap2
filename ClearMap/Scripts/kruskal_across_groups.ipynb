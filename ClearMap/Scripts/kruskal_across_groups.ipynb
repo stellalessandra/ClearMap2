{
 "cells": [
  {
   "cell_type": "code",
   "execution_count": 1,
   "metadata": {
    "ExecuteTime": {
     "end_time": "2024-07-11T08:34:17.735162Z",
     "start_time": "2024-07-11T08:34:16.962828Z"
    }
   },
   "outputs": [],
   "source": [
    "# !pip install odfpy\n",
    "# !pip install seaborn\n",
    "import os\n",
    "import pandas as pd\n",
    "import seaborn as sns\n",
    "import matplotlib.pyplot as plt\n",
    "import yaml\n",
    "from yaml import Loader\n",
    "import numpy as np\n",
    "import analyze_cells_energy as ace\n",
    "import utils\n",
    "from scipy.stats import ttest_ind, mannwhitneyu, f_oneway, kruskal\n",
    "import networkx as nx\n",
    "import matplotlib.pyplot as plt\n",
    "import utils_PLS as upls\n",
    "import scikit_posthocs as sp"
   ]
  },
  {
   "cell_type": "code",
   "execution_count": 2,
   "metadata": {
    "ExecuteTime": {
     "end_time": "2024-07-11T08:34:17.740382Z",
     "start_time": "2024-07-11T08:34:17.736657Z"
    }
   },
   "outputs": [],
   "source": [
    "def boxplot(dfs, value):\n",
    "    \"\"\"\n",
    "    Create a boxplot for a specified value across different groups.\n",
    "\n",
    "    This function takes a list of DataFrames, concatenates them into a single DataFrame,\n",
    "    and creates a boxplot for the specified value, categorized by experimental groups.\n",
    "\n",
    "    Parameters:\n",
    "    dfs (list of pd.DataFrame): List of DataFrames containing the data to be plotted.\n",
    "    value (str): The column name in the DataFrames that contains the values to be plotted.\n",
    "\n",
    "    Returns:\n",
    "    tuple: The figure and axis of the created plot.\n",
    "    \"\"\"\n",
    "    # Concatenate all DataFrames into a single DataFrame\n",
    "    df = pd.concat(dfs, ignore_index=True)\n",
    "\n",
    "    # Create a figure and axis for the boxplot\n",
    "    f, ax = plt.subplots(ncols=1, nrows=1, figsize=(5, 5), sharey=True)\n",
    "\n",
    "    # Generate the boxplot\n",
    "    sns.boxplot(\n",
    "        data=df,\n",
    "        x=\"group\",  # Grouping variable on the x-axis\n",
    "        y=value,    # Variable to be plotted on the y-axis\n",
    "        palette=\"Accent\",  # Color palette\n",
    "        ax=ax  # Axis to plot on\n",
    "    )\n",
    "\n",
    "    # Remove x-axis label\n",
    "    ax.set_xlabel('')\n",
    "\n",
    "    # Rotate x-axis labels for better readability\n",
    "    ax.tick_params(axis='x', labelrotation=90)\n",
    "\n",
    "    return f, ax"
   ]
  },
  {
   "cell_type": "markdown",
   "metadata": {},
   "source": [
    "# c57 with father"
   ]
  },
  {
   "cell_type": "code",
   "execution_count": 3,
   "metadata": {
    "ExecuteTime": {
     "end_time": "2024-07-11T08:34:18.291591Z",
     "start_time": "2024-07-11T08:34:17.741916Z"
    }
   },
   "outputs": [
    {
     "name": "stdout",
     "output_type": "stream",
     "text": [
      "n_cells\n",
      "KruskalResult(statistic=0.9200108533442091, pvalue=0.6312802197468721)\n",
      "energy\n",
      "KruskalResult(statistic=0.9140415140415286, pvalue=0.6331671972616968)\n",
      "density\n",
      "KruskalResult(statistic=3.061809795143134, pvalue=0.21633981334375155)\n",
      "relative_density\n",
      "KruskalResult(statistic=4.084981684981699, pvalue=0.12970523287396482)\n"
     ]
    },
    {
     "data": {
      "image/png": "[encoded data removed]",
      "text/plain": [
       "<Figure size 360x360 with 1 Axes>"
      ]
     },
     "metadata": {
      "needs_background": "light"
     },
     "output_type": "display_data"
    }
   ],
   "source": [
    "dict_results_across_mice = np.load(\n",
    "    'dict_results/newvolumes/dict_results_across_mice_c57_merged_hemispheres_F6BL48.npy', \n",
    "                                   allow_pickle=True).item()\n",
    "\n",
    "subjects = list(dict_results_across_mice.keys())\n",
    "\n",
    "experimental_groups = utils.divide_in_exp_groups(list_subjects=subjects)\n",
    "\n",
    "boxplot(ace.create_dfs_across_groups(dictionary_results=dict_results_across_mice, \n",
    "        experimental_groups=experimental_groups, \n",
    "        value='n_cells'), value='n_cells')\n",
    "\n",
    "for value in ['n_cells', 'energy', 'density', 'relative_density']:\n",
    "    print(value)\n",
    "    df = ace.create_dfs_across_groups(dictionary_results=dict_results_across_mice, \n",
    "            experimental_groups=experimental_groups, \n",
    "            value=value)\n",
    "    \n",
    "    print(kruskal(*[df[key][value].to_numpy() for key in df.keys()]))"
   ]
  },
  {
   "cell_type": "markdown",
   "metadata": {},
   "source": [
    "# c57 without father"
   ]
  },
  {
   "cell_type": "code",
   "execution_count": 4,
   "metadata": {
    "ExecuteTime": {
     "end_time": "2024-07-11T08:34:18.802240Z",
     "start_time": "2024-07-11T08:34:18.293158Z"
    }
   },
   "outputs": [
    {
     "name": "stdout",
     "output_type": "stream",
     "text": [
      "n_cells\n",
      "KruskalResult(statistic=2.215897435897432, pvalue=0.330235673283399)\n",
      "energy\n",
      "KruskalResult(statistic=1.961538461538467, pvalue=0.37502250901644885)\n",
      "density\n",
      "KruskalResult(statistic=1.7520512820512835, pvalue=0.41643468807096873)\n",
      "relative_density\n",
      "KruskalResult(statistic=3.1328205128205155, pvalue=0.20879335328423146)\n"
     ]
    },
    {
     "data": {
      "image/png": "[encoded data removed]",
      "text/plain": [
       "<Figure size 360x360 with 1 Axes>"
      ]
     },
     "metadata": {
      "needs_background": "light"
     },
     "output_type": "display_data"
    }
   ],
   "source": [
    "dict_results_across_mice = np.load('dict_results/newvolumes/dict_results_across_mice_BL_woF2000_36.npy', \n",
    "                                   allow_pickle=True).item()\n",
    "\n",
    "del dict_results_across_mice['BL21Fam']\n",
    "del dict_results_across_mice['BL24Fam']\n",
    "del dict_results_across_mice['BL19Unfam']\n",
    "\n",
    "subjects = list(dict_results_across_mice.keys())\n",
    "\n",
    "experimental_groups = utils.divide_in_exp_groups(list_subjects=subjects)\n",
    "\n",
    "boxplot(ace.create_dfs_across_groups(dictionary_results=dict_results_across_mice, \n",
    "        experimental_groups=experimental_groups, \n",
    "        value='n_cells'), value='n_cells')\n",
    "\n",
    "for value in ['n_cells', 'energy', 'density', 'relative_density']:\n",
    "    print(value)\n",
    "    df = ace.create_dfs_across_groups(dictionary_results=dict_results_across_mice, \n",
    "            experimental_groups=experimental_groups, \n",
    "            value=value)\n",
    "    print(kruskal(*[df[key][value].to_numpy() for key in df.keys()]))"
   ]
  },
  {
   "cell_type": "markdown",
   "metadata": {},
   "source": [
    "# WILD with father"
   ]
  },
  {
   "cell_type": "code",
   "execution_count": 5,
   "metadata": {
    "ExecuteTime": {
     "end_time": "2024-07-11T08:34:19.315865Z",
     "start_time": "2024-07-11T08:34:18.803467Z"
    }
   },
   "outputs": [
    {
     "name": "stdout",
     "output_type": "stream",
     "text": [
      "n_cells\n",
      "KruskalResult(statistic=0.8800219780219862, pvalue=0.6440293437987165)\n",
      "energy\n",
      "KruskalResult(statistic=0.2967032967032992, pvalue=0.8621278957784488)\n",
      "density\n",
      "KruskalResult(statistic=0.41558241758242787, pvalue=0.8123766361057339)\n",
      "relative_density\n",
      "KruskalResult(statistic=0.5856923076923266, pvalue=0.746136922163362)\n"
     ]
    },
    {
     "data": {
      "image/png": "[encoded data removed]",
      "text/plain": [
       "<Figure size 360x360 with 1 Axes>"
      ]
     },
     "metadata": {
      "needs_background": "light"
     },
     "output_type": "display_data"
    }
   ],
   "source": [
    "dict_results_across_mice = np.load('dict_results/newvolumes/dict_results_across_mice_WILD_with_father2500_newwild.npy', \n",
    "                                   allow_pickle=True).item()\n",
    "\n",
    "subjects = list(dict_results_across_mice.keys())\n",
    "\n",
    "experimental_groups = utils.divide_in_exp_groups(list_subjects=subjects)\n",
    "\n",
    "boxplot(ace.create_dfs_across_groups(dictionary_results=dict_results_across_mice, \n",
    "        experimental_groups=experimental_groups, \n",
    "        value='n_cells'), value='n_cells')\n",
    "\n",
    "for value in ['n_cells', 'energy', 'density', 'relative_density']:\n",
    "    print(value)\n",
    "    df = ace.create_dfs_across_groups(dictionary_results=dict_results_across_mice, \n",
    "            experimental_groups=experimental_groups, \n",
    "            value=value)\n",
    "    print(kruskal(*[df[key][value].to_numpy() for key in df.keys()]))"
   ]
  },
  {
   "cell_type": "markdown",
   "metadata": {},
   "source": [
    "# WILD_without_father"
   ]
  },
  {
   "cell_type": "code",
   "execution_count": 6,
   "metadata": {
    "ExecuteTime": {
     "end_time": "2024-07-11T08:34:19.811917Z",
     "start_time": "2024-07-11T08:34:19.317274Z"
    }
   },
   "outputs": [
    {
     "name": "stdout",
     "output_type": "stream",
     "text": [
      "n_cells\n",
      "KruskalResult(statistic=4.481987577639757, pvalue=0.10635275966048233)\n",
      "energy\n",
      "KruskalResult(statistic=2.6269151138716467, pvalue=0.2688887491290317)\n",
      "density\n",
      "KruskalResult(statistic=2.163975155279502, pvalue=0.3389212235075171)\n",
      "relative_density\n",
      "KruskalResult(statistic=3.8059006211180133, pvalue=0.14912799565384136)\n"
     ]
    },
    {
     "data": {
      "image/png": "[encoded data removed]",
      "text/plain": [
       "<Figure size 360x360 with 1 Axes>"
      ]
     },
     "metadata": {
      "needs_background": "light"
     },
     "output_type": "display_data"
    }
   ],
   "source": [
    "dict_results_across_mice = np.load('dict_results/newvolumes/dict_results_across_mice_WILD_without_father2500.npy', \n",
    "                                   allow_pickle=True).item()\n",
    "\n",
    "subjects = list(dict_results_across_mice.keys())\n",
    "\n",
    "experimental_groups = utils.divide_in_exp_groups(list_subjects=subjects)\n",
    "\n",
    "boxplot(ace.create_dfs_across_groups(dictionary_results=dict_results_across_mice, \n",
    "        experimental_groups=experimental_groups, \n",
    "        value='n_cells'), value='n_cells')\n",
    "\n",
    "for value in ['n_cells', 'energy', 'density', 'relative_density']:\n",
    "    print(value)\n",
    "    df = ace.create_dfs_across_groups(dictionary_results=dict_results_across_mice, \n",
    "            experimental_groups=experimental_groups, \n",
    "            value=value)\n",
    "    print(kruskal(*[df[key][value].to_numpy() for key in df.keys()]))"
   ]
  },
  {
   "cell_type": "markdown",
   "metadata": {},
   "source": [
    "# Make kruskal test per area"
   ]
  },
  {
   "cell_type": "markdown",
   "metadata": {},
   "source": [
    "## c57 with father"
   ]
  },
  {
   "cell_type": "code",
   "execution_count": 7,
   "metadata": {
    "ExecuteTime": {
     "end_time": "2024-07-11T08:34:35.139811Z",
     "start_time": "2024-07-11T08:34:19.814666Z"
    }
   },
   "outputs": [
    {
     "data": {
      "text/plain": [
       "{'Infralimbic area': (KruskalResult(statistic=6.242515417019528, pvalue=0.0441016664831495),\n",
       "            Control       Fam     Unfam\n",
       "  Control  1.000000  0.050894  0.050894\n",
       "  Fam      0.050894  1.000000  0.803950\n",
       "  Unfam    0.050894  0.803950  1.000000),\n",
       " 'Main olfactory bulb': (KruskalResult(statistic=7.539682539682545, pvalue=0.023055722635306922),\n",
       "           Control      Fam    Unfam\n",
       "  Control  1.00000  0.02399  0.02399\n",
       "  Fam      0.02399  1.00000  1.00000\n",
       "  Unfam    0.02399  1.00000  1.00000),\n",
       " 'Accessory olfactory bulb': (KruskalResult(statistic=7.861294261294262, pvalue=0.019630964642816575),\n",
       "           Control       Fam     Unfam\n",
       "  Control  1.00000  0.021660  0.021660\n",
       "  Fam      0.02166  1.000000  0.977299\n",
       "  Unfam    0.02166  0.977299  1.000000),\n",
       " 'Cortical amygdalar area': (KruskalResult(statistic=12.69744234903264, pvalue=0.001748982349931995),\n",
       "            Control       Fam     Unfam\n",
       "  Control  1.000000  0.003027  0.003027\n",
       "  Fam      0.003027  1.000000  0.816207\n",
       "  Unfam    0.003027  0.816207  1.000000),\n",
       " 'Piriform-amygdalar area': (KruskalResult(statistic=11.623714557047904, pvalue=0.002991868176419166),\n",
       "            Control       Fam     Unfam\n",
       "  Control  1.000000  0.008694  0.003774\n",
       "  Fam      0.008694  1.000000  0.664901\n",
       "  Unfam    0.003774  0.664901  1.000000),\n",
       " 'Basomedial amygdalar nucleus': (KruskalResult(statistic=8.714504212537744, pvalue=0.012813549589363447),\n",
       "            Control       Fam     Unfam\n",
       "  Control  1.000000  0.014676  0.014676\n",
       "  Fam      0.014676  1.000000  0.888091\n",
       "  Unfam    0.014676  0.888091  1.000000),\n",
       " 'Posterior amygdalar nucleus': (KruskalResult(statistic=14.79221272554608, pvalue=0.0006136373970763657),\n",
       "            Control       Fam     Unfam\n",
       "  Control  1.000000  0.001374  0.001374\n",
       "  Fam      0.001374  1.000000  0.904368\n",
       "  Unfam    0.001374  0.904368  1.000000),\n",
       " 'Intercalated amygdalar nucleus': (KruskalResult(statistic=7.747971751136315, pvalue=0.02077539603079521),\n",
       "            Control       Fam     Unfam\n",
       "  Control  1.000000  0.025907  0.035237\n",
       "  Fam      0.025907  1.000000  0.652206\n",
       "  Unfam    0.035237  0.652206  1.000000),\n",
       " 'Medial amygdalar nucleus': (KruskalResult(statistic=14.191154524487871, pvalue=0.0008287622276502504),\n",
       "            Control       Fam     Unfam\n",
       "  Control  1.000000  0.001251  0.002827\n",
       "  Fam      0.001251  1.000000  0.590927\n",
       "  Unfam    0.002827  0.590927  1.000000),\n",
       " 'Bed nuclei of the stria terminalis': (KruskalResult(statistic=9.728037532842603, pvalue=0.007719399010000726),\n",
       "            Control       Fam     Unfam\n",
       "  Control  1.000000  0.010990  0.014043\n",
       "  Fam      0.010990  1.000000  0.689137\n",
       "  Unfam    0.014043  0.689137  1.000000),\n",
       " 'Arcuate hypothalamic nucleus': (KruskalResult(statistic=7.973421926910299, pvalue=0.018560660528168817),\n",
       "            Control       Fam     Unfam\n",
       "  Control  1.000000  0.026415  0.026739\n",
       "  Fam      0.026415  1.000000  0.739861\n",
       "  Unfam    0.026739  0.739861  1.000000),\n",
       " 'Posterodorsal preoptic nucleus': (KruskalResult(statistic=9.356916099773251, pvalue=0.009293332700190617),\n",
       "            Control       Fam     Unfam\n",
       "  Control  1.000000  0.014332  0.014332\n",
       "  Fam      0.014332  1.000000  0.753933\n",
       "  Unfam    0.014332  0.753933  1.000000),\n",
       " 'Periventricular hypothalamic nucleus posterior part': (KruskalResult(statistic=13.240179792847368, pvalue=0.0013333110803279305),\n",
       "            Control       Fam     Unfam\n",
       "  Control  1.000000  0.004533  0.001807\n",
       "  Fam      0.004533  1.000000  0.669448\n",
       "  Unfam    0.001807  0.669448  1.000000),\n",
       " 'Medial preoptic nucleus': (KruskalResult(statistic=7.762611827676828, pvalue=0.02062387458474202),\n",
       "            Control       Fam     Unfam\n",
       "  Control  1.000000  0.022136  0.045421\n",
       "  Fam      0.022136  1.000000  0.538515\n",
       "  Unfam    0.045421  0.538515  1.000000),\n",
       " 'Ventral premammillary nucleus': (KruskalResult(statistic=14.897128140799033, pvalue=0.0005822771211381093),\n",
       "            Control       Fam     Unfam\n",
       "  Control  1.000000  0.001235  0.001429\n",
       "  Fam      0.001235  1.000000  0.741012\n",
       "  Unfam    0.001429  0.741012  1.000000),\n",
       " 'Tuberal nucleus': (KruskalResult(statistic=7.994274260091638, pvalue=0.01836814931038987),\n",
       "            Control       Fam     Unfam\n",
       "  Control  1.000000  0.025320  0.027714\n",
       "  Fam      0.025320  1.000000  0.717293\n",
       "  Unfam    0.027714  0.717293  1.000000)}"
      ]
     },
     "execution_count": 7,
     "metadata": {},
     "output_type": "execute_result"
    }
   ],
   "source": [
    "results = np.load('dict_results/newvolumes/dict_results_across_mice_c57_merged_hemispheres_F6BL48.npy',\n",
    "                                    allow_pickle=True).item()\n",
    "\n",
    "c57_wf = ace.kruskal_per_area(dictionary=results,\n",
    "                 experimental_groups=utils.divide_in_exp_groups(list_subjects=list(results.keys())),\n",
    "                 value='n_cells', level=8)\n",
    "c57_wf"
   ]
  },
  {
   "cell_type": "markdown",
   "metadata": {},
   "source": [
    "## c57 without father"
   ]
  },
  {
   "cell_type": "code",
   "execution_count": 8,
   "metadata": {
    "ExecuteTime": {
     "end_time": "2024-07-11T08:34:52.242039Z",
     "start_time": "2024-07-11T08:34:35.141397Z"
    },
    "scrolled": false
   },
   "outputs": [
    {
     "data": {
      "text/plain": [
       "{'Main olfactory bulb': (KruskalResult(statistic=9.463265306122437, pvalue=0.008812072232091041),\n",
       "            Control       Fam     Unfam\n",
       "  Control  1.000000  0.042642  0.007216\n",
       "  Fam      0.042642  1.000000  0.352542\n",
       "  Unfam    0.007216  0.352542  1.000000),\n",
       " 'Accessory olfactory bulb': (KruskalResult(statistic=13.355550708833142, pvalue=0.0012585747432411205),\n",
       "            Control       Fam     Unfam\n",
       "  Control  1.000000  0.009025  0.001091\n",
       "  Fam      0.009025  1.000000  0.367251\n",
       "  Unfam    0.001091  0.367251  1.000000),\n",
       " 'Cortical amygdalar area': (KruskalResult(statistic=13.299092970521542, pvalue=0.001294609096658083),\n",
       "            Control       Fam     Unfam\n",
       "  Control  1.000000  0.067076  0.000814\n",
       "  Fam      0.067076  1.000000  0.067076\n",
       "  Unfam    0.000814  0.067076  1.000000),\n",
       " 'Piriform-amygdalar area': (KruskalResult(statistic=11.695403954432361, pvalue=0.0028865248420391672),\n",
       "            Control       Fam     Unfam\n",
       "  Control  1.000000  0.217506  0.002850\n",
       "  Fam      0.217506  1.000000  0.033649\n",
       "  Unfam    0.002850  0.033649  1.000000),\n",
       " 'Induseum griseum': (KruskalResult(statistic=6.47291666666666, pvalue=0.0393028464752814),\n",
       "            Control       Fam     Unfam\n",
       "  Control  1.000000  0.597489  0.060495\n",
       "  Fam      0.597489  1.000000  0.071848\n",
       "  Unfam    0.060495  0.071848  1.000000),\n",
       " 'Posterior amygdalar nucleus': (KruskalResult(statistic=14.046273671350022, pvalue=0.0008910261020655683),\n",
       "            Control       Fam     Unfam\n",
       "  Control  1.000000  0.324834  0.001377\n",
       "  Fam      0.324834  1.000000  0.008261\n",
       "  Unfam    0.001377  0.008261  1.000000),\n",
       " 'Septohippocampal nucleus': (KruskalResult(statistic=9.519088531938733, pvalue=0.00856951392683948),\n",
       "            Control       Fam     Unfam\n",
       "  Control  1.000000  0.898729  0.023405\n",
       "  Fam      0.898729  1.000000  0.015103\n",
       "  Unfam    0.023405  0.015103  1.000000),\n",
       " 'Medial amygdalar nucleus': (KruskalResult(statistic=14.271201814058955, pvalue=0.0007962471685785911),\n",
       "            Control       Fam     Unfam\n",
       "  Control  1.000000  0.048508  0.000477\n",
       "  Fam      0.048508  1.000000  0.071389\n",
       "  Unfam    0.000477  0.071389  1.000000),\n",
       " 'Medial septal complex': (KruskalResult(statistic=6.119478929882854, pvalue=0.046899912699880766),\n",
       "            Control       Fam     Unfam\n",
       "  Control  1.000000  0.585860  0.154373\n",
       "  Fam      0.585860  1.000000  0.049518\n",
       "  Unfam    0.154373  0.049518  1.000000),\n",
       " 'Triangular nucleus of septum': (KruskalResult(statistic=6.477492711370254, pvalue=0.0392130234817508),\n",
       "            Control       Fam     Unfam\n",
       "  Control  1.000000  0.478126  0.178355\n",
       "  Fam      0.478126  1.000000  0.037258\n",
       "  Unfam    0.178355  0.037258  1.000000),\n",
       " 'Bed nuclei of the stria terminalis': (KruskalResult(statistic=12.61723009814613, pvalue=0.001820552870410159),\n",
       "            Control       Fam     Unfam\n",
       "  Control  1.000000  0.434395  0.003320\n",
       "  Fam      0.434395  1.000000  0.009412\n",
       "  Unfam    0.003320  0.009412  1.000000),\n",
       " 'Anteromedial nucleus': (KruskalResult(statistic=6.001672387994012, pvalue=0.04974545412138253),\n",
       "            Control       Fam     Unfam\n",
       "  Control  1.000000  0.088964  0.052807\n",
       "  Fam      0.088964  1.000000  0.590762\n",
       "  Unfam    0.052807  0.590762  1.000000),\n",
       " 'Anterodorsal preoptic nucleus': (KruskalResult(statistic=8.089066830920851, pvalue=0.017517876319516908),\n",
       "            Control       Fam     Unfam\n",
       "  Control  1.000000  0.059912  0.015376\n",
       "  Fam      0.059912  1.000000  0.411861\n",
       "  Unfam    0.015376  0.411861  1.000000),\n",
       " 'Periventricular hypothalamic nucleus posterior part': (KruskalResult(statistic=11.077575412635172, pvalue=0.003931289828473648),\n",
       "            Control       Fam     Unfam\n",
       "  Control  1.000000  0.075376  0.002621\n",
       "  Fam      0.075376  1.000000  0.130995\n",
       "  Unfam    0.002621  0.130995  1.000000),\n",
       " 'Medial preoptic nucleus': (KruskalResult(statistic=7.643438538205977, pvalue=0.021890133493165456),\n",
       "            Control       Fam     Unfam\n",
       "  Control  1.000000  0.033593  0.027679\n",
       "  Fam      0.033593  1.000000  0.724405\n",
       "  Unfam    0.027679  0.724405  1.000000),\n",
       " 'Ventral premammillary nucleus': (KruskalResult(statistic=14.35468190941618, pvalue=0.0007636958465233356),\n",
       "            Control       Fam     Unfam\n",
       "  Control  1.000000  0.029789  0.000458\n",
       "  Fam      0.029789  1.000000  0.108212\n",
       "  Unfam    0.000458  0.108212  1.000000),\n",
       " 'Parasubthalamic nucleus': (KruskalResult(statistic=7.710863960145087, pvalue=0.02116445871070718),\n",
       "            Control       Fam     Unfam\n",
       "  Control  1.000000  0.348350  0.023075\n",
       "  Fam      0.348350  1.000000  0.085437\n",
       "  Unfam    0.023075  0.085437  1.000000),\n",
       " 'Tuberal nucleus': (KruskalResult(statistic=6.814936454557362, pvalue=0.0331249591700531),\n",
       "            Control       Fam     Unfam\n",
       "  Control  1.000000  0.478280  0.042994\n",
       "  Fam      0.478280  1.000000  0.082829\n",
       "  Unfam    0.042994  0.082829  1.000000),\n",
       " 'Nucleus of the brachium of the inferior colliculus': (KruskalResult(statistic=7.723313776322365, pvalue=0.021033121106848594),\n",
       "            Control       Fam     Unfam\n",
       "  Control  1.000000  0.812775  0.053604\n",
       "  Fam      0.812775  1.000000  0.030073\n",
       "  Unfam    0.053604  0.030073  1.000000)}"
      ]
     },
     "execution_count": 8,
     "metadata": {},
     "output_type": "execute_result"
    }
   ],
   "source": [
    "results = np.load('dict_results/newvolumes/dict_results_across_mice_BL_woF2000_36.npy',\n",
    "                                    allow_pickle=True).item()\n",
    "del results['BL44Control']\n",
    "\n",
    "c57_wof = ace.kruskal_per_area(dictionary=results,\n",
    "                 experimental_groups=utils.divide_in_exp_groups(list_subjects=list(results.keys())),\n",
    "                 value='n_cells', level=8)\n",
    "c57_wof"
   ]
  },
  {
   "cell_type": "markdown",
   "metadata": {},
   "source": [
    "# wild with father"
   ]
  },
  {
   "cell_type": "code",
   "execution_count": 9,
   "metadata": {
    "ExecuteTime": {
     "end_time": "2024-07-11T08:35:08.339604Z",
     "start_time": "2024-07-11T08:34:52.243211Z"
    }
   },
   "outputs": [
    {
     "data": {
      "text/plain": [
       "{'Cortical amygdalar area': (KruskalResult(statistic=10.257928873742648, pvalue=0.005922690619085436),\n",
       "            Control       Fam     Unfam\n",
       "  Control  1.000000  0.049652  0.006361\n",
       "  Fam      0.049652  1.000000  0.330572\n",
       "  Unfam    0.006361  0.330572  1.000000),\n",
       " 'Postpiriform transition area': (KruskalResult(statistic=7.8060046189376555, pvalue=0.020181230101072523),\n",
       "            Control       Fam     Unfam\n",
       "  Control  1.000000  0.641463  0.021484\n",
       "  Fam      0.641463  1.000000  0.049277\n",
       "  Unfam    0.021484  0.049277  1.000000),\n",
       " \"Ammon's horn\": (KruskalResult(statistic=6.307714285714297, pvalue=0.04268715844988441),\n",
       "            Control       Fam     Unfam\n",
       "  Control  1.000000  0.057589  0.856224\n",
       "  Fam      0.057589  1.000000  0.072627\n",
       "  Unfam    0.856224  0.072627  1.000000),\n",
       " 'Posterior amygdalar nucleus': (KruskalResult(statistic=13.680475456746649, pvalue=0.0010698490359350515),\n",
       "            Control       Fam     Unfam\n",
       "  Control  1.000000  0.005681  0.002710\n",
       "  Fam      0.005681  1.000000  0.612364\n",
       "  Unfam    0.002710  0.612364  1.000000),\n",
       " 'Septofimbrial nucleus': (KruskalResult(statistic=8.845476098583001, pvalue=0.012001327032201834),\n",
       "            Control       Fam     Unfam\n",
       "  Control  1.000000  0.070370  0.250085\n",
       "  Fam      0.070370  1.000000  0.010625\n",
       "  Unfam    0.250085  0.010625  1.000000),\n",
       " 'Medial amygdalar nucleus': (KruskalResult(statistic=9.967839278843517, pvalue=0.006847171447065144),\n",
       "            Control       Fam     Unfam\n",
       "  Control  1.000000  0.100869  0.005645\n",
       "  Fam      0.100869  1.000000  0.199690\n",
       "  Unfam    0.005645  0.199690  1.000000),\n",
       " 'Triangular nucleus of septum': (KruskalResult(statistic=7.842907464355617, pvalue=0.019812272061804),\n",
       "            Control       Fam     Unfam\n",
       "  Control  1.000000  0.021147  0.643443\n",
       "  Fam      0.021147  1.000000  0.063715\n",
       "  Unfam    0.643443  0.063715  1.000000),\n",
       " 'Ventral premammillary nucleus': (KruskalResult(statistic=6.403279771076396, pvalue=0.040695413408969344),\n",
       "            Control       Fam     Unfam\n",
       "  Control  1.000000  0.155659  0.043112\n",
       "  Fam      0.155659  1.000000  0.401014\n",
       "  Unfam    0.043112  0.401014  1.000000)}"
      ]
     },
     "execution_count": 9,
     "metadata": {},
     "output_type": "execute_result"
    }
   ],
   "source": [
    "results = np.load('dict_results/newvolumes/dict_results_across_mice_WILD_with_father2500_newwild.npy',\n",
    "                                    allow_pickle=True).item()\n",
    "\n",
    "wild_wf = ace.kruskal_per_area(dictionary=results,\n",
    "                 experimental_groups=utils.divide_in_exp_groups(list_subjects=list(results.keys())),\n",
    "                 value='n_cells', level=8)\n",
    "wild_wf"
   ]
  },
  {
   "cell_type": "markdown",
   "metadata": {},
   "source": [
    "## wild without father"
   ]
  },
  {
   "cell_type": "code",
   "execution_count": 10,
   "metadata": {
    "ExecuteTime": {
     "end_time": "2024-07-11T08:35:20.780196Z",
     "start_time": "2024-07-11T08:35:08.340899Z"
    }
   },
   "outputs": [
    {
     "data": {
      "text/plain": [
       "{'Primary motor area': (KruskalResult(statistic=10.507660455486544, pvalue=0.005227457651766495),\n",
       "            Control       Fam     Unfam\n",
       "  Control  1.000000  0.022249  0.010383\n",
       "  Fam      0.022249  1.000000  0.742824\n",
       "  Unfam    0.010383  0.742824  1.000000),\n",
       " 'Secondary motor area': (KruskalResult(statistic=6.9760869565217405, pvalue=0.030560606207097732),\n",
       "            Control       Fam     Unfam\n",
       "  Control  1.000000  0.233035  0.025401\n",
       "  Fam      0.233035  1.000000  0.233035\n",
       "  Unfam    0.025401  0.233035  1.000000),\n",
       " 'Agranular insular area': (KruskalResult(statistic=10.841511387163564, pvalue=0.004423802345317263),\n",
       "            Control       Fam     Unfam\n",
       "  Control  1.000000  0.159393  0.003181\n",
       "  Fam      0.159393  1.000000  0.159393\n",
       "  Unfam    0.003181  0.159393  1.000000),\n",
       " 'Main olfactory bulb': (KruskalResult(statistic=9.827225672877844, pvalue=0.007345900794010483),\n",
       "            Control       Fam     Unfam\n",
       "  Control  1.000000  0.010440  0.042501\n",
       "  Fam      0.010440  1.000000  0.441412\n",
       "  Unfam    0.042501  0.441412  1.000000),\n",
       " 'Piriform area': (KruskalResult(statistic=7.7475155279502985, pvalue=0.020780135680043086),\n",
       "            Control       Fam     Unfam\n",
       "  Control  1.000000  0.033149  0.061574\n",
       "  Fam      0.033149  1.000000  0.583030\n",
       "  Unfam    0.061574  0.583030  1.000000),\n",
       " 'Cortical amygdalar area': (KruskalResult(statistic=8.96635610766046, pvalue=0.011297452130883585),\n",
       "            Control       Fam     Unfam\n",
       "  Control  1.000000  0.011096  0.103939\n",
       "  Fam      0.011096  1.000000  0.277785\n",
       "  Unfam    0.103939  0.277785  1.000000),\n",
       " 'Piriform-amygdalar area': (KruskalResult(statistic=10.137784679089037, pvalue=0.006289382784566506),\n",
       "            Control       Fam     Unfam\n",
       "  Control  1.000000  0.015882  0.018165\n",
       "  Fam      0.015882  1.000000  0.714383\n",
       "  Unfam    0.018165  0.714383  1.000000),\n",
       " 'Postpiriform transition area': (KruskalResult(statistic=12.713871635610772, pvalue=0.0017346739335381237),\n",
       "            Control       Fam     Unfam\n",
       "  Control  1.000000  0.065438  0.001416\n",
       "  Fam      0.065438  1.000000  0.220904\n",
       "  Unfam    0.001416  0.220904  1.000000),\n",
       " 'Basolateral amygdalar nucleus': (KruskalResult(statistic=7.53788819875777, pvalue=0.023076416830366497),\n",
       "            Control       Fam     Unfam\n",
       "  Control  1.000000  0.044868  0.044868\n",
       "  Fam      0.044868  1.000000  0.761984\n",
       "  Unfam    0.044868  0.761984  1.000000),\n",
       " 'Posterior amygdalar nucleus': (KruskalResult(statistic=7.154818425886667, pvalue=0.02794801188764519),\n",
       "            Control       Fam     Unfam\n",
       "  Control  1.000000  0.026862  0.613842\n",
       "  Fam      0.026862  1.000000  0.071700\n",
       "  Unfam    0.613842  0.071700  1.000000),\n",
       " 'Medial amygdalar nucleus': (KruskalResult(statistic=6.818219461697723, pvalue=0.03307062903506819),\n",
       "            Control       Fam     Unfam\n",
       "  Control  1.000000  0.027342  0.367141\n",
       "  Fam      0.027342  1.000000  0.157317\n",
       "  Unfam    0.367141  0.157317  1.000000),\n",
       " 'Ventral part of the lateral geniculate complex': (KruskalResult(statistic=6.892582052741412, pvalue=0.031863598730637904),\n",
       "            Control       Fam     Unfam\n",
       "  Control  1.000000  0.826051  0.035878\n",
       "  Fam      0.826051  1.000000  0.035878\n",
       "  Unfam    0.035878  0.035878  1.000000),\n",
       " 'Tuberal nucleus': (KruskalResult(statistic=9.449062691347553, pvalue=0.008874872182698985),\n",
       "            Control       Fam     Unfam\n",
       "  Control  1.000000  0.007270  0.147567\n",
       "  Fam      0.007270  1.000000  0.176698\n",
       "  Unfam    0.147567  0.176698  1.000000)}"
      ]
     },
     "execution_count": 10,
     "metadata": {},
     "output_type": "execute_result"
    }
   ],
   "source": [
    "results = np.load('dict_results/newvolumes/dict_results_across_mice_WILD_without_father2500.npy',\n",
    "                                    allow_pickle=True).item()\n",
    "\n",
    "wild_wof = ace.kruskal_per_area(dictionary=results,\n",
    "                 experimental_groups=utils.divide_in_exp_groups(list_subjects=list(results.keys())),\n",
    "                 value='n_cells', level=8)\n",
    "wild_wof"
   ]
  },
  {
   "cell_type": "code",
   "execution_count": null,
   "metadata": {},
   "outputs": [],
   "source": []
  }
 ],
 "metadata": {
  "kernelspec": {
   "display_name": "ClearMap",
   "language": "python",
   "name": "clearmap"
  },
  "language_info": {
   "codemirror_mode": {
    "name": "ipython",
    "version": 3
   },
   "file_extension": ".py",
   "mimetype": "text/x-python",
   "name": "python",
   "nbconvert_exporter": "python",
   "pygments_lexer": "ipython3",
   "version": "3.8.1"
  },
  "latex_envs": {
   "LaTeX_envs_menu_present": true,
   "autoclose": false,
   "autocomplete": true,
   "bibliofile": "biblio.bib",
   "cite_by": "apalike",
   "current_citInitial": 1,
   "eqLabelWithNumbers": true,
   "eqNumInitial": 1,
   "hotkeys": {
    "equation": "Ctrl-E",
    "itemize": "Ctrl-I"
   },
   "labels_anchors": false,
   "latex_user_defs": false,
   "report_style_numbering": false,
   "user_envs_cfg": false
  },
  "toc": {
   "nav_menu": {},
   "number_sections": true,
   "sideBar": true,
   "skip_h1_title": false,
   "title_cell": "Table of Contents",
   "title_sidebar": "Contents",
   "toc_cell": false,
   "toc_position": {},
   "toc_section_display": true,
   "toc_window_display": false
  },
  "varInspector": {
   "cols": {
    "lenName": 16,
    "lenType": 16,
    "lenVar": 40
   },
   "kernels_config": {
    "python": {
     "delete_cmd_postfix": "",
     "delete_cmd_prefix": "del ",
     "library": "var_list.py",
     "varRefreshCmd": "print(var_dic_list())"
    },
    "r": {
     "delete_cmd_postfix": ") ",
     "delete_cmd_prefix": "rm(",
     "library": "var_list.r",
     "varRefreshCmd": "cat(var_dic_list()) "
    }
   },
   "types_to_exclude": [
    "module",
    "function",
    "builtin_function_or_method",
    "instance",
    "_Feature"
   ],
   "window_display": false
  }
 },
 "nbformat": 4,
 "nbformat_minor": 4
}
