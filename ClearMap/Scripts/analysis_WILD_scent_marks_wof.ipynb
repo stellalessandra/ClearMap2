{
 "cells": [
  {
   "cell_type": "markdown",
   "metadata": {},
   "source": [
    "out# Data Analysis Script for WILD scent marks with father\n",
    "\n",
    "## Overview\n",
    "This Python script analyzes cFos data from experiments on WILD mice reared without father **exposed to scent marks**, comparing experimental groups through various metrics, including cell count and energy levels. It uses statistical analyses to identify significant brain areas and creates visualizations to interpret the results.\n",
    "\n",
    "## Configuration Variables\n",
    "- `root_directory`: Main directory for data.\n",
    "- `experiment`: Name of the experiment.\n",
    "- `experimental_group`: Experimental group.\n",
    "- `data_directory`: Data directory.\n",
    "- `subjects`: List of subjects.\n",
    "- `threshold`: Thresholds for data analysis.\n",
    "\n",
    "## Analysis and Visualizations\n",
    "\n",
    "1. **Loading and Preprocessing Data**\n",
    "   - Loads volumes and data for each subject.\n",
    "   - Removes areas with null cell counts or no volume.\n",
    "\n",
    "2. **Dividing Subjects into Experimental Groups**\n",
    "   - Divides subjects into groups: CONTROL, FATHER SCENT MARKS EXPOSURE, UNFAM SCENT MARKS EXPOSURE.\n",
    "\n",
    "3. **Cell Count Analysis**\n",
    "   - Calculates cell count per area and group.\n",
    "   - Performs statistical tests to compare groups.\n",
    "   - Computes and visualizes the cross-correlation matrix for each group.\n",
    "\n",
    "4. **Energy Analysis**\n",
    "   - Calculates and compares energy levels per area and group.\n",
    "   - Performs statistical tests and visualizes cross-correlation matrices.\n",
    "\n",
    "5. **Visualizations**\n",
    "   - Creates bar plots and heatmaps to visualize significant differences between experimental groups.\n",
    "\n",
    "## Additional Notes\n",
    "- The code is designed to process data stored in CSV files and save them in `.npy` format for analysis.\n",
    "- Also includes ANOVA tests to compare various metrics between experimental groups.\n",
    "\n"
   ]
  },
  {
   "cell_type": "code",
   "execution_count": null,
   "metadata": {
    "ExecuteTime": {
     "end_time": "2024-09-09T14:29:35.500997Z",
     "start_time": "2024-09-09T14:29:34.431875Z"
    }
   },
   "outputs": [],
   "source": [
    "# !pip install odfpy\n",
    "# !pip install seaborn\n",
    "import os\n",
    "import pandas as pd\n",
    "import seaborn as sns\n",
    "import matplotlib.pyplot as plt\n",
    "import yaml\n",
    "from yaml import Loader\n",
    "import numpy as np\n",
    "import analyze_cells_energy as ace\n",
    "import utils\n",
    "from scipy.stats import ttest_ind, mannwhitneyu\n",
    "import networkx as nx\n",
    "import matplotlib.pyplot as plt"
   ]
  },
  {
   "cell_type": "code",
   "execution_count": null,
   "metadata": {
    "ExecuteTime": {
     "end_time": "2024-09-09T14:29:35.517661Z",
     "start_time": "2024-09-09T14:29:35.511224Z"
    }
   },
   "outputs": [],
   "source": [
    "root_directory = '/home/stella/Documents/Torino/projects/'\n",
    "experiment = 'SexualImprinting'\n",
    "experimental_group = 'WILD_ScentMarks_Exposure_wof' # CHANGE IF NECESSARY\n",
    "data_directory = root_directory + experiment + '/' \\\n",
    "                + experimental_group + '/'\n",
    "subjects = [name for name in os.listdir(data_directory) \\\n",
    "            if os.path.isdir(os.path.join(data_directory, name))]\n",
    "threshold = 2500 # CHANGE IF NECESSARY"
   ]
  },
  {
   "cell_type": "code",
   "execution_count": null,
   "metadata": {
    "ExecuteTime": {
     "end_time": "2024-09-09T14:29:35.932538Z",
     "start_time": "2024-09-09T14:29:35.526333Z"
    }
   },
   "outputs": [],
   "source": [
    "# load query file where we added volumes for each area\n",
    "volumes = ace.clean_volumes_database()"
   ]
  },
  {
   "cell_type": "code",
   "execution_count": 1,
   "metadata": {
    "ExecuteTime": {
     "end_time": "2024-09-23T12:33:10.147584Z",
     "start_time": "2024-09-23T12:33:10.138766Z"
    }
   },
   "outputs": [],
   "source": [
    "def load_subject(subject, threshold):\n",
    "    df_mouse = pd.read_csv(data_directory + subject + '/cells_'+threshold+''.csv')\n",
    "    df_mouse = ace.reformat_df_mouse(df=df_mouse)\n",
    "    return df_mouse"
   ]
  },
  {
   "cell_type": "code",
   "execution_count": null,
   "metadata": {
    "ExecuteTime": {
     "end_time": "2024-09-09T14:29:36.033096Z",
     "start_time": "2024-09-09T14:29:36.027235Z"
    }
   },
   "outputs": [],
   "source": [
    "def find_significant_areas(dictionary, experimental_groups, value, test='mannwhitneyu', alpha=0.05):\n",
    "    dfs = \\\n",
    "    ace.calculate_value_across_groups(experimental_groups=experimental_groups, \n",
    "                                  dict_results_across_mice=dictionary, \n",
    "                                  value=value)\n",
    "    df_ttest = ace.test_across_groups(dfs,\n",
    "                                     test=test,\n",
    "                                     groups=list(experimental_groups.keys()))\n",
    "    # sort dataframe pvalues of control vs fam and pick the first 20\n",
    "    columns = df_ttest.loc[:, df_ttest.columns!='area'].columns\n",
    "    df_sigareas = pd.DataFrame()\n",
    "    for col in columns:\n",
    "        df = df_ttest.sort_values(by=col)[['area', col]]\n",
    "        df_sigareas = pd.concat([df_sigareas, df[df[col]<alpha]['area'].reset_index(drop=True)], axis=1)\n",
    "    df_sigareas.columns = [col.replace('pval_', '') for col in columns]\n",
    "    return df_sigareas"
   ]
  },
  {
   "cell_type": "markdown",
   "metadata": {
    "ExecuteTime": {
     "end_time": "2023-04-03T11:25:09.047637Z",
     "start_time": "2023-04-03T11:25:09.031624Z"
    }
   },
   "source": [
    "# Statistical analysis"
   ]
  },
  {
   "cell_type": "code",
   "execution_count": null,
   "metadata": {
    "ExecuteTime": {
     "end_time": "2024-09-09T14:29:36.077610Z",
     "start_time": "2024-09-09T14:29:36.075732Z"
    }
   },
   "outputs": [],
   "source": [
    "dict_results_across_mice = {subject: ace.calculate_cells_energy_per_level(\n",
    "    df_mouse=load_subject(subject=subject, \n",
    "                          data_directory=data_directory, \n",
    "                          threshold=threshold), \n",
    "    vol=volumes, \n",
    "    level=8) for subject in subjects}\n",
    "np.save('dict_results/newvolumes/dict_results_across_mice_WILD_scent_marks_wof.npy', dict_results_across_mice)"
   ]
  },
  {
   "cell_type": "code",
   "execution_count": null,
   "metadata": {
    "ExecuteTime": {
     "end_time": "2024-09-09T14:29:36.143397Z",
     "start_time": "2024-09-09T14:29:36.118299Z"
    }
   },
   "outputs": [],
   "source": [
    "dict_results_across_mice = np.load('dict_results/newvolumes/dict_results_across_mice_WILD_scent_marks_wof.npy', \n",
    "                                   allow_pickle=True).item()"
   ]
  },
  {
   "cell_type": "code",
   "execution_count": null,
   "metadata": {
    "ExecuteTime": {
     "end_time": "2024-09-09T14:35:27.300002Z",
     "start_time": "2024-09-09T14:35:27.292556Z"
    }
   },
   "outputs": [],
   "source": [
    "subjects = list(dict_results_across_mice.keys())"
   ]
  },
  {
   "cell_type": "markdown",
   "metadata": {},
   "source": [
    "# Divide mice into experimental groups: FAM/UNFAM/CONTROL"
   ]
  },
  {
   "cell_type": "code",
   "execution_count": null,
   "metadata": {
    "ExecuteTime": {
     "end_time": "2024-09-09T14:35:28.781660Z",
     "start_time": "2024-09-09T14:35:28.779395Z"
    }
   },
   "outputs": [],
   "source": [
    "experimental_groups = utils.divide_in_exp_groups(list_subjects=subjects)"
   ]
  },
  {
   "cell_type": "markdown",
   "metadata": {},
   "source": [
    "# Calculate cell count across experimental groups"
   ]
  },
  {
   "cell_type": "code",
   "execution_count": null,
   "metadata": {
    "ExecuteTime": {
     "end_time": "2024-09-09T14:35:29.584573Z",
     "start_time": "2024-09-09T14:35:29.535569Z"
    }
   },
   "outputs": [],
   "source": [
    "df_control_cell_count, df_fam_cell_count, df_unfam_cell_count = \\\n",
    "ace.calculate_value_across_groups(experimental_groups=experimental_groups, \n",
    "                              dict_results_across_mice=dict_results_across_mice, \n",
    "                              value='n_cells')"
   ]
  },
  {
   "cell_type": "code",
   "execution_count": null,
   "metadata": {
    "ExecuteTime": {
     "end_time": "2024-09-09T14:35:34.214995Z",
     "start_time": "2024-09-09T14:35:34.184094Z"
    }
   },
   "outputs": [],
   "source": [
    "df_control_cell_count"
   ]
  },
  {
   "cell_type": "code",
   "execution_count": null,
   "metadata": {
    "ExecuteTime": {
     "end_time": "2024-07-19T13:25:09.540700Z",
     "start_time": "2024-07-19T13:25:09.534559Z"
    }
   },
   "outputs": [],
   "source": [
    "df_fam_cell_count.set_index('area').sum()"
   ]
  },
  {
   "cell_type": "code",
   "execution_count": null,
   "metadata": {
    "ExecuteTime": {
     "end_time": "2024-07-19T13:25:10.066546Z",
     "start_time": "2024-07-19T13:25:10.061333Z"
    }
   },
   "outputs": [],
   "source": [
    "df_unfam_cell_count.set_index('area').sum()"
   ]
  },
  {
   "cell_type": "code",
   "execution_count": null,
   "metadata": {
    "ExecuteTime": {
     "end_time": "2024-07-19T13:25:30.588526Z",
     "start_time": "2024-07-19T13:25:30.581806Z"
    }
   },
   "outputs": [],
   "source": [
    "df_control_cell_count.set_index('area').loc['Arcuate hypothalamic nucleus']"
   ]
  },
  {
   "cell_type": "code",
   "execution_count": null,
   "metadata": {
    "ExecuteTime": {
     "end_time": "2024-07-19T13:25:31.117087Z",
     "start_time": "2024-07-19T13:25:31.112494Z"
    }
   },
   "outputs": [],
   "source": [
    "df_fam_cell_count.set_index('area').loc['Arcuate hypothalamic nucleus']"
   ]
  },
  {
   "cell_type": "code",
   "execution_count": null,
   "metadata": {
    "ExecuteTime": {
     "end_time": "2024-07-19T13:25:31.623714Z",
     "start_time": "2024-07-19T13:25:31.618835Z"
    }
   },
   "outputs": [],
   "source": [
    "df_unfam_cell_count.set_index('area').loc['Arcuate hypothalamic nucleus']"
   ]
  },
  {
   "cell_type": "code",
   "execution_count": null,
   "metadata": {
    "ExecuteTime": {
     "end_time": "2024-05-30T12:43:27.055909Z",
     "start_time": "2024-05-30T12:43:27.050207Z"
    }
   },
   "outputs": [],
   "source": [
    "df_control_cell_count.set_index('area').loc['Medial amygdalar nucleus']"
   ]
  },
  {
   "cell_type": "code",
   "execution_count": null,
   "metadata": {
    "ExecuteTime": {
     "end_time": "2024-05-30T12:43:27.866266Z",
     "start_time": "2024-05-30T12:43:27.860538Z"
    }
   },
   "outputs": [],
   "source": [
    "df_fam_cell_count.set_index('area').loc['Medial amygdalar nucleus']"
   ]
  },
  {
   "cell_type": "code",
   "execution_count": null,
   "metadata": {
    "ExecuteTime": {
     "end_time": "2024-05-30T12:43:28.603695Z",
     "start_time": "2024-05-30T12:43:28.599212Z"
    }
   },
   "outputs": [],
   "source": [
    "df_unfam_cell_count.set_index('area').loc['Medial amygdalar nucleus']"
   ]
  },
  {
   "cell_type": "code",
   "execution_count": null,
   "metadata": {
    "ExecuteTime": {
     "end_time": "2024-05-30T12:43:29.363948Z",
     "start_time": "2024-05-30T12:43:29.359252Z"
    }
   },
   "outputs": [],
   "source": [
    "df_control_cell_count.set_index('area').loc['Basomedial amygdalar nucleus']"
   ]
  },
  {
   "cell_type": "code",
   "execution_count": null,
   "metadata": {
    "ExecuteTime": {
     "end_time": "2024-05-30T12:43:30.103062Z",
     "start_time": "2024-05-30T12:43:30.098347Z"
    }
   },
   "outputs": [],
   "source": [
    "df_fam_cell_count.set_index('area').loc['Basomedial amygdalar nucleus']"
   ]
  },
  {
   "cell_type": "code",
   "execution_count": null,
   "metadata": {
    "ExecuteTime": {
     "end_time": "2024-05-30T12:43:30.878968Z",
     "start_time": "2024-05-30T12:43:30.874444Z"
    }
   },
   "outputs": [],
   "source": [
    "df_unfam_cell_count.set_index('area').loc['Basomedial amygdalar nucleus']"
   ]
  },
  {
   "cell_type": "code",
   "execution_count": null,
   "metadata": {
    "ExecuteTime": {
     "end_time": "2024-05-30T12:43:31.600652Z",
     "start_time": "2024-05-30T12:43:31.595866Z"
    }
   },
   "outputs": [],
   "source": [
    "df_control_cell_count.set_index('area').loc['Supramammillary nucleus']"
   ]
  },
  {
   "cell_type": "code",
   "execution_count": null,
   "metadata": {
    "ExecuteTime": {
     "end_time": "2024-05-30T12:43:32.331559Z",
     "start_time": "2024-05-30T12:43:32.327199Z"
    }
   },
   "outputs": [],
   "source": [
    "df_fam_cell_count.set_index('area').loc['Supramammillary nucleus']"
   ]
  },
  {
   "cell_type": "code",
   "execution_count": null,
   "metadata": {
    "ExecuteTime": {
     "end_time": "2024-05-30T12:43:33.039030Z",
     "start_time": "2024-05-30T12:43:33.034391Z"
    }
   },
   "outputs": [],
   "source": [
    "df_unfam_cell_count.set_index('area').loc['Supramammillary nucleus']"
   ]
  },
  {
   "cell_type": "markdown",
   "metadata": {},
   "source": [
    "## Calculate t-tests across groups per area"
   ]
  },
  {
   "cell_type": "code",
   "execution_count": null,
   "metadata": {
    "ExecuteTime": {
     "end_time": "2024-05-30T12:43:34.874400Z",
     "start_time": "2024-05-30T12:43:33.741017Z"
    }
   },
   "outputs": [],
   "source": [
    "df_ttest_ncells = ace.test_across_groups([df_control_cell_count,df_fam_cell_count,df_unfam_cell_count], \n",
    "                                         test='mannwhitneyu')"
   ]
  },
  {
   "cell_type": "code",
   "execution_count": null,
   "metadata": {
    "ExecuteTime": {
     "end_time": "2024-05-30T12:43:35.624621Z",
     "start_time": "2024-05-30T12:43:35.620646Z"
    }
   },
   "outputs": [],
   "source": [
    "# remove rows corresponding to area that have zero cell count across all experimental groups\n",
    "df_ttest_not_null_ncells = df_ttest_ncells.dropna(axis=0,\n",
    "                                   how='all',\n",
    "                                   subset=['pval_Control_vs_Fam',\n",
    "                                          'pval_Control_vs_Unfam',\n",
    "                                          'pval_Fam_vs_Unfam'])"
   ]
  },
  {
   "cell_type": "code",
   "execution_count": null,
   "metadata": {
    "ExecuteTime": {
     "end_time": "2024-05-30T12:43:37.145662Z",
     "start_time": "2024-05-30T12:43:37.134493Z"
    }
   },
   "outputs": [],
   "source": [
    "# sort dataframe pvalues of control vs fam and pick the first 20\n",
    "df_ttest_not_null_ncells.sort_values(by='pval_Control_vs_Fam')[['area', 'pval_Control_vs_Fam']][0:40].set_index('area')"
   ]
  },
  {
   "cell_type": "code",
   "execution_count": null,
   "metadata": {
    "ExecuteTime": {
     "end_time": "2024-05-30T12:43:37.898570Z",
     "start_time": "2024-05-30T12:43:37.888932Z"
    }
   },
   "outputs": [],
   "source": [
    "# sort dataframe pvalues of control vs unfam and pick the first 20\n",
    "df_ttest_not_null_ncells.sort_values(by='pval_Control_vs_Unfam')[['area', 'pval_Control_vs_Unfam']][0:35].set_index('area')"
   ]
  },
  {
   "cell_type": "code",
   "execution_count": null,
   "metadata": {
    "ExecuteTime": {
     "end_time": "2024-05-30T12:43:38.659143Z",
     "start_time": "2024-05-30T12:43:38.652010Z"
    }
   },
   "outputs": [],
   "source": [
    "# sort dataframe pvalues of fam vs unfam and pick the first 20\n",
    "df_ttest_not_null_ncells.sort_values(by='pval_Fam_vs_Unfam')[['area', 'pval_Fam_vs_Unfam']][0:20].set_index('area')"
   ]
  },
  {
   "cell_type": "markdown",
   "metadata": {},
   "source": [
    "## Calculate cross corr across groups per area on cell count"
   ]
  },
  {
   "cell_type": "code",
   "execution_count": null,
   "metadata": {
    "ExecuteTime": {
     "end_time": "2024-05-23T10:00:57.291765Z",
     "start_time": "2024-05-23T10:00:57.284181Z"
    }
   },
   "outputs": [],
   "source": [
    "corr_matrix_control_ncells = ace.cross_corr(df_control_cell_count)"
   ]
  },
  {
   "cell_type": "code",
   "execution_count": null,
   "metadata": {
    "ExecuteTime": {
     "end_time": "2024-05-23T10:00:57.887172Z",
     "start_time": "2024-05-23T10:00:57.873043Z"
    }
   },
   "outputs": [],
   "source": [
    "corr_matrix_control_ncells = ace.cross_corr(df_control_cell_count)\n",
    "corr_matrix_fam_ncells = ace.cross_corr(df_fam_cell_count)\n",
    "corr_matrix_unfam_ncells = ace.cross_corr(df_unfam_cell_count)"
   ]
  },
  {
   "cell_type": "code",
   "execution_count": null,
   "metadata": {
    "ExecuteTime": {
     "end_time": "2024-05-23T10:00:58.624042Z",
     "start_time": "2024-05-23T10:00:58.618316Z"
    }
   },
   "outputs": [],
   "source": [
    "corr_matrix_unfam_ncells = ace.cross_corr(df_unfam_cell_count)"
   ]
  },
  {
   "cell_type": "markdown",
   "metadata": {},
   "source": [
    "## Plot cross corr matrix across groups per area on cell count"
   ]
  },
  {
   "cell_type": "code",
   "execution_count": null,
   "metadata": {
    "ExecuteTime": {
     "end_time": "2024-05-23T10:01:00.209411Z",
     "start_time": "2024-05-23T10:00:59.114583Z"
    }
   },
   "outputs": [],
   "source": [
    "f, ax = plt.subplots(figsize=(10, 8))\n",
    "sns.heatmap(corr_matrix_control_ncells,\n",
    "    cmap=sns.diverging_palette(220, 10, as_cmap=True),\n",
    "    vmin=-1.0, vmax=1.0,\n",
    "    square=True, ax=ax)\n",
    "ax.set_title('CONTROL')"
   ]
  },
  {
   "cell_type": "code",
   "execution_count": null,
   "metadata": {
    "ExecuteTime": {
     "end_time": "2024-05-23T10:01:01.957348Z",
     "start_time": "2024-05-23T10:01:00.749181Z"
    }
   },
   "outputs": [],
   "source": [
    "f, ax = plt.subplots(figsize=(10, 8))\n",
    "sns.heatmap(corr_matrix_fam_ncells,\n",
    "    cmap=sns.diverging_palette(220, 10, as_cmap=True),\n",
    "    vmin=-1.0, vmax=1.0,\n",
    "    square=True, ax=ax)\n",
    "ax.set_title('FAM')"
   ]
  },
  {
   "cell_type": "code",
   "execution_count": null,
   "metadata": {
    "ExecuteTime": {
     "end_time": "2024-05-23T10:01:03.535871Z",
     "start_time": "2024-05-23T10:01:02.474094Z"
    }
   },
   "outputs": [],
   "source": [
    "f, ax = plt.subplots(figsize=(10, 8))\n",
    "sns.heatmap(corr_matrix_unfam_ncells,\n",
    "    cmap=sns.diverging_palette(220, 10, as_cmap=True),\n",
    "    vmin=-1.0, vmax=1.0,\n",
    "    square=True, ax=ax)\n",
    "ax.set_title('UNFAM')"
   ]
  },
  {
   "cell_type": "markdown",
   "metadata": {},
   "source": [
    "# Calculate energy across experimental groups"
   ]
  },
  {
   "cell_type": "code",
   "execution_count": null,
   "metadata": {
    "ExecuteTime": {
     "end_time": "2024-05-23T10:01:04.144843Z",
     "start_time": "2024-05-23T10:01:04.122532Z"
    }
   },
   "outputs": [],
   "source": [
    "df_control_energy, df_fam_energy, df_unfam_energy = \\\n",
    "ace.calculate_value_across_groups(experimental_groups, dict_results_across_mice, value='energy')"
   ]
  },
  {
   "cell_type": "markdown",
   "metadata": {},
   "source": [
    "## T-test on energy across groups"
   ]
  },
  {
   "cell_type": "code",
   "execution_count": null,
   "metadata": {
    "ExecuteTime": {
     "end_time": "2024-05-23T10:01:05.840682Z",
     "start_time": "2024-05-23T10:01:04.813378Z"
    }
   },
   "outputs": [],
   "source": [
    "df_ttest_energy = ace.test_across_groups([df_control_energy,df_fam_energy,df_unfam_energy],\n",
    "                                        test='mannwhitneyu')"
   ]
  },
  {
   "cell_type": "code",
   "execution_count": null,
   "metadata": {
    "ExecuteTime": {
     "end_time": "2024-05-23T10:01:06.392351Z",
     "start_time": "2024-05-23T10:01:06.388620Z"
    }
   },
   "outputs": [],
   "source": [
    "# remove rows corresponding to area that have zero cell count across all experimental groups\n",
    "df_ttest_not_null_energy = df_ttest_energy.dropna(axis=0,\n",
    "                                   how='all',\n",
    "                                   subset=['pval_Control_vs_Fam',\n",
    "                                          'pval_Control_vs_Unfam',\n",
    "                                          'pval_Fam_vs_Unfam'])"
   ]
  },
  {
   "cell_type": "code",
   "execution_count": null,
   "metadata": {
    "ExecuteTime": {
     "end_time": "2024-05-23T10:01:06.924771Z",
     "start_time": "2024-05-23T10:01:06.917069Z"
    },
    "scrolled": false
   },
   "outputs": [],
   "source": [
    "# sort dataframe pvalues of control vs fam and pick the first 20\n",
    "df_ttest_not_null_energy.sort_values(by='pval_Control_vs_Fam')[['area', 'pval_Control_vs_Fam']][0:20].set_index('area')"
   ]
  },
  {
   "cell_type": "code",
   "execution_count": null,
   "metadata": {
    "ExecuteTime": {
     "end_time": "2024-05-23T10:01:07.491768Z",
     "start_time": "2024-05-23T10:01:07.483757Z"
    }
   },
   "outputs": [],
   "source": [
    "# sort dataframe pvalues of control vs fam and pick the first 20\n",
    "df_ttest_not_null_energy.sort_values(by='pval_Control_vs_Unfam')[['area', 'pval_Control_vs_Unfam']][0:20].set_index('area')"
   ]
  },
  {
   "cell_type": "code",
   "execution_count": null,
   "metadata": {
    "ExecuteTime": {
     "end_time": "2024-05-23T10:01:08.117133Z",
     "start_time": "2024-05-23T10:01:08.109158Z"
    }
   },
   "outputs": [],
   "source": [
    "# sort dataframe pvalues of control vs fam and pick the first 20\n",
    "df_ttest_not_null_energy.sort_values(by='pval_Fam_vs_Unfam')[['area', 'pval_Fam_vs_Unfam']][0:20].set_index('area')"
   ]
  },
  {
   "cell_type": "markdown",
   "metadata": {
    "ExecuteTime": {
     "end_time": "2023-04-05T15:11:36.529234Z",
     "start_time": "2023-04-05T15:11:36.525705Z"
    }
   },
   "source": [
    "\n"
   ]
  },
  {
   "cell_type": "code",
   "execution_count": null,
   "metadata": {
    "ExecuteTime": {
     "end_time": "2024-05-23T10:01:08.636781Z",
     "start_time": "2024-05-23T10:01:08.631208Z"
    }
   },
   "outputs": [],
   "source": [
    "corr_matrix_control_energy = ace.cross_corr(df_control_energy)"
   ]
  },
  {
   "cell_type": "code",
   "execution_count": null,
   "metadata": {
    "ExecuteTime": {
     "end_time": "2024-05-23T10:01:09.185126Z",
     "start_time": "2024-05-23T10:01:09.179859Z"
    }
   },
   "outputs": [],
   "source": [
    "corr_matrix_fam_energy = ace.cross_corr(df_fam_energy)"
   ]
  },
  {
   "cell_type": "code",
   "execution_count": null,
   "metadata": {
    "ExecuteTime": {
     "end_time": "2024-05-23T10:01:09.850070Z",
     "start_time": "2024-05-23T10:01:09.844465Z"
    }
   },
   "outputs": [],
   "source": [
    "corr_matrix_unfam_energy = ace.cross_corr(df_unfam_energy)"
   ]
  },
  {
   "cell_type": "markdown",
   "metadata": {
    "ExecuteTime": {
     "end_time": "2023-04-06T10:58:02.369256Z",
     "start_time": "2023-04-06T10:58:01.314282Z"
    }
   },
   "source": [
    "## Plot cross corr matrix across groups per area on energy"
   ]
  },
  {
   "cell_type": "code",
   "execution_count": null,
   "metadata": {
    "ExecuteTime": {
     "end_time": "2024-05-23T10:01:11.542840Z",
     "start_time": "2024-05-23T10:01:10.491956Z"
    }
   },
   "outputs": [],
   "source": [
    "f, ax = plt.subplots(figsize=(10, 8))\n",
    "sns.heatmap(corr_matrix_control_energy,\n",
    "    cmap=sns.diverging_palette(220, 10, as_cmap=True),\n",
    "    vmin=-1.0, vmax=1.0,\n",
    "    square=True, ax=ax)\n",
    "ax.set_title('CONTROL')"
   ]
  },
  {
   "cell_type": "code",
   "execution_count": null,
   "metadata": {
    "ExecuteTime": {
     "end_time": "2024-05-23T10:01:13.353428Z",
     "start_time": "2024-05-23T10:01:12.182725Z"
    }
   },
   "outputs": [],
   "source": [
    "f, ax = plt.subplots(figsize=(10, 8))\n",
    "sns.heatmap(corr_matrix_fam_energy,\n",
    "    cmap=sns.diverging_palette(220, 10, as_cmap=True),\n",
    "    vmin=-1.0, vmax=1.0,\n",
    "    square=True, ax=ax)\n",
    "ax.set_title('FAM')"
   ]
  },
  {
   "cell_type": "code",
   "execution_count": null,
   "metadata": {
    "ExecuteTime": {
     "end_time": "2024-05-23T10:01:14.992977Z",
     "start_time": "2024-05-23T10:01:13.982526Z"
    }
   },
   "outputs": [],
   "source": [
    "f, ax = plt.subplots(figsize=(10, 8))\n",
    "sns.heatmap(corr_matrix_unfam_energy,\n",
    "    cmap=sns.diverging_palette(220, 10, as_cmap=True),\n",
    "    vmin=-1.0, vmax=1.0,\n",
    "    square=True, ax=ax)\n",
    "ax.set_title('UNFAM')"
   ]
  },
  {
   "cell_type": "code",
   "execution_count": null,
   "metadata": {
    "ExecuteTime": {
     "end_time": "2024-05-23T10:01:16.466786Z",
     "start_time": "2024-05-23T10:01:15.627535Z"
    }
   },
   "outputs": [],
   "source": [
    "# stack1\n",
    "areas_ttest = np.unique(np.hstack([\n",
    "    df_ttest_not_null_ncells[df_ttest_not_null_ncells['pval_Control_vs_Fam']<0.05]['area'].values,\n",
    "    df_ttest_not_null_ncells[df_ttest_not_null_ncells['pval_Control_vs_Unfam']<0.05]['area'].values,\n",
    "    df_ttest_not_null_ncells[df_ttest_not_null_ncells['pval_Fam_vs_Unfam']<0.05]['area'].values]))\n",
    "\n",
    "areas_ttest_acronyms = [volumes[volumes['safe_name']==area]['acronym'].values[0] for area in areas_ttest]\n",
    "areas_ttest_acronyms = [area for area in volumes['acronym'].values if area in areas_ttest_acronyms]\n",
    "\n",
    "control = pd.DataFrame(columns=['area', 'number of cells', 'group'])\n",
    "fam = pd.DataFrame(columns=['area', 'number of cells', 'group'])\n",
    "unfam = pd.DataFrame(columns=['area', 'number of cells', 'group'])\n",
    "control['area'] = areas_ttest_acronyms\n",
    "control['group'] = ['not exposed' for area in areas_ttest]\n",
    "control['number of cells'] = [df_control_cell_count.set_index('area').loc[area].mean() for area in areas_ttest]\n",
    "\n",
    "fam['area'] = areas_ttest_acronyms\n",
    "fam['group'] = ['exposed to father urine' for area in areas_ttest]\n",
    "fam['number of cells'] = [df_fam_cell_count.set_index('area').loc[area].mean() for area in areas_ttest]\n",
    "\n",
    "unfam['area'] = areas_ttest_acronyms\n",
    "unfam['group'] = ['exposed to unfam WILD urine' for area in areas_ttest]\n",
    "unfam['number of cells'] = [df_unfam_cell_count.set_index('area').loc[area].mean() for area in areas_ttest]\n",
    "with_father = control.append(fam).append(unfam)\n",
    "\n",
    "f, ax = plt.subplots(ncols=1, nrows=1, figsize=(15,3), sharey=True)\n",
    "sns.barplot(\n",
    "    data=with_father,\n",
    "    x=\"area\", y=\"number of cells\", hue=\"group\", palette=\"Accent\", ax=ax)"
   ]
  },
  {
   "cell_type": "code",
   "execution_count": null,
   "metadata": {
    "ExecuteTime": {
     "end_time": "2024-05-23T10:01:17.805341Z",
     "start_time": "2024-05-23T10:01:17.063872Z"
    }
   },
   "outputs": [],
   "source": [
    "# stack1\n",
    "areas_ttest = np.unique(np.hstack([\n",
    "    df_ttest_not_null_energy[df_ttest_not_null_energy['pval_Control_vs_Fam']<0.05]['area'].values,\n",
    "    df_ttest_not_null_energy[df_ttest_not_null_energy['pval_Control_vs_Unfam']<0.05]['area'].values,\n",
    "    df_ttest_not_null_energy[df_ttest_not_null_energy['pval_Fam_vs_Unfam']<0.05]['area'].values]))\n",
    "\n",
    "areas_ttest_acronyms = [volumes[volumes['safe_name']==area]['acronym'].values[0] for area in areas_ttest]\n",
    "areas_ttest_acronyms = [area for area in volumes['acronym'].values if area in areas_ttest_acronyms]\n",
    "\n",
    "control = pd.DataFrame(columns=['area', 'energy', 'group'])\n",
    "fam = pd.DataFrame(columns=['area', 'energy', 'group'])\n",
    "unfam = pd.DataFrame(columns=['area', 'energy', 'group'])\n",
    "control['area'] = areas_ttest_acronyms\n",
    "control['group'] = ['not exposed' for area in areas_ttest]\n",
    "control['energy'] = [df_control_energy.set_index('area').loc[area].mean() for area in areas_ttest]\n",
    "\n",
    "fam['area'] = areas_ttest_acronyms\n",
    "fam['group'] = ['exposed to father urine' for area in areas_ttest]\n",
    "fam['energy'] = [df_fam_energy.set_index('area').loc[area].mean() for area in areas_ttest]\n",
    "\n",
    "unfam['area'] = areas_ttest_acronyms\n",
    "unfam['group'] = ['exposed to unfam WILD urine' for area in areas_ttest]\n",
    "unfam['energy'] = [df_unfam_energy.set_index('area').loc[area].mean() for area in areas_ttest]\n",
    "with_father = control.append(fam).append(unfam)\n",
    "\n",
    "f, ax = plt.subplots(ncols=1, nrows=1, figsize=(15,3), sharey=True)\n",
    "sns.barplot(\n",
    "    data=with_father,\n",
    "    x=\"area\", y=\"energy\", hue=\"group\", palette=\"Accent\", ax=ax)"
   ]
  },
  {
   "cell_type": "code",
   "execution_count": null,
   "metadata": {},
   "outputs": [],
   "source": []
  },
  {
   "cell_type": "code",
   "execution_count": null,
   "metadata": {},
   "outputs": [],
   "source": []
  },
  {
   "cell_type": "code",
   "execution_count": null,
   "metadata": {},
   "outputs": [],
   "source": []
  }
 ],
 "metadata": {
  "kernelspec": {
   "display_name": "ClearMap",
   "language": "python",
   "name": "clearmap"
  },
  "language_info": {
   "codemirror_mode": {
    "name": "ipython",
    "version": 3
   },
   "file_extension": ".py",
   "mimetype": "text/x-python",
   "name": "python",
   "nbconvert_exporter": "python",
   "pygments_lexer": "ipython3",
   "version": "3.6.8"
  },
  "latex_envs": {
   "LaTeX_envs_menu_present": true,
   "autoclose": false,
   "autocomplete": true,
   "bibliofile": "biblio.bib",
   "cite_by": "apalike",
   "current_citInitial": 1,
   "eqLabelWithNumbers": true,
   "eqNumInitial": 1,
   "hotkeys": {
    "equation": "Ctrl-E",
    "itemize": "Ctrl-I"
   },
   "labels_anchors": false,
   "latex_user_defs": false,
   "report_style_numbering": false,
   "user_envs_cfg": false
  },
  "toc": {
   "nav_menu": {},
   "number_sections": true,
   "sideBar": true,
   "skip_h1_title": false,
   "title_cell": "Table of Contents",
   "title_sidebar": "Contents",
   "toc_cell": false,
   "toc_position": {},
   "toc_section_display": true,
   "toc_window_display": false
  },
  "varInspector": {
   "cols": {
    "lenName": 16,
    "lenType": 16,
    "lenVar": 40
   },
   "kernels_config": {
    "python": {
     "delete_cmd_postfix": "",
     "delete_cmd_prefix": "del ",
     "library": "var_list.py",
     "varRefreshCmd": "print(var_dic_list())"
    },
    "r": {
     "delete_cmd_postfix": ") ",
     "delete_cmd_prefix": "rm(",
     "library": "var_list.r",
     "varRefreshCmd": "cat(var_dic_list()) "
    }
   },
   "types_to_exclude": [
    "module",
    "function",
    "builtin_function_or_method",
    "instance",
    "_Feature"
   ],
   "window_display": false
  }
 },
 "nbformat": 4,
 "nbformat_minor": 4
}
