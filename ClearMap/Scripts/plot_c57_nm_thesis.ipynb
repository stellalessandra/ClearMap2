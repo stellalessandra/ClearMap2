{
 "cells": [
  {
   "cell_type": "code",
   "execution_count": 43,
   "metadata": {
    "ExecuteTime": {
     "end_time": "2024-02-14T09:43:19.890037Z",
     "start_time": "2024-02-14T09:43:19.879846Z"
    }
   },
   "outputs": [],
   "source": [
    "# !pip install odfpy\n",
    "# !pip install seaborn\n",
    "import os\n",
    "import pandas as pd\n",
    "import seaborn as sns\n",
    "import matplotlib.pyplot as plt\n",
    "import yaml\n",
    "from yaml import Loader\n",
    "import numpy as np\n",
    "import analyze_cells_energy as ace\n",
    "import utils\n",
    "from scipy.stats import ttest_ind, mannwhitneyu\n",
    "import networkx as nx\n",
    "import matplotlib.pyplot as plt"
   ]
  },
  {
   "cell_type": "code",
   "execution_count": 44,
   "metadata": {
    "ExecuteTime": {
     "end_time": "2024-02-14T09:43:20.452596Z",
     "start_time": "2024-02-14T09:43:20.449128Z"
    }
   },
   "outputs": [],
   "source": [
    "root_directory = '/home/stella/Documents/Torino/projects/'\n",
    "experiment = 'SexualImprinting'\n",
    "experimental_group = 'C57_MaleUrine_Exposure_cFos'\n",
    "data_directory = root_directory + experiment + '/' \\\n",
    "                + experimental_group + '/'\n",
    "subjects = [name for name in os.listdir(data_directory) \\\n",
    "            if os.path.isdir(os.path.join(data_directory, name))]\n",
    "threshold = (300, 2500)"
   ]
  },
  {
   "cell_type": "code",
   "execution_count": 45,
   "metadata": {
    "ExecuteTime": {
     "end_time": "2024-02-14T09:43:21.083903Z",
     "start_time": "2024-02-14T09:43:20.959549Z"
    }
   },
   "outputs": [],
   "source": [
    "# load query file where we added volumes for each area\n",
    "volumes = ace.clean_volumes_database()"
   ]
  },
  {
   "cell_type": "code",
   "execution_count": 46,
   "metadata": {
    "ExecuteTime": {
     "end_time": "2024-02-14T09:43:21.591326Z",
     "start_time": "2024-02-14T09:43:21.588080Z"
    }
   },
   "outputs": [],
   "source": [
    "def load_subject(subject, data_directory, threshold1, threshold2, merged_controls=False):\n",
    "    file_suffix = 'cells_' + str(threshold1) if subject[0] == 'F' else 'cells_' + str(threshold2)\n",
    "    if merged_controls:\n",
    "        df_mouse = pd.read_csv(data_directory + subject + '/' + file_suffix + '.csv')\n",
    "        if subject[0]=='B':\n",
    "            df_mouse = ace.reformat_df_mouse(df=df_mouse[df_mouse[' x']>228].reset_index(drop=True))\n",
    "        else:\n",
    "            df_mouse = ace.reformat_df_mouse(df=df_mouse)\n",
    "    else:\n",
    "        df_mouse = pd.read_csv(data_directory + subject + '/' + file_suffix + '.csv')\n",
    "        df_mouse = ace.reformat_df_mouse(df=df_mouse)\n",
    "    \n",
    "    return df_mouse"
   ]
  },
  {
   "cell_type": "code",
   "execution_count": 47,
   "metadata": {
    "ExecuteTime": {
     "end_time": "2024-02-14T09:43:22.109060Z",
     "start_time": "2024-02-14T09:43:22.105952Z"
    }
   },
   "outputs": [],
   "source": [
    "def sum_values(subjects, groups):\n",
    "    data = pd.DataFrame(columns=['subject', 'group', 'n_cells', 'energy', 'density', 'relative_density'])\n",
    "    data['subject'] = [subject for subject in subjects]\n",
    "    data['group'] = [utils.split_string(subject)[-1] for subject in subjects]\n",
    "    for metric in ['n_cells', 'energy', 'density', 'relative_density']:\n",
    "        data[metric] = [dict_results_across_mice[subject][metric].sum() \\\n",
    "                        for subject in subjects]\n",
    "    return data"
   ]
  },
  {
   "cell_type": "code",
   "execution_count": 71,
   "metadata": {
    "ExecuteTime": {
     "end_time": "2024-02-14T09:49:53.877879Z",
     "start_time": "2024-02-14T09:49:53.871934Z"
    }
   },
   "outputs": [],
   "source": [
    "def dataframe_areas(area, subjects, groups):\n",
    "    data = pd.DataFrame(columns=['subject', 'n_cells', 'energy', 'density', 'relative_density'])\n",
    "    data['subject'] = [subject for subject in subjects]\n",
    "    data['group'] = [utils.split_string(subject)[-1] for subject in subjects]\n",
    "    for metric in ['n_cells', 'energy', 'density', 'relative_density']:\n",
    "        values = []\n",
    "        for subject in subjects:\n",
    "            v = dict_results_across_mice[subject]\n",
    "            values.append(v[v['area']==area][metric].values[0])\n",
    "        data[metric] = [v for v in values]\n",
    "    return data"
   ]
  },
  {
   "cell_type": "code",
   "execution_count": 84,
   "metadata": {
    "ExecuteTime": {
     "end_time": "2024-02-14T10:00:38.372830Z",
     "start_time": "2024-02-14T10:00:38.359597Z"
    }
   },
   "outputs": [],
   "source": [
    "def find_significant_areas(dictionary, experimental_groups, value, test='mannwhitneyu', alpha=0.05):\n",
    "    dfs = \\\n",
    "    ace.calculate_value_across_groups(experimental_groups=experimental_groups, \n",
    "                                  dict_results_across_mice=dictionary, \n",
    "                                  value=value)\n",
    "    df_ttest = ace.test_across_groups(dfs,\n",
    "                                     test=test,\n",
    "                                     groups=list(experimental_groups.keys()))\n",
    "    columns = df_ttest.loc[:, df_ttest.columns!='area'].columns\n",
    "    df_sigareas = pd.DataFrame()\n",
    "    for col in columns:\n",
    "        df = df_ttest.sort_values(by=col)[['area', col]]\n",
    "        df_sigareas = pd.concat([df_sigareas, df[df[col]<alpha]['area'].reset_index(drop=True)], axis=1)\n",
    "    df_sigareas.columns = [col.replace('pval_', '') for col in columns]\n",
    "    return df_sigareas"
   ]
  },
  {
   "cell_type": "code",
   "execution_count": 176,
   "metadata": {
    "ExecuteTime": {
     "end_time": "2024-02-14T11:00:02.282190Z",
     "start_time": "2024-02-14T11:00:02.275488Z"
    }
   },
   "outputs": [],
   "source": [
    "def find_common_pvalues(dictionary, experimental_groups, value, test='mannwhitneyu', alpha=0.05):\n",
    "    dfs = \\\n",
    "    ace.calculate_value_across_groups(experimental_groups=experimental_groups, \n",
    "                                      dict_results_across_mice=dict_results_across_mice, \n",
    "                                  value=value)\n",
    "    df_ttest = ace.test_across_groups(dfs,\n",
    "                                     test=test,\n",
    "                                     groups=list(experimental_groups.keys()))\n",
    "    columns = df_ttest.loc[:, df_ttest.columns!='area'].columns\n",
    "    find_common_areas = np.unique(np.concatenate([\n",
    "        df_ttest[df_ttest[col]<alpha]['area'].to_numpy() \\\n",
    "        for col in df_ttest.loc[:, df_ttest.columns!='area'].columns]).ravel())\n",
    "\n",
    "    df_ttest = df_ttest.set_index('area').loc[find_common_areas]\n",
    "    df_ttest.columns = [col.replace('pval_', '') for col in columns if col!='area']\n",
    "    df_ttest = df_ttest.reset_index()\n",
    "    return df_ttest"
   ]
  },
  {
   "cell_type": "code",
   "execution_count": null,
   "metadata": {},
   "outputs": [],
   "source": [
    "def find_pvalues(dictionary, panel, value, test='mannwhitneyu', alpha=0.05):\n",
    "    dfs = \\\n",
    "    ace.calculate_value_across_groups(experimental_groups=experimental_groups, \n",
    "                                      dict_results_across_mice=dict_results_across_mice, \n",
    "                                  value=value)\n",
    "    df_ttest = ace.test_across_groups(dfs,\n",
    "                                     test=test,\n",
    "                                     groups=list(experimental_groups.keys()))\n",
    "    columns = df_ttest.loc[:, df_ttest.columns!='area'].columns\n",
    "    find_common_areas = np.unique(np.concatenate([\n",
    "        df_ttest[df_ttest[col]<alpha]['area'].to_numpy() \\\n",
    "        for col in df_ttest.loc[:, df_ttest.columns!='area'].columns]).ravel())\n",
    "\n",
    "    df_ttest = df_ttest.set_index('area').loc[find_common_areas]\n",
    "    df_ttest.columns = [col.replace('pval_', '') for col in columns if col!='area']\n",
    "    df_ttest = df_ttest.reset_index()\n",
    "    return df_ttest"
   ]
  },
  {
   "cell_type": "code",
   "execution_count": 49,
   "metadata": {
    "ExecuteTime": {
     "end_time": "2024-02-14T09:43:23.120805Z",
     "start_time": "2024-02-14T09:43:23.103755Z"
    }
   },
   "outputs": [],
   "source": [
    "dict_results_across_mice = np.load('dict_results/newvolumes/dict_results_across_mice_c57_merged_hemispheres.npy', \n",
    "                                   allow_pickle=True).item()"
   ]
  },
  {
   "cell_type": "code",
   "execution_count": 50,
   "metadata": {
    "ExecuteTime": {
     "end_time": "2024-02-14T09:43:23.635073Z",
     "start_time": "2024-02-14T09:43:23.633186Z"
    }
   },
   "outputs": [],
   "source": [
    "subjects = list(dict_results_across_mice.keys())"
   ]
  },
  {
   "cell_type": "code",
   "execution_count": 51,
   "metadata": {
    "ExecuteTime": {
     "end_time": "2024-02-14T09:43:24.157119Z",
     "start_time": "2024-02-14T09:43:24.154480Z"
    }
   },
   "outputs": [],
   "source": [
    "experimental_groups = utils.divide_in_exp_groups(list_subjects=subjects)"
   ]
  },
  {
   "cell_type": "markdown",
   "metadata": {},
   "source": [
    "# Creiamo tabelle con le varie misure"
   ]
  },
  {
   "cell_type": "code",
   "execution_count": 52,
   "metadata": {
    "ExecuteTime": {
     "end_time": "2024-02-14T09:43:24.697342Z",
     "start_time": "2024-02-14T09:43:24.679802Z"
    }
   },
   "outputs": [],
   "source": [
    "df_control_cell_count, df_fam_cell_count, df_unfam_cell_count = \\\n",
    "ace.calculate_value_across_groups(experimental_groups=experimental_groups, \n",
    "                              dict_results_across_mice=dict_results_across_mice, \n",
    "                              value='n_cells')"
   ]
  },
  {
   "cell_type": "code",
   "execution_count": 53,
   "metadata": {
    "ExecuteTime": {
     "end_time": "2024-02-14T09:43:25.219847Z",
     "start_time": "2024-02-14T09:43:25.212389Z"
    }
   },
   "outputs": [],
   "source": [
    "df_control_cell_count.to_csv('control_ncells.csv', index=False)\n",
    "df_fam_cell_count.to_csv('fam_ncells.csv', index=False)\n",
    "df_unfam_cell_count.to_csv('unfam_ncells.csv', index=False)"
   ]
  },
  {
   "cell_type": "code",
   "execution_count": 54,
   "metadata": {
    "ExecuteTime": {
     "end_time": "2024-02-14T09:43:25.765551Z",
     "start_time": "2024-02-14T09:43:25.750309Z"
    }
   },
   "outputs": [],
   "source": [
    "df_control_energy, df_fam_energy, df_unfam_energy = \\\n",
    "ace.calculate_value_across_groups(experimental_groups=experimental_groups, \n",
    "                              dict_results_across_mice=dict_results_across_mice, \n",
    "                              value='energy')"
   ]
  },
  {
   "cell_type": "code",
   "execution_count": 55,
   "metadata": {
    "ExecuteTime": {
     "end_time": "2024-02-14T09:43:26.258170Z",
     "start_time": "2024-02-14T09:43:26.245952Z"
    }
   },
   "outputs": [],
   "source": [
    "df_control_energy.to_csv('control_energy.csv', index=False)\n",
    "df_fam_energy.to_csv('fam_energy.csv', index=False)\n",
    "df_unfam_energy.to_csv('unfam_energy.csv', index=False)"
   ]
  },
  {
   "cell_type": "code",
   "execution_count": 56,
   "metadata": {
    "ExecuteTime": {
     "end_time": "2024-02-14T09:43:26.781627Z",
     "start_time": "2024-02-14T09:43:26.761965Z"
    }
   },
   "outputs": [],
   "source": [
    "df_control_density, df_fam_density, df_unfam_density = \\\n",
    "ace.calculate_value_across_groups(experimental_groups=experimental_groups, \n",
    "                              dict_results_across_mice=dict_results_across_mice, \n",
    "                              value='density')"
   ]
  },
  {
   "cell_type": "code",
   "execution_count": 57,
   "metadata": {
    "ExecuteTime": {
     "end_time": "2024-02-14T09:43:27.284586Z",
     "start_time": "2024-02-14T09:43:27.273187Z"
    }
   },
   "outputs": [],
   "source": [
    "df_control_density.to_csv('control_density.csv', index=False)\n",
    "df_fam_density.to_csv('fam_density.csv', index=False)\n",
    "df_unfam_density.to_csv('unfam_density.csv', index=False)"
   ]
  },
  {
   "cell_type": "code",
   "execution_count": 61,
   "metadata": {
    "ExecuteTime": {
     "end_time": "2024-02-14T09:43:51.596808Z",
     "start_time": "2024-02-14T09:43:51.583372Z"
    }
   },
   "outputs": [],
   "source": [
    "s_values = sum_values(subjects=subjects, groups=['Control', 'Fam', 'Unfam'])"
   ]
  },
  {
   "cell_type": "markdown",
   "metadata": {
    "ExecuteTime": {
     "end_time": "2024-02-14T09:19:01.162416Z",
     "start_time": "2024-02-14T09:19:01.143368Z"
    }
   },
   "source": [
    "# N cellule totali"
   ]
  },
  {
   "cell_type": "code",
   "execution_count": 19,
   "metadata": {
    "ExecuteTime": {
     "end_time": "2024-02-14T09:22:26.747034Z",
     "start_time": "2024-02-14T09:22:26.740761Z"
    }
   },
   "outputs": [
    {
     "data": {
      "text/plain": [
       "BL53Control    29084\n",
       "F10Control     47203\n",
       "BL45Control    47093\n",
       "F16Control      7675\n",
       "BL51Control    44173\n",
       "F11Control     15406\n",
       "F1Control      29195\n",
       "dtype: int64"
      ]
     },
     "execution_count": 19,
     "metadata": {},
     "output_type": "execute_result"
    }
   ],
   "source": [
    "df_control_cell_count.set_index('area').sum()"
   ]
  },
  {
   "cell_type": "code",
   "execution_count": 22,
   "metadata": {
    "ExecuteTime": {
     "end_time": "2024-02-14T09:23:34.487832Z",
     "start_time": "2024-02-14T09:23:34.479512Z"
    }
   },
   "outputs": [
    {
     "data": {
      "text/plain": [
       "BL49Fam    40180\n",
       "F7Fam      50726\n",
       "F15Fam     28414\n",
       "BL47Fam    45959\n",
       "F13Fam     25668\n",
       "F5Fam      26756\n",
       "BL50Fam    49253\n",
       "F3Fam      42793\n",
       "F9Fam      67115\n",
       "dtype: int64"
      ]
     },
     "execution_count": 22,
     "metadata": {},
     "output_type": "execute_result"
    }
   ],
   "source": [
    "df_fam_cell_count.set_index('area').sum()"
   ]
  },
  {
   "cell_type": "code",
   "execution_count": 23,
   "metadata": {
    "ExecuteTime": {
     "end_time": "2024-02-14T09:23:34.990597Z",
     "start_time": "2024-02-14T09:23:34.984564Z"
    }
   },
   "outputs": [
    {
     "data": {
      "text/plain": [
       "F6Unfam      175787\n",
       "F8Unfam       68881\n",
       "BL48Unfam     43347\n",
       "F4Unfam       36382\n",
       "F2Unfam       76009\n",
       "BL54Unfam     25408\n",
       "BL52Unfam     29065\n",
       "BL46Unfam     29777\n",
       "F12Unfam      41229\n",
       "F14Unfam      20149\n",
       "dtype: int64"
      ]
     },
     "execution_count": 23,
     "metadata": {},
     "output_type": "execute_result"
    }
   ],
   "source": [
    "df_unfam_cell_count.set_index('area').sum()"
   ]
  },
  {
   "cell_type": "markdown",
   "metadata": {},
   "source": [
    "## Boxplot numero totale di cellule"
   ]
  },
  {
   "cell_type": "code",
   "execution_count": 64,
   "metadata": {
    "ExecuteTime": {
     "end_time": "2024-02-14T09:45:53.411962Z",
     "start_time": "2024-02-14T09:45:53.279446Z"
    }
   },
   "outputs": [
    {
     "data": {
      "text/plain": [
       "<AxesSubplot:xlabel='group', ylabel='n_cells'>"
      ]
     },
     "execution_count": 64,
     "metadata": {},
     "output_type": "execute_result"
    },
    {
     "data": {
      "image/png": "[encoded data removed]",
      "text/plain": [
       "<Figure size 432x288 with 1 Axes>"
      ]
     },
     "metadata": {
      "needs_background": "light"
     },
     "output_type": "display_data"
    }
   ],
   "source": [
    "ax = sns.boxplot(data=s_values, y='n_cells', x='group', palette='Paired')\n",
    "plt.savefig('boxplot_ncells.svg')"
   ]
  },
  {
   "cell_type": "markdown",
   "metadata": {},
   "source": [
    "# Energia totale"
   ]
  },
  {
   "cell_type": "code",
   "execution_count": 26,
   "metadata": {
    "ExecuteTime": {
     "end_time": "2024-02-14T09:23:54.795862Z",
     "start_time": "2024-02-14T09:23:54.775202Z"
    }
   },
   "outputs": [
    {
     "data": {
      "text/plain": [
       "BL53Control    1.539908e+08\n",
       "F10Control     4.584303e+07\n",
       "BL45Control    3.190426e+08\n",
       "F16Control     5.374690e+06\n",
       "BL51Control    2.666885e+08\n",
       "F11Control     1.250835e+07\n",
       "F1Control      3.096475e+07\n",
       "dtype: float64"
      ]
     },
     "execution_count": 26,
     "metadata": {},
     "output_type": "execute_result"
    }
   ],
   "source": [
    "df_control_energy.set_index('area').sum()"
   ]
  },
  {
   "cell_type": "code",
   "execution_count": 28,
   "metadata": {
    "ExecuteTime": {
     "end_time": "2024-02-14T09:24:13.247882Z",
     "start_time": "2024-02-14T09:24:13.228337Z"
    }
   },
   "outputs": [
    {
     "data": {
      "text/plain": [
       "BL49Fam    2.443567e+08\n",
       "F7Fam      7.095188e+07\n",
       "F15Fam     3.575699e+07\n",
       "BL47Fam    2.929110e+08\n",
       "F13Fam     3.365159e+07\n",
       "F5Fam      3.001816e+07\n",
       "BL50Fam    2.916292e+08\n",
       "F3Fam      5.132347e+07\n",
       "F9Fam      6.300211e+07\n",
       "dtype: float64"
      ]
     },
     "execution_count": 28,
     "metadata": {},
     "output_type": "execute_result"
    }
   ],
   "source": [
    "df_fam_energy.set_index('area').sum()"
   ]
  },
  {
   "cell_type": "code",
   "execution_count": 27,
   "metadata": {
    "ExecuteTime": {
     "end_time": "2024-02-14T09:24:11.702362Z",
     "start_time": "2024-02-14T09:24:11.692134Z"
    }
   },
   "outputs": [
    {
     "data": {
      "text/plain": [
       "F6Unfam      1.553403e+08\n",
       "F8Unfam      1.021610e+08\n",
       "BL48Unfam    2.174758e+08\n",
       "F4Unfam      4.086200e+07\n",
       "F2Unfam      1.040455e+08\n",
       "BL54Unfam    1.356645e+08\n",
       "BL52Unfam    1.622930e+08\n",
       "BL46Unfam    1.551062e+08\n",
       "F12Unfam     5.370439e+07\n",
       "F14Unfam     3.805825e+07\n",
       "dtype: float64"
      ]
     },
     "execution_count": 27,
     "metadata": {},
     "output_type": "execute_result"
    }
   ],
   "source": [
    "df_unfam_energy.set_index('area').sum()"
   ]
  },
  {
   "cell_type": "markdown",
   "metadata": {},
   "source": [
    "## Boxplot energia"
   ]
  },
  {
   "cell_type": "code",
   "execution_count": 65,
   "metadata": {
    "ExecuteTime": {
     "end_time": "2024-02-14T09:47:13.544968Z",
     "start_time": "2024-02-14T09:47:13.400940Z"
    }
   },
   "outputs": [
    {
     "data": {
      "text/plain": [
       "<AxesSubplot:xlabel='group', ylabel='energy'>"
      ]
     },
     "execution_count": 65,
     "metadata": {},
     "output_type": "execute_result"
    },
    {
     "data": {
      "image/png": "[encoded data removed]",
      "text/plain": [
       "<Figure size 432x288 with 1 Axes>"
      ]
     },
     "metadata": {
      "needs_background": "light"
     },
     "output_type": "display_data"
    }
   ],
   "source": [
    "ax = sns.boxplot(data=s_values, y='energy', x='group', palette='Paired')\n",
    "plt.savefig('boxplot_energy.svg')"
   ]
  },
  {
   "cell_type": "markdown",
   "metadata": {},
   "source": [
    "# Density"
   ]
  },
  {
   "cell_type": "code",
   "execution_count": 29,
   "metadata": {
    "ExecuteTime": {
     "end_time": "2024-02-14T09:24:29.464031Z",
     "start_time": "2024-02-14T09:24:29.444270Z"
    }
   },
   "outputs": [
    {
     "data": {
      "text/plain": [
       "BL53Control    22114.704779\n",
       "F10Control     38745.342865\n",
       "BL45Control    44277.108730\n",
       "F16Control      5105.207129\n",
       "BL51Control    39207.880766\n",
       "F11Control     12170.159825\n",
       "F1Control      27930.306564\n",
       "dtype: float64"
      ]
     },
     "execution_count": 29,
     "metadata": {},
     "output_type": "execute_result"
    }
   ],
   "source": [
    "df_control_density.set_index('area').sum()"
   ]
  },
  {
   "cell_type": "code",
   "execution_count": 31,
   "metadata": {
    "ExecuteTime": {
     "end_time": "2024-02-14T09:24:44.726322Z",
     "start_time": "2024-02-14T09:24:44.712620Z"
    }
   },
   "outputs": [
    {
     "data": {
      "text/plain": [
       "BL49Fam    2.443567e+08\n",
       "F7Fam      7.095188e+07\n",
       "F15Fam     3.575699e+07\n",
       "BL47Fam    2.929110e+08\n",
       "F13Fam     3.365159e+07\n",
       "F5Fam      3.001816e+07\n",
       "BL50Fam    2.916292e+08\n",
       "F3Fam      5.132347e+07\n",
       "F9Fam      6.300211e+07\n",
       "dtype: float64"
      ]
     },
     "execution_count": 31,
     "metadata": {},
     "output_type": "execute_result"
    }
   ],
   "source": [
    "df_fam_energy.set_index('area').sum()"
   ]
  },
  {
   "cell_type": "code",
   "execution_count": 30,
   "metadata": {
    "ExecuteTime": {
     "end_time": "2024-02-14T09:24:43.276892Z",
     "start_time": "2024-02-14T09:24:43.266196Z"
    }
   },
   "outputs": [
    {
     "data": {
      "text/plain": [
       "F6Unfam      1.553403e+08\n",
       "F8Unfam      1.021610e+08\n",
       "BL48Unfam    2.174758e+08\n",
       "F4Unfam      4.086200e+07\n",
       "F2Unfam      1.040455e+08\n",
       "BL54Unfam    1.356645e+08\n",
       "BL52Unfam    1.622930e+08\n",
       "BL46Unfam    1.551062e+08\n",
       "F12Unfam     5.370439e+07\n",
       "F14Unfam     3.805825e+07\n",
       "dtype: float64"
      ]
     },
     "execution_count": 30,
     "metadata": {},
     "output_type": "execute_result"
    }
   ],
   "source": [
    "df_unfam_energy.set_index('area').sum()"
   ]
  },
  {
   "cell_type": "markdown",
   "metadata": {},
   "source": [
    "## Boxplot density"
   ]
  },
  {
   "cell_type": "code",
   "execution_count": 66,
   "metadata": {
    "ExecuteTime": {
     "end_time": "2024-02-14T09:47:35.934685Z",
     "start_time": "2024-02-14T09:47:35.791882Z"
    }
   },
   "outputs": [
    {
     "data": {
      "text/plain": [
       "<AxesSubplot:xlabel='group', ylabel='density'>"
      ]
     },
     "execution_count": 66,
     "metadata": {},
     "output_type": "execute_result"
    },
    {
     "data": {
      "image/png": "[encoded data removed]",
      "text/plain": [
       "<Figure size 432x288 with 1 Axes>"
      ]
     },
     "metadata": {
      "needs_background": "light"
     },
     "output_type": "display_data"
    }
   ],
   "source": [
    "ax = sns.boxplot(data=s_values, y='density', x='group', palette='Paired')\n",
    "plt.savefig('boxplot_density.svg')"
   ]
  },
  {
   "cell_type": "markdown",
   "metadata": {},
   "source": [
    "# Boxplot aree"
   ]
  },
  {
   "cell_type": "code",
   "execution_count": 83,
   "metadata": {
    "ExecuteTime": {
     "end_time": "2024-02-14T09:57:57.582495Z",
     "start_time": "2024-02-14T09:57:57.362266Z"
    }
   },
   "outputs": [
    {
     "data": {
      "image/png": "[encoded data removed]",
      "text/plain": [
       "<Figure size 432x288 with 1 Axes>"
      ]
     },
     "metadata": {
      "needs_background": "light"
     },
     "output_type": "display_data"
    }
   ],
   "source": [
    "area = 'Supramammillary nucleus'\n",
    "SuM = dataframe_areas(area=area, \n",
    "                      subjects=subjects, \n",
    "                      groups=['Control', 'Fam', 'Unfam'])\n",
    "ax = sns.boxplot(data=SuM, y='n_cells', x='group', palette='Paired')\n",
    "# Come aggiungere punti su boxplot\n",
    "ax = sns.stripplot(data=SuM, y='n_cells', x=\"group\", size=7, color=\".3\", jitter=0.15)\n",
    "# remove 'group' label\n",
    "ax.set_xlabel('')\n",
    "plt.savefig('sum.svg')"
   ]
  },
  {
   "cell_type": "markdown",
   "metadata": {
    "ExecuteTime": {
     "end_time": "2024-02-14T10:00:51.998255Z",
     "start_time": "2024-02-14T10:00:51.991889Z"
    }
   },
   "source": [
    "# Plot aree significative"
   ]
  },
  {
   "cell_type": "code",
   "execution_count": 86,
   "metadata": {
    "ExecuteTime": {
     "end_time": "2024-02-14T10:01:33.745090Z",
     "start_time": "2024-02-14T10:01:32.647260Z"
    }
   },
   "outputs": [
    {
     "data": {
      "text/html": [
       "<div>\n",
       "<style scoped>\n",
       "    .dataframe tbody tr th:only-of-type {\n",
       "        vertical-align: middle;\n",
       "    }\n",
       "\n",
       "    .dataframe tbody tr th {\n",
       "        vertical-align: top;\n",
       "    }\n",
       "\n",
       "    .dataframe thead th {\n",
       "        text-align: right;\n",
       "    }\n",
       "</style>\n",
       "<table border=\"1\" class=\"dataframe\">\n",
       "  <thead>\n",
       "    <tr style=\"text-align: right;\">\n",
       "      <th></th>\n",
       "      <th>Control_vs_Fam</th>\n",
       "      <th>Control_vs_Unfam</th>\n",
       "      <th>Fam_vs_Unfam</th>\n",
       "    </tr>\n",
       "  </thead>\n",
       "  <tbody>\n",
       "    <tr>\n",
       "      <th>0</th>\n",
       "      <td>Ventral premammillary nucleus</td>\n",
       "      <td>Periventricular hypothalamic nucleus posterior...</td>\n",
       "      <td>Intermediodorsal nucleus of the thalamus</td>\n",
       "    </tr>\n",
       "    <tr>\n",
       "      <th>1</th>\n",
       "      <td>Medial amygdalar nucleus</td>\n",
       "      <td>Ventral premammillary nucleus</td>\n",
       "      <td>Interanteromedial nucleus of the thalamus</td>\n",
       "    </tr>\n",
       "    <tr>\n",
       "      <th>2</th>\n",
       "      <td>Posterior amygdalar nucleus</td>\n",
       "      <td>Posterior amygdalar nucleus</td>\n",
       "      <td>Supramammillary nucleus</td>\n",
       "    </tr>\n",
       "    <tr>\n",
       "      <th>3</th>\n",
       "      <td>Cortical amygdalar area</td>\n",
       "      <td>Medial amygdalar nucleus</td>\n",
       "      <td>NaN</td>\n",
       "    </tr>\n",
       "    <tr>\n",
       "      <th>4</th>\n",
       "      <td>Tuberal nucleus</td>\n",
       "      <td>Piriform-amygdalar area</td>\n",
       "      <td>NaN</td>\n",
       "    </tr>\n",
       "    <tr>\n",
       "      <th>5</th>\n",
       "      <td>Posterodorsal preoptic nucleus</td>\n",
       "      <td>Cortical amygdalar area</td>\n",
       "      <td>NaN</td>\n",
       "    </tr>\n",
       "    <tr>\n",
       "      <th>6</th>\n",
       "      <td>Periventricular hypothalamic nucleus posterior...</td>\n",
       "      <td>Posterodorsal preoptic nucleus</td>\n",
       "      <td>NaN</td>\n",
       "    </tr>\n",
       "    <tr>\n",
       "      <th>7</th>\n",
       "      <td>Bed nuclei of the stria terminalis</td>\n",
       "      <td>Bed nuclei of the stria terminalis</td>\n",
       "      <td>NaN</td>\n",
       "    </tr>\n",
       "    <tr>\n",
       "      <th>8</th>\n",
       "      <td>Piriform-amygdalar area</td>\n",
       "      <td>Basomedial amygdalar nucleus</td>\n",
       "      <td>NaN</td>\n",
       "    </tr>\n",
       "    <tr>\n",
       "      <th>9</th>\n",
       "      <td>Arcuate hypothalamic nucleus</td>\n",
       "      <td>Arcuate hypothalamic nucleus</td>\n",
       "      <td>NaN</td>\n",
       "    </tr>\n",
       "    <tr>\n",
       "      <th>10</th>\n",
       "      <td>Medial preoptic nucleus</td>\n",
       "      <td>Dorsal premammillary nucleus</td>\n",
       "      <td>NaN</td>\n",
       "    </tr>\n",
       "    <tr>\n",
       "      <th>11</th>\n",
       "      <td>Bed nucleus of the accessory olfactory tract</td>\n",
       "      <td>Intercalated amygdalar nucleus</td>\n",
       "      <td>NaN</td>\n",
       "    </tr>\n",
       "    <tr>\n",
       "      <th>12</th>\n",
       "      <td>Accessory olfactory bulb</td>\n",
       "      <td>Accessory olfactory bulb</td>\n",
       "      <td>NaN</td>\n",
       "    </tr>\n",
       "    <tr>\n",
       "      <th>13</th>\n",
       "      <td>Main olfactory bulb</td>\n",
       "      <td>Infralimbic area</td>\n",
       "      <td>NaN</td>\n",
       "    </tr>\n",
       "    <tr>\n",
       "      <th>14</th>\n",
       "      <td>Intercalated amygdalar nucleus</td>\n",
       "      <td>Lateral terminal nucleus of the accessory opti...</td>\n",
       "      <td>NaN</td>\n",
       "    </tr>\n",
       "    <tr>\n",
       "      <th>15</th>\n",
       "      <td>Basomedial amygdalar nucleus</td>\n",
       "      <td>Main olfactory bulb</td>\n",
       "      <td>NaN</td>\n",
       "    </tr>\n",
       "    <tr>\n",
       "      <th>16</th>\n",
       "      <td>Anteroventral periventricular nucleus</td>\n",
       "      <td>Medial preoptic nucleus</td>\n",
       "      <td>NaN</td>\n",
       "    </tr>\n",
       "    <tr>\n",
       "      <th>17</th>\n",
       "      <td>Infralimbic area</td>\n",
       "      <td>Intermediodorsal nucleus of the thalamus</td>\n",
       "      <td>NaN</td>\n",
       "    </tr>\n",
       "    <tr>\n",
       "      <th>18</th>\n",
       "      <td>Nucleus of the lateral olfactory tract</td>\n",
       "      <td>Basolateral amygdalar nucleus</td>\n",
       "      <td>NaN</td>\n",
       "    </tr>\n",
       "    <tr>\n",
       "      <th>19</th>\n",
       "      <td>Dorsal premammillary nucleus</td>\n",
       "      <td>Endopiriform nucleus</td>\n",
       "      <td>NaN</td>\n",
       "    </tr>\n",
       "    <tr>\n",
       "      <th>20</th>\n",
       "      <td>Medial preoptic area</td>\n",
       "      <td>Tuberal nucleus</td>\n",
       "      <td>NaN</td>\n",
       "    </tr>\n",
       "    <tr>\n",
       "      <th>21</th>\n",
       "      <td>Lateral visual area</td>\n",
       "      <td>Supramammillary nucleus</td>\n",
       "      <td>NaN</td>\n",
       "    </tr>\n",
       "    <tr>\n",
       "      <th>22</th>\n",
       "      <td>Lateral mammillary nucleus</td>\n",
       "      <td>Nucleus of reuniens</td>\n",
       "      <td>NaN</td>\n",
       "    </tr>\n",
       "    <tr>\n",
       "      <th>23</th>\n",
       "      <td>Posterior limiting nucleus of the thalamus</td>\n",
       "      <td>Tuberomammillary nucleus</td>\n",
       "      <td>NaN</td>\n",
       "    </tr>\n",
       "    <tr>\n",
       "      <th>24</th>\n",
       "      <td>Ventral auditory area</td>\n",
       "      <td>Central medial nucleus of the thalamus</td>\n",
       "      <td>NaN</td>\n",
       "    </tr>\n",
       "    <tr>\n",
       "      <th>25</th>\n",
       "      <td>Parataenial nucleus</td>\n",
       "      <td>Central linear nucleus raphe</td>\n",
       "      <td>NaN</td>\n",
       "    </tr>\n",
       "    <tr>\n",
       "      <th>26</th>\n",
       "      <td>Endopiriform nucleus</td>\n",
       "      <td>Rhomboid nucleus</td>\n",
       "      <td>NaN</td>\n",
       "    </tr>\n",
       "    <tr>\n",
       "      <th>27</th>\n",
       "      <td>Central linear nucleus raphe</td>\n",
       "      <td>NaN</td>\n",
       "      <td>NaN</td>\n",
       "    </tr>\n",
       "    <tr>\n",
       "      <th>28</th>\n",
       "      <td>Tuberomammillary nucleus</td>\n",
       "      <td>NaN</td>\n",
       "      <td>NaN</td>\n",
       "    </tr>\n",
       "    <tr>\n",
       "      <th>29</th>\n",
       "      <td>Central medial nucleus of the thalamus</td>\n",
       "      <td>NaN</td>\n",
       "      <td>NaN</td>\n",
       "    </tr>\n",
       "    <tr>\n",
       "      <th>30</th>\n",
       "      <td>Pretectal region</td>\n",
       "      <td>NaN</td>\n",
       "      <td>NaN</td>\n",
       "    </tr>\n",
       "    <tr>\n",
       "      <th>31</th>\n",
       "      <td>Paraventricular nucleus of the thalamus</td>\n",
       "      <td>NaN</td>\n",
       "      <td>NaN</td>\n",
       "    </tr>\n",
       "  </tbody>\n",
       "</table>\n",
       "</div>"
      ],
      "text/plain": [
       "                                       Control_vs_Fam  \\\n",
       "0                       Ventral premammillary nucleus   \n",
       "1                            Medial amygdalar nucleus   \n",
       "2                         Posterior amygdalar nucleus   \n",
       "3                             Cortical amygdalar area   \n",
       "4                                     Tuberal nucleus   \n",
       "5                      Posterodorsal preoptic nucleus   \n",
       "6   Periventricular hypothalamic nucleus posterior...   \n",
       "7                  Bed nuclei of the stria terminalis   \n",
       "8                             Piriform-amygdalar area   \n",
       "9                        Arcuate hypothalamic nucleus   \n",
       "10                            Medial preoptic nucleus   \n",
       "11       Bed nucleus of the accessory olfactory tract   \n",
       "12                           Accessory olfactory bulb   \n",
       "13                                Main olfactory bulb   \n",
       "14                     Intercalated amygdalar nucleus   \n",
       "15                       Basomedial amygdalar nucleus   \n",
       "16              Anteroventral periventricular nucleus   \n",
       "17                                   Infralimbic area   \n",
       "18             Nucleus of the lateral olfactory tract   \n",
       "19                       Dorsal premammillary nucleus   \n",
       "20                               Medial preoptic area   \n",
       "21                                Lateral visual area   \n",
       "22                         Lateral mammillary nucleus   \n",
       "23         Posterior limiting nucleus of the thalamus   \n",
       "24                              Ventral auditory area   \n",
       "25                                Parataenial nucleus   \n",
       "26                               Endopiriform nucleus   \n",
       "27                       Central linear nucleus raphe   \n",
       "28                           Tuberomammillary nucleus   \n",
       "29             Central medial nucleus of the thalamus   \n",
       "30                                   Pretectal region   \n",
       "31            Paraventricular nucleus of the thalamus   \n",
       "\n",
       "                                     Control_vs_Unfam  \\\n",
       "0   Periventricular hypothalamic nucleus posterior...   \n",
       "1                       Ventral premammillary nucleus   \n",
       "2                         Posterior amygdalar nucleus   \n",
       "3                            Medial amygdalar nucleus   \n",
       "4                             Piriform-amygdalar area   \n",
       "5                             Cortical amygdalar area   \n",
       "6                      Posterodorsal preoptic nucleus   \n",
       "7                  Bed nuclei of the stria terminalis   \n",
       "8                        Basomedial amygdalar nucleus   \n",
       "9                        Arcuate hypothalamic nucleus   \n",
       "10                       Dorsal premammillary nucleus   \n",
       "11                     Intercalated amygdalar nucleus   \n",
       "12                           Accessory olfactory bulb   \n",
       "13                                   Infralimbic area   \n",
       "14  Lateral terminal nucleus of the accessory opti...   \n",
       "15                                Main olfactory bulb   \n",
       "16                            Medial preoptic nucleus   \n",
       "17           Intermediodorsal nucleus of the thalamus   \n",
       "18                      Basolateral amygdalar nucleus   \n",
       "19                               Endopiriform nucleus   \n",
       "20                                    Tuberal nucleus   \n",
       "21                            Supramammillary nucleus   \n",
       "22                                Nucleus of reuniens   \n",
       "23                           Tuberomammillary nucleus   \n",
       "24             Central medial nucleus of the thalamus   \n",
       "25                       Central linear nucleus raphe   \n",
       "26                                   Rhomboid nucleus   \n",
       "27                                                NaN   \n",
       "28                                                NaN   \n",
       "29                                                NaN   \n",
       "30                                                NaN   \n",
       "31                                                NaN   \n",
       "\n",
       "                                 Fam_vs_Unfam  \n",
       "0    Intermediodorsal nucleus of the thalamus  \n",
       "1   Interanteromedial nucleus of the thalamus  \n",
       "2                     Supramammillary nucleus  \n",
       "3                                         NaN  \n",
       "4                                         NaN  \n",
       "5                                         NaN  \n",
       "6                                         NaN  \n",
       "7                                         NaN  \n",
       "8                                         NaN  \n",
       "9                                         NaN  \n",
       "10                                        NaN  \n",
       "11                                        NaN  \n",
       "12                                        NaN  \n",
       "13                                        NaN  \n",
       "14                                        NaN  \n",
       "15                                        NaN  \n",
       "16                                        NaN  \n",
       "17                                        NaN  \n",
       "18                                        NaN  \n",
       "19                                        NaN  \n",
       "20                                        NaN  \n",
       "21                                        NaN  \n",
       "22                                        NaN  \n",
       "23                                        NaN  \n",
       "24                                        NaN  \n",
       "25                                        NaN  \n",
       "26                                        NaN  \n",
       "27                                        NaN  \n",
       "28                                        NaN  \n",
       "29                                        NaN  \n",
       "30                                        NaN  \n",
       "31                                        NaN  "
      ]
     },
     "execution_count": 86,
     "metadata": {},
     "output_type": "execute_result"
    }
   ],
   "source": [
    "find_significant_areas(dictionary=dict_results_across_mice, \n",
    "                       experimental_groups=experimental_groups, \n",
    "                       value='n_cells', \n",
    "                       test='mannwhitneyu', \n",
    "                       alpha=0.05)"
   ]
  },
  {
   "cell_type": "code",
   "execution_count": 177,
   "metadata": {
    "ExecuteTime": {
     "end_time": "2024-02-14T11:00:11.525711Z",
     "start_time": "2024-02-14T11:00:10.466101Z"
    }
   },
   "outputs": [],
   "source": [
    "df = find_common_pvalues(dictionary=dict_results_across_mice, \n",
    "                  experimental_groups=experimental_groups, \n",
    "                  value='n_cells', test='mannwhitneyu', alpha=0.05)"
   ]
  },
  {
   "cell_type": "code",
   "execution_count": 178,
   "metadata": {
    "ExecuteTime": {
     "end_time": "2024-02-14T11:00:12.080943Z",
     "start_time": "2024-02-14T11:00:12.075205Z"
    }
   },
   "outputs": [],
   "source": [
    "df1 = pd.melt(df,\n",
    "        id_vars='area',\n",
    "        value_vars=list(df.columns[1:]),\n",
    "        var_name='group', \n",
    "        value_name='pvalue')"
   ]
  },
  {
   "cell_type": "code",
   "execution_count": 179,
   "metadata": {
    "ExecuteTime": {
     "end_time": "2024-02-14T11:00:13.556390Z",
     "start_time": "2024-02-14T11:00:12.640355Z"
    }
   },
   "outputs": [
    {
     "data": {
      "text/plain": [
       "<matplotlib.legend.Legend at 0x7f28442842b0>"
      ]
     },
     "execution_count": 179,
     "metadata": {},
     "output_type": "execute_result"
    },
    {
     "data": {
      "image/png": "[encoded data removed]",
      "text/plain": [
       "<Figure size 360x1080 with 1 Axes>"
      ]
     },
     "metadata": {
      "needs_background": "light"
     },
     "output_type": "display_data"
    }
   ],
   "source": [
    "fig, ax = plt.subplots(1,1, figsize=(5,15))\n",
    "sns.barplot(\n",
    "    data=df1,\n",
    "    y=\"area\", x=\"pvalue\", hue=\"group\", alpha=.6,\n",
    "    axes=ax, palette='Paired')\n",
    "ax.set_xscale(\"log\")\n",
    "ax.set_ylabel('')\n",
    "ax.axvline(x=0.05, color='grey')\n",
    "ax.legend(\n",
    "loc='upper center', \n",
    "bbox_to_anchor=(0.5, 1.04),\n",
    "ncol=3)"
   ]
  },
  {
   "cell_type": "markdown",
   "metadata": {},
   "source": [
    "# Plot singole aree"
   ]
  },
  {
   "cell_type": "code",
   "execution_count": null,
   "metadata": {
    "ExecuteTime": {
     "end_time": "2024-02-14T10:59:25.605414Z",
     "start_time": "2024-02-14T10:59:24.416389Z"
    }
   },
   "outputs": [],
   "source": [
    "dfs = \\\n",
    "ace.calculate_value_across_groups(experimental_groups=experimental_groups, \n",
    "                                  dict_results_across_mice=dict_results_across_mice, \n",
    "                              value=value)\n",
    "df_ttest = ace.test_across_groups(dfs,\n",
    "                                 test=test,\n",
    "                                 groups=list(experimental_groups.keys()))\n",
    "columns = df_ttest.loc[:, df_ttest.columns!='area'].columns\n",
    "find_common_areas = np.unique(np.concatenate([\n",
    "    df_ttest[df_ttest[col]<alpha]['area'].to_numpy() \\\n",
    "    for col in df_ttest.loc[:, df_ttest.columns!='area'].columns]).ravel())\n",
    "\n",
    "df_ttest = df_ttest.set_index('area').loc[find_common_areas]\n",
    "df_ttest.columns = [col.replace('pval_', '') for col in columns if col!='area']\n",
    "df_ttest = df_ttest.reset_index()\n"
   ]
  },
  {
   "cell_type": "code",
   "execution_count": null,
   "metadata": {},
   "outputs": [],
   "source": []
  }
 ],
 "metadata": {
  "kernelspec": {
   "display_name": "ClearMap",
   "language": "python",
   "name": "clearmap"
  },
  "language_info": {
   "codemirror_mode": {
    "name": "ipython",
    "version": 3
   },
   "file_extension": ".py",
   "mimetype": "text/x-python",
   "name": "python",
   "nbconvert_exporter": "python",
   "pygments_lexer": "ipython3",
   "version": "3.8.1"
  },
  "latex_envs": {
   "LaTeX_envs_menu_present": true,
   "autoclose": false,
   "autocomplete": true,
   "bibliofile": "biblio.bib",
   "cite_by": "apalike",
   "current_citInitial": 1,
   "eqLabelWithNumbers": true,
   "eqNumInitial": 1,
   "hotkeys": {
    "equation": "Ctrl-E",
    "itemize": "Ctrl-I"
   },
   "labels_anchors": false,
   "latex_user_defs": false,
   "report_style_numbering": false,
   "user_envs_cfg": false
  },
  "toc": {
   "nav_menu": {},
   "number_sections": true,
   "sideBar": true,
   "skip_h1_title": false,
   "title_cell": "Table of Contents",
   "title_sidebar": "Contents",
   "toc_cell": false,
   "toc_position": {},
   "toc_section_display": true,
   "toc_window_display": false
  },
  "varInspector": {
   "cols": {
    "lenName": 16,
    "lenType": 16,
    "lenVar": 40
   },
   "kernels_config": {
    "python": {
     "delete_cmd_postfix": "",
     "delete_cmd_prefix": "del ",
     "library": "var_list.py",
     "varRefreshCmd": "print(var_dic_list())"
    },
    "r": {
     "delete_cmd_postfix": ") ",
     "delete_cmd_prefix": "rm(",
     "library": "var_list.r",
     "varRefreshCmd": "cat(var_dic_list()) "
    }
   },
   "types_to_exclude": [
    "module",
    "function",
    "builtin_function_or_method",
    "instance",
    "_Feature"
   ],
   "window_display": false
  }
 },
 "nbformat": 4,
 "nbformat_minor": 4
}
