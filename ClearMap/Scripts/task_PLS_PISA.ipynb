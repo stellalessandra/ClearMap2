{
 "cells": [
  {
   "cell_type": "code",
   "execution_count": 1,
   "metadata": {
    "ExecuteTime": {
     "end_time": "2024-03-26T16:47:34.121535Z",
     "start_time": "2024-03-26T16:47:33.372313Z"
    }
   },
   "outputs": [],
   "source": [
    "import numpy as np\n",
    "import matplotlib.pyplot as plt\n",
    "import pandas as pd\n",
    "import analyze_cells_energy as ace\n",
    "import re\n",
    "import utils\n",
    "import itertools\n",
    "import seaborn as sns\n",
    "import utils_PLS as upls"
   ]
  },
  {
   "cell_type": "code",
   "execution_count": 2,
   "metadata": {
    "ExecuteTime": {
     "end_time": "2024-03-26T16:47:34.269849Z",
     "start_time": "2024-03-26T16:47:34.122988Z"
    }
   },
   "outputs": [],
   "source": [
    "# load query file where we added volumes for each area\n",
    "volumes = ace.clean_volumes_database()"
   ]
  },
  {
   "cell_type": "code",
   "execution_count": 3,
   "metadata": {
    "ExecuteTime": {
     "end_time": "2024-03-26T16:47:34.274485Z",
     "start_time": "2024-03-26T16:47:34.272059Z"
    }
   },
   "outputs": [],
   "source": [
    "root_directory = '/home/stella/Documents/Torino/projects/'\n",
    "experiment = 'SexualImprinting'\n",
    "experimental_group = 'PISA'\n",
    "data_directory = root_directory + experiment + '/' \\\n",
    "                + experimental_group + '/'\n",
    "batch='PISA'"
   ]
  },
  {
   "cell_type": "code",
   "execution_count": 4,
   "metadata": {
    "ExecuteTime": {
     "end_time": "2024-03-26T16:47:34.295651Z",
     "start_time": "2024-03-26T16:47:34.275747Z"
    }
   },
   "outputs": [],
   "source": [
    "dict_results_across_mice = np.load('dict_results/newvolumes/dict_results_across_mice_PISA_with_Pons.npy', \n",
    "                                   allow_pickle=True).item()\n",
    "\n",
    "# reformat dictionary and subjects\n",
    "old_keys = list(dict_results_across_mice.keys())\n",
    "for key in old_keys:\n",
    "    group = key.split('_')[-1] if key.split('_')[-1][-1]!='2' else key.split('_')[-1][:-1]\n",
    "    number = key.split('_')[0]\n",
    "    new_key = 'BL'+number+group\n",
    "    dict_results_across_mice[new_key] = dict_results_across_mice[key]\n",
    "    del dict_results_across_mice[key]\n",
    "    \n",
    "#remove BL12_noshock due to biased number of cells\n",
    "del dict_results_across_mice['BL12noshock']\n",
    "subjects = list(dict_results_across_mice.keys())"
   ]
  },
  {
   "cell_type": "code",
   "execution_count": 5,
   "metadata": {
    "ExecuteTime": {
     "end_time": "2024-03-26T16:47:36.217248Z",
     "start_time": "2024-03-26T16:47:34.296769Z"
    }
   },
   "outputs": [],
   "source": [
    "dict_results_across_mice = upls.reformat_dict_acronym(dict_results=dict_results_across_mice, volumes=volumes)"
   ]
  },
  {
   "cell_type": "code",
   "execution_count": 6,
   "metadata": {
    "ExecuteTime": {
     "end_time": "2024-03-26T16:47:36.222404Z",
     "start_time": "2024-03-26T16:47:36.218227Z"
    }
   },
   "outputs": [
    {
     "data": {
      "text/plain": [
       "dict_keys(['BL13noshock', 'BL4demonstrator', 'BL9demonstrator', 'BL2observer', 'BL17demonstrator', 'BL22demonstrator', 'BL1noshock', 'BL20noshock', 'BL19noshock', 'BL16observer', 'BL15noshock', 'BL10observer', 'BL11noshock', 'BL6demonstrator', 'BL7noshock', 'BL14demonstrator', 'BL3demonstrator', 'BL5observer', 'BL18observer', 'BL8observer', 'BL21observer'])"
      ]
     },
     "execution_count": 6,
     "metadata": {},
     "output_type": "execute_result"
    }
   ],
   "source": [
    "dict_results_across_mice.keys()"
   ]
  },
  {
   "cell_type": "code",
   "execution_count": 7,
   "metadata": {
    "ExecuteTime": {
     "end_time": "2024-03-26T16:47:36.226067Z",
     "start_time": "2024-03-26T16:47:36.224406Z"
    }
   },
   "outputs": [],
   "source": [
    "# # remove one group\n",
    "# removed = []\n",
    "# for subject in dict_results_across_mice.keys():\n",
    "#     if subject.split('_')[0] in ['BL'+str(i) for i in range(9,17)]:\n",
    "#         removed.append(subject)\n",
    "# for key in removed:\n",
    "#     del dict_results_across_mice[key]"
   ]
  },
  {
   "cell_type": "code",
   "execution_count": 8,
   "metadata": {
    "ExecuteTime": {
     "end_time": "2024-03-26T16:47:36.230666Z",
     "start_time": "2024-03-26T16:47:36.227921Z"
    }
   },
   "outputs": [],
   "source": [
    "# dict_results_across_mice.keys()"
   ]
  },
  {
   "cell_type": "markdown",
   "metadata": {
    "ExecuteTime": {
     "end_time": "2023-04-27T09:40:35.015950Z",
     "start_time": "2023-04-27T09:40:35.009945Z"
    }
   },
   "source": [
    "# Format data for task PLS"
   ]
  },
  {
   "cell_type": "code",
   "execution_count": 9,
   "metadata": {
    "ExecuteTime": {
     "end_time": "2024-03-26T16:47:36.525188Z",
     "start_time": "2024-03-26T16:47:36.232887Z"
    }
   },
   "outputs": [],
   "source": [
    "data_ncells = upls.format_data_pls(dict_results=dict_results_across_mice, \n",
    "                                   batch=batch, table='n_cells')\n",
    "data_energy = upls.format_data_pls(dict_results=dict_results_across_mice, \n",
    "                                   batch=batch, table='energy')\n",
    "data_density = upls.format_data_pls(dict_results=dict_results_across_mice, \n",
    "                                    batch=batch, table='density')\n",
    "data_relative_density = upls.format_data_pls(dict_results=dict_results_across_mice, \n",
    "                                             batch=batch, table='relative_density')\n",
    "data_ncells.dropna(inplace=True, axis=1)\n",
    "data_energy.dropna(inplace=True, axis=1)\n",
    "data_density.dropna(inplace=True, axis=1)\n",
    "data_relative_density.dropna(inplace=True, axis=1)\n",
    "data_ncells.to_csv('./results_pls/'+batch+'_n_cells.csv')\n",
    "data_energy.to_csv('./results_pls/'+batch+'_energy.csv')\n",
    "data_density.to_csv('./results_pls/'+batch+'_density.csv')\n",
    "data_relative_density.to_csv('./results_pls/'+batch+'_relative_density.csv')"
   ]
  },
  {
   "cell_type": "markdown",
   "metadata": {},
   "source": [
    "# Format data for hierarchy plotting"
   ]
  },
  {
   "cell_type": "code",
   "execution_count": 10,
   "metadata": {
    "ExecuteTime": {
     "end_time": "2024-03-26T16:47:39.570291Z",
     "start_time": "2024-03-26T16:47:36.526454Z"
    }
   },
   "outputs": [],
   "source": [
    "df_levels = upls.create_df_levels(volumes)"
   ]
  },
  {
   "cell_type": "markdown",
   "metadata": {
    "ExecuteTime": {
     "end_time": "2023-04-27T10:25:06.309157Z",
     "start_time": "2023-04-27T10:25:06.272373Z"
    }
   },
   "source": [
    "# Apply task PLS"
   ]
  },
  {
   "cell_type": "code",
   "execution_count": 11,
   "metadata": {
    "ExecuteTime": {
     "end_time": "2024-03-26T16:47:42.009380Z",
     "start_time": "2024-03-26T16:47:39.571263Z"
    }
   },
   "outputs": [],
   "source": [
    "%%bash\n",
    "python area_pls.py -i results_pls/PISA_n_cells.csv -o './results_pls/PISA_ncells'"
   ]
  },
  {
   "cell_type": "code",
   "execution_count": 12,
   "metadata": {
    "ExecuteTime": {
     "end_time": "2024-03-26T16:47:44.410787Z",
     "start_time": "2024-03-26T16:47:42.011781Z"
    },
    "code_folding": []
   },
   "outputs": [],
   "source": [
    "%%bash\n",
    "python area_pls.py -i results_pls/PISA_energy.csv -o './results_pls/PISA_energy'"
   ]
  },
  {
   "cell_type": "code",
   "execution_count": 13,
   "metadata": {
    "ExecuteTime": {
     "end_time": "2024-03-26T16:47:46.865824Z",
     "start_time": "2024-03-26T16:47:44.412118Z"
    }
   },
   "outputs": [],
   "source": [
    "%%bash\n",
    "python area_pls.py -i results_pls/PISA_density.csv -o './results_pls/PISA_density'"
   ]
  },
  {
   "cell_type": "code",
   "execution_count": 14,
   "metadata": {
    "ExecuteTime": {
     "end_time": "2024-03-26T16:47:49.235567Z",
     "start_time": "2024-03-26T16:47:46.867286Z"
    }
   },
   "outputs": [],
   "source": [
    "%%bash\n",
    "python area_pls.py -i results_pls/PISA_relative_density.csv -o './results_pls/PISA_relative_density'"
   ]
  },
  {
   "cell_type": "markdown",
   "metadata": {},
   "source": [
    "# PLS ncells"
   ]
  },
  {
   "cell_type": "code",
   "execution_count": 15,
   "metadata": {
    "ExecuteTime": {
     "end_time": "2024-03-26T16:47:49.255052Z",
     "start_time": "2024-03-26T16:47:49.236861Z"
    }
   },
   "outputs": [],
   "source": [
    "contrasts = pd.read_csv('./results_pls/PISA_ncells_contrasts.csv')\n",
    "saliences = pd.read_csv('./results_pls/PISA_ncells_saliences.csv')\n",
    "contrasts = contrasts.rename(columns={\"group_noshock\": \"noshock\", \n",
    "                                      \"group_demonstrator\": \"demonstrator\", \n",
    "                                      \"group_observer\":\"observer\"})"
   ]
  },
  {
   "cell_type": "code",
   "execution_count": null,
   "metadata": {
    "ExecuteTime": {
     "start_time": "2024-03-26T16:47:33.425Z"
    }
   },
   "outputs": [
    {
     "data": {
      "text/plain": [
       "(<Figure size 936x504 with 3 Axes>,\n",
       " array([<AxesSubplot:ylabel='z-score(salience)'>,\n",
       "        <AxesSubplot:ylabel='z-score(salience)'>,\n",
       "        <AxesSubplot:xlabel='Area', ylabel='z-score(salience)'>],\n",
       "       dtype=object))"
      ]
     },
     "execution_count": 16,
     "metadata": {},
     "output_type": "execute_result"
    },
    {
     "data": {
      "image/png": "[encoded data removed]",
      "text/plain": [
       "<Figure size 720x360 with 3 Axes>"
      ]
     },
     "metadata": {
      "needs_background": "light"
     },
     "output_type": "display_data"
    }
   ],
   "source": [
    "upls.plot_panel_contrasts(batch=batch, variable='ncells')\n",
    "upls.plot_panel_saliences(batch=batch, variable='ncells', df_levels=df_levels)"
   ]
  },
  {
   "cell_type": "markdown",
   "metadata": {
    "ExecuteTime": {
     "end_time": "2023-09-11T13:23:52.978466Z",
     "start_time": "2023-09-11T13:23:52.469143Z"
    }
   },
   "source": [
    "# PLS energy"
   ]
  },
  {
   "cell_type": "code",
   "execution_count": null,
   "metadata": {
    "ExecuteTime": {
     "start_time": "2024-03-26T16:47:33.437Z"
    },
    "scrolled": false
   },
   "outputs": [],
   "source": [
    "upls.plot_panel_contrasts(batch=batch, variable='energy')\n",
    "upls.plot_panel_saliences(batch=batch, variable='energy', df_levels=df_levels)"
   ]
  },
  {
   "cell_type": "markdown",
   "metadata": {
    "ExecuteTime": {
     "end_time": "2023-04-28T07:45:14.437413Z",
     "start_time": "2023-04-28T07:45:14.413768Z"
    }
   },
   "source": [
    "\n",
    "# PLS density"
   ]
  },
  {
   "cell_type": "code",
   "execution_count": null,
   "metadata": {
    "ExecuteTime": {
     "start_time": "2024-03-26T16:47:33.447Z"
    }
   },
   "outputs": [],
   "source": [
    "upls.plot_panel_contrasts(batch=batch, variable='density')\n",
    "upls.plot_panel_saliences(batch=batch, variable='density', df_levels=df_levels)"
   ]
  },
  {
   "cell_type": "markdown",
   "metadata": {
    "ExecuteTime": {
     "end_time": "2023-09-11T13:24:14.814886Z",
     "start_time": "2023-09-11T13:24:14.808612Z"
    }
   },
   "source": [
    "# PLS relative density"
   ]
  },
  {
   "cell_type": "code",
   "execution_count": null,
   "metadata": {
    "ExecuteTime": {
     "start_time": "2024-03-26T16:47:33.458Z"
    }
   },
   "outputs": [],
   "source": [
    "upls.plot_panel_contrasts(batch=batch, variable='relative_density')\n",
    "upls.plot_panel_saliences(batch=batch, variable='relative_density', df_levels=df_levels)"
   ]
  },
  {
   "cell_type": "markdown",
   "metadata": {},
   "source": [
    "# Identify areas with significant area contribution"
   ]
  },
  {
   "cell_type": "code",
   "execution_count": null,
   "metadata": {
    "ExecuteTime": {
     "start_time": "2024-03-26T16:47:33.470Z"
    }
   },
   "outputs": [],
   "source": [
    "batch='PISA'\n",
    "overlap = {'ncells':[], 'energy':[], 'density':[], 'relative_density':[]}\n",
    "for variable in overlap.keys():\n",
    "    overlap[variable] = set(upls.identify_pls_sig_areas(saliences=pd.read_csv(\n",
    "        './results_pls/'+ batch +'_'+ variable +'_saliences.csv'), \n",
    "                                           threshold=1.96, \n",
    "                                           volumes=volumes))\n",
    "[len(overlap[key]) for key in overlap.keys()]"
   ]
  },
  {
   "cell_type": "code",
   "execution_count": null,
   "metadata": {
    "ExecuteTime": {
     "start_time": "2024-03-26T16:47:33.471Z"
    }
   },
   "outputs": [],
   "source": [
    "overlap['relative_density']"
   ]
  },
  {
   "cell_type": "code",
   "execution_count": null,
   "metadata": {
    "ExecuteTime": {
     "start_time": "2024-03-26T16:47:33.472Z"
    }
   },
   "outputs": [],
   "source": [
    "[volumes[volumes['safe_name']==area]['acronym'].values[0] for area in overlap['relative_density']]"
   ]
  },
  {
   "cell_type": "markdown",
   "metadata": {},
   "source": [
    "# Task PLS only on two groups: Observer e demonstrator"
   ]
  },
  {
   "cell_type": "code",
   "execution_count": null,
   "metadata": {
    "ExecuteTime": {
     "start_time": "2024-03-26T16:47:33.484Z"
    }
   },
   "outputs": [],
   "source": [
    "density_obs_dem = pd.concat([data_density.groupby('group').get_group('observer'),\n",
    "          data_density.groupby('group').get_group('demonstrator')])\n",
    "density_obs_dem.dropna(inplace=True, axis=1)\n",
    "batch = 'PISA_obs_dem'\n",
    "density_obs_dem.to_csv('./results_pls/'+batch+'_density.csv')"
   ]
  },
  {
   "cell_type": "code",
   "execution_count": null,
   "metadata": {
    "ExecuteTime": {
     "start_time": "2024-03-26T16:47:33.486Z"
    }
   },
   "outputs": [],
   "source": [
    "%%bash\n",
    "python area_pls.py -i results_pls/PISA_obs_dem_density.csv -o './results_pls/PISA_obs_dem_density'"
   ]
  },
  {
   "cell_type": "code",
   "execution_count": null,
   "metadata": {
    "ExecuteTime": {
     "start_time": "2024-03-26T16:47:33.488Z"
    }
   },
   "outputs": [],
   "source": [
    "upls.plot_panel_contrasts(batch=batch, variable='density')\n",
    "upls.plot_panel_saliences(batch=batch, variable='density', df_levels=df_levels)"
   ]
  },
  {
   "cell_type": "code",
   "execution_count": null,
   "metadata": {},
   "outputs": [],
   "source": []
  }
 ],
 "metadata": {
  "kernelspec": {
   "display_name": "ClearMap",
   "language": "python",
   "name": "clearmap"
  },
  "language_info": {
   "codemirror_mode": {
    "name": "ipython",
    "version": 3
   },
   "file_extension": ".py",
   "mimetype": "text/x-python",
   "name": "python",
   "nbconvert_exporter": "python",
   "pygments_lexer": "ipython3",
   "version": "3.8.1"
  },
  "latex_envs": {
   "LaTeX_envs_menu_present": true,
   "autoclose": false,
   "autocomplete": true,
   "bibliofile": "biblio.bib",
   "cite_by": "apalike",
   "current_citInitial": 1,
   "eqLabelWithNumbers": true,
   "eqNumInitial": 1,
   "hotkeys": {
    "equation": "Ctrl-E",
    "itemize": "Ctrl-I"
   },
   "labels_anchors": false,
   "latex_user_defs": false,
   "report_style_numbering": false,
   "user_envs_cfg": false
  },
  "toc": {
   "nav_menu": {},
   "number_sections": true,
   "sideBar": true,
   "skip_h1_title": false,
   "title_cell": "Table of Contents",
   "title_sidebar": "Contents",
   "toc_cell": false,
   "toc_position": {},
   "toc_section_display": true,
   "toc_window_display": false
  },
  "varInspector": {
   "cols": {
    "lenName": 16,
    "lenType": 16,
    "lenVar": 40
   },
   "kernels_config": {
    "python": {
     "delete_cmd_postfix": "",
     "delete_cmd_prefix": "del ",
     "library": "var_list.py",
     "varRefreshCmd": "print(var_dic_list())"
    },
    "r": {
     "delete_cmd_postfix": ") ",
     "delete_cmd_prefix": "rm(",
     "library": "var_list.r",
     "varRefreshCmd": "cat(var_dic_list()) "
    }
   },
   "types_to_exclude": [
    "module",
    "function",
    "builtin_function_or_method",
    "instance",
    "_Feature"
   ],
   "window_display": false
  }
 },
 "nbformat": 4,
 "nbformat_minor": 4
}
